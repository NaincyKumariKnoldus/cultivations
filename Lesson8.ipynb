{
 "cells": [
  {
   "cell_type": "markdown",
   "id": "0ee7db7d",
   "metadata": {},
   "source": [
    "# Lesson 8 - APL functions, part 3: ⍋⍒⍳\n",
    "\n",
    "We're in the middle of our functions' marathon. Next up is `⍋`, called [grade up](http://help.dyalog.com/latest/index.htm#Language/Primitive%20Functions/Grade%20Up%20Monadic.htm). Monadic `⍋` takes a simple (non-nested) array and returns the indices of the major cells reordered so that they would order the array.\n",
    "\n",
    "Easiest to understand with an example: "
   ]
  },
  {
   "cell_type": "code",
   "execution_count": 7,
   "id": "7b5e0637",
   "metadata": {},
   "outputs": [],
   "source": [
    "⎕IO←1"
   ]
  },
  {
   "cell_type": "code",
   "execution_count": 1,
   "id": "f79556c9",
   "metadata": {},
   "outputs": [
    {
     "data": {
      "text/html": [
       "<span style=\"white-space:pre; font-family: monospace\">2 4 1 3 5\n",
       "</span>"
      ]
     },
     "execution_count": 1,
     "metadata": {},
     "output_type": "execute_result"
    }
   ],
   "source": [
    "⍋3 1 4 1 5"
   ]
  },
  {
   "cell_type": "markdown",
   "id": "c92e3881",
   "metadata": {},
   "source": [
    "This means that the second element (1) is the smallest, then the fourth (1), then the first (3), etc. So, we can use this to sort the array: "
   ]
  },
  {
   "cell_type": "code",
   "execution_count": 2,
   "id": "3d5943df",
   "metadata": {},
   "outputs": [
    {
     "data": {
      "text/html": [
       "<span style=\"white-space:pre; font-family: monospace\">1 1 3 4 5\n",
       "</span>"
      ]
     },
     "execution_count": 2,
     "metadata": {},
     "output_type": "execute_result"
    }
   ],
   "source": [
    "3 1 4 1 5[⍋3 1 4 1 5]"
   ]
  },
  {
   "cell_type": "markdown",
   "id": "13758664",
   "metadata": {},
   "source": [
    "It works on high-rank arrays too: "
   ]
  },
  {
   "cell_type": "code",
   "execution_count": 3,
   "id": "18c58373",
   "metadata": {},
   "outputs": [
    {
     "data": {
      "text/html": [
       "<span style=\"white-space:pre; font-family: monospace\">2 7\n",
       "1 8\n",
       "2 8\n",
       "</span>"
      ]
     },
     "execution_count": 3,
     "metadata": {},
     "output_type": "execute_result"
    },
    {
     "data": {
      "text/html": [
       "<span style=\"white-space:pre; font-family: monospace\">2 1 3\n",
       "</span>"
      ]
     },
     "execution_count": 3,
     "metadata": {},
     "output_type": "execute_result"
    }
   ],
   "source": [
    "3 2⍴2 7 1 8 2 8\n",
    "⍋3 2⍴2 7 1 8 2 8 "
   ]
  },
  {
   "cell_type": "markdown",
   "id": "99011d9c",
   "metadata": {},
   "source": [
    "So the first is row 2 `(1 8)` then row 1 `(2 7)` then row 3 `(2 8)`. It works on characters too, where it grades in Unicode point order: "
   ]
  },
  {
   "cell_type": "code",
   "execution_count": 4,
   "id": "83a05b54",
   "metadata": {},
   "outputs": [
    {
     "data": {
      "text/html": [
       "<span style=\"white-space:pre; font-family: monospace\">He\n",
       "ll\n",
       "oW\n",
       "or\n",
       "ld\n",
       "</span>"
      ]
     },
     "execution_count": 4,
     "metadata": {},
     "output_type": "execute_result"
    },
    {
     "data": {
      "text/html": [
       "<span style=\"white-space:pre; font-family: monospace\">1 5 2 3 4\n",
       "</span>"
      ]
     },
     "execution_count": 4,
     "metadata": {},
     "output_type": "execute_result"
    },
    {
     "data": {
      "text/html": [
       "<span style=\"white-space:pre; font-family: monospace\">He\n",
       "ld\n",
       "ll\n",
       "oW\n",
       "or\n",
       "</span>"
      ]
     },
     "execution_count": 4,
     "metadata": {},
     "output_type": "execute_result"
    }
   ],
   "source": [
    "5 2⍴'HelloWorld'\n",
    "⍋5 2⍴'HelloWorld'\n",
    "(5 2⍴'HelloWorld')[⍋5 2⍴'HelloWorld';] "
   ]
  },
  {
   "cell_type": "code",
   "execution_count": 12,
   "id": "128e7ceb",
   "metadata": {},
   "outputs": [
    {
     "data": {
      "text/html": [
       "<span style=\"white-space:pre; font-family: monospace\">He\n",
       "ll\n",
       "\n",
       "o \n",
       "Wo\n",
       "\n",
       "rl\n",
       "d \n",
       "\n",
       "PP\n",
       "CG\n",
       "</span>"
      ]
     },
     "execution_count": 12,
     "metadata": {},
     "output_type": "execute_result"
    },
    {
     "data": {
      "text/html": [
       "<span style=\"white-space:pre; font-family: monospace\">1 4 2 3\n",
       "</span>"
      ]
     },
     "execution_count": 12,
     "metadata": {},
     "output_type": "execute_result"
    }
   ],
   "source": [
    "4 2 2⍴'Hello World PPCG'   \n",
    "⍋4 2 2⍴'Hello World PPCG'  ⍝ layer grade up"
   ]
  },
  {
   "cell_type": "markdown",
   "id": "bcda0b67",
   "metadata": {},
   "source": [
    "Layer 1, layer 4, layer 2, layer 3:"
   ]
  },
  {
   "cell_type": "code",
   "execution_count": 13,
   "id": "14e25e51",
   "metadata": {},
   "outputs": [
    {
     "data": {
      "text/html": [
       "<span style=\"white-space:pre; font-family: monospace\">He\n",
       "ll\n",
       "\n",
       "PP\n",
       "CG\n",
       "\n",
       "o \n",
       "Wo\n",
       "\n",
       "rl\n",
       "d \n",
       "</span>"
      ]
     },
     "execution_count": 13,
     "metadata": {},
     "output_type": "execute_result"
    }
   ],
   "source": [
    "{⍵[⍋⍵;;]}4 2 2⍴'Hello World PPCG'"
   ]
  },
  {
   "cell_type": "markdown",
   "id": "6bf2c220",
   "metadata": {},
   "source": [
    "`⍋⍋` is the cardinal numbers:"
   ]
  },
  {
   "cell_type": "code",
   "execution_count": 14,
   "id": "a394fd22",
   "metadata": {},
   "outputs": [
    {
     "data": {
      "text/html": [
       "<span style=\"white-space:pre; font-family: monospace\">3 4 1 2\n",
       "</span>"
      ]
     },
     "execution_count": 14,
     "metadata": {},
     "output_type": "execute_result"
    },
    {
     "data": {
      "text/html": [
       "<span style=\"white-space:pre; font-family: monospace\">3 4 1 2\n",
       "</span>"
      ]
     },
     "execution_count": 14,
     "metadata": {},
     "output_type": "execute_result"
    }
   ],
   "source": [
    "⍋'PPCG' \n",
    "⍋⍋'PPCG' "
   ]
  },
  {
   "cell_type": "markdown",
   "id": "86737611",
   "metadata": {},
   "source": [
    "So P is the third, P is the fourth, C is the first, and G is the second. Applying `⍋` to a permutation inverts it (swaps between cardinal and grade). Another way to think about it is that `⍋` is the indices of cells in the order that would sort them. `⍋⍋` is the position each will take when sorted. If you think about it hard, you'll see why ⍋ swaps back and forth between these two. \n",
    "\n",
    "Here's an example where the grade and the cardinals differ:"
   ]
  },
  {
   "cell_type": "code",
   "execution_count": 17,
   "id": "6752ea78",
   "metadata": {},
   "outputs": [
    {
     "data": {
      "text/html": [
       "<span style=\"white-space:pre; font-family: monospace\">2 4 6 3 5 1\n",
       "</span>"
      ]
     },
     "execution_count": 17,
     "metadata": {},
     "output_type": "execute_result"
    },
    {
     "data": {
      "text/html": [
       "<span style=\"white-space:pre; font-family: monospace\">6 1 4 2 5 3\n",
       "</span>"
      ]
     },
     "execution_count": 17,
     "metadata": {},
     "output_type": "execute_result"
    },
    {
     "data": {
      "text/html": [
       "<span style=\"white-space:pre; font-family: monospace\">2 4 6 3 5 1\n",
       "</span>"
      ]
     },
     "execution_count": 17,
     "metadata": {},
     "output_type": "execute_result"
    }
   ],
   "source": [
    "⍋'random'\n",
    "⍋⍋'random' \n",
    "⍋⍋⍋'random'  ⍝ grading the cardinals takes us back to grade"
   ]
  },
  {
   "cell_type": "markdown",
   "id": "457b8a01",
   "metadata": {},
   "source": [
    "`⍋` once is what order the elements would be in when sorted and `⍋` twice is the indices that each element would go to.\n",
    "\n",
    "Dyadic `⍋` is for character arrays only, and it grades as if the left argument was the alphabet: "
   ]
  },
  {
   "cell_type": "code",
   "execution_count": 18,
   "id": "1ef6f66f",
   "metadata": {},
   "outputs": [
    {
     "data": {
      "text/html": [
       "<span style=\"white-space:pre; font-family: monospace\">eoodhlllrw\n",
       "</span>"
      ]
     },
     "execution_count": 18,
     "metadata": {},
     "output_type": "execute_result"
    }
   ],
   "source": [
    "{⍵['aeioubcdfghjklmnpqrstvwxyz'⍋⍵]}'helloworld'"
   ]
  },
  {
   "cell_type": "markdown",
   "id": "722201fc",
   "metadata": {},
   "source": [
    "If characters are missing from the alphabet, they will be considered after the alphabet, and equivalent:"
   ]
  },
  {
   "cell_type": "code",
   "execution_count": 19,
   "id": "41833ca2",
   "metadata": {},
   "outputs": [
    {
     "data": {
      "text/html": [
       "<span style=\"white-space:pre; font-family: monospace\">2 1 3 4\n",
       "</span>"
      ]
     },
     "execution_count": 19,
     "metadata": {},
     "output_type": "execute_result"
    }
   ],
   "source": [
    "'abcdefgh'⍋'hawl'"
   ]
  },
  {
   "cell_type": "markdown",
   "id": "c526ad92",
   "metadata": {},
   "source": [
    "Dyadic `⍋` can also use multiple levels of sorting: "
   ]
  },
  {
   "cell_type": "code",
   "execution_count": 23,
   "id": "712d4e39",
   "metadata": {},
   "outputs": [
    {
     "data": {
      "text/html": [
       "<span style=\"white-space:pre; font-family: monospace\">ab\n",
       "ec\n",
       "id\n",
       "of\n",
       "ug\n",
       " h\n",
       " j\n",
       " k\n",
       " l\n",
       " m\n",
       " n\n",
       " p\n",
       " q\n",
       " r\n",
       " s\n",
       " t\n",
       " v\n",
       " w\n",
       " x\n",
       " y\n",
       " z\n",
       "</span>"
      ]
     },
     "execution_count": 23,
     "metadata": {},
     "output_type": "execute_result"
    }
   ],
   "source": [
    "⍉↑'aeiou' 'bcdfghjklmnpqrstvwxyz'"
   ]
  },
  {
   "cell_type": "markdown",
   "id": "f71f12c4",
   "metadata": {},
   "source": [
    "This 2D \"alphabet\" means that all vowels should come before all consonants, and only if otherwise the same, the vertical order will be considered. "
   ]
  },
  {
   "cell_type": "code",
   "execution_count": 21,
   "id": "a0311aef",
   "metadata": {},
   "outputs": [
    {
     "data": {
      "text/html": [
       "<span style=\"white-space:pre; font-family: monospace\">eoodhlllrw\n",
       "</span>"
      ]
     },
     "execution_count": 21,
     "metadata": {},
     "output_type": "execute_result"
    }
   ],
   "source": [
    "{⍵[(⍉↑'aeiou' 'bcdfghjklmnpqrstvwxyz')⍋⍵]}'helloworld'"
   ]
  },
  {
   "cell_type": "markdown",
   "id": "a6ffd1b1",
   "metadata": {},
   "source": [
    "This sorted all vowels before all consonants, and only then did it sort the vowels and the consonants. You can have up to 15 levels of sorting using this. If a letter occurs more than once, then its first occurrence rules. This is useful to fill gaps in (e.g.) columns of unequal height.\n",
    "\n",
    "There is also `⍒`, which is [grade down](http://help.dyalog.com/latest/index.htm#Language/Primitive%20Functions/Grade%20Down%20Monadic.htm), which follows the pattern of `⍋`, but sorts the other way.\n",
    "\n",
    "Monadic `⍳` is the [index generator](http://help.dyalog.com/latest/index.htm#Language/Primitive%20Functions/Index%20Generator.htm). `⍳a` generates an array of shape a where the elements are the indices for that element: "
   ]
  },
  {
   "cell_type": "code",
   "execution_count": 24,
   "id": "4fdf9753",
   "metadata": {},
   "outputs": [
    {
     "data": {
      "text/html": [
       "<span style=\"white-space:pre; font-family: monospace\">1 2 3 4 5 6 7 8 9 10\n",
       "</span>"
      ]
     },
     "execution_count": 24,
     "metadata": {},
     "output_type": "execute_result"
    },
    {
     "data": {
      "text/html": [
       "<span style=\"white-space:pre; font-family: monospace\">┌───┬───┬───┬───┐\n",
       "│1 1│1 2│1 3│1 4│\n",
       "├───┼───┼───┼───┤\n",
       "│2 1│2 2│2 3│2 4│\n",
       "└───┴───┴───┴───┘\n",
       "</span>"
      ]
     },
     "execution_count": 24,
     "metadata": {},
     "output_type": "execute_result"
    }
   ],
   "source": [
    "⍳10\n",
    "⍳2 4"
   ]
  },
  {
   "cell_type": "markdown",
   "id": "31a7f8c5",
   "metadata": {},
   "source": [
    "Any bets on what `⍳0` gives?"
   ]
  },
  {
   "cell_type": "code",
   "execution_count": 26,
   "id": "f937bd88",
   "metadata": {},
   "outputs": [
    {
     "data": {
      "text/html": [
       "<span style=\"white-space:pre; font-family: monospace\">┌⊖┐\n",
       "│0│\n",
       "└~┘\n",
       "</span>"
      ]
     },
     "execution_count": 26,
     "metadata": {},
     "output_type": "execute_result"
    }
   ],
   "source": [
    "]display ⍳0"
   ]
  },
  {
   "cell_type": "markdown",
   "id": "8879435d",
   "metadata": {},
   "source": [
    "The empty numeric list. What about `⍳0 0`?"
   ]
  },
  {
   "cell_type": "code",
   "execution_count": 27,
   "id": "bcf8f446",
   "metadata": {},
   "outputs": [
    {
     "data": {
      "text/html": [
       "<span style=\"white-space:pre; font-family: monospace\">┌⊖──────┐\n",
       "⌽ ┌→──┐ │\n",
       "│ │0 0│ │\n",
       "│ └~──┘ │\n",
       "└∊──────┘\n",
       "</span>"
      ]
     },
     "execution_count": 27,
     "metadata": {},
     "output_type": "execute_result"
    }
   ],
   "source": [
    "]display ⍳0 0"
   ]
  },
  {
   "cell_type": "markdown",
   "id": "82d9dc03",
   "metadata": {},
   "source": [
    "This is the same as `0 0⍴⍬`; a 0x0 empty numeric matrix."
   ]
  },
  {
   "cell_type": "markdown",
   "id": "6b18ace8",
   "metadata": {},
   "source": [
    "The dyadic version `A⍳B` is [index-of](http://help.dyalog.com/latest/index.htm#Language/Primitive%20Functions/Index%20Of.htm). It finds the first occurrence of the major cells of `B` in the major cells of `A`: "
   ]
  },
  {
   "cell_type": "code",
   "execution_count": 28,
   "id": "242f63b6",
   "metadata": {},
   "outputs": [
    {
     "data": {
      "text/html": [
       "<span style=\"white-space:pre; font-family: monospace\">3\n",
       "</span>"
      ]
     },
     "execution_count": 28,
     "metadata": {},
     "output_type": "execute_result"
    },
    {
     "data": {
      "text/html": [
       "<span style=\"white-space:pre; font-family: monospace\">3 5\n",
       "</span>"
      ]
     },
     "execution_count": 28,
     "metadata": {},
     "output_type": "execute_result"
    }
   ],
   "source": [
    "'hello'⍳'l'\n",
    "'hello'⍳'lo' "
   ]
  },
  {
   "cell_type": "markdown",
   "id": "c3d53c22",
   "metadata": {},
   "source": [
    "If a cell is not a member, it will return a number one higher than the number of elements:"
   ]
  },
  {
   "cell_type": "code",
   "execution_count": 29,
   "id": "05e3b2f9",
   "metadata": {},
   "outputs": [
    {
     "data": {
      "text/html": [
       "<span style=\"white-space:pre; font-family: monospace\">6\n",
       "</span>"
      ]
     },
     "execution_count": 29,
     "metadata": {},
     "output_type": "execute_result"
    }
   ],
   "source": [
    "'hello'⍳'x'"
   ]
  },
  {
   "cell_type": "code",
   "execution_count": 30,
   "id": "86235789",
   "metadata": {},
   "outputs": [
    {
     "data": {
      "text/html": [
       "<span style=\"white-space:pre; font-family: monospace\">2 4\n",
       "</span>"
      ]
     },
     "execution_count": 30,
     "metadata": {},
     "output_type": "execute_result"
    }
   ],
   "source": [
    "(3 2⍴'abcdef')⍳(2 2⍴'cdxy')"
   ]
  },
  {
   "cell_type": "markdown",
   "id": "7affbc12",
   "metadata": {},
   "source": [
    "So the \"cd\" row is the second one, and the \"xy\" row is not there. This behaviour for elements that are not there is really useful for supplying a \"default\":"
   ]
  },
  {
   "cell_type": "code",
   "execution_count": 32,
   "id": "b5711afb",
   "metadata": {},
   "outputs": [
    {
     "data": {
      "text/html": [
       "<span style=\"white-space:pre; font-family: monospace\">┌─────┬───────┬─────┬──────┐\n",
       "│Third│Missing│First│Second│\n",
       "└─────┴───────┴─────┴──────┘\n",
       "</span>"
      ]
     },
     "execution_count": 32,
     "metadata": {},
     "output_type": "execute_result"
    }
   ],
   "source": [
    "'First' 'Second' 'Third' 'Missing'['abc'⍳'cdab']"
   ]
  },
  {
   "cell_type": "code",
   "execution_count": null,
   "id": "8de94ef8",
   "metadata": {},
   "outputs": [],
   "source": []
  }
 ],
 "metadata": {
  "kernelspec": {
   "display_name": "Dyalog APL",
   "language": "apl",
   "name": "dyalog-kernel"
  },
  "language_info": {
   "file_extension": ".apl",
   "mimetype": "text/apl",
   "name": "APL"
  }
 },
 "nbformat": 4,
 "nbformat_minor": 5
}

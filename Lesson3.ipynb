{
 "cells": [
  {
   "cell_type": "markdown",
   "id": "859444db",
   "metadata": {},
   "source": [
    "# Lesson 3 - Some APL Operators: `/⌿\\⍀¨⍣⍨`\n",
    "\n",
    "The first operator is `/`, called [reduce](). It is a monadic operator which derives an ambivalent function. An ambivalent function is one which can be called either monadically or dyadically. For example, `-` is ambivalent. Monadically, it is negate; dyadically, it is subtraction. \n",
    "\n",
    "`+/` is a derived ambivalent function. The monadic function is plus-reduction (i.e. sum) and the dyadic function is windowed sum, as in sliding windows of size `⍺` (shorthand for \"left argument\")."
   ]
  },
  {
   "cell_type": "code",
   "execution_count": 1,
   "id": "8cbbacdd",
   "metadata": {},
   "outputs": [
    {
     "data": {
      "text/html": [
       "<span style=\"white-space:pre; font-family: monospace\">14\n",
       "</span>"
      ]
     },
     "execution_count": 1,
     "metadata": {},
     "output_type": "execute_result"
    },
    {
     "data": {
      "text/html": [
       "<span style=\"white-space:pre; font-family: monospace\">4 5 5 6\n",
       "</span>"
      ]
     },
     "execution_count": 1,
     "metadata": {},
     "output_type": "execute_result"
    },
    {
     "data": {
      "text/html": [
       "<span style=\"white-space:pre; font-family: monospace\">8 6 10\n",
       "</span>"
      ]
     },
     "execution_count": 1,
     "metadata": {},
     "output_type": "execute_result"
    }
   ],
   "source": [
    "+/3 1 4 1 5\n",
    "2 +/ 3 1 4 1 5\n",
    "3 +/ 3 1 4 1 5 "
   ]
  },
  {
   "cell_type": "markdown",
   "id": "fac42384",
   "metadata": {},
   "source": [
    "Question:\n",
    "> What does `3-/` do? Subtraction isn't associative. "
   ]
  },
  {
   "cell_type": "code",
   "execution_count": 2,
   "id": "6147d4d9",
   "metadata": {},
   "outputs": [
    {
     "data": {
      "text/html": [
       "<span style=\"white-space:pre; font-family: monospace\">2 3 4\n",
       "</span>"
      ]
     },
     "execution_count": 2,
     "metadata": {},
     "output_type": "execute_result"
    }
   ],
   "source": [
    "3-/ 1 2 3 4 5"
   ]
  },
  {
   "cell_type": "markdown",
   "id": "8d33b51c",
   "metadata": {},
   "source": [
    "As functions in APL are right-associative, `-/⍵` (this is a shorthand which means the monadic form of `-/`) is alternating sum. "
   ]
  },
  {
   "cell_type": "code",
   "execution_count": 3,
   "id": "bd9efc2d",
   "metadata": {},
   "outputs": [
    {
     "data": {
      "text/html": [
       "<span style=\"white-space:pre; font-family: monospace\">2\n",
       "</span>"
      ]
     },
     "execution_count": 3,
     "metadata": {},
     "output_type": "execute_result"
    }
   ],
   "source": [
    "1 - (2 - 3)"
   ]
  },
  {
   "cell_type": "markdown",
   "id": "6c9316d8",
   "metadata": {},
   "source": [
    "`f/⍵` is called _Reduce_ because it reduces the rank of its argument by 1. For example, if we apply it to a matrix, we'll get back a vector, even if the function we provide does not \"combine\" its arguments. "
   ]
  },
  {
   "cell_type": "code",
   "execution_count": 4,
   "id": "e0a700f6",
   "metadata": {},
   "outputs": [
    {
     "data": {
      "text/html": [
       "<span style=\"white-space:pre; font-family: monospace\">┌─────────────┐\n",
       "│(H(e(l(lo))))│\n",
       "└─────────────┘\n",
       "</span>"
      ]
     },
     "execution_count": 4,
     "metadata": {},
     "output_type": "execute_result"
    }
   ],
   "source": [
    "{'(',⍺,⍵,')'}/'Hello'"
   ]
  },
  {
   "cell_type": "markdown",
   "id": "81dc035b",
   "metadata": {},
   "source": [
    "Here, the function we gave concatenates its arguments and parentheses. If you look really carefully, you'll see that there is a space in front of the leftmost `(`. This is APLs way to indicate that the array (a character vector) is enclosed. In other words, it returned `⊂'(H(e(l(lo))))'`."
   ]
  },
  {
   "cell_type": "code",
   "execution_count": 5,
   "id": "1e10bbd6",
   "metadata": {},
   "outputs": [
    {
     "data": {
      "text/html": [
       "<span style=\"white-space:pre; font-family: monospace\">1\n",
       "</span>"
      ]
     },
     "execution_count": 5,
     "metadata": {},
     "output_type": "execute_result"
    }
   ],
   "source": [
    "(⊂'(H(e(l(lo))))') ≡ {'(',⍺,⍵,')'}/'Hello'"
   ]
  },
  {
   "cell_type": "markdown",
   "id": "0e247e61",
   "metadata": {},
   "source": [
    "We can also apply reductions to higher-rank arrays:"
   ]
  },
  {
   "cell_type": "code",
   "execution_count": 6,
   "id": "a492b8d4",
   "metadata": {},
   "outputs": [
    {
     "data": {
      "text/html": [
       "<span style=\"white-space:pre; font-family: monospace\">1  2  3  4\n",
       "5  6  7  8\n",
       "9 10 11 12\n",
       "</span>"
      ]
     },
     "execution_count": 6,
     "metadata": {},
     "output_type": "execute_result"
    },
    {
     "data": {
      "text/html": [
       "<span style=\"white-space:pre; font-family: monospace\">10 26 42\n",
       "</span>"
      ]
     },
     "execution_count": 6,
     "metadata": {},
     "output_type": "execute_result"
    }
   ],
   "source": [
    "3 4⍴⍳12\n",
    "+/3 4⍴⍳12"
   ]
  },
  {
   "cell_type": "markdown",
   "id": "e27b38b2",
   "metadata": {},
   "source": [
    "Notice how the rank went down from 2 to 1 (i.e. matrix to vector). Reductions lower the rank. `N f/` is called N-wise reduce, and does not lower the rank. Notice that `/` goes along the trailing axis, i.e. the it reduced the rows of the matrix. It has a twin, `⌿`, which goes along the first axis, i.e. the columns of a matrix. "
   ]
  },
  {
   "cell_type": "code",
   "execution_count": 7,
   "id": "f6713973",
   "metadata": {},
   "outputs": [
    {
     "data": {
      "text/html": [
       "<span style=\"white-space:pre; font-family: monospace\">15 18 21 24\n",
       "</span>"
      ]
     },
     "execution_count": 7,
     "metadata": {},
     "output_type": "execute_result"
    }
   ],
   "source": [
    "+⌿3 4⍴⍳12 "
   ]
  },
  {
   "cell_type": "markdown",
   "id": "f86d49cb",
   "metadata": {},
   "source": [
    "If you have higher-rank arrays, you can reduce along any axis with a bracket axis specification:"
   ]
  },
  {
   "cell_type": "code",
   "execution_count": 8,
   "id": "36ee633d",
   "metadata": {},
   "outputs": [
    {
     "data": {
      "text/html": [
       "<span style=\"white-space:pre; font-family: monospace\"> 1  2  3  4\n",
       " 5  6  7  8\n",
       " 9 10 11 12\n",
       "\n",
       "13 14 15 16\n",
       "17 18 19 20\n",
       "21 22 23 24\n",
       "</span>"
      ]
     },
     "execution_count": 8,
     "metadata": {},
     "output_type": "execute_result"
    },
    {
     "data": {
      "text/html": [
       "<span style=\"white-space:pre; font-family: monospace\">┌───────────┬───────────┬────────┐\n",
       "│14 16 18 20│15 18 21 24│10 26 42│\n",
       "│22 24 26 28│51 54 57 60│58 74 90│\n",
       "│30 32 34 36│           │        │\n",
       "└───────────┴───────────┴────────┘\n",
       "</span>"
      ]
     },
     "execution_count": 8,
     "metadata": {},
     "output_type": "execute_result"
    }
   ],
   "source": [
    "2 3 4⍴⍳24\n",
    "(+⌿2 3 4⍴⍳24)(+/[2]2 3 4⍴⍳24)(+/2 3 4⍴⍳24)"
   ]
  },
  {
   "cell_type": "markdown",
   "id": "def7b2ba",
   "metadata": {},
   "source": [
    "Note that `f/[1]` is the same thing as `f⌿`.\n",
    "\n",
    "While `/` is reduction, `\\` is cumulative reduction: "
   ]
  },
  {
   "cell_type": "code",
   "execution_count": 9,
   "id": "c0548cf0",
   "metadata": {},
   "outputs": [
    {
     "data": {
      "text/html": [
       "<span style=\"white-space:pre; font-family: monospace\">3 4 8 9 14\n",
       "</span>"
      ]
     },
     "execution_count": 9,
     "metadata": {},
     "output_type": "execute_result"
    }
   ],
   "source": [
    "+\\3 1 4 1 5"
   ]
  },
  {
   "cell_type": "markdown",
   "id": "6406654d",
   "metadata": {},
   "source": [
    "`/`'s cousin `\\` of course has a twin, too; `⍀`, behaving analogously.\n",
    "\n",
    "The next operator is `¨` which is called _Each_ for a good reason. `f¨⍵` applies the function `f` monadically to each element of `⍵`. `⍺ f¨ ⍵` applies `f` between the paired-up elements of `⍺` and `⍵`. "
   ]
  },
  {
   "cell_type": "code",
   "execution_count": 10,
   "id": "6e4c4c34",
   "metadata": {},
   "outputs": [
    {
     "data": {
      "text/html": [
       "<span style=\"white-space:pre; font-family: monospace\">1 2 3 4 5 6\n",
       "</span>"
      ]
     },
     "execution_count": 10,
     "metadata": {},
     "output_type": "execute_result"
    },
    {
     "data": {
      "text/html": [
       "<span style=\"white-space:pre; font-family: monospace\">┌───┬───┬───┐\n",
       "│1 4│2 5│3 6│\n",
       "└───┴───┴───┘\n",
       "</span>"
      ]
     },
     "execution_count": 10,
     "metadata": {},
     "output_type": "execute_result"
    },
    {
     "data": {
      "text/html": [
       "<span style=\"white-space:pre; font-family: monospace\">┌───────┬───────┬─────┐\n",
       "│1 10 20│2 30 40│3 5 6│\n",
       "└───────┴───────┴─────┘\n",
       "</span>"
      ]
     },
     "execution_count": 10,
     "metadata": {},
     "output_type": "execute_result"
    }
   ],
   "source": [
    "1 2 3 , 4 5 6 \n",
    "1 2 3 ,¨ 4 5 6\n",
    "1 2 3 ,¨ (10 20)(30 40)(5 6) "
   ]
  },
  {
   "cell_type": "markdown",
   "id": "ee404016",
   "metadata": {},
   "source": [
    "Most arithmetic functions are \"scalar\" meaning they penetrate to the very leaves of the arrays. `¨` is meaningless for scalar functions. "
   ]
  },
  {
   "cell_type": "code",
   "execution_count": 11,
   "id": "d78082b5",
   "metadata": {},
   "outputs": [
    {
     "data": {
      "text/html": [
       "<span style=\"white-space:pre; font-family: monospace\">6 4 7 4 8 12 5 9 8\n",
       "</span>"
      ]
     },
     "execution_count": 11,
     "metadata": {},
     "output_type": "execute_result"
    },
    {
     "data": {
      "text/html": [
       "<span style=\"white-space:pre; font-family: monospace\">6 4 7 4 8 12 5 9 8\n",
       "</span>"
      ]
     },
     "execution_count": 11,
     "metadata": {},
     "output_type": "execute_result"
    }
   ],
   "source": [
    "3+¨3 1 4 1 5 9 2 6 5  ⍝ works; but pointless\n",
    "3+3 1 4 1 5 9 2 6 5   ⍝ scalar function + is pervasive"
   ]
  },
  {
   "cell_type": "markdown",
   "id": "93c95553",
   "metadata": {},
   "source": [
    "`⍣` is the power operator. `f⍣n` applies the function `f` n times. "
   ]
  },
  {
   "cell_type": "code",
   "execution_count": 12,
   "id": "e020a324",
   "metadata": {},
   "outputs": [
    {
     "data": {
      "text/html": [
       "<span style=\"white-space:pre; font-family: monospace\">6\n",
       "</span>"
      ]
     },
     "execution_count": 12,
     "metadata": {},
     "output_type": "execute_result"
    },
    {
     "data": {
      "text/html": [
       "<span style=\"white-space:pre; font-family: monospace\">12\n",
       "</span>"
      ]
     },
     "execution_count": 12,
     "metadata": {},
     "output_type": "execute_result"
    },
    {
     "data": {
      "text/html": [
       "<span style=\"white-space:pre; font-family: monospace\">24\n",
       "</span>"
      ]
     },
     "execution_count": 12,
     "metadata": {},
     "output_type": "execute_result"
    },
    {
     "data": {
      "text/html": [
       "<span style=\"white-space:pre; font-family: monospace\">24\n",
       "</span>"
      ]
     },
     "execution_count": 12,
     "metadata": {},
     "output_type": "execute_result"
    }
   ],
   "source": [
    "2×3\n",
    "2×2×3\n",
    "2×2×2×3\n",
    "2(×⍣3)3"
   ]
  },
  {
   "cell_type": "markdown",
   "id": "33c36481",
   "metadata": {},
   "source": [
    "It did the multiplication 3 times. We need parentheses here to separate the two 3s. Note that `⍺ (f⍣n) ⍵` is defined as `(⍺∘f⍣n) ⍵`. In the case above, `⍺ (×⍣3) ⍵` therefore is `⍺ × ⍺ × ⍺ × ⍵`. Operators are never ambivalent. Their derived functions can be, but they are either monadic or dyadic. `⍣` is dyadic. `/` and `¨` are monadic. The result of `×⍣3` is a new function which takes arrays as arguments.\n",
    "\n",
    "`f⍣=` is the fixpoint of `f`. "
   ]
  },
  {
   "cell_type": "code",
   "execution_count": 13,
   "id": "927dbe54",
   "metadata": {},
   "outputs": [
    {
     "data": {
      "text/html": [
       "<span style=\"white-space:pre; font-family: monospace\">0\n",
       "</span>"
      ]
     },
     "execution_count": 13,
     "metadata": {},
     "output_type": "execute_result"
    }
   ],
   "source": [
    "0.5×⍣=1"
   ]
  },
  {
   "cell_type": "markdown",
   "id": "92560ef9",
   "metadata": {},
   "source": [
    "If you keep halving 1 you end up with 0. `0.5×⍣=` means keep multiplying 0.5 with the argument until it stops changing. \n",
    "\n",
    "`⍨` is a monadic operator taking a dyadic function and deriving an ambivalent function. `⍺ f⍨ ⍵` is `⍵ f ⍺`. `f⍨ ⍵` is `⍵ f ⍵`. We sometimes informally refer to `⍨` as \"selfie\" when the derived function is used monadically, because that's what it does, and it looks like a selfie (photo) too. `⍨` seems very simple, but it has some neat applications.\n",
    "\n",
    "Monadic `+⍨` is double. Monadic `×⍨` is square. "
   ]
  },
  {
   "cell_type": "code",
   "execution_count": null,
   "id": "fa47baa6",
   "metadata": {},
   "outputs": [],
   "source": []
  }
 ],
 "metadata": {
  "kernelspec": {
   "display_name": "Dyalog APL",
   "language": "apl",
   "name": "dyalog-kernel"
  },
  "language_info": {
   "file_extension": ".apl",
   "mimetype": "text/apl",
   "name": "APL"
  }
 },
 "nbformat": 4,
 "nbformat_minor": 5
}

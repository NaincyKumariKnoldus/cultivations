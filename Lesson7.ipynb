{
 "cells": [
  {
   "cell_type": "markdown",
   "id": "76e3c4a1",
   "metadata": {},
   "source": [
    "# Lesson 7 - APL functions: ⊂⊃⊆⌷\n",
    "\n",
    "We're continuing our exploration of APL's functions.\n",
    "\n",
    "Monadic `⊂` [encloses](http://help.dyalog.com/latest/index.htm#Language/Primitive%20Functions/Enclose.htm) its argument. It packages an arbitrary structure into a scalar. Simple scalars cannot be enclosed. We can turn on boxed output with the `]box` user command to illustrate APL's array structure in more detail:"
   ]
  },
  {
   "cell_type": "code",
   "execution_count": 45,
   "id": "dff41d41",
   "metadata": {},
   "outputs": [
    {
     "data": {
      "text/html": [
       "<span style=\"white-space:pre; font-family: monospace\">┌→────────────────┐\n",
       "│Was ON -style=max│\n",
       "└─────────────────┘\n",
       "</span>"
      ]
     },
     "execution_count": 45,
     "metadata": {},
     "output_type": "execute_result"
    }
   ],
   "source": [
    "]box on -s=max"
   ]
  },
  {
   "cell_type": "code",
   "execution_count": 46,
   "id": "3cd8f984",
   "metadata": {},
   "outputs": [
    {
     "data": {
      "text/html": [
       "<span style=\"white-space:pre; font-family: monospace\">┌→──────┐\n",
       "│1 2 3 4│\n",
       "└~──────┘\n",
       "</span>"
      ]
     },
     "execution_count": 46,
     "metadata": {},
     "output_type": "execute_result"
    },
    {
     "data": {
      "text/html": [
       "<span style=\"white-space:pre; font-family: monospace\">┌───────────┐\n",
       "│ ┌→──────┐ │\n",
       "│ │1 2 3 4│ │\n",
       "│ └~──────┘ │\n",
       "└∊──────────┘\n",
       "</span>"
      ]
     },
     "execution_count": 46,
     "metadata": {},
     "output_type": "execute_result"
    }
   ],
   "source": [
    "v←1 2 3 4\n",
    "v\n",
    "⊂v"
   ]
  },
  {
   "cell_type": "markdown",
   "id": "74a9880e",
   "metadata": {},
   "source": [
    "The little epsilon `∊` in the bottom of the outer box indicates the enclosure."
   ]
  },
  {
   "cell_type": "markdown",
   "id": "709bc7f8",
   "metadata": {},
   "source": [
    "If we tally an enclosed structure, it should come out as 1:"
   ]
  },
  {
   "cell_type": "code",
   "execution_count": 12,
   "id": "e7f884f6",
   "metadata": {},
   "outputs": [
    {
     "data": {
      "text/html": [
       "<span style=\"white-space:pre; font-family: monospace\"> \n",
       "1\n",
       " \n",
       "</span>"
      ]
     },
     "execution_count": 12,
     "metadata": {},
     "output_type": "execute_result"
    }
   ],
   "source": [
    "≢⊂v   ⍝ an enclosed vector is a scalar"
   ]
  },
  {
   "cell_type": "markdown",
   "id": "3a317b76",
   "metadata": {},
   "source": [
    "Here's another example:"
   ]
  },
  {
   "cell_type": "code",
   "execution_count": 15,
   "id": "3d345814",
   "metadata": {},
   "outputs": [
    {
     "data": {
      "text/html": [
       "<span style=\"white-space:pre; font-family: monospace\">┌→─────┐\n",
       "↓ABCABC│\n",
       "│DEFDEF│\n",
       "│GHIGHI│\n",
       "└──────┘\n",
       "</span>"
      ]
     },
     "execution_count": 15,
     "metadata": {},
     "output_type": "execute_result"
    },
    {
     "data": {
      "text/html": [
       "<span style=\"white-space:pre; font-family: monospace\">┌→────────────┐\n",
       "│ ┌→──┐ ┌→──┐ │\n",
       "│ ↓ABC│ ↓ABC│ │\n",
       "│ │DEF│ │DEF│ │\n",
       "│ │GHI│ │GHI│ │\n",
       "│ └───┘ └───┘ │\n",
       "└∊────────────┘\n",
       "</span>"
      ]
     },
     "execution_count": 15,
     "metadata": {},
     "output_type": "execute_result"
    }
   ],
   "source": [
    "(3 3⍴⎕A),(3 3⍴⎕A)   ⍝ concatenation of two matrices. \n",
    "(⊂3 3⍴⎕A),(⊂3 3⍴⎕A) ⍝ concatenation of two enclosed matrices"
   ]
  },
  {
   "cell_type": "markdown",
   "id": "376abd9d",
   "metadata": {},
   "source": [
    "The first gave us a matrix of shape 3 6, the second gave a vector of shape 2. "
   ]
  },
  {
   "cell_type": "code",
   "execution_count": 16,
   "id": "20fbdc77",
   "metadata": {},
   "outputs": [
    {
     "data": {
      "text/html": [
       "<span style=\"white-space:pre; font-family: monospace\">┌→────────────┐\n",
       "↓       ┌→──┐ │\n",
       "│ A B C ↓ABC│ │\n",
       "│ - - - │DEF│ │\n",
       "│       │GHI│ │\n",
       "│       └───┘ │\n",
       "│       ┌→──┐ │\n",
       "│ D E F ↓ABC│ │\n",
       "│ - - - │DEF│ │\n",
       "│       │GHI│ │\n",
       "│       └───┘ │\n",
       "│       ┌→──┐ │\n",
       "│ G H I ↓ABC│ │\n",
       "│ - - - │DEF│ │\n",
       "│       │GHI│ │\n",
       "│       └───┘ │\n",
       "└∊────────────┘\n",
       "</span>"
      ]
     },
     "execution_count": 16,
     "metadata": {},
     "output_type": "execute_result"
    }
   ],
   "source": [
    "(3 3⍴⎕A),(⊂3 3⍴⎕A) ⍝ concatenation of a matrix and an enclosed matrix "
   ]
  },
  {
   "cell_type": "markdown",
   "id": "8e809037",
   "metadata": {},
   "source": [
    "Concatenating a scalar to a matrix uses the scalar for each row. Here the entire right-hand matrix was treated as a scalar because it was enclosed."
   ]
  },
  {
   "cell_type": "code",
   "execution_count": 18,
   "id": "d9814362",
   "metadata": {},
   "outputs": [
    {
     "data": {
      "text/html": [
       "<span style=\"white-space:pre; font-family: monospace\">┌→───┐\n",
       "↓ABCx│\n",
       "│DEFx│\n",
       "│GHIx│\n",
       "└────┘\n",
       "</span>"
      ]
     },
     "execution_count": 18,
     "metadata": {},
     "output_type": "execute_result"
    }
   ],
   "source": [
    "(3 3⍴⎕A),'x'"
   ]
  },
  {
   "cell_type": "markdown",
   "id": "c595237b",
   "metadata": {},
   "source": [
    "So you can (and should) use `⊂` to tell APL how you want the scalar extension (auto-vectorisation) to be applied.\n",
    "\n",
    "`⊂` is also good for treating text vectors as strings (i.e. in one piece): "
   ]
  },
  {
   "cell_type": "code",
   "execution_count": 19,
   "id": "ca6f04a6",
   "metadata": {},
   "outputs": [
    {
     "data": {
      "text/html": [
       "<span style=\"white-space:pre; font-family: monospace\">┌→────┐\n",
       "│4 4 4│\n",
       "└~────┘\n",
       "</span>"
      ]
     },
     "execution_count": 19,
     "metadata": {},
     "output_type": "execute_result"
    }
   ],
   "source": [
    "'aaa' 'bbb' 'ccc' ⍳ 'aaa'"
   ]
  },
  {
   "cell_type": "markdown",
   "id": "0c734b0a",
   "metadata": {},
   "source": [
    "This says that each one of the three right-side 'a's is found in position 4 (i.e. are not) in the left-side list."
   ]
  },
  {
   "cell_type": "code",
   "execution_count": 20,
   "id": "a600a166",
   "metadata": {},
   "outputs": [
    {
     "data": {
      "text/html": [
       "<span style=\"white-space:pre; font-family: monospace\"> \n",
       "1\n",
       " \n",
       "</span>"
      ]
     },
     "execution_count": 20,
     "metadata": {},
     "output_type": "execute_result"
    }
   ],
   "source": [
    "'aaa' 'bbb' 'ccc' ⍳ ⊂'aaa'"
   ]
  },
  {
   "cell_type": "markdown",
   "id": "0028b1f8",
   "metadata": {},
   "source": [
    "This says that 'aaa' is the first string.\n",
    "\n",
    "Dyadic `⊂` is [partitioned enclose](http://help.dyalog.com/latest/index.htm#Language/Primitive%20Functions/Partitioned%20Enclose.htm). It encloses (hence sharing the symbol) pieces of the right argument as indicated by the left argument. Best to use an example: "
   ]
  },
  {
   "cell_type": "code",
   "execution_count": 21,
   "id": "50848655",
   "metadata": {},
   "outputs": [
    {
     "data": {
      "text/html": [
       "<span style=\"white-space:pre; font-family: monospace\">┌→───────────────────────┐\n",
       "│ ┌→──┐ ┌→─┐ ┌→───┐ ┌→─┐ │\n",
       "│ │Hel│ │lo│ │ Wor│ │ld│ │\n",
       "│ └───┘ └──┘ └────┘ └──┘ │\n",
       "└∊───────────────────────┘\n",
       "</span>"
      ]
     },
     "execution_count": 21,
     "metadata": {},
     "output_type": "execute_result"
    }
   ],
   "source": [
    "1 0 0 1 0 1 0 0 0 1 0⊂'Hello World' "
   ]
  },
  {
   "cell_type": "markdown",
   "id": "c26f24ad",
   "metadata": {},
   "source": [
    "This works on higher rank arrays, too. It partitions along the last axis:"
   ]
  },
  {
   "cell_type": "code",
   "execution_count": 22,
   "id": "67f530c4",
   "metadata": {},
   "outputs": [
    {
     "data": {
      "text/html": [
       "<span style=\"white-space:pre; font-family: monospace\">┌→───────────────────────────────┐\n",
       "│ ┌→─┐ ┌→──┐ ┌→─┐ ┌→───┐ ┌→┐ ┌→┐ │\n",
       "│ ↓AB│ ↓CDE│ ↓FG│ ↓HIJK│ ↓L│ ↓M│ │\n",
       "│ │NO│ │PQR│ │ST│ │UVWX│ │Y│ │Z│ │\n",
       "│ └──┘ └───┘ └──┘ └────┘ └─┘ └─┘ │\n",
       "└∊───────────────────────────────┘\n",
       "</span>"
      ]
     },
     "execution_count": 22,
     "metadata": {},
     "output_type": "execute_result"
    }
   ],
   "source": [
    "1 0 1 0 0 1 0 1 0 0 0 1 1 ⊂ 2 13⍴⎕A"
   ]
  },
  {
   "cell_type": "markdown",
   "id": "6c15cfac",
   "metadata": {},
   "source": [
    "For vectors, `1⊂` is the same as `,¨` which may be useful in trains where you want to have a left argument.\n",
    "For higher rank arrays, `1⊂` cuts into columns:"
   ]
  },
  {
   "cell_type": "code",
   "execution_count": 23,
   "id": "bc30609c",
   "metadata": {},
   "outputs": [
    {
     "data": {
      "text/html": [
       "<span style=\"white-space:pre; font-family: monospace\">┌→────────────────────────────────────────────────────┐\n",
       "│ ┌→┐ ┌→┐ ┌→┐ ┌→┐ ┌→┐ ┌→┐ ┌→┐ ┌→┐ ┌→┐ ┌→┐ ┌→┐ ┌→┐ ┌→┐ │\n",
       "│ ↓A│ ↓B│ ↓C│ ↓D│ ↓E│ ↓F│ ↓G│ ↓H│ ↓I│ ↓J│ ↓K│ ↓L│ ↓M│ │\n",
       "│ │N│ │O│ │P│ │Q│ │R│ │S│ │T│ │U│ │V│ │W│ │X│ │Y│ │Z│ │\n",
       "│ └─┘ └─┘ └─┘ └─┘ └─┘ └─┘ └─┘ └─┘ └─┘ └─┘ └─┘ └─┘ └─┘ │\n",
       "└∊────────────────────────────────────────────────────┘\n",
       "</span>"
      ]
     },
     "execution_count": 23,
     "metadata": {},
     "output_type": "execute_result"
    }
   ],
   "source": [
    "1 ⊂ 2 13⍴⎕A"
   ]
  },
  {
   "cell_type": "markdown",
   "id": "3b1cf60e",
   "metadata": {},
   "source": [
    "You can use brackets to indicate which axis you wish to cut along: "
   ]
  },
  {
   "cell_type": "code",
   "execution_count": 25,
   "id": "d09d8d0f",
   "metadata": {},
   "outputs": [
    {
     "data": {
      "text/html": [
       "<span style=\"white-space:pre; font-family: monospace\">┌→────────────────────────────────┐\n",
       "│ ┌→────────────┐ ┌→────────────┐ │\n",
       "│ ↓ABCDEFGHIJKLM│ ↓NOPQRSTUVWXYZ│ │\n",
       "│ └─────────────┘ └─────────────┘ │\n",
       "└∊────────────────────────────────┘\n",
       "</span>"
      ]
     },
     "execution_count": 25,
     "metadata": {},
     "output_type": "execute_result"
    },
    {
     "data": {
      "text/html": [
       "<span style=\"white-space:pre; font-family: monospace\">┌→──────────────────┐\n",
       "│ ┌→──┐ ┌→──┐ ┌→──┐ │\n",
       "│ ↓ABC│ ↓GHI│ ↓JKL│ │\n",
       "│ │DEF│ └───┘ └───┘ │\n",
       "│ └───┘             │\n",
       "└∊──────────────────┘\n",
       "</span>"
      ]
     },
     "execution_count": 25,
     "metadata": {},
     "output_type": "execute_result"
    }
   ],
   "source": [
    "1 ⊂[1] 2 13⍴⎕A\n",
    "1 0 1 1 ⊂[1] 4 3⍴⎕A "
   ]
  },
  {
   "cell_type": "markdown",
   "id": "0d901474",
   "metadata": {},
   "source": [
    "Note that the left argument need not be the same length as the right argument. If it's shorter, it's assumed to consist of zeros to the end:"
   ]
  },
  {
   "cell_type": "code",
   "execution_count": 53,
   "id": "631ee1a8",
   "metadata": {},
   "outputs": [
    {
     "data": {
      "text/html": [
       "<span style=\"white-space:pre; font-family: monospace\">┌→──────────────────┐\n",
       "│1 0 0 0 1 0 0 0 0 1│\n",
       "└~──────────────────┘\n",
       "</span>"
      ]
     },
     "execution_count": 53,
     "metadata": {},
     "output_type": "execute_result"
    },
    {
     "data": {
      "text/html": [
       "<span style=\"white-space:pre; font-family: monospace\">┌→───────────────────────────────────┐\n",
       "│ ┌→───┐ ┌→────┐ ┌→────────────────┐ │\n",
       "│ │ABCD│ │EFGHI│ │JKLMNOPQRSTUVWXYZ│ │\n",
       "│ └────┘ └─────┘ └─────────────────┘ │\n",
       "└∊───────────────────────────────────┘\n",
       "</span>"
      ]
     },
     "execution_count": 53,
     "metadata": {},
     "output_type": "execute_result"
    }
   ],
   "source": [
    "⍸⍣¯1⊢1 5 10        \n",
    "(⍸⍣¯1⊢1 5 10)⊂⎕A ⍝ note: left arg is length 10. right arg is length 26"
   ]
  },
  {
   "cell_type": "markdown",
   "id": "de11ea85",
   "metadata": {},
   "source": [
    "Another common use of dyadic `⊂` is to split a vector into its head and tail:"
   ]
  },
  {
   "cell_type": "code",
   "execution_count": 54,
   "id": "5d73d0cc",
   "metadata": {},
   "outputs": [
    {
     "data": {
      "text/html": [
       "<span style=\"white-space:pre; font-family: monospace\">┌→──────────────────┐\n",
       "│ ┌→┐ ┌→──────────┐ │\n",
       "│ │1│ │2 3 4 5 6 7│ │\n",
       "│ └~┘ └~──────────┘ │\n",
       "└∊──────────────────┘\n",
       "</span>"
      ]
     },
     "execution_count": 54,
     "metadata": {},
     "output_type": "execute_result"
    }
   ],
   "source": [
    "1 1⊂1 2 3 4 5 6 7"
   ]
  },
  {
   "cell_type": "markdown",
   "id": "d897f372",
   "metadata": {},
   "source": [
    "Monadic `⊃` is [disclose](http://help.dyalog.com/latest/index.htm#Language/Primitive%20Functions/Disclose.htm), which is pretty much the inverse of monadic `⊂`. It discloses a scalar (again, if possible; a simple scalar remains the same). If you use it on a high rank array (i.e. not enclosed), it will give you the first (top left) element: "
   ]
  },
  {
   "cell_type": "code",
   "execution_count": 27,
   "id": "562d6b61",
   "metadata": {},
   "outputs": [
    {
     "data": {
      "text/html": [
       "<span style=\"white-space:pre; font-family: monospace\">┌→──┐\n",
       "↓ABC│\n",
       "│DEF│\n",
       "│GHI│\n",
       "└───┘\n",
       "</span>"
      ]
     },
     "execution_count": 27,
     "metadata": {},
     "output_type": "execute_result"
    },
    {
     "data": {
      "text/html": [
       "<span style=\"white-space:pre; font-family: monospace\">┌───────┐\n",
       "│ ┌→──┐ │\n",
       "│ ↓ABC│ │\n",
       "│ │DEF│ │\n",
       "│ │GHI│ │\n",
       "│ └───┘ │\n",
       "└∊──────┘\n",
       "</span>"
      ]
     },
     "execution_count": 27,
     "metadata": {},
     "output_type": "execute_result"
    },
    {
     "data": {
      "text/html": [
       "<span style=\"white-space:pre; font-family: monospace\">┌→──┐\n",
       "↓ABC│\n",
       "│DEF│\n",
       "│GHI│\n",
       "└───┘\n",
       "</span>"
      ]
     },
     "execution_count": 27,
     "metadata": {},
     "output_type": "execute_result"
    },
    {
     "data": {
      "text/html": [
       "<span style=\"white-space:pre; font-family: monospace\"> \n",
       "A\n",
       "-\n",
       "</span>"
      ]
     },
     "execution_count": 27,
     "metadata": {},
     "output_type": "execute_result"
    }
   ],
   "source": [
    "3 3⍴⎕A      ⍝ 3x3 matrix\n",
    "⊂3 3⍴⎕A     ⍝ enclosed\n",
    "⊃⊂3 3⍴⎕A    ⍝ disclose enclosed\n",
    "⊃3 3⍴⎕A     ⍝ dislclose unenclosed gives the first element"
   ]
  },
  {
   "cell_type": "markdown",
   "id": "cfe5d6f2",
   "metadata": {},
   "source": [
    "The last feature (\"first\") means that you can combine it with reverses etc, to get corner elements: "
   ]
  },
  {
   "cell_type": "code",
   "execution_count": 28,
   "id": "caf21aaa",
   "metadata": {},
   "outputs": [
    {
     "data": {
      "text/html": [
       "<span style=\"white-space:pre; font-family: monospace\"> \n",
       "C\n",
       "-\n",
       "</span>"
      ]
     },
     "execution_count": 28,
     "metadata": {},
     "output_type": "execute_result"
    },
    {
     "data": {
      "text/html": [
       "<span style=\"white-space:pre; font-family: monospace\"> \n",
       "G\n",
       "-\n",
       "</span>"
      ]
     },
     "execution_count": 28,
     "metadata": {},
     "output_type": "execute_result"
    }
   ],
   "source": [
    "⊃⌽3 3⍴⎕A ⍝ top right\n",
    "⊃⊖3 3⍴⎕A ⍝ bottom left "
   ]
  },
  {
   "cell_type": "markdown",
   "id": "786f47db",
   "metadata": {},
   "source": [
    "You can use it with `¨` (each) to get initials:"
   ]
  },
  {
   "cell_type": "code",
   "execution_count": 29,
   "id": "ed6ba4d6",
   "metadata": {},
   "outputs": [
    {
     "data": {
      "text/html": [
       "<span style=\"white-space:pre; font-family: monospace\">┌→──┐\n",
       "│KEI│\n",
       "└───┘\n",
       "</span>"
      ]
     },
     "execution_count": 29,
     "metadata": {},
     "output_type": "execute_result"
    }
   ],
   "source": [
    "⊃¨'Kenneth' 'Eugene' 'Iverson'"
   ]
  },
  {
   "cell_type": "markdown",
   "id": "64285d28",
   "metadata": {},
   "source": [
    "Dyadic `⊃` is [pick](http://help.dyalog.com/latest/index.htm#Language/Primitive%20Functions/Pick.htm). It digs into nested arrays. Every scalar on its left is the index of an element in subsequent layers of nestedness: "
   ]
  },
  {
   "cell_type": "code",
   "execution_count": 49,
   "id": "b43f5b86",
   "metadata": {},
   "outputs": [
    {
     "data": {
      "text/html": [
       "<span style=\"white-space:pre; font-family: monospace\"> \n",
       "F\n",
       "-\n",
       "</span>"
      ]
     },
     "execution_count": 49,
     "metadata": {},
     "output_type": "execute_result"
    },
    {
     "data": {
      "text/html": [
       "<span style=\"white-space:pre; font-family: monospace\"> \n",
       "6\n",
       " \n",
       "</span>"
      ]
     },
     "execution_count": 49,
     "metadata": {},
     "output_type": "execute_result"
    }
   ],
   "source": [
    "(⊂2 3)⊃3 3⍴⎕A\n",
    "2 3 1⊃(1 2 3)(4 5 (6 7 8))"
   ]
  },
  {
   "cell_type": "markdown",
   "id": "03e9fd1f",
   "metadata": {},
   "source": [
    "We can demonstrate this further. Here is a 2-by-2 matrix of two-element vectors:"
   ]
  },
  {
   "cell_type": "code",
   "execution_count": 52,
   "id": "635c4023",
   "metadata": {},
   "outputs": [
    {
     "data": {
      "text/html": [
       "<span style=\"white-space:pre; font-family: monospace\">┌→────────────┐\n",
       "↓ ┌→──┐ ┌→──┐ │\n",
       "│ │1 2│ │3 4│ │\n",
       "│ └~──┘ └~──┘ │\n",
       "│ ┌→──┐ ┌→──┐ │\n",
       "│ │5 6│ │7 8│ │\n",
       "│ └~──┘ └~──┘ │\n",
       "└∊────────────┘\n",
       "</span>"
      ]
     },
     "execution_count": 52,
     "metadata": {},
     "output_type": "execute_result"
    },
    {
     "data": {
      "text/html": [
       "<span style=\"white-space:pre; font-family: monospace\"> \n",
       "4\n",
       " \n",
       "</span>"
      ]
     },
     "execution_count": 52,
     "metadata": {},
     "output_type": "execute_result"
    }
   ],
   "source": [
    "2 2⍴(1 2)(3 4)(5 6)(7 8)\n",
    "(1 2) 2⊃2 2⍴(1 2)(3 4)(5 6)(7 8)"
   ]
  },
  {
   "cell_type": "markdown",
   "id": "94ce7f5e",
   "metadata": {},
   "source": [
    "In the last statement, the first index is 1 2, which picks the element (3 4), and the second index is 2, which picks the 4."
   ]
  },
  {
   "cell_type": "markdown",
   "id": "1bc6b7de",
   "metadata": {},
   "source": [
    "Monadic `⊆` is called [nest](http://help.dyalog.com/latest/index.htm#Language/Primitive%20Functions/Nest.htm) because it guarantees you that the result is nested (non-simple). `(1 2)(3 4 5)` is already nested, and `⊆` won't do anything: "
   ]
  },
  {
   "cell_type": "code",
   "execution_count": 34,
   "id": "a6a1f96d",
   "metadata": {},
   "outputs": [
    {
     "data": {
      "text/html": [
       "<span style=\"white-space:pre; font-family: monospace\">┌→──────────────┐\n",
       "│ ┌→──┐ ┌→────┐ │\n",
       "│ │1 2│ │3 4 5│ │\n",
       "│ └~──┘ └~────┘ │\n",
       "└∊──────────────┘\n",
       "</span>"
      ]
     },
     "execution_count": 34,
     "metadata": {},
     "output_type": "execute_result"
    },
    {
     "data": {
      "text/html": [
       "<span style=\"white-space:pre; font-family: monospace\">┌→──────────────┐\n",
       "│ ┌→──┐ ┌→────┐ │\n",
       "│ │1 2│ │3 4 5│ │\n",
       "│ └~──┘ └~────┘ │\n",
       "└∊──────────────┘\n",
       "</span>"
      ]
     },
     "execution_count": 34,
     "metadata": {},
     "output_type": "execute_result"
    }
   ],
   "source": [
    "(1 2)(3 4 5)\n",
    "⊆(1 2)(3 4 5) "
   ]
  },
  {
   "cell_type": "markdown",
   "id": "e21f7af7",
   "metadata": {},
   "source": [
    "`1 2 3` is not nested, so `⊆` will nest it:"
   ]
  },
  {
   "cell_type": "code",
   "execution_count": 35,
   "id": "5171e6eb",
   "metadata": {},
   "outputs": [
    {
     "data": {
      "text/html": [
       "<span style=\"white-space:pre; font-family: monospace\">┌→────┐\n",
       "│1 2 3│\n",
       "└~────┘\n",
       "</span>"
      ]
     },
     "execution_count": 35,
     "metadata": {},
     "output_type": "execute_result"
    },
    {
     "data": {
      "text/html": [
       "<span style=\"white-space:pre; font-family: monospace\">┌─────────┐\n",
       "│ ┌→────┐ │\n",
       "│ │1 2 3│ │\n",
       "│ └~────┘ │\n",
       "└∊────────┘\n",
       "</span>"
      ]
     },
     "execution_count": 35,
     "metadata": {},
     "output_type": "execute_result"
    }
   ],
   "source": [
    "1 2 3\n",
    "⊆1 2 3"
   ]
  },
  {
   "cell_type": "markdown",
   "id": "6f3db9ea",
   "metadata": {},
   "source": [
    "Works on higher rank too, of course:"
   ]
  },
  {
   "cell_type": "code",
   "execution_count": 39,
   "id": "9b35fb68",
   "metadata": {},
   "outputs": [
    {
     "data": {
      "text/html": [
       "<span style=\"white-space:pre; font-family: monospace\">┌→──────────────────┐\n",
       "↓ ┌→──┐ ┌→──┐ ┌→──┐ │\n",
       "│ │abc│ │abc│ │abc│ │\n",
       "│ └───┘ └───┘ └───┘ │\n",
       "│ ┌→──┐ ┌→──┐ ┌→──┐ │\n",
       "│ │abc│ │abc│ │abc│ │\n",
       "│ └───┘ └───┘ └───┘ │\n",
       "└∊──────────────────┘\n",
       "</span>"
      ]
     },
     "execution_count": 39,
     "metadata": {},
     "output_type": "execute_result"
    },
    {
     "data": {
      "text/html": [
       "<span style=\"white-space:pre; font-family: monospace\">┌→──────────────────┐\n",
       "↓ ┌→──┐ ┌→──┐ ┌→──┐ │\n",
       "│ │abc│ │abc│ │abc│ │\n",
       "│ └───┘ └───┘ └───┘ │\n",
       "│ ┌→──┐ ┌→──┐ ┌→──┐ │\n",
       "│ │abc│ │abc│ │abc│ │\n",
       "│ └───┘ └───┘ └───┘ │\n",
       "└∊──────────────────┘\n",
       "</span>"
      ]
     },
     "execution_count": 39,
     "metadata": {},
     "output_type": "execute_result"
    }
   ],
   "source": [
    "2 3⍴⊂'abc'\n",
    "⊆2 3⍴⊂'abc' ⍝ already nested, so no-op "
   ]
  },
  {
   "cell_type": "code",
   "execution_count": 40,
   "id": "d7277db3",
   "metadata": {},
   "outputs": [
    {
     "data": {
      "text/html": [
       "<span style=\"white-space:pre; font-family: monospace\">┌→──┐\n",
       "↓abc│\n",
       "│abc│\n",
       "└───┘\n",
       "</span>"
      ]
     },
     "execution_count": 40,
     "metadata": {},
     "output_type": "execute_result"
    },
    {
     "data": {
      "text/html": [
       "<span style=\"white-space:pre; font-family: monospace\">┌───────┐\n",
       "│ ┌→──┐ │\n",
       "│ ↓abc│ │\n",
       "│ │abc│ │\n",
       "│ └───┘ │\n",
       "└∊──────┘\n",
       "</span>"
      ]
     },
     "execution_count": 40,
     "metadata": {},
     "output_type": "execute_result"
    }
   ],
   "source": [
    "2 3⍴'abc'   ⍝ not nested\n",
    "⊆2 3⍴'abc'  ⍝ nested"
   ]
  },
  {
   "cell_type": "markdown",
   "id": "c7ae64fc",
   "metadata": {},
   "source": [
    "Dyadic `⊆` is called [partition](http://help.dyalog.com/latest/index.htm#Language/Primitive%20Functions/Partition.htm) (`⊂` and `⊆` originate with different APL dialects, but Dyalog APL features both). To distinguish between them, we call `⊂` _partitioned enclose_ and `⊆` just _partition_, but it doesn't say much.\n",
    "\n",
    "Dyadic `⊆` works similarly to dyadic `⊂`, but with different rules for the left argument. The left argument is non-negative integer instead of Boolean, and new partitions begin whenever an element is higher than its neighbour on the left. Also, elements indicated by 0s are dropped completely: "
   ]
  },
  {
   "cell_type": "code",
   "execution_count": 41,
   "id": "37c44699",
   "metadata": {},
   "outputs": [
    {
     "data": {
      "text/html": [
       "<span style=\"white-space:pre; font-family: monospace\">┌→────────────────────┐\n",
       "│ ┌→┐ ┌→─┐ ┌→──┐ ┌→─┐ │\n",
       "│ │H│ │lo│ │ Wo│ │rl│ │\n",
       "│ └─┘ └──┘ └───┘ └──┘ │\n",
       "└∊────────────────────┘\n",
       "</span>"
      ]
     },
     "execution_count": 41,
     "metadata": {},
     "output_type": "execute_result"
    }
   ],
   "source": [
    "1 0 0 1 1 3 2 2 5 5 0⊆'Hello World'"
   ]
  },
  {
   "cell_type": "markdown",
   "id": "96cf5f57",
   "metadata": {},
   "source": [
    "`1⊆array` is the same as `,⊂array` but uses a single dyadic function instead of two monadic ones, i.e. great for trains.\n",
    "\n",
    "Monadic `⌷` is [materialise](http://help.dyalog.com/latest/index.htm#Language/Primitive%20Functions/Materialise.htm). It is almost the same as monadic `⊢` (i.e. _identity_). However, it will materialise the default property of a class. For collections, this means the _Item_ property, so in effect it turns collections into vectors of items. "
   ]
  },
  {
   "cell_type": "code",
   "execution_count": 43,
   "id": "72021413",
   "metadata": {},
   "outputs": [],
   "source": [
    "]dinput\n",
    ":Class cl\n",
    "    :Property Default thing\n",
    "    :Access Public Shared\n",
    "        ∇ r←get\n",
    "          r←3 1 4 1 4\n",
    "        ∇\n",
    "    :EndProperty\n",
    ":EndClass"
   ]
  },
  {
   "cell_type": "code",
   "execution_count": 44,
   "id": "fcacd85c",
   "metadata": {},
   "outputs": [
    {
     "data": {
      "text/html": [
       "<span style=\"white-space:pre; font-family: monospace\">┌→────────┐\n",
       "│3 1 4 1 4│\n",
       "└~────────┘\n",
       "</span>"
      ]
     },
     "execution_count": 44,
     "metadata": {},
     "output_type": "execute_result"
    },
    {
     "data": {
      "text/html": [
       "<span style=\"white-space:pre; font-family: monospace\">    \n",
       "#.cl\n",
       "    \n",
       "</span>"
      ]
     },
     "execution_count": 44,
     "metadata": {},
     "output_type": "execute_result"
    },
    {
     "data": {
      "text/html": [
       "<span style=\"white-space:pre; font-family: monospace\">┌→────────┐\n",
       "│3 1 4 1 4│\n",
       "└~────────┘\n",
       "</span>"
      ]
     },
     "execution_count": 44,
     "metadata": {},
     "output_type": "execute_result"
    }
   ],
   "source": [
    "cl.thing\n",
    "⊢cl\n",
    "⌷cl"
   ]
  },
  {
   "cell_type": "markdown",
   "id": "3f3c324c",
   "metadata": {},
   "source": [
    "Dyadic `⌷` is [index](http://help.dyalog.com/latest/index.htm#Language/Primitive%20Functions/Index.htm). It is similar to _pick_, dyadic `⊃`, but works its way into the rank instead of the depth. On a 3D array, the first element selects layer, the second row, the third column: "
   ]
  },
  {
   "cell_type": "code",
   "execution_count": 47,
   "id": "5926bc80",
   "metadata": {},
   "outputs": [
    {
     "data": {
      "text/html": [
       "<span style=\"white-space:pre; font-family: monospace\">┌┌→───┐\n",
       "↓↓ABCD│\n",
       "││EFGH│\n",
       "││IJKL│\n",
       "││    │\n",
       "││MNOP│\n",
       "││QRST│\n",
       "││UVWX│\n",
       "└└────┘\n",
       "</span>"
      ]
     },
     "execution_count": 47,
     "metadata": {},
     "output_type": "execute_result"
    },
    {
     "data": {
      "text/html": [
       "<span style=\"white-space:pre; font-family: monospace\">┌→───┐\n",
       "↓MNOP│\n",
       "│QRST│\n",
       "│UVWX│\n",
       "└────┘\n",
       "</span>"
      ]
     },
     "execution_count": 47,
     "metadata": {},
     "output_type": "execute_result"
    },
    {
     "data": {
      "text/html": [
       "<span style=\"white-space:pre; font-family: monospace\">┌→───┐\n",
       "│MNOP│\n",
       "└────┘\n",
       "</span>"
      ]
     },
     "execution_count": 47,
     "metadata": {},
     "output_type": "execute_result"
    },
    {
     "data": {
      "text/html": [
       "<span style=\"white-space:pre; font-family: monospace\"> \n",
       "O\n",
       "-\n",
       "</span>"
      ]
     },
     "execution_count": 47,
     "metadata": {},
     "output_type": "execute_result"
    }
   ],
   "source": [
    "2 3 4⍴⎕A\n",
    "2⌷2 3 4⍴⎕A\n",
    "2 1⌷2 3 4⍴⎕A\n",
    "2 1 3⌷2 3 4⍴⎕A"
   ]
  },
  {
   "cell_type": "markdown",
   "id": "81154f72",
   "metadata": {},
   "source": [
    "Each element of the left argument may be may be any simple array:"
   ]
  },
  {
   "cell_type": "code",
   "execution_count": 48,
   "id": "1dcde162",
   "metadata": {},
   "outputs": [
    {
     "data": {
      "text/html": [
       "<span style=\"white-space:pre; font-family: monospace\">┌┌→───┐\n",
       "↓↓ABCD│\n",
       "││EFGH│\n",
       "││IJKL│\n",
       "││    │\n",
       "││ABCD│\n",
       "││EFGH│\n",
       "││IJKL│\n",
       "└└────┘\n",
       "</span>"
      ]
     },
     "execution_count": 48,
     "metadata": {},
     "output_type": "execute_result"
    },
    {
     "data": {
      "text/html": [
       "<span style=\"white-space:pre; font-family: monospace\">┌→───┐\n",
       "↓MNOP│\n",
       "│UVWX│\n",
       "└────┘\n",
       "</span>"
      ]
     },
     "execution_count": 48,
     "metadata": {},
     "output_type": "execute_result"
    },
    {
     "data": {
      "text/html": [
       "<span style=\"white-space:pre; font-family: monospace\">┌→─┐\n",
       "│CO│\n",
       "└──┘\n",
       "</span>"
      ]
     },
     "execution_count": 48,
     "metadata": {},
     "output_type": "execute_result"
    },
    {
     "data": {
      "text/html": [
       "<span style=\"white-space:pre; font-family: monospace\">┌┌→───┐\n",
       "↓↓EFGH│\n",
       "││IJKL│\n",
       "││    │\n",
       "││QRST│\n",
       "││UVWX│\n",
       "└└────┘\n",
       "</span>"
      ]
     },
     "execution_count": 48,
     "metadata": {},
     "output_type": "execute_result"
    }
   ],
   "source": [
    "(⊂1 1)⌷2 3 4⍴⎕A\n",
    "2 (1 3)⌷2 3 4⍴⎕A ⍝ first and third row of second layer \n",
    "(1 2)1 3⌷2 3 4⍴⎕A ⍝ third char of first row of layers 1 and 2 \n",
    "(1 2)(2 3)⌷2 3 4⍴⎕A ⍝ rows 2 and 3 of each of layers 1 and 2 "
   ]
  },
  {
   "cell_type": "code",
   "execution_count": null,
   "id": "56a59366",
   "metadata": {},
   "outputs": [],
   "source": []
  }
 ],
 "metadata": {
  "kernelspec": {
   "display_name": "Dyalog APL",
   "language": "apl",
   "name": "dyalog-kernel"
  },
  "language_info": {
   "file_extension": ".apl",
   "mimetype": "text/apl",
   "name": "APL"
  }
 },
 "nbformat": 4,
 "nbformat_minor": 5
}

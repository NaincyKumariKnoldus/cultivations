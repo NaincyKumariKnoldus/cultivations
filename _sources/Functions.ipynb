{
 "cells": [
  {
   "cell_type": "markdown",
   "id": "c0d339b6",
   "metadata": {},
   "source": [
    "# Primitive functions\n",
    "\n",
    "Let's investigate APL's built-in primitive functions. \n",
    "\n",
    "## `+-×÷*⍟⌹○`"
   ]
  },
  {
   "cell_type": "markdown",
   "id": "d48615d9",
   "metadata": {},
   "source": [
    "### Arithmetic `+-×÷`"
   ]
  },
  {
   "cell_type": "markdown",
   "id": "10ba03e4",
   "metadata": {},
   "source": [
    "Dyadic `+-×÷` are what you expect from math:"
   ]
  },
  {
   "cell_type": "code",
   "execution_count": 1,
   "id": "2b0df2ed",
   "metadata": {},
   "outputs": [
    {
     "data": {
      "text/html": [
       "<span style=\"white-space:pre; font-family: monospace\">11\n",
       "</span>"
      ]
     },
     "execution_count": 1,
     "metadata": {},
     "output_type": "execute_result"
    },
    {
     "data": {
      "text/html": [
       "<span style=\"white-space:pre; font-family: monospace\">48\n",
       "</span>"
      ]
     },
     "execution_count": 1,
     "metadata": {},
     "output_type": "execute_result"
    },
    {
     "data": {
      "text/html": [
       "<span style=\"white-space:pre; font-family: monospace\">1584\n",
       "</span>"
      ]
     },
     "execution_count": 1,
     "metadata": {},
     "output_type": "execute_result"
    },
    {
     "data": {
      "text/html": [
       "<span style=\"white-space:pre; font-family: monospace\">¯4\n",
       "</span>"
      ]
     },
     "execution_count": 1,
     "metadata": {},
     "output_type": "execute_result"
    }
   ],
   "source": [
    "3+8\n",
    "4×12\n",
    "144×11\n",
    "3-7"
   ]
  },
  {
   "cell_type": "markdown",
   "id": "9125ba88",
   "metadata": {},
   "source": [
    "`0÷0` is `1` by default, but you can make all `n÷0` into `0` by setting `⎕DIV←1`:"
   ]
  },
  {
   "cell_type": "code",
   "execution_count": 3,
   "id": "60631f2a",
   "metadata": {},
   "outputs": [
    {
     "data": {
      "text/html": [
       "<span style=\"white-space:pre; font-family: monospace\">1\n",
       "</span>"
      ]
     },
     "execution_count": 3,
     "metadata": {},
     "output_type": "execute_result"
    }
   ],
   "source": [
    "0÷0"
   ]
  },
  {
   "cell_type": "code",
   "execution_count": 4,
   "id": "271e6238",
   "metadata": {},
   "outputs": [
    {
     "data": {
      "text/html": [
       "<span style=\"white-space:pre; font-family: monospace\">0\n",
       "</span>"
      ]
     },
     "execution_count": 4,
     "metadata": {},
     "output_type": "execute_result"
    }
   ],
   "source": [
    "⎕DIV←1\n",
    "0÷0\n",
    "⎕DIV←0       ⍝ default setting"
   ]
  },
  {
   "cell_type": "markdown",
   "id": "599b1649",
   "metadata": {},
   "source": [
    "### Reciprocal `÷A`, direction `×A`"
   ]
  },
  {
   "cell_type": "markdown",
   "id": "634137e4",
   "metadata": {},
   "source": [
    "Question:\n",
    "> How can we make 0÷0 throw an error?\n",
    "\n",
    "Multiply with the reciprocal:"
   ]
  },
  {
   "cell_type": "code",
   "execution_count": 14,
   "id": "cf920aeb",
   "metadata": {},
   "outputs": [
    {
     "name": "stderr",
     "output_type": "stream",
     "text": [
      "DOMAIN ERROR: Divide by zero\n",
      "      0×÷0  ⍝ DOMAIN ERROR: Divide by zero\n",
      "        ∧\n"
     ]
    }
   ],
   "source": [
    "0×÷0        ⍝ DOMAIN ERROR: Divide by zero "
   ]
  },
  {
   "cell_type": "markdown",
   "id": "aff4f875",
   "metadata": {},
   "source": [
    "Monadic `÷` is the [reciprocal](http://help.dyalog.com/latest/index.htm#Language/Primitive%20Functions/Reciprocal.htm), i.e. `÷x` is `1÷x`. Monadic `×` is [direction](http://help.dyalog.com/latest/index.htm#Language/Primitive%20Functions/Direction.htm), i.e. a complex number which has magnitude 1 but same angle as the argument. For real numbers this means [signum](http://help.dyalog.com/latest/index.htm#Language/Primitive%20Functions/Direction.htm) (sign). "
   ]
  },
  {
   "cell_type": "code",
   "execution_count": 1,
   "id": "f4b31cd2",
   "metadata": {},
   "outputs": [
    {
     "data": {
      "text/html": [
       "<span style=\"white-space:pre; font-family: monospace\">0.2\n",
       "</span>"
      ]
     },
     "execution_count": 1,
     "metadata": {},
     "output_type": "execute_result"
    },
    {
     "data": {
      "text/html": [
       "<span style=\"white-space:pre; font-family: monospace\">1 ¯1 0\n",
       "</span>"
      ]
     },
     "execution_count": 1,
     "metadata": {},
     "output_type": "execute_result"
    },
    {
     "data": {
      "text/html": [
       "<span style=\"white-space:pre; font-family: monospace\">0.8J¯0.6\n",
       "</span>"
      ]
     },
     "execution_count": 1,
     "metadata": {},
     "output_type": "execute_result"
    }
   ],
   "source": [
    "÷5          ⍝ reciprocal: 1÷5\n",
    "×12 ¯33 0   ⍝ signum\n",
    "×32j¯24     ⍝ direction"
   ]
  },
  {
   "cell_type": "markdown",
   "id": "cc657951",
   "metadata": {},
   "source": [
    "### Power `*`, log `⍟`"
   ]
  },
  {
   "cell_type": "markdown",
   "id": "0f47ad0b",
   "metadata": {},
   "source": [
    "Dyadic `*` is [power](http://help.dyalog.com/latest/index.htm#Language/Primitive%20Functions/Power.htm), and the default left argument (i.e. for the monadic form) is e. So, monadic `*` is e-to-the-power-of. "
   ]
  },
  {
   "cell_type": "code",
   "execution_count": null,
   "id": "65e063c4",
   "metadata": {},
   "outputs": [],
   "source": [
    "2*10        ⍝ ⍺ to the power of ⍵\n",
    "*1          ⍝ e to the power of ⍵"
   ]
  },
  {
   "cell_type": "markdown",
   "id": "b854cc2b",
   "metadata": {},
   "source": [
    "The inverse of `*` is `⍟`; [logarithm](http://help.dyalog.com/latest/index.htm#Language/Primitive%20Functions/Logarithm.htm). The monadic form is the natural logarithm and the dyadic is left-arg logarithm, so `10⍟n` is `log(n)`: "
   ]
  },
  {
   "cell_type": "code",
   "execution_count": 16,
   "id": "869a9524",
   "metadata": {},
   "outputs": [
    {
     "data": {
      "text/html": [
       "<span style=\"white-space:pre; font-family: monospace\">7\n",
       "</span>"
      ]
     },
     "execution_count": 16,
     "metadata": {},
     "output_type": "execute_result"
    }
   ],
   "source": [
    "10⍟10000000   ⍝ log(10000000)"
   ]
  },
  {
   "cell_type": "markdown",
   "id": "337dd41f",
   "metadata": {},
   "source": [
    "### Matrix divide `⌹`"
   ]
  },
  {
   "cell_type": "markdown",
   "id": "83c6b1c0",
   "metadata": {},
   "source": [
    "`⌹` is [matrix division](http://help.dyalog.com/latest/index.htm#Language/Primitive%20Functions/Matrix%20Divide.htm). Give it a coefficients' matrix on the right and it will invert the matrix. If you also put a vector on the left and it will solve your system of equations. If over-determined, it will give you the least squares fit. \n",
    "\n",
    "For example, in order to solve the following set of simultaneous equations,\n",
    "\n",
    "$\\begin{array}{lcl} 3x + 2y & = & 13 \\\\ x - y & = & 1 \\end{array}$\n",
    "\n",
    "we can use `⌹` like so:"
   ]
  },
  {
   "cell_type": "code",
   "execution_count": 17,
   "id": "b8bcc592",
   "metadata": {},
   "outputs": [
    {
     "data": {
      "text/html": [
       "<span style=\"white-space:pre; font-family: monospace\">3 2\n",
       "</span>"
      ]
     },
     "execution_count": 17,
     "metadata": {},
     "output_type": "execute_result"
    }
   ],
   "source": [
    "13 1 ⌹ 2 2⍴3 2 1 ¯1"
   ]
  },
  {
   "cell_type": "markdown",
   "id": "c6a1f6bb",
   "metadata": {},
   "source": [
    "### Circular `○`"
   ]
  },
  {
   "cell_type": "markdown",
   "id": "d141452b",
   "metadata": {},
   "source": [
    "Monadic `○` [multiplies by π](http://help.dyalog.com/latest/index.htm#Language/Primitive%20Functions/Pi%20Times.htm):"
   ]
  },
  {
   "cell_type": "code",
   "execution_count": 20,
   "id": "5fc6ebcf",
   "metadata": {},
   "outputs": [
    {
     "data": {
      "text/html": [
       "<span style=\"white-space:pre; font-family: monospace\">6.28319\n",
       "</span>"
      ]
     },
     "execution_count": 20,
     "metadata": {},
     "output_type": "execute_result"
    }
   ],
   "source": [
    "○2          ⍝ 2 times π"
   ]
  },
  {
   "cell_type": "markdown",
   "id": "0bb126bf",
   "metadata": {},
   "source": [
    "Dyadic `○` is [circular](http://help.dyalog.com/latest/index.htm#Language/Primitive%20Functions/Circular.htm). It uses an integer left argument to select which trigonometric function to apply. The most common ones are 1, 2 and 3, which are _sin_, _cos_ and _tan_. The negative versions `¯1`, `¯2` and `¯3` are _arcsin_, _arccos_ and _arctan_. "
   ]
  },
  {
   "cell_type": "code",
   "execution_count": 26,
   "id": "b493f0ee",
   "metadata": {},
   "outputs": [
    {
     "data": {
      "text/html": [
       "<span style=\"white-space:pre; font-family: monospace\">1.22465E¯16\n",
       "</span>"
      ]
     },
     "execution_count": 26,
     "metadata": {},
     "output_type": "execute_result"
    },
    {
     "data": {
      "text/html": [
       "<span style=\"white-space:pre; font-family: monospace\">¯1\n",
       "</span>"
      ]
     },
     "execution_count": 26,
     "metadata": {},
     "output_type": "execute_result"
    },
    {
     "data": {
      "text/html": [
       "<span style=\"white-space:pre; font-family: monospace\">3.14159\n",
       "</span>"
      ]
     },
     "execution_count": 26,
     "metadata": {},
     "output_type": "execute_result"
    }
   ],
   "source": [
    "1○○1        ⍝ sin π\n",
    "2○○1        ⍝ cos π\n",
    "¯2○2○○1     ⍝ arccos cos π"
   ]
  },
  {
   "cell_type": "markdown",
   "id": "60fbb225",
   "metadata": {},
   "source": [
    "The entire list of `○`'s left arguments is [here](http://help.dyalog.com/latest/index.htm#Language/Primitive%20Functions/Circular.htm)."
   ]
  },
  {
   "cell_type": "markdown",
   "id": "41e7a41e",
   "metadata": {},
   "source": [
    "## `!?|⌈⌊⊥⊤⊣⊢`"
   ]
  },
  {
   "cell_type": "markdown",
   "id": "66371d55",
   "metadata": {},
   "source": [
    "### Factorial, binomial `!`"
   ]
  },
  {
   "cell_type": "markdown",
   "id": "cd18ed77",
   "metadata": {},
   "source": [
    "Monadic `!` is [factorial](http://help.dyalog.com/latest/index.htm#Language/Primitive%20Functions/Factorial.htm). Note that it goes on the left (like all other monadic APL functions) as opposed to mathematics' $!$.\n",
    "\n",
    "Dyadic `A!B` is [binomial](http://help.dyalog.com/latest/index.htm#Language/Primitive%20Functions/Binomial.htm). It is the number of ways to take `A` items from a bag of `B` items, generalised to be the binomial function. "
   ]
  },
  {
   "cell_type": "code",
   "execution_count": 29,
   "id": "4c36d5c3",
   "metadata": {},
   "outputs": [
    {
     "data": {
      "text/html": [
       "<span style=\"white-space:pre; font-family: monospace\">479001600\n",
       "</span>"
      ]
     },
     "execution_count": 29,
     "metadata": {},
     "output_type": "execute_result"
    },
    {
     "data": {
      "text/html": [
       "<span style=\"white-space:pre; font-family: monospace\">28\n",
       "</span>"
      ]
     },
     "execution_count": 29,
     "metadata": {},
     "output_type": "execute_result"
    }
   ],
   "source": [
    "!12         ⍝ 12 factorial\n",
    "2!8         ⍝ how many ways can we select 2 from 8?"
   ]
  },
  {
   "cell_type": "markdown",
   "id": "f567dc08",
   "metadata": {},
   "source": [
    "### Roll, deal `?`"
   ]
  },
  {
   "cell_type": "markdown",
   "id": "c8c59c86",
   "metadata": {},
   "source": [
    "Monadic `?B` is [roll](http://help.dyalog.com/latest/index.htm#Language/Primitive%20Functions/Roll.htm). It returns a random integer among the first `B` integers. `?0` returns a random float between (but not including) 0 and 1: "
   ]
  },
  {
   "cell_type": "code",
   "execution_count": 33,
   "id": "92263938",
   "metadata": {},
   "outputs": [
    {
     "data": {
      "text/html": [
       "<span style=\"white-space:pre; font-family: monospace\">3 2 2\n",
       "</span>"
      ]
     },
     "execution_count": 33,
     "metadata": {},
     "output_type": "execute_result"
    },
    {
     "data": {
      "text/html": [
       "<span style=\"white-space:pre; font-family: monospace\">0.28629\n",
       "</span>"
      ]
     },
     "execution_count": 33,
     "metadata": {},
     "output_type": "execute_result"
    }
   ],
   "source": [
    "?6 6 6     ⍝ roll three six-sided dice\n",
    "?0         ⍝ random float between 0-1, excluding 0 and 1"
   ]
  },
  {
   "cell_type": "markdown",
   "id": "dfed5b37",
   "metadata": {},
   "source": [
    "Dyadic `A?B` is [deal](http://help.dyalog.com/latest/index.htm#Language/Primitive%20Functions/Deal.htm). It returns a random one of the ways `A!B` counted. I.e. it returns `A` random numbers among the `B` first integers. "
   ]
  },
  {
   "cell_type": "code",
   "execution_count": 35,
   "id": "70d2dc2f",
   "metadata": {},
   "outputs": [
    {
     "data": {
      "text/html": [
       "<span style=\"white-space:pre; font-family: monospace\">10 2 8 5 4 7 3 6 9 1\n",
       "</span>"
      ]
     },
     "execution_count": 35,
     "metadata": {},
     "output_type": "execute_result"
    }
   ],
   "source": [
    "10?10       ⍝ 1-10 in random order"
   ]
  },
  {
   "cell_type": "markdown",
   "id": "5b8d94da",
   "metadata": {},
   "source": [
    "Note that it deals from the set `⍳B`, so it's dependent on your `⎕IO` setting:"
   ]
  },
  {
   "cell_type": "code",
   "execution_count": 37,
   "id": "254c1004",
   "metadata": {},
   "outputs": [
    {
     "data": {
      "text/html": [
       "<span style=\"white-space:pre; font-family: monospace\">6 4 7 1 0 9 2 5 8 3\n",
       "</span>"
      ]
     },
     "execution_count": 37,
     "metadata": {},
     "output_type": "execute_result"
    }
   ],
   "source": [
    "⎕IO←0\n",
    "10?10      ⍝ Now we should get 0-9\n",
    "⎕IO←1"
   ]
  },
  {
   "cell_type": "markdown",
   "id": "da9401e4",
   "metadata": {},
   "source": [
    "### Magnitude, residue `|`"
   ]
  },
  {
   "cell_type": "markdown",
   "id": "ff8d4437",
   "metadata": {},
   "source": [
    "Monadic `|` is [magnitude](http://help.dyalog.com/latest/index.htm#Language/Primitive%20Functions/Magnitude.htm), also called the absolute value, $|x|$: "
   ]
  },
  {
   "cell_type": "code",
   "execution_count": 39,
   "id": "bf6a9fa1",
   "metadata": {},
   "outputs": [
    {
     "data": {
      "text/html": [
       "<span style=\"white-space:pre; font-family: monospace\">97\n",
       "</span>"
      ]
     },
     "execution_count": 39,
     "metadata": {},
     "output_type": "execute_result"
    },
    {
     "data": {
      "text/html": [
       "<span style=\"white-space:pre; font-family: monospace\">3 5 7 8 7 2\n",
       "</span>"
      ]
     },
     "execution_count": 39,
     "metadata": {},
     "output_type": "execute_result"
    }
   ],
   "source": [
    "|¯97\n",
    "|3 5 ¯7 ¯8 7 ¯2"
   ]
  },
  {
   "cell_type": "markdown",
   "id": "7a85e282",
   "metadata": {},
   "source": [
    "Dyadic `A|B` is [residue](http://help.dyalog.com/latest/index.htm#Language/Primitive%20Functions/Residue.htm), also known as the _division remainder_ (\"mod\") when `B` is divided by `A`. Note the reversed order of arguments. \"normal\" mod is `|⍨`. "
   ]
  },
  {
   "cell_type": "code",
   "execution_count": 41,
   "id": "37e173a4",
   "metadata": {},
   "outputs": [
    {
     "data": {
      "text/html": [
       "<span style=\"white-space:pre; font-family: monospace\">1 0 1 0 1 0 1 0 1 0\n",
       "</span>"
      ]
     },
     "execution_count": 41,
     "metadata": {},
     "output_type": "execute_result"
    }
   ],
   "source": [
    "2|⍳10     ⍝ odd numbers in 1-10"
   ]
  },
  {
   "cell_type": "markdown",
   "id": "228b10c9",
   "metadata": {},
   "source": [
    "### Ceiling, maximum `⌈`"
   ]
  },
  {
   "cell_type": "markdown",
   "id": "7ed2540a",
   "metadata": {},
   "source": [
    "Monadic `⌈` is [ceiling](http://help.dyalog.com/latest/index.htm#Language/Primitive%20Functions/Ceiling.htm), $⌈x⌉$, "
   ]
  },
  {
   "cell_type": "code",
   "execution_count": 42,
   "id": "3aed84cb",
   "metadata": {},
   "outputs": [
    {
     "data": {
      "text/html": [
       "<span style=\"white-space:pre; font-family: monospace\">4\n",
       "</span>"
      ]
     },
     "execution_count": 42,
     "metadata": {},
     "output_type": "execute_result"
    }
   ],
   "source": [
    "⌈3.14159256"
   ]
  },
  {
   "cell_type": "markdown",
   "id": "380f183f",
   "metadata": {},
   "source": [
    "Dyadic `A⌈B` is [maximum](http://help.dyalog.com/latest/index.htm#Language/Primitive%20Functions/Maximum.htm): "
   ]
  },
  {
   "cell_type": "code",
   "execution_count": 43,
   "id": "195eb8a0",
   "metadata": {},
   "outputs": [
    {
     "data": {
      "text/html": [
       "<span style=\"white-space:pre; font-family: monospace\">23\n",
       "</span>"
      ]
     },
     "execution_count": 43,
     "metadata": {},
     "output_type": "execute_result"
    }
   ],
   "source": [
    "15⌈23"
   ]
  },
  {
   "cell_type": "markdown",
   "id": "6e3416fb",
   "metadata": {},
   "source": [
    "### Floor, minimum `⌊`"
   ]
  },
  {
   "cell_type": "markdown",
   "id": "a8fb9226",
   "metadata": {},
   "source": [
    "Monadic `⌊` is [floor](http://help.dyalog.com/latest/index.htm#Language/Primitive%20Functions/Floor.htm), and the dyadic is [minimum](http://help.dyalog.com/latest/index.htm#Language/Primitive%20Functions/Minimum.htm),"
   ]
  },
  {
   "cell_type": "code",
   "execution_count": 46,
   "id": "348a1c8b",
   "metadata": {},
   "outputs": [
    {
     "data": {
      "text/html": [
       "<span style=\"white-space:pre; font-family: monospace\">3\n",
       "</span>"
      ]
     },
     "execution_count": 46,
     "metadata": {},
     "output_type": "execute_result"
    },
    {
     "data": {
      "text/html": [
       "<span style=\"white-space:pre; font-family: monospace\">15\n",
       "</span>"
      ]
     },
     "execution_count": 46,
     "metadata": {},
     "output_type": "execute_result"
    }
   ],
   "source": [
    "⌊3.14159256\n",
    "15⌊23"
   ]
  },
  {
   "cell_type": "markdown",
   "id": "7ef16695",
   "metadata": {},
   "source": [
    "### Decode `⊥`"
   ]
  },
  {
   "cell_type": "markdown",
   "id": "947d7036",
   "metadata": {},
   "source": [
    "`A⊥B` is [decode](http://help.dyalog.com/latest/index.htm#Language/Primitive%20Functions/Decode.htm). It evaluates digits `B` as (mixed) base `A`, e.g,"
   ]
  },
  {
   "cell_type": "code",
   "execution_count": 47,
   "id": "735133c2",
   "metadata": {},
   "outputs": [
    {
     "data": {
      "text/html": [
       "<span style=\"white-space:pre; font-family: monospace\">42\n",
       "</span>"
      ]
     },
     "execution_count": 47,
     "metadata": {},
     "output_type": "execute_result"
    }
   ],
   "source": [
    "2⊥1 0 1 0 1 0   ⍝ decode binary to decimal"
   ]
  },
  {
   "cell_type": "markdown",
   "id": "894aef8a",
   "metadata": {},
   "source": [
    "### Encode `⊤`"
   ]
  },
  {
   "cell_type": "markdown",
   "id": "7cab3bff",
   "metadata": {},
   "source": [
    "`A⊤B`, or [encode](http://help.dyalog.com/latest/index.htm#Language/Primitive%20Functions/Encode.htm), is the inverse of `⊥`, turning `B` into a list(s) of digits in (mixed) base `A`, "
   ]
  },
  {
   "cell_type": "code",
   "execution_count": 48,
   "id": "0ca0227f",
   "metadata": {},
   "outputs": [
    {
     "data": {
      "text/html": [
       "<span style=\"white-space:pre; font-family: monospace\">2 46 40\n",
       "</span>"
      ]
     },
     "execution_count": 48,
     "metadata": {},
     "output_type": "execute_result"
    }
   ],
   "source": [
    "24 60 60⊤10000  ⍝ seconds to hour, minutes, seconds"
   ]
  },
  {
   "cell_type": "markdown",
   "id": "f0db328e",
   "metadata": {},
   "source": [
    "Ten thousand seconds is the same as 2 hours, 46 minutes and 40 seconds. "
   ]
  },
  {
   "cell_type": "markdown",
   "id": "a5cb5eff",
   "metadata": {},
   "source": [
    "### Left, right `⊣⊢`"
   ]
  },
  {
   "cell_type": "markdown",
   "id": "bf7ddca0",
   "metadata": {},
   "source": [
    "Dyadic `⊣` is the [left](http://help.dyalog.com/latest/index.htm#Language/Primitive%20Functions/Left.htm) argument unmodified. Monadically, it just returns its sole argument. Dyadic `⊢` is the [right](http://help.dyalog.com/latest/index.htm#Language/Primitive%20Functions/Right.htm) argument unmodified. Monadically, it just returns its sole argument. "
   ]
  },
  {
   "cell_type": "markdown",
   "id": "1f52afb8",
   "metadata": {},
   "source": [
    "## `=≤<>≥≡≢`"
   ]
  },
  {
   "cell_type": "markdown",
   "id": "eed689d4",
   "metadata": {},
   "source": [
    "### Comparisons `=≤<>≥≡≢`"
   ]
  },
  {
   "cell_type": "markdown",
   "id": "90fd6f60",
   "metadata": {},
   "source": [
    "`=` is comparison (not assignment!) and penetrates all structures, giving a single Boolean (0 or 1) per leaf element. `≠` is the negation of that.\n",
    "\n",
    "`≤<>≥` work as you'd expect, again penetrating all structure.\n",
    "\n",
    "`A≡B` is [match](http://help.dyalog.com/latest/index.htm#Language/Primitive%20Functions/Match.htm). It compares the entire arrays `A` and `B` in all respects, even the invisible prototype: "
   ]
  },
  {
   "cell_type": "code",
   "execution_count": 50,
   "id": "63bd3237",
   "metadata": {},
   "outputs": [
    {
     "data": {
      "text/html": [
       "<span style=\"white-space:pre; font-family: monospace\">0\n",
       "</span>"
      ]
     },
     "execution_count": 50,
     "metadata": {},
     "output_type": "execute_result"
    }
   ],
   "source": [
    "''≡⍬   ⍝ does the empty char vector match the empty numeric vector?"
   ]
  },
  {
   "cell_type": "markdown",
   "id": "a618f0fa",
   "metadata": {},
   "source": [
    "`A≢B` is [not match](http://help.dyalog.com/latest/index.htm#Language/Primitive%20Functions/Not%20Match.htm), the negation of `A≡B`."
   ]
  },
  {
   "cell_type": "markdown",
   "id": "1a74bb58",
   "metadata": {},
   "source": [
    "### Depth, tally `≡≢`"
   ]
  },
  {
   "cell_type": "markdown",
   "id": "2340b337",
   "metadata": {},
   "source": [
    "Monadic `≡B` gives the [depth](http://help.dyalog.com/latest/index.htm#Language/Primitive%20Functions/Depth.htm) of `B`, which is the amount of nesting. A simple scalar is 0, a vector is 1, a vector of vectors is 2, etc. If the amount of nesting is uneven throughout the array, the result will be negative, and indicate the maximum depth.\n",
    "\n",
    "`≢B` is the [tally](http://help.dyalog.com/latest/index.htm#Language/Primitive%20Functions/Tally.htm) of `B`, i.e. how many major cells `B` has. For a scalar, that's 1. For a vector, it is the number of elements, for a matrix it is the number of rows, for a 3D array it is the number of layers, and so on. "
   ]
  },
  {
   "cell_type": "code",
   "execution_count": 52,
   "id": "d77ad9bb",
   "metadata": {},
   "outputs": [
    {
     "data": {
      "text/html": [
       "<span style=\"white-space:pre; font-family: monospace\">¯3\n",
       "</span>"
      ]
     },
     "execution_count": 52,
     "metadata": {},
     "output_type": "execute_result"
    },
    {
     "data": {
      "text/html": [
       "<span style=\"white-space:pre; font-family: monospace\">1\n",
       "</span>"
      ]
     },
     "execution_count": 52,
     "metadata": {},
     "output_type": "execute_result"
    },
    {
     "data": {
      "text/html": [
       "<span style=\"white-space:pre; font-family: monospace\">3\n",
       "</span>"
      ]
     },
     "execution_count": 52,
     "metadata": {},
     "output_type": "execute_result"
    }
   ],
   "source": [
    "≡(1 2 (3 4 5 (6 7 8)))  ⍝ unevenly nested vector\n",
    "≢1                      ⍝ scalars tally to 1\n",
    "≢3 2⍴⍳6                 ⍝ matrix tally is the number of rows"
   ]
  },
  {
   "cell_type": "markdown",
   "id": "2602163a",
   "metadata": {},
   "source": [
    "## `∨∧⍱⍲↑↓`\n",
    "### OR, GCD `∨`"
   ]
  },
  {
   "cell_type": "markdown",
   "id": "218cbdb4",
   "metadata": {},
   "source": [
    "`∨` is logical [OR](http://help.dyalog.com/latest/index.htm#Language/Primitive%20Functions/Or%20Greatest%20Common%20Divisor.htm), and it is Greatest Common Divisor for for other numbers (which happens to fit with _OR_ for 0s and 1s):"
   ]
  },
  {
   "cell_type": "code",
   "execution_count": 69,
   "id": "53ee8dcc",
   "metadata": {},
   "outputs": [
    {
     "data": {
      "text/html": [
       "<span style=\"white-space:pre; font-family: monospace\">0 1 1 1\n",
       "</span>"
      ]
     },
     "execution_count": 69,
     "metadata": {},
     "output_type": "execute_result"
    },
    {
     "data": {
      "text/html": [
       "<span style=\"white-space:pre; font-family: monospace\">5 1 2 7\n",
       "</span>"
      ]
     },
     "execution_count": 69,
     "metadata": {},
     "output_type": "execute_result"
    }
   ],
   "source": [
    "0 1 0 1 ∨ 0 0 1 1    ⍝ logical OR\n",
    "15 1 2 7 ∨ 35 1 4 0  ⍝ GCD"
   ]
  },
  {
   "cell_type": "markdown",
   "id": "39f0a186",
   "metadata": {},
   "source": [
    "### AND, LCD `∧`"
   ]
  },
  {
   "cell_type": "markdown",
   "id": "c5f72821",
   "metadata": {},
   "source": [
    "`∧` is logical [AND](http://help.dyalog.com/latest/index.htm#Language/Primitive%20Functions/And%20Lowest%20Common%20Multiple.htm), and it is Lowest Common Multiple for for other numbers (which happens to fit with _AND_ for 0s and 1s):"
   ]
  },
  {
   "cell_type": "code",
   "execution_count": 70,
   "id": "da93865d",
   "metadata": {},
   "outputs": [
    {
     "data": {
      "text/html": [
       "<span style=\"white-space:pre; font-family: monospace\">0 0 0 1\n",
       "</span>"
      ]
     },
     "execution_count": 70,
     "metadata": {},
     "output_type": "execute_result"
    },
    {
     "data": {
      "text/html": [
       "<span style=\"white-space:pre; font-family: monospace\">105 1 4 0\n",
       "</span>"
      ]
     },
     "execution_count": 70,
     "metadata": {},
     "output_type": "execute_result"
    }
   ],
   "source": [
    "0 1 0 1 ∧ 0 0 1 1     ⍝ logical AND\n",
    "15 1 2 7 ∧ 35 1 4 0   ⍝ LCM"
   ]
  },
  {
   "cell_type": "markdown",
   "id": "cfe6d8f1",
   "metadata": {},
   "source": [
    "### NOR, NAND `⍱⍲`"
   ]
  },
  {
   "cell_type": "markdown",
   "id": "2f3411c6",
   "metadata": {},
   "source": [
    "`⍱` is [NOR](http://help.dyalog.com/latest/index.htm#Language/Primitive%20Functions/Nor.htm), and `⍲` is [NAND](http://help.dyalog.com/latest/index.htm#Language/Primitive%20Functions/Nand.htm). They only work on Booleans (arrays with nothing but 1s and 0s). Note that you can use `≠` as _XOR_ and `=` as _XNOR_ (and you can use `≤` as logical implication. Similarly for the other comparisons.) "
   ]
  },
  {
   "cell_type": "code",
   "execution_count": 57,
   "id": "5f12e40b",
   "metadata": {},
   "outputs": [
    {
     "data": {
      "text/html": [
       "<span style=\"white-space:pre; font-family: monospace\">1 0 0 0\n",
       "</span>"
      ]
     },
     "execution_count": 57,
     "metadata": {},
     "output_type": "execute_result"
    },
    {
     "data": {
      "text/html": [
       "<span style=\"white-space:pre; font-family: monospace\">0 1 1 0\n",
       "</span>"
      ]
     },
     "execution_count": 57,
     "metadata": {},
     "output_type": "execute_result"
    },
    {
     "data": {
      "text/html": [
       "<span style=\"white-space:pre; font-family: monospace\">1 0 0 1\n",
       "</span>"
      ]
     },
     "execution_count": 57,
     "metadata": {},
     "output_type": "execute_result"
    },
    {
     "data": {
      "text/html": [
       "<span style=\"white-space:pre; font-family: monospace\">1 1 1 0\n",
       "</span>"
      ]
     },
     "execution_count": 57,
     "metadata": {},
     "output_type": "execute_result"
    }
   ],
   "source": [
    "0 1 0 1 ⍱ 0 0 1 1 ⍝ NOR\n",
    "0 1 0 1 ≠ 0 0 1 1 ⍝ XOR\n",
    "0 1 0 1 = 0 0 1 1 ⍝ XNOR\n",
    "0 1 0 1 ⍲ 0 0 1 1 ⍝ NAND"
   ]
  },
  {
   "cell_type": "markdown",
   "id": "c2017872",
   "metadata": {},
   "source": [
    "### Take `↑`"
   ]
  },
  {
   "cell_type": "markdown",
   "id": "a86cbb14",
   "metadata": {},
   "source": [
    "`A↑B` [takes](http://help.dyalog.com/latest/index.htm#Language/Primitive%20Functions/Take.htm) from `B`. If `A` is a scalar/one-element-vector, it takes major cells, if it has two two elements, the first element is the number of major cells, and the second the number of semi-major cells, etc.: "
   ]
  },
  {
   "cell_type": "code",
   "execution_count": 59,
   "id": "66de58b4",
   "metadata": {},
   "outputs": [
    {
     "data": {
      "text/html": [
       "<span style=\"white-space:pre; font-family: monospace\">ABCD\n",
       "EFGH\n",
       "IJKL\n",
       "</span>"
      ]
     },
     "execution_count": 59,
     "metadata": {},
     "output_type": "execute_result"
    },
    {
     "data": {
      "text/html": [
       "<span style=\"white-space:pre; font-family: monospace\">ABCD\n",
       "EFGH\n",
       "</span>"
      ]
     },
     "execution_count": 59,
     "metadata": {},
     "output_type": "execute_result"
    },
    {
     "data": {
      "text/html": [
       "<span style=\"white-space:pre; font-family: monospace\">ABC\n",
       "EFG\n",
       "</span>"
      ]
     },
     "execution_count": 59,
     "metadata": {},
     "output_type": "execute_result"
    }
   ],
   "source": [
    "3 4⍴⎕A            ⍝ original array\n",
    "2↑3 4⍴⎕A          ⍝ take two major cells (a.k.a rows)\n",
    "2 3↑3 4⍴⎕A        ⍝ two major, and three semi-major cells"
   ]
  },
  {
   "cell_type": "markdown",
   "id": "1f404cc9",
   "metadata": {},
   "source": [
    "If you take more than there is, `↑` will pad with 0s for numeric arguments, and spaces for character arguments: "
   ]
  },
  {
   "cell_type": "code",
   "execution_count": 60,
   "id": "2294140b",
   "metadata": {},
   "outputs": [
    {
     "data": {
      "text/html": [
       "<span style=\"white-space:pre; font-family: monospace\">3 1 4 0 0 0\n",
       "</span>"
      ]
     },
     "execution_count": 60,
     "metadata": {},
     "output_type": "execute_result"
    }
   ],
   "source": [
    "6↑3 1 4"
   ]
  },
  {
   "cell_type": "markdown",
   "id": "014bd5f0",
   "metadata": {},
   "source": [
    "You may also \"overtake\" a scalar to any number of dimensions: "
   ]
  },
  {
   "cell_type": "code",
   "execution_count": 61,
   "id": "afd2f580",
   "metadata": {},
   "outputs": [
    {
     "data": {
      "text/html": [
       "<span style=\"white-space:pre; font-family: monospace\">4 0 0\n",
       "0 0 0\n",
       "</span>"
      ]
     },
     "execution_count": 61,
     "metadata": {},
     "output_type": "execute_result"
    }
   ],
   "source": [
    "2 3↑4"
   ]
  },
  {
   "cell_type": "markdown",
   "id": "1577adce",
   "metadata": {},
   "source": [
    "Negative numbers indicate taking from the reverse:"
   ]
  },
  {
   "cell_type": "code",
   "execution_count": 63,
   "id": "739cab6e",
   "metadata": {},
   "outputs": [
    {
     "data": {
      "text/html": [
       "<span style=\"white-space:pre; font-family: monospace\">0 0 0 3 1 4\n",
       "</span>"
      ]
     },
     "execution_count": 63,
     "metadata": {},
     "output_type": "execute_result"
    },
    {
     "data": {
      "text/html": [
       "<span style=\"white-space:pre; font-family: monospace\">0 0 0\n",
       "0 0 4\n",
       "</span>"
      ]
     },
     "execution_count": 63,
     "metadata": {},
     "output_type": "execute_result"
    }
   ],
   "source": [
    "¯6↑3 1 4\n",
    "¯2 ¯3↑4"
   ]
  },
  {
   "cell_type": "code",
   "execution_count": 64,
   "id": "ac014a85",
   "metadata": {},
   "outputs": [
    {
     "data": {
      "text/html": [
       "<span style=\"white-space:pre; font-family: monospace\">ABCD\n",
       "EFGH\n",
       "IJKL\n",
       "</span>"
      ]
     },
     "execution_count": 64,
     "metadata": {},
     "output_type": "execute_result"
    },
    {
     "data": {
      "text/html": [
       "<span style=\"white-space:pre; font-family: monospace\">GH\n",
       "KL\n",
       "</span>"
      ]
     },
     "execution_count": 64,
     "metadata": {},
     "output_type": "execute_result"
    }
   ],
   "source": [
    "3 4⍴⎕A\n",
    "¯2 ¯2↑3 4⍴⎕A "
   ]
  },
  {
   "cell_type": "markdown",
   "id": "06e53a07",
   "metadata": {},
   "source": [
    "### Mix `↑`"
   ]
  },
  {
   "cell_type": "markdown",
   "id": "079ce435",
   "metadata": {},
   "source": [
    "Monadic `↑` is [mix](http://help.dyalog.com/latest/index.htm#Language/Primitive%20Functions/Mix.htm). It trades one level of depth (nesting) into one level of rank."
   ]
  },
  {
   "cell_type": "code",
   "execution_count": 65,
   "id": "17080df3",
   "metadata": {},
   "outputs": [
    {
     "data": {
      "text/html": [
       "<span style=\"white-space:pre; font-family: monospace\">1 2 3\n",
       "4 5 6\n",
       "</span>"
      ]
     },
     "execution_count": 65,
     "metadata": {},
     "output_type": "execute_result"
    }
   ],
   "source": [
    "↑(1 2 3)(4 5 6)"
   ]
  },
  {
   "cell_type": "markdown",
   "id": "f63381ed",
   "metadata": {},
   "source": [
    "Because rank enforces non-raggedness, monadic `↑` will pad with the prototype element (0 or space) just like dyadic `↑`: "
   ]
  },
  {
   "cell_type": "code",
   "execution_count": 66,
   "id": "c4e44598",
   "metadata": {},
   "outputs": [
    {
     "data": {
      "text/html": [
       "<span style=\"white-space:pre; font-family: monospace\">1 2 3\n",
       "4 5 0\n",
       "</span>"
      ]
     },
     "execution_count": 66,
     "metadata": {},
     "output_type": "execute_result"
    }
   ],
   "source": [
    "↑(1 2 3)(4 5)"
   ]
  },
  {
   "cell_type": "markdown",
   "id": "604a8cf2",
   "metadata": {},
   "source": [
    "### Drop `↓`"
   ]
  },
  {
   "cell_type": "markdown",
   "id": "7a00b1f3",
   "metadata": {},
   "source": [
    "Dyadic `↓` is just like dyadic `↑` except it [drops](http://help.dyalog.com/latest/index.htm#Language/Primitive%20Functions/Drop.htm) instead of taking:"
   ]
  },
  {
   "cell_type": "code",
   "execution_count": 71,
   "id": "d7b8c3e6",
   "metadata": {},
   "outputs": [
    {
     "data": {
      "text/html": [
       "<span style=\"white-space:pre; font-family: monospace\">ABCD\n",
       "EFGH\n",
       "IJKL\n",
       "</span>"
      ]
     },
     "execution_count": 71,
     "metadata": {},
     "output_type": "execute_result"
    },
    {
     "data": {
      "text/html": [
       "<span style=\"white-space:pre; font-family: monospace\">EFGH\n",
       "IJKL\n",
       "</span>"
      ]
     },
     "execution_count": 71,
     "metadata": {},
     "output_type": "execute_result"
    },
    {
     "data": {
      "text/html": [
       "<span style=\"white-space:pre; font-family: monospace\">┌→──┐\n",
       "↓JKL│\n",
       "└───┘\n",
       "</span>"
      ]
     },
     "execution_count": 71,
     "metadata": {},
     "output_type": "execute_result"
    }
   ],
   "source": [
    "3 4⍴⎕A \n",
    "1↓3 4⍴⎕A\n",
    "]display 2 1↓3 4⍴⎕A"
   ]
  },
  {
   "cell_type": "markdown",
   "id": "a19519be",
   "metadata": {},
   "source": [
    "Note that the last result is still a matrix, it just only has one row. \n",
    "\n",
    "### Split `↓`\n",
    "\n",
    "Monadic `↓` is [split](http://help.dyalog.com/latest/index.htm#Language/Primitive%20Functions/Split.htm). It is the opposite of dyadic `↓` in that it lowers the rank and increases the depth: "
   ]
  },
  {
   "cell_type": "code",
   "execution_count": 68,
   "id": "995c10a7",
   "metadata": {},
   "outputs": [
    {
     "data": {
      "text/html": [
       "<span style=\"white-space:pre; font-family: monospace\">┌────┬────┬────┐\n",
       "│ABCD│EFGH│IJKL│\n",
       "└────┴────┴────┘\n",
       "</span>"
      ]
     },
     "execution_count": 68,
     "metadata": {},
     "output_type": "execute_result"
    }
   ],
   "source": [
    "↓3 4⍴⎕A"
   ]
  },
  {
   "cell_type": "markdown",
   "id": "bca2873e",
   "metadata": {},
   "source": [
    "## `⊂⊃⊆⌷⍋⍒` \n",
    "### Enclose `⊂` \n",
    "\n",
    "Monadic `⊂` [encloses](http://help.dyalog.com/latest/index.htm#Language/Primitive%20Functions/Enclose.htm) its argument. It packages an arbitrary structure into a scalar. Simple scalars cannot be enclosed. We can turn on boxed output with the `]box` user command to illustrate APL's array structure in more detail:"
   ]
  },
  {
   "cell_type": "code",
   "execution_count": 45,
   "id": "baf8c718",
   "metadata": {},
   "outputs": [
    {
     "data": {
      "text/html": [
       "<span style=\"white-space:pre; font-family: monospace\">┌→────────────────┐\n",
       "│Was ON -style=max│\n",
       "└─────────────────┘\n",
       "</span>"
      ]
     },
     "execution_count": 45,
     "metadata": {},
     "output_type": "execute_result"
    }
   ],
   "source": [
    "]box on -s=max"
   ]
  },
  {
   "cell_type": "code",
   "execution_count": 46,
   "id": "e0853199",
   "metadata": {},
   "outputs": [
    {
     "data": {
      "text/html": [
       "<span style=\"white-space:pre; font-family: monospace\">┌→──────┐\n",
       "│1 2 3 4│\n",
       "└~──────┘\n",
       "</span>"
      ]
     },
     "execution_count": 46,
     "metadata": {},
     "output_type": "execute_result"
    },
    {
     "data": {
      "text/html": [
       "<span style=\"white-space:pre; font-family: monospace\">┌───────────┐\n",
       "│ ┌→──────┐ │\n",
       "│ │1 2 3 4│ │\n",
       "│ └~──────┘ │\n",
       "└∊──────────┘\n",
       "</span>"
      ]
     },
     "execution_count": 46,
     "metadata": {},
     "output_type": "execute_result"
    }
   ],
   "source": [
    "v←1 2 3 4\n",
    "v\n",
    "⊂v"
   ]
  },
  {
   "cell_type": "markdown",
   "id": "8c7a7509",
   "metadata": {},
   "source": [
    "The little epsilon `∊` in the bottom of the outer box indicates the enclosure."
   ]
  },
  {
   "cell_type": "markdown",
   "id": "8d097a40",
   "metadata": {},
   "source": [
    "If we tally an enclosed structure, it should come out as 1:"
   ]
  },
  {
   "cell_type": "code",
   "execution_count": 12,
   "id": "f8ea19b9",
   "metadata": {},
   "outputs": [
    {
     "data": {
      "text/html": [
       "<span style=\"white-space:pre; font-family: monospace\"> \n",
       "1\n",
       " \n",
       "</span>"
      ]
     },
     "execution_count": 12,
     "metadata": {},
     "output_type": "execute_result"
    }
   ],
   "source": [
    "≢⊂v   ⍝ an enclosed vector is a scalar"
   ]
  },
  {
   "cell_type": "markdown",
   "id": "18462bfa",
   "metadata": {},
   "source": [
    "Here's another example:"
   ]
  },
  {
   "cell_type": "code",
   "execution_count": 15,
   "id": "5066c95b",
   "metadata": {},
   "outputs": [
    {
     "data": {
      "text/html": [
       "<span style=\"white-space:pre; font-family: monospace\">┌→─────┐\n",
       "↓ABCABC│\n",
       "│DEFDEF│\n",
       "│GHIGHI│\n",
       "└──────┘\n",
       "</span>"
      ]
     },
     "execution_count": 15,
     "metadata": {},
     "output_type": "execute_result"
    },
    {
     "data": {
      "text/html": [
       "<span style=\"white-space:pre; font-family: monospace\">┌→────────────┐\n",
       "│ ┌→──┐ ┌→──┐ │\n",
       "│ ↓ABC│ ↓ABC│ │\n",
       "│ │DEF│ │DEF│ │\n",
       "│ │GHI│ │GHI│ │\n",
       "│ └───┘ └───┘ │\n",
       "└∊────────────┘\n",
       "</span>"
      ]
     },
     "execution_count": 15,
     "metadata": {},
     "output_type": "execute_result"
    }
   ],
   "source": [
    "(3 3⍴⎕A),(3 3⍴⎕A)   ⍝ concatenation of two matrices. \n",
    "(⊂3 3⍴⎕A),(⊂3 3⍴⎕A) ⍝ concatenation of two enclosed matrices"
   ]
  },
  {
   "cell_type": "markdown",
   "id": "3af64f53",
   "metadata": {},
   "source": [
    "The first gave us a matrix of shape 3 6, the second gave a vector of shape 2. "
   ]
  },
  {
   "cell_type": "code",
   "execution_count": 16,
   "id": "faa2b55f",
   "metadata": {},
   "outputs": [
    {
     "data": {
      "text/html": [
       "<span style=\"white-space:pre; font-family: monospace\">┌→────────────┐\n",
       "↓       ┌→──┐ │\n",
       "│ A B C ↓ABC│ │\n",
       "│ - - - │DEF│ │\n",
       "│       │GHI│ │\n",
       "│       └───┘ │\n",
       "│       ┌→──┐ │\n",
       "│ D E F ↓ABC│ │\n",
       "│ - - - │DEF│ │\n",
       "│       │GHI│ │\n",
       "│       └───┘ │\n",
       "│       ┌→──┐ │\n",
       "│ G H I ↓ABC│ │\n",
       "│ - - - │DEF│ │\n",
       "│       │GHI│ │\n",
       "│       └───┘ │\n",
       "└∊────────────┘\n",
       "</span>"
      ]
     },
     "execution_count": 16,
     "metadata": {},
     "output_type": "execute_result"
    }
   ],
   "source": [
    "(3 3⍴⎕A),(⊂3 3⍴⎕A) ⍝ concatenation of a matrix and an enclosed matrix "
   ]
  },
  {
   "cell_type": "markdown",
   "id": "474c9ef3",
   "metadata": {},
   "source": [
    "Concatenating a scalar to a matrix uses the scalar for each row. Here the entire right-hand matrix was treated as a scalar because it was enclosed."
   ]
  },
  {
   "cell_type": "code",
   "execution_count": 18,
   "id": "fb26f876",
   "metadata": {},
   "outputs": [
    {
     "data": {
      "text/html": [
       "<span style=\"white-space:pre; font-family: monospace\">┌→───┐\n",
       "↓ABCx│\n",
       "│DEFx│\n",
       "│GHIx│\n",
       "└────┘\n",
       "</span>"
      ]
     },
     "execution_count": 18,
     "metadata": {},
     "output_type": "execute_result"
    }
   ],
   "source": [
    "(3 3⍴⎕A),'x'"
   ]
  },
  {
   "cell_type": "markdown",
   "id": "6501e2ff",
   "metadata": {},
   "source": [
    "So you can (and should) use `⊂` to tell APL how you want the scalar extension (auto-vectorisation) to be applied.\n",
    "\n",
    "`⊂` is also good for treating text vectors as strings (i.e. in one piece): "
   ]
  },
  {
   "cell_type": "code",
   "execution_count": 19,
   "id": "fecfa6bb",
   "metadata": {},
   "outputs": [
    {
     "data": {
      "text/html": [
       "<span style=\"white-space:pre; font-family: monospace\">┌→────┐\n",
       "│4 4 4│\n",
       "└~────┘\n",
       "</span>"
      ]
     },
     "execution_count": 19,
     "metadata": {},
     "output_type": "execute_result"
    }
   ],
   "source": [
    "'aaa' 'bbb' 'ccc' ⍳ 'aaa'"
   ]
  },
  {
   "cell_type": "markdown",
   "id": "d8214ec1",
   "metadata": {},
   "source": [
    "This says that each one of the three right-side 'a's is found in position 4 (i.e. are not) in the left-side list."
   ]
  },
  {
   "cell_type": "code",
   "execution_count": 20,
   "id": "b200307c",
   "metadata": {},
   "outputs": [
    {
     "data": {
      "text/html": [
       "<span style=\"white-space:pre; font-family: monospace\"> \n",
       "1\n",
       " \n",
       "</span>"
      ]
     },
     "execution_count": 20,
     "metadata": {},
     "output_type": "execute_result"
    }
   ],
   "source": [
    "'aaa' 'bbb' 'ccc' ⍳ ⊂'aaa'"
   ]
  },
  {
   "cell_type": "markdown",
   "id": "81e1db99",
   "metadata": {},
   "source": [
    "This says that 'aaa' is the first string.\n",
    "\n",
    "### Partitioned enclose `⊂`\n",
    "\n",
    "Dyadic `⊂` is [partitioned enclose](http://help.dyalog.com/latest/index.htm#Language/Primitive%20Functions/Partitioned%20Enclose.htm). It encloses (hence sharing the symbol) pieces of the right argument as indicated by the left argument. Best to use an example: "
   ]
  },
  {
   "cell_type": "code",
   "execution_count": 21,
   "id": "cf427e4c",
   "metadata": {},
   "outputs": [
    {
     "data": {
      "text/html": [
       "<span style=\"white-space:pre; font-family: monospace\">┌→───────────────────────┐\n",
       "│ ┌→──┐ ┌→─┐ ┌→───┐ ┌→─┐ │\n",
       "│ │Hel│ │lo│ │ Wor│ │ld│ │\n",
       "│ └───┘ └──┘ └────┘ └──┘ │\n",
       "└∊───────────────────────┘\n",
       "</span>"
      ]
     },
     "execution_count": 21,
     "metadata": {},
     "output_type": "execute_result"
    }
   ],
   "source": [
    "1 0 0 1 0 1 0 0 0 1 0⊂'Hello World' "
   ]
  },
  {
   "cell_type": "markdown",
   "id": "f3f355eb",
   "metadata": {},
   "source": [
    "This works on higher rank arrays, too. It partitions along the last axis:"
   ]
  },
  {
   "cell_type": "code",
   "execution_count": 22,
   "id": "d3282b7a",
   "metadata": {},
   "outputs": [
    {
     "data": {
      "text/html": [
       "<span style=\"white-space:pre; font-family: monospace\">┌→───────────────────────────────┐\n",
       "│ ┌→─┐ ┌→──┐ ┌→─┐ ┌→───┐ ┌→┐ ┌→┐ │\n",
       "│ ↓AB│ ↓CDE│ ↓FG│ ↓HIJK│ ↓L│ ↓M│ │\n",
       "│ │NO│ │PQR│ │ST│ │UVWX│ │Y│ │Z│ │\n",
       "│ └──┘ └───┘ └──┘ └────┘ └─┘ └─┘ │\n",
       "└∊───────────────────────────────┘\n",
       "</span>"
      ]
     },
     "execution_count": 22,
     "metadata": {},
     "output_type": "execute_result"
    }
   ],
   "source": [
    "1 0 1 0 0 1 0 1 0 0 0 1 1 ⊂ 2 13⍴⎕A"
   ]
  },
  {
   "cell_type": "markdown",
   "id": "6650a963",
   "metadata": {},
   "source": [
    "For vectors, `1⊂` is the same as `,¨` which may be useful in trains where you want to have a left argument.\n",
    "For higher rank arrays, `1⊂` cuts into columns:"
   ]
  },
  {
   "cell_type": "code",
   "execution_count": 23,
   "id": "c756bdfa",
   "metadata": {},
   "outputs": [
    {
     "data": {
      "text/html": [
       "<span style=\"white-space:pre; font-family: monospace\">┌→────────────────────────────────────────────────────┐\n",
       "│ ┌→┐ ┌→┐ ┌→┐ ┌→┐ ┌→┐ ┌→┐ ┌→┐ ┌→┐ ┌→┐ ┌→┐ ┌→┐ ┌→┐ ┌→┐ │\n",
       "│ ↓A│ ↓B│ ↓C│ ↓D│ ↓E│ ↓F│ ↓G│ ↓H│ ↓I│ ↓J│ ↓K│ ↓L│ ↓M│ │\n",
       "│ │N│ │O│ │P│ │Q│ │R│ │S│ │T│ │U│ │V│ │W│ │X│ │Y│ │Z│ │\n",
       "│ └─┘ └─┘ └─┘ └─┘ └─┘ └─┘ └─┘ └─┘ └─┘ └─┘ └─┘ └─┘ └─┘ │\n",
       "└∊────────────────────────────────────────────────────┘\n",
       "</span>"
      ]
     },
     "execution_count": 23,
     "metadata": {},
     "output_type": "execute_result"
    }
   ],
   "source": [
    "1 ⊂ 2 13⍴⎕A"
   ]
  },
  {
   "cell_type": "markdown",
   "id": "3673b24a",
   "metadata": {},
   "source": [
    "You can use brackets to indicate which axis you wish to cut along: "
   ]
  },
  {
   "cell_type": "code",
   "execution_count": 25,
   "id": "d21a63fa",
   "metadata": {},
   "outputs": [
    {
     "data": {
      "text/html": [
       "<span style=\"white-space:pre; font-family: monospace\">┌→────────────────────────────────┐\n",
       "│ ┌→────────────┐ ┌→────────────┐ │\n",
       "│ ↓ABCDEFGHIJKLM│ ↓NOPQRSTUVWXYZ│ │\n",
       "│ └─────────────┘ └─────────────┘ │\n",
       "└∊────────────────────────────────┘\n",
       "</span>"
      ]
     },
     "execution_count": 25,
     "metadata": {},
     "output_type": "execute_result"
    },
    {
     "data": {
      "text/html": [
       "<span style=\"white-space:pre; font-family: monospace\">┌→──────────────────┐\n",
       "│ ┌→──┐ ┌→──┐ ┌→──┐ │\n",
       "│ ↓ABC│ ↓GHI│ ↓JKL│ │\n",
       "│ │DEF│ └───┘ └───┘ │\n",
       "│ └───┘             │\n",
       "└∊──────────────────┘\n",
       "</span>"
      ]
     },
     "execution_count": 25,
     "metadata": {},
     "output_type": "execute_result"
    }
   ],
   "source": [
    "1 ⊂[1] 2 13⍴⎕A\n",
    "1 0 1 1 ⊂[1] 4 3⍴⎕A "
   ]
  },
  {
   "cell_type": "markdown",
   "id": "6a7b0f2f",
   "metadata": {},
   "source": [
    "Note that the left argument need not be the same length as the right argument. If it's shorter, it's assumed to consist of zeros to the end:"
   ]
  },
  {
   "cell_type": "code",
   "execution_count": 53,
   "id": "f70b3baf",
   "metadata": {},
   "outputs": [
    {
     "data": {
      "text/html": [
       "<span style=\"white-space:pre; font-family: monospace\">┌→──────────────────┐\n",
       "│1 0 0 0 1 0 0 0 0 1│\n",
       "└~──────────────────┘\n",
       "</span>"
      ]
     },
     "execution_count": 53,
     "metadata": {},
     "output_type": "execute_result"
    },
    {
     "data": {
      "text/html": [
       "<span style=\"white-space:pre; font-family: monospace\">┌→───────────────────────────────────┐\n",
       "│ ┌→───┐ ┌→────┐ ┌→────────────────┐ │\n",
       "│ │ABCD│ │EFGHI│ │JKLMNOPQRSTUVWXYZ│ │\n",
       "│ └────┘ └─────┘ └─────────────────┘ │\n",
       "└∊───────────────────────────────────┘\n",
       "</span>"
      ]
     },
     "execution_count": 53,
     "metadata": {},
     "output_type": "execute_result"
    }
   ],
   "source": [
    "⍸⍣¯1⊢1 5 10        \n",
    "(⍸⍣¯1⊢1 5 10)⊂⎕A ⍝ note: left arg is length 10. right arg is length 26"
   ]
  },
  {
   "cell_type": "markdown",
   "id": "a653538f",
   "metadata": {},
   "source": [
    "Another common use of dyadic `⊂` is to split a vector into its head and tail:"
   ]
  },
  {
   "cell_type": "code",
   "execution_count": 54,
   "id": "ac216621",
   "metadata": {},
   "outputs": [
    {
     "data": {
      "text/html": [
       "<span style=\"white-space:pre; font-family: monospace\">┌→──────────────────┐\n",
       "│ ┌→┐ ┌→──────────┐ │\n",
       "│ │1│ │2 3 4 5 6 7│ │\n",
       "│ └~┘ └~──────────┘ │\n",
       "└∊──────────────────┘\n",
       "</span>"
      ]
     },
     "execution_count": 54,
     "metadata": {},
     "output_type": "execute_result"
    }
   ],
   "source": [
    "1 1⊂1 2 3 4 5 6 7"
   ]
  },
  {
   "cell_type": "markdown",
   "id": "2fb4602f",
   "metadata": {},
   "source": [
    "### Disclose `⊃`\n",
    "\n",
    "Monadic `⊃` is [disclose](http://help.dyalog.com/latest/index.htm#Language/Primitive%20Functions/Disclose.htm), which is pretty much the inverse of monadic `⊂`. It discloses a scalar (again, if possible; a simple scalar remains the same). If you use it on a high rank array (i.e. not enclosed), it will give you the first (top left) element: "
   ]
  },
  {
   "cell_type": "code",
   "execution_count": 27,
   "id": "529ba0c7",
   "metadata": {},
   "outputs": [
    {
     "data": {
      "text/html": [
       "<span style=\"white-space:pre; font-family: monospace\">┌→──┐\n",
       "↓ABC│\n",
       "│DEF│\n",
       "│GHI│\n",
       "└───┘\n",
       "</span>"
      ]
     },
     "execution_count": 27,
     "metadata": {},
     "output_type": "execute_result"
    },
    {
     "data": {
      "text/html": [
       "<span style=\"white-space:pre; font-family: monospace\">┌───────┐\n",
       "│ ┌→──┐ │\n",
       "│ ↓ABC│ │\n",
       "│ │DEF│ │\n",
       "│ │GHI│ │\n",
       "│ └───┘ │\n",
       "└∊──────┘\n",
       "</span>"
      ]
     },
     "execution_count": 27,
     "metadata": {},
     "output_type": "execute_result"
    },
    {
     "data": {
      "text/html": [
       "<span style=\"white-space:pre; font-family: monospace\">┌→──┐\n",
       "↓ABC│\n",
       "│DEF│\n",
       "│GHI│\n",
       "└───┘\n",
       "</span>"
      ]
     },
     "execution_count": 27,
     "metadata": {},
     "output_type": "execute_result"
    },
    {
     "data": {
      "text/html": [
       "<span style=\"white-space:pre; font-family: monospace\"> \n",
       "A\n",
       "-\n",
       "</span>"
      ]
     },
     "execution_count": 27,
     "metadata": {},
     "output_type": "execute_result"
    }
   ],
   "source": [
    "3 3⍴⎕A      ⍝ 3x3 matrix\n",
    "⊂3 3⍴⎕A     ⍝ enclosed\n",
    "⊃⊂3 3⍴⎕A    ⍝ disclose enclosed\n",
    "⊃3 3⍴⎕A     ⍝ dislclose unenclosed gives the first element"
   ]
  },
  {
   "cell_type": "markdown",
   "id": "e89b95b6",
   "metadata": {},
   "source": [
    "The last feature (\"first\") means that you can combine it with reverses etc, to get corner elements: "
   ]
  },
  {
   "cell_type": "code",
   "execution_count": 28,
   "id": "88f24961",
   "metadata": {},
   "outputs": [
    {
     "data": {
      "text/html": [
       "<span style=\"white-space:pre; font-family: monospace\"> \n",
       "C\n",
       "-\n",
       "</span>"
      ]
     },
     "execution_count": 28,
     "metadata": {},
     "output_type": "execute_result"
    },
    {
     "data": {
      "text/html": [
       "<span style=\"white-space:pre; font-family: monospace\"> \n",
       "G\n",
       "-\n",
       "</span>"
      ]
     },
     "execution_count": 28,
     "metadata": {},
     "output_type": "execute_result"
    }
   ],
   "source": [
    "⊃⌽3 3⍴⎕A ⍝ top right\n",
    "⊃⊖3 3⍴⎕A ⍝ bottom left "
   ]
  },
  {
   "cell_type": "markdown",
   "id": "3154de60",
   "metadata": {},
   "source": [
    "You can use it with `¨` ([each](http://help.dyalog.com/latest/index.htm#Language/Primitive%20Operators/Each%20with%20Monadic%20Operand.htm)) to get initials:"
   ]
  },
  {
   "cell_type": "code",
   "execution_count": 29,
   "id": "ef027c04",
   "metadata": {},
   "outputs": [
    {
     "data": {
      "text/html": [
       "<span style=\"white-space:pre; font-family: monospace\">┌→──┐\n",
       "│KEI│\n",
       "└───┘\n",
       "</span>"
      ]
     },
     "execution_count": 29,
     "metadata": {},
     "output_type": "execute_result"
    }
   ],
   "source": [
    "⊃¨'Kenneth' 'Eugene' 'Iverson'"
   ]
  },
  {
   "cell_type": "markdown",
   "id": "e01316f8",
   "metadata": {},
   "source": [
    "### Pick `⊃`\n",
    "\n",
    "Dyadic `⊃` is [pick](http://help.dyalog.com/latest/index.htm#Language/Primitive%20Functions/Pick.htm). It digs into nested arrays. Every scalar on its left is the index of an element in subsequent layers of nestedness: "
   ]
  },
  {
   "cell_type": "code",
   "execution_count": 49,
   "id": "4cba0c4f",
   "metadata": {},
   "outputs": [
    {
     "data": {
      "text/html": [
       "<span style=\"white-space:pre; font-family: monospace\"> \n",
       "F\n",
       "-\n",
       "</span>"
      ]
     },
     "execution_count": 49,
     "metadata": {},
     "output_type": "execute_result"
    },
    {
     "data": {
      "text/html": [
       "<span style=\"white-space:pre; font-family: monospace\"> \n",
       "6\n",
       " \n",
       "</span>"
      ]
     },
     "execution_count": 49,
     "metadata": {},
     "output_type": "execute_result"
    }
   ],
   "source": [
    "(⊂2 3)⊃3 3⍴⎕A\n",
    "2 3 1⊃(1 2 3)(4 5 (6 7 8))"
   ]
  },
  {
   "cell_type": "markdown",
   "id": "7abf8b8b",
   "metadata": {},
   "source": [
    "We can demonstrate this further. Here is a 2-by-2 matrix of two-element vectors:"
   ]
  },
  {
   "cell_type": "code",
   "execution_count": 52,
   "id": "e7dea133",
   "metadata": {},
   "outputs": [
    {
     "data": {
      "text/html": [
       "<span style=\"white-space:pre; font-family: monospace\">┌→────────────┐\n",
       "↓ ┌→──┐ ┌→──┐ │\n",
       "│ │1 2│ │3 4│ │\n",
       "│ └~──┘ └~──┘ │\n",
       "│ ┌→──┐ ┌→──┐ │\n",
       "│ │5 6│ │7 8│ │\n",
       "│ └~──┘ └~──┘ │\n",
       "└∊────────────┘\n",
       "</span>"
      ]
     },
     "execution_count": 52,
     "metadata": {},
     "output_type": "execute_result"
    },
    {
     "data": {
      "text/html": [
       "<span style=\"white-space:pre; font-family: monospace\"> \n",
       "4\n",
       " \n",
       "</span>"
      ]
     },
     "execution_count": 52,
     "metadata": {},
     "output_type": "execute_result"
    }
   ],
   "source": [
    "2 2⍴(1 2)(3 4)(5 6)(7 8)\n",
    "(1 2) 2⊃2 2⍴(1 2)(3 4)(5 6)(7 8)"
   ]
  },
  {
   "cell_type": "markdown",
   "id": "5a166232",
   "metadata": {},
   "source": [
    "In the last statement, the first index is 1 2, which picks the element (3 4), and the second index is 2, which picks the 4."
   ]
  },
  {
   "cell_type": "markdown",
   "id": "3b89fa78",
   "metadata": {},
   "source": [
    "### Nest `⊆`\n",
    "\n",
    "Monadic `⊆` is called [nest](http://help.dyalog.com/latest/index.htm#Language/Primitive%20Functions/Nest.htm) because it guarantees you that the result is nested (non-simple). `(1 2)(3 4 5)` is already nested, and `⊆` won't do anything: "
   ]
  },
  {
   "cell_type": "code",
   "execution_count": 34,
   "id": "5eb5898f",
   "metadata": {},
   "outputs": [
    {
     "data": {
      "text/html": [
       "<span style=\"white-space:pre; font-family: monospace\">┌→──────────────┐\n",
       "│ ┌→──┐ ┌→────┐ │\n",
       "│ │1 2│ │3 4 5│ │\n",
       "│ └~──┘ └~────┘ │\n",
       "└∊──────────────┘\n",
       "</span>"
      ]
     },
     "execution_count": 34,
     "metadata": {},
     "output_type": "execute_result"
    },
    {
     "data": {
      "text/html": [
       "<span style=\"white-space:pre; font-family: monospace\">┌→──────────────┐\n",
       "│ ┌→──┐ ┌→────┐ │\n",
       "│ │1 2│ │3 4 5│ │\n",
       "│ └~──┘ └~────┘ │\n",
       "└∊──────────────┘\n",
       "</span>"
      ]
     },
     "execution_count": 34,
     "metadata": {},
     "output_type": "execute_result"
    }
   ],
   "source": [
    "(1 2)(3 4 5)\n",
    "⊆(1 2)(3 4 5) "
   ]
  },
  {
   "cell_type": "markdown",
   "id": "7ad530ab",
   "metadata": {},
   "source": [
    "`1 2 3` is not nested, so `⊆` will nest it:"
   ]
  },
  {
   "cell_type": "code",
   "execution_count": 35,
   "id": "e0d63213",
   "metadata": {},
   "outputs": [
    {
     "data": {
      "text/html": [
       "<span style=\"white-space:pre; font-family: monospace\">┌→────┐\n",
       "│1 2 3│\n",
       "└~────┘\n",
       "</span>"
      ]
     },
     "execution_count": 35,
     "metadata": {},
     "output_type": "execute_result"
    },
    {
     "data": {
      "text/html": [
       "<span style=\"white-space:pre; font-family: monospace\">┌─────────┐\n",
       "│ ┌→────┐ │\n",
       "│ │1 2 3│ │\n",
       "│ └~────┘ │\n",
       "└∊────────┘\n",
       "</span>"
      ]
     },
     "execution_count": 35,
     "metadata": {},
     "output_type": "execute_result"
    }
   ],
   "source": [
    "1 2 3\n",
    "⊆1 2 3"
   ]
  },
  {
   "cell_type": "markdown",
   "id": "86821296",
   "metadata": {},
   "source": [
    "Works on higher rank too, of course:"
   ]
  },
  {
   "cell_type": "code",
   "execution_count": 39,
   "id": "59d82028",
   "metadata": {},
   "outputs": [
    {
     "data": {
      "text/html": [
       "<span style=\"white-space:pre; font-family: monospace\">┌→──────────────────┐\n",
       "↓ ┌→──┐ ┌→──┐ ┌→──┐ │\n",
       "│ │abc│ │abc│ │abc│ │\n",
       "│ └───┘ └───┘ └───┘ │\n",
       "│ ┌→──┐ ┌→──┐ ┌→──┐ │\n",
       "│ │abc│ │abc│ │abc│ │\n",
       "│ └───┘ └───┘ └───┘ │\n",
       "└∊──────────────────┘\n",
       "</span>"
      ]
     },
     "execution_count": 39,
     "metadata": {},
     "output_type": "execute_result"
    },
    {
     "data": {
      "text/html": [
       "<span style=\"white-space:pre; font-family: monospace\">┌→──────────────────┐\n",
       "↓ ┌→──┐ ┌→──┐ ┌→──┐ │\n",
       "│ │abc│ │abc│ │abc│ │\n",
       "│ └───┘ └───┘ └───┘ │\n",
       "│ ┌→──┐ ┌→──┐ ┌→──┐ │\n",
       "│ │abc│ │abc│ │abc│ │\n",
       "│ └───┘ └───┘ └───┘ │\n",
       "└∊──────────────────┘\n",
       "</span>"
      ]
     },
     "execution_count": 39,
     "metadata": {},
     "output_type": "execute_result"
    }
   ],
   "source": [
    "2 3⍴⊂'abc'\n",
    "⊆2 3⍴⊂'abc' ⍝ already nested, so no-op "
   ]
  },
  {
   "cell_type": "code",
   "execution_count": 40,
   "id": "3ddeb543",
   "metadata": {},
   "outputs": [
    {
     "data": {
      "text/html": [
       "<span style=\"white-space:pre; font-family: monospace\">┌→──┐\n",
       "↓abc│\n",
       "│abc│\n",
       "└───┘\n",
       "</span>"
      ]
     },
     "execution_count": 40,
     "metadata": {},
     "output_type": "execute_result"
    },
    {
     "data": {
      "text/html": [
       "<span style=\"white-space:pre; font-family: monospace\">┌───────┐\n",
       "│ ┌→──┐ │\n",
       "│ ↓abc│ │\n",
       "│ │abc│ │\n",
       "│ └───┘ │\n",
       "└∊──────┘\n",
       "</span>"
      ]
     },
     "execution_count": 40,
     "metadata": {},
     "output_type": "execute_result"
    }
   ],
   "source": [
    "2 3⍴'abc'   ⍝ not nested\n",
    "⊆2 3⍴'abc'  ⍝ nested"
   ]
  },
  {
   "cell_type": "markdown",
   "id": "7d228e39",
   "metadata": {},
   "source": [
    "### Partition `⊆`\n",
    "\n",
    "Dyadic `⊆` is called [partition](http://help.dyalog.com/latest/index.htm#Language/Primitive%20Functions/Partition.htm) (`⊂` and `⊆` originate with different APL dialects, but Dyalog APL features both). To distinguish between them, we call `⊂` _partitioned enclose_ and `⊆` just _partition_, but it doesn't say much.\n",
    "\n",
    "Dyadic `⊆` works similarly to dyadic `⊂`, but with different rules for the left argument. The left argument is non-negative integer instead of Boolean, and new partitions begin whenever an element is higher than its neighbour on the left. Also, elements indicated by 0s are dropped completely: "
   ]
  },
  {
   "cell_type": "code",
   "execution_count": 41,
   "id": "2917cc9f",
   "metadata": {},
   "outputs": [
    {
     "data": {
      "text/html": [
       "<span style=\"white-space:pre; font-family: monospace\">┌→────────────────────┐\n",
       "│ ┌→┐ ┌→─┐ ┌→──┐ ┌→─┐ │\n",
       "│ │H│ │lo│ │ Wo│ │rl│ │\n",
       "│ └─┘ └──┘ └───┘ └──┘ │\n",
       "└∊────────────────────┘\n",
       "</span>"
      ]
     },
     "execution_count": 41,
     "metadata": {},
     "output_type": "execute_result"
    }
   ],
   "source": [
    "1 0 0 1 1 3 2 2 5 5 0⊆'Hello World'"
   ]
  },
  {
   "cell_type": "markdown",
   "id": "fbbd7fb9",
   "metadata": {},
   "source": [
    "`1⊆array` is the same as `,⊂array` but uses a single dyadic function instead of two monadic ones, i.e. great for trains.\n",
    "\n",
    "### Materialise `⌷`\n",
    "\n",
    "Monadic `⌷` is [materialise](http://help.dyalog.com/latest/index.htm#Language/Primitive%20Functions/Materialise.htm). It is almost the same as monadic `⊢` (i.e. [identity](http://help.dyalog.com/latest/index.htm#Language/Primitive%20Functions/Right.htm)). However, it will materialise the default property of a class. For collections, this means the _Item_ property, so in effect it turns collections into vectors of items. "
   ]
  },
  {
   "cell_type": "code",
   "execution_count": 43,
   "id": "edca25bb",
   "metadata": {},
   "outputs": [],
   "source": [
    "]dinput\n",
    ":Class cl\n",
    "    :Property Default thing\n",
    "    :Access Public Shared\n",
    "        ∇ r←get\n",
    "          r←3 1 4 1 4\n",
    "        ∇\n",
    "    :EndProperty\n",
    ":EndClass"
   ]
  },
  {
   "cell_type": "code",
   "execution_count": 44,
   "id": "6a2e3d43",
   "metadata": {},
   "outputs": [
    {
     "data": {
      "text/html": [
       "<span style=\"white-space:pre; font-family: monospace\">┌→────────┐\n",
       "│3 1 4 1 4│\n",
       "└~────────┘\n",
       "</span>"
      ]
     },
     "execution_count": 44,
     "metadata": {},
     "output_type": "execute_result"
    },
    {
     "data": {
      "text/html": [
       "<span style=\"white-space:pre; font-family: monospace\">    \n",
       "#.cl\n",
       "    \n",
       "</span>"
      ]
     },
     "execution_count": 44,
     "metadata": {},
     "output_type": "execute_result"
    },
    {
     "data": {
      "text/html": [
       "<span style=\"white-space:pre; font-family: monospace\">┌→────────┐\n",
       "│3 1 4 1 4│\n",
       "└~────────┘\n",
       "</span>"
      ]
     },
     "execution_count": 44,
     "metadata": {},
     "output_type": "execute_result"
    }
   ],
   "source": [
    "cl.thing\n",
    "⊢cl\n",
    "⌷cl"
   ]
  },
  {
   "cell_type": "markdown",
   "id": "b81296c6",
   "metadata": {},
   "source": [
    "### Index `⌷`\n",
    "\n",
    "Dyadic `⌷` is [index](http://help.dyalog.com/latest/index.htm#Language/Primitive%20Functions/Index.htm). It is similar to [pick](http://help.dyalog.com/latest/index.htm#Language/Primitive%20Functions/Pick.htm), dyadic `⊃`, but works its way into the rank instead of the depth. On a 3D array, the first element selects layer, the second row, the third column: "
   ]
  },
  {
   "cell_type": "code",
   "execution_count": 47,
   "id": "285ef009",
   "metadata": {},
   "outputs": [
    {
     "data": {
      "text/html": [
       "<span style=\"white-space:pre; font-family: monospace\">┌┌→───┐\n",
       "↓↓ABCD│\n",
       "││EFGH│\n",
       "││IJKL│\n",
       "││    │\n",
       "││MNOP│\n",
       "││QRST│\n",
       "││UVWX│\n",
       "└└────┘\n",
       "</span>"
      ]
     },
     "execution_count": 47,
     "metadata": {},
     "output_type": "execute_result"
    },
    {
     "data": {
      "text/html": [
       "<span style=\"white-space:pre; font-family: monospace\">┌→───┐\n",
       "↓MNOP│\n",
       "│QRST│\n",
       "│UVWX│\n",
       "└────┘\n",
       "</span>"
      ]
     },
     "execution_count": 47,
     "metadata": {},
     "output_type": "execute_result"
    },
    {
     "data": {
      "text/html": [
       "<span style=\"white-space:pre; font-family: monospace\">┌→───┐\n",
       "│MNOP│\n",
       "└────┘\n",
       "</span>"
      ]
     },
     "execution_count": 47,
     "metadata": {},
     "output_type": "execute_result"
    },
    {
     "data": {
      "text/html": [
       "<span style=\"white-space:pre; font-family: monospace\"> \n",
       "O\n",
       "-\n",
       "</span>"
      ]
     },
     "execution_count": 47,
     "metadata": {},
     "output_type": "execute_result"
    }
   ],
   "source": [
    "2 3 4⍴⎕A\n",
    "2⌷2 3 4⍴⎕A\n",
    "2 1⌷2 3 4⍴⎕A\n",
    "2 1 3⌷2 3 4⍴⎕A"
   ]
  },
  {
   "cell_type": "markdown",
   "id": "0b1db997",
   "metadata": {},
   "source": [
    "Each element of the left argument may be may be any simple array:"
   ]
  },
  {
   "cell_type": "code",
   "execution_count": 48,
   "id": "26e8ce2f",
   "metadata": {},
   "outputs": [
    {
     "data": {
      "text/html": [
       "<span style=\"white-space:pre; font-family: monospace\">┌┌→───┐\n",
       "↓↓ABCD│\n",
       "││EFGH│\n",
       "││IJKL│\n",
       "││    │\n",
       "││ABCD│\n",
       "││EFGH│\n",
       "││IJKL│\n",
       "└└────┘\n",
       "</span>"
      ]
     },
     "execution_count": 48,
     "metadata": {},
     "output_type": "execute_result"
    },
    {
     "data": {
      "text/html": [
       "<span style=\"white-space:pre; font-family: monospace\">┌→───┐\n",
       "↓MNOP│\n",
       "│UVWX│\n",
       "└────┘\n",
       "</span>"
      ]
     },
     "execution_count": 48,
     "metadata": {},
     "output_type": "execute_result"
    },
    {
     "data": {
      "text/html": [
       "<span style=\"white-space:pre; font-family: monospace\">┌→─┐\n",
       "│CO│\n",
       "└──┘\n",
       "</span>"
      ]
     },
     "execution_count": 48,
     "metadata": {},
     "output_type": "execute_result"
    },
    {
     "data": {
      "text/html": [
       "<span style=\"white-space:pre; font-family: monospace\">┌┌→───┐\n",
       "↓↓EFGH│\n",
       "││IJKL│\n",
       "││    │\n",
       "││QRST│\n",
       "││UVWX│\n",
       "└└────┘\n",
       "</span>"
      ]
     },
     "execution_count": 48,
     "metadata": {},
     "output_type": "execute_result"
    }
   ],
   "source": [
    "(⊂1 1)⌷2 3 4⍴⎕A\n",
    "2 (1 3)⌷2 3 4⍴⎕A ⍝ first and third row of second layer \n",
    "(1 2)1 3⌷2 3 4⍴⎕A ⍝ third char of first row of layers 1 and 2 \n",
    "(1 2)(2 3)⌷2 3 4⍴⎕A ⍝ rows 2 and 3 of each of layers 1 and 2 "
   ]
  },
  {
   "cell_type": "markdown",
   "id": "aa184990",
   "metadata": {},
   "source": [
    "### Grade up/down `⍋⍒`\n",
    "\n",
    "Next up is `⍋`, called [grade up](http://help.dyalog.com/latest/index.htm#Language/Primitive%20Functions/Grade%20Up%20Monadic.htm). Monadic `⍋` takes a simple (non-nested) array and returns the indices of the major cells reordered so that they would order the array.\n",
    "\n",
    "Easiest to understand with an example: "
   ]
  },
  {
   "cell_type": "code",
   "execution_count": 1,
   "id": "92fe90ef",
   "metadata": {},
   "outputs": [
    {
     "data": {
      "text/html": [
       "<span style=\"white-space:pre; font-family: monospace\">2 4 1 3 5\n",
       "</span>"
      ]
     },
     "execution_count": 1,
     "metadata": {},
     "output_type": "execute_result"
    }
   ],
   "source": [
    "⍋3 1 4 1 5"
   ]
  },
  {
   "cell_type": "markdown",
   "id": "ee20bb14",
   "metadata": {},
   "source": [
    "This means that the second element (1) is the smallest, then the fourth (1), then the first (3), etc. So, we can use this to sort the array: "
   ]
  },
  {
   "cell_type": "code",
   "execution_count": 2,
   "id": "628a848f",
   "metadata": {},
   "outputs": [
    {
     "data": {
      "text/html": [
       "<span style=\"white-space:pre; font-family: monospace\">1 1 3 4 5\n",
       "</span>"
      ]
     },
     "execution_count": 2,
     "metadata": {},
     "output_type": "execute_result"
    }
   ],
   "source": [
    "3 1 4 1 5[⍋3 1 4 1 5]"
   ]
  },
  {
   "cell_type": "markdown",
   "id": "9dd72849",
   "metadata": {},
   "source": [
    "It works on high-rank arrays too: "
   ]
  },
  {
   "cell_type": "code",
   "execution_count": 3,
   "id": "5c50ca2c",
   "metadata": {},
   "outputs": [
    {
     "data": {
      "text/html": [
       "<span style=\"white-space:pre; font-family: monospace\">2 7\n",
       "1 8\n",
       "2 8\n",
       "</span>"
      ]
     },
     "execution_count": 3,
     "metadata": {},
     "output_type": "execute_result"
    },
    {
     "data": {
      "text/html": [
       "<span style=\"white-space:pre; font-family: monospace\">2 1 3\n",
       "</span>"
      ]
     },
     "execution_count": 3,
     "metadata": {},
     "output_type": "execute_result"
    }
   ],
   "source": [
    "3 2⍴2 7 1 8 2 8\n",
    "⍋3 2⍴2 7 1 8 2 8 "
   ]
  },
  {
   "cell_type": "markdown",
   "id": "cd3df730",
   "metadata": {},
   "source": [
    "So the first is row 2 `(1 8)` then row 1 `(2 7)` then row 3 `(2 8)`. It works on characters too, where it grades in Unicode point order: "
   ]
  },
  {
   "cell_type": "code",
   "execution_count": 4,
   "id": "f1d1bbef",
   "metadata": {},
   "outputs": [
    {
     "data": {
      "text/html": [
       "<span style=\"white-space:pre; font-family: monospace\">He\n",
       "ll\n",
       "oW\n",
       "or\n",
       "ld\n",
       "</span>"
      ]
     },
     "execution_count": 4,
     "metadata": {},
     "output_type": "execute_result"
    },
    {
     "data": {
      "text/html": [
       "<span style=\"white-space:pre; font-family: monospace\">1 5 2 3 4\n",
       "</span>"
      ]
     },
     "execution_count": 4,
     "metadata": {},
     "output_type": "execute_result"
    },
    {
     "data": {
      "text/html": [
       "<span style=\"white-space:pre; font-family: monospace\">He\n",
       "ld\n",
       "ll\n",
       "oW\n",
       "or\n",
       "</span>"
      ]
     },
     "execution_count": 4,
     "metadata": {},
     "output_type": "execute_result"
    }
   ],
   "source": [
    "5 2⍴'HelloWorld'\n",
    "⍋5 2⍴'HelloWorld'\n",
    "(5 2⍴'HelloWorld')[⍋5 2⍴'HelloWorld';] "
   ]
  },
  {
   "cell_type": "code",
   "execution_count": 12,
   "id": "395522ca",
   "metadata": {},
   "outputs": [
    {
     "data": {
      "text/html": [
       "<span style=\"white-space:pre; font-family: monospace\">He\n",
       "ll\n",
       "\n",
       "o \n",
       "Wo\n",
       "\n",
       "rl\n",
       "d \n",
       "\n",
       "PP\n",
       "CG\n",
       "</span>"
      ]
     },
     "execution_count": 12,
     "metadata": {},
     "output_type": "execute_result"
    },
    {
     "data": {
      "text/html": [
       "<span style=\"white-space:pre; font-family: monospace\">1 4 2 3\n",
       "</span>"
      ]
     },
     "execution_count": 12,
     "metadata": {},
     "output_type": "execute_result"
    }
   ],
   "source": [
    "4 2 2⍴'Hello World PPCG'   \n",
    "⍋4 2 2⍴'Hello World PPCG'  ⍝ layer grade up"
   ]
  },
  {
   "cell_type": "markdown",
   "id": "e8801cdb",
   "metadata": {},
   "source": [
    "Layer 1, layer 4, layer 2, layer 3:"
   ]
  },
  {
   "cell_type": "code",
   "execution_count": 13,
   "id": "8f201531",
   "metadata": {},
   "outputs": [
    {
     "data": {
      "text/html": [
       "<span style=\"white-space:pre; font-family: monospace\">He\n",
       "ll\n",
       "\n",
       "PP\n",
       "CG\n",
       "\n",
       "o \n",
       "Wo\n",
       "\n",
       "rl\n",
       "d \n",
       "</span>"
      ]
     },
     "execution_count": 13,
     "metadata": {},
     "output_type": "execute_result"
    }
   ],
   "source": [
    "{⍵[⍋⍵;;]}4 2 2⍴'Hello World PPCG'"
   ]
  },
  {
   "cell_type": "markdown",
   "id": "876fb897",
   "metadata": {},
   "source": [
    "`⍋⍋` is the cardinal numbers:"
   ]
  },
  {
   "cell_type": "code",
   "execution_count": 14,
   "id": "693a66c6",
   "metadata": {},
   "outputs": [
    {
     "data": {
      "text/html": [
       "<span style=\"white-space:pre; font-family: monospace\">3 4 1 2\n",
       "</span>"
      ]
     },
     "execution_count": 14,
     "metadata": {},
     "output_type": "execute_result"
    },
    {
     "data": {
      "text/html": [
       "<span style=\"white-space:pre; font-family: monospace\">3 4 1 2\n",
       "</span>"
      ]
     },
     "execution_count": 14,
     "metadata": {},
     "output_type": "execute_result"
    }
   ],
   "source": [
    "⍋'PPCG' \n",
    "⍋⍋'PPCG' "
   ]
  },
  {
   "cell_type": "markdown",
   "id": "4803c6f2",
   "metadata": {},
   "source": [
    "So P is the third, P is the fourth, C is the first, and G is the second. Applying `⍋` to a permutation inverts it (swaps between cardinal and grade). Another way to think about it is that `⍋` is the indices of cells in the order that would sort them. `⍋⍋` is the position each will take when sorted. If you think about it hard, you'll see why ⍋ swaps back and forth between these two. \n",
    "\n",
    "Here's an example where the grade and the cardinals differ:"
   ]
  },
  {
   "cell_type": "code",
   "execution_count": 17,
   "id": "616b5a13",
   "metadata": {},
   "outputs": [
    {
     "data": {
      "text/html": [
       "<span style=\"white-space:pre; font-family: monospace\">2 4 6 3 5 1\n",
       "</span>"
      ]
     },
     "execution_count": 17,
     "metadata": {},
     "output_type": "execute_result"
    },
    {
     "data": {
      "text/html": [
       "<span style=\"white-space:pre; font-family: monospace\">6 1 4 2 5 3\n",
       "</span>"
      ]
     },
     "execution_count": 17,
     "metadata": {},
     "output_type": "execute_result"
    },
    {
     "data": {
      "text/html": [
       "<span style=\"white-space:pre; font-family: monospace\">2 4 6 3 5 1\n",
       "</span>"
      ]
     },
     "execution_count": 17,
     "metadata": {},
     "output_type": "execute_result"
    }
   ],
   "source": [
    "⍋'random'\n",
    "⍋⍋'random' \n",
    "⍋⍋⍋'random'  ⍝ grading the cardinals takes us back to grade"
   ]
  },
  {
   "cell_type": "markdown",
   "id": "e5f3505c",
   "metadata": {},
   "source": [
    "`⍋` once is what order the elements would be in when sorted and `⍋` twice is the indices that each element would go to.\n",
    "\n",
    "Dyadic `⍋` is for character arrays only, and it grades as if the left argument was the alphabet: "
   ]
  },
  {
   "cell_type": "code",
   "execution_count": 18,
   "id": "0a730593",
   "metadata": {},
   "outputs": [
    {
     "data": {
      "text/html": [
       "<span style=\"white-space:pre; font-family: monospace\">eoodhlllrw\n",
       "</span>"
      ]
     },
     "execution_count": 18,
     "metadata": {},
     "output_type": "execute_result"
    }
   ],
   "source": [
    "{⍵['aeioubcdfghjklmnpqrstvwxyz'⍋⍵]}'helloworld'"
   ]
  },
  {
   "cell_type": "markdown",
   "id": "c7490f22",
   "metadata": {},
   "source": [
    "If characters are missing from the alphabet, they will be considered after the alphabet, and equivalent:"
   ]
  },
  {
   "cell_type": "code",
   "execution_count": 19,
   "id": "00608d9a",
   "metadata": {},
   "outputs": [
    {
     "data": {
      "text/html": [
       "<span style=\"white-space:pre; font-family: monospace\">2 1 3 4\n",
       "</span>"
      ]
     },
     "execution_count": 19,
     "metadata": {},
     "output_type": "execute_result"
    }
   ],
   "source": [
    "'abcdefgh'⍋'hawl'"
   ]
  },
  {
   "cell_type": "markdown",
   "id": "17c8aa5c",
   "metadata": {},
   "source": [
    "Dyadic `⍋` can also use multiple levels of sorting: "
   ]
  },
  {
   "cell_type": "code",
   "execution_count": 23,
   "id": "00f29c25",
   "metadata": {},
   "outputs": [
    {
     "data": {
      "text/html": [
       "<span style=\"white-space:pre; font-family: monospace\">ab\n",
       "ec\n",
       "id\n",
       "of\n",
       "ug\n",
       " h\n",
       " j\n",
       " k\n",
       " l\n",
       " m\n",
       " n\n",
       " p\n",
       " q\n",
       " r\n",
       " s\n",
       " t\n",
       " v\n",
       " w\n",
       " x\n",
       " y\n",
       " z\n",
       "</span>"
      ]
     },
     "execution_count": 23,
     "metadata": {},
     "output_type": "execute_result"
    }
   ],
   "source": [
    "⍉↑'aeiou' 'bcdfghjklmnpqrstvwxyz'"
   ]
  },
  {
   "cell_type": "markdown",
   "id": "e6a8145f",
   "metadata": {},
   "source": [
    "This 2D \"alphabet\" means that all vowels should come before all consonants, and only if otherwise the same, the vertical order will be considered. "
   ]
  },
  {
   "cell_type": "code",
   "execution_count": 21,
   "id": "271d3b76",
   "metadata": {},
   "outputs": [
    {
     "data": {
      "text/html": [
       "<span style=\"white-space:pre; font-family: monospace\">eoodhlllrw\n",
       "</span>"
      ]
     },
     "execution_count": 21,
     "metadata": {},
     "output_type": "execute_result"
    }
   ],
   "source": [
    "{⍵[(⍉↑'aeiou' 'bcdfghjklmnpqrstvwxyz')⍋⍵]}'helloworld'"
   ]
  },
  {
   "cell_type": "markdown",
   "id": "44f05d14",
   "metadata": {},
   "source": [
    "This sorted all vowels before all consonants, and only then did it sort the vowels and the consonants. You can have up to 15 levels of sorting using this. If a letter occurs more than once, then its first occurrence rules. This is useful to fill gaps in (e.g.) columns of unequal height.\n",
    "\n",
    "There is also `⍒`, which is [grade down](http://help.dyalog.com/latest/index.htm#Language/Primitive%20Functions/Grade%20Down%20Monadic.htm), which follows the pattern of `⍋`, but sorts the other way.\n",
    "\n",
    "## `⍳⍸∊⍷∪∩~`\n",
    "\n",
    "### Index generator `⍳`\n",
    "\n",
    "Monadic `⍳` is the [index generator](http://help.dyalog.com/latest/index.htm#Language/Primitive%20Functions/Index%20Generator.htm). `⍳a` generates an array of shape a where the elements are the indices for that element: "
   ]
  },
  {
   "cell_type": "code",
   "execution_count": 24,
   "id": "c988a26a",
   "metadata": {},
   "outputs": [
    {
     "data": {
      "text/html": [
       "<span style=\"white-space:pre; font-family: monospace\">1 2 3 4 5 6 7 8 9 10\n",
       "</span>"
      ]
     },
     "execution_count": 24,
     "metadata": {},
     "output_type": "execute_result"
    },
    {
     "data": {
      "text/html": [
       "<span style=\"white-space:pre; font-family: monospace\">┌───┬───┬───┬───┐\n",
       "│1 1│1 2│1 3│1 4│\n",
       "├───┼───┼───┼───┤\n",
       "│2 1│2 2│2 3│2 4│\n",
       "└───┴───┴───┴───┘\n",
       "</span>"
      ]
     },
     "execution_count": 24,
     "metadata": {},
     "output_type": "execute_result"
    }
   ],
   "source": [
    "⍳10\n",
    "⍳2 4"
   ]
  },
  {
   "cell_type": "markdown",
   "id": "48fc7705",
   "metadata": {},
   "source": [
    "Any bets on what `⍳0` gives?"
   ]
  },
  {
   "cell_type": "code",
   "execution_count": 26,
   "id": "8d50feb6",
   "metadata": {},
   "outputs": [
    {
     "data": {
      "text/html": [
       "<span style=\"white-space:pre; font-family: monospace\">┌⊖┐\n",
       "│0│\n",
       "└~┘\n",
       "</span>"
      ]
     },
     "execution_count": 26,
     "metadata": {},
     "output_type": "execute_result"
    }
   ],
   "source": [
    "]display ⍳0"
   ]
  },
  {
   "cell_type": "markdown",
   "id": "a429144f",
   "metadata": {},
   "source": [
    "The empty numeric list. What about `⍳0 0`?"
   ]
  },
  {
   "cell_type": "code",
   "execution_count": 27,
   "id": "3695b280",
   "metadata": {},
   "outputs": [
    {
     "data": {
      "text/html": [
       "<span style=\"white-space:pre; font-family: monospace\">┌⊖──────┐\n",
       "⌽ ┌→──┐ │\n",
       "│ │0 0│ │\n",
       "│ └~──┘ │\n",
       "└∊──────┘\n",
       "</span>"
      ]
     },
     "execution_count": 27,
     "metadata": {},
     "output_type": "execute_result"
    }
   ],
   "source": [
    "]display ⍳0 0"
   ]
  },
  {
   "cell_type": "markdown",
   "id": "56636a4c",
   "metadata": {},
   "source": [
    "This is the same as `0 0⍴⍬`; a 0x0 empty numeric matrix."
   ]
  },
  {
   "cell_type": "markdown",
   "id": "f69cd75a",
   "metadata": {},
   "source": [
    "### Index-of `⍳`\n",
    "\n",
    "The dyadic version `A⍳B` is [index-of](http://help.dyalog.com/latest/index.htm#Language/Primitive%20Functions/Index%20Of.htm). It finds the first occurrence of the major cells of `B` in the major cells of `A`: "
   ]
  },
  {
   "cell_type": "code",
   "execution_count": 28,
   "id": "1cc72f81",
   "metadata": {},
   "outputs": [
    {
     "data": {
      "text/html": [
       "<span style=\"white-space:pre; font-family: monospace\">3\n",
       "</span>"
      ]
     },
     "execution_count": 28,
     "metadata": {},
     "output_type": "execute_result"
    },
    {
     "data": {
      "text/html": [
       "<span style=\"white-space:pre; font-family: monospace\">3 5\n",
       "</span>"
      ]
     },
     "execution_count": 28,
     "metadata": {},
     "output_type": "execute_result"
    }
   ],
   "source": [
    "'hello'⍳'l'\n",
    "'hello'⍳'lo' "
   ]
  },
  {
   "cell_type": "markdown",
   "id": "1b54601f",
   "metadata": {},
   "source": [
    "If a cell is not a member, it will return a number one higher than the number of elements:"
   ]
  },
  {
   "cell_type": "code",
   "execution_count": 29,
   "id": "c9589a69",
   "metadata": {},
   "outputs": [
    {
     "data": {
      "text/html": [
       "<span style=\"white-space:pre; font-family: monospace\">6\n",
       "</span>"
      ]
     },
     "execution_count": 29,
     "metadata": {},
     "output_type": "execute_result"
    }
   ],
   "source": [
    "'hello'⍳'x'"
   ]
  },
  {
   "cell_type": "code",
   "execution_count": 30,
   "id": "3a134806",
   "metadata": {},
   "outputs": [
    {
     "data": {
      "text/html": [
       "<span style=\"white-space:pre; font-family: monospace\">2 4\n",
       "</span>"
      ]
     },
     "execution_count": 30,
     "metadata": {},
     "output_type": "execute_result"
    }
   ],
   "source": [
    "(3 2⍴'abcdef')⍳(2 2⍴'cdxy')"
   ]
  },
  {
   "cell_type": "markdown",
   "id": "99ee68a1",
   "metadata": {},
   "source": [
    "So the \"cd\" row is the second one, and the \"xy\" row is not there. This behaviour for elements that are not there is really useful for supplying a \"default\":"
   ]
  },
  {
   "cell_type": "code",
   "execution_count": 32,
   "id": "c159777d",
   "metadata": {},
   "outputs": [
    {
     "data": {
      "text/html": [
       "<span style=\"white-space:pre; font-family: monospace\">┌─────┬───────┬─────┬──────┐\n",
       "│Third│Missing│First│Second│\n",
       "└─────┴───────┴─────┴──────┘\n",
       "</span>"
      ]
     },
     "execution_count": 32,
     "metadata": {},
     "output_type": "execute_result"
    }
   ],
   "source": [
    "'First' 'Second' 'Third' 'Missing'['abc'⍳'cdab']"
   ]
  },
  {
   "cell_type": "markdown",
   "id": "3246dac7",
   "metadata": {},
   "source": [
    "### Where `⍸`\n",
    "\n",
    "Monadic `⍸` is [where](http://help.dyalog.com/latest/index.htm#Language/Primitive%20Functions/Where.htm). It just takes a simple array and returns the list of non-zero indices. "
   ]
  },
  {
   "cell_type": "code",
   "execution_count": 57,
   "id": "edc47cec",
   "metadata": {},
   "outputs": [
    {
     "data": {
      "text/html": [
       "<span style=\"white-space:pre; font-family: monospace\">2 4 5\n",
       "</span>"
      ]
     },
     "execution_count": 57,
     "metadata": {},
     "output_type": "execute_result"
    }
   ],
   "source": [
    "⍸0 1 0 1 1 "
   ]
  },
  {
   "cell_type": "code",
   "execution_count": 58,
   "id": "b8f4a292",
   "metadata": {},
   "outputs": [
    {
     "data": {
      "text/html": [
       "<span style=\"white-space:pre; font-family: monospace\">0 1 0\n",
       "1 1 0\n",
       "</span>"
      ]
     },
     "execution_count": 58,
     "metadata": {},
     "output_type": "execute_result"
    },
    {
     "data": {
      "text/html": [
       "<span style=\"white-space:pre; font-family: monospace\">┌───┬───┬───┐\n",
       "│1 2│2 1│2 2│\n",
       "└───┴───┴───┘\n",
       "</span>"
      ]
     },
     "execution_count": 58,
     "metadata": {},
     "output_type": "execute_result"
    }
   ],
   "source": [
    "⊢m←2 3⍴0 1 0 1 1 0\n",
    "⍸m"
   ]
  },
  {
   "cell_type": "markdown",
   "id": "ad9da249",
   "metadata": {},
   "source": [
    "If the argument array is not Boolean, the values are taken to mean the repeat count for each index:"
   ]
  },
  {
   "cell_type": "code",
   "execution_count": 4,
   "id": "1ebaf9f5",
   "metadata": {},
   "outputs": [
    {
     "data": {
      "text/html": [
       "<span style=\"white-space:pre; font-family: monospace\">┌───┬───┬───┬───┬───┬───┐\n",
       "│1 2│1 2│2 1│2 1│2 2│2 2│\n",
       "└───┴───┴───┴───┴───┴───┘\n",
       "</span>"
      ]
     },
     "execution_count": 4,
     "metadata": {},
     "output_type": "execute_result"
    }
   ],
   "source": [
    "⍸2 3⍴0 2 0 2 2 0              "
   ]
  },
  {
   "cell_type": "markdown",
   "id": "f8081b7c",
   "metadata": {},
   "source": [
    "A code golf trick: sum a Boolean array with `≢⍸` instead of `+/`,"
   ]
  },
  {
   "cell_type": "code",
   "execution_count": 59,
   "id": "1171b8f6",
   "metadata": {},
   "outputs": [
    {
     "data": {
      "text/html": [
       "<span style=\"white-space:pre; font-family: monospace\">3\n",
       "</span>"
      ]
     },
     "execution_count": 59,
     "metadata": {},
     "output_type": "execute_result"
    }
   ],
   "source": [
    "≢⍸2 3⍴0 1 0 1 1 0"
   ]
  },
  {
   "cell_type": "markdown",
   "id": "ceb0ebd4",
   "metadata": {},
   "source": [
    "### Interval index `⍸`\n",
    "\n",
    "Dyadic `⍸` is [interval index](http://help.dyalog.com/latest/index.htm#Language/Primitive%20Functions/Interval%20Index.htm). It takes a list of sorted arrays on the left, and for each array on the right, tells which \"gap\" (interval) it belongs."
   ]
  },
  {
   "cell_type": "code",
   "execution_count": 60,
   "id": "37b43362",
   "metadata": {},
   "outputs": [
    {
     "data": {
      "text/html": [
       "<span style=\"white-space:pre; font-family: monospace\">0 3 4 1 2\n",
       "</span>"
      ]
     },
     "execution_count": 60,
     "metadata": {},
     "output_type": "execute_result"
    }
   ],
   "source": [
    "1 10 100 1000⍸0 500 2000 3 10"
   ]
  },
  {
   "cell_type": "markdown",
   "id": "8be2b2f4",
   "metadata": {},
   "source": [
    "So 0 is in interval number 0 (that is, before 1–10). 500 is in interval 3, which is 100–1000, etc.\n",
    "And as you can see from 10, it is in interval 2; 10–100. So intervals are [min,max).\n",
    "For higher rank arrays, it works like _grade_, i.e. on major cells."
   ]
  },
  {
   "cell_type": "markdown",
   "id": "55eb721a",
   "metadata": {},
   "source": [
    "### Membership `∊`\n",
    "\n",
    "Dyadic `∊` is [membership](http://help.dyalog.com/latest/index.htm#Language/Primitive%20Functions/Membership.htm). For each scalar in the left argument, return a Boolean if it is a member of the right argument: "
   ]
  },
  {
   "cell_type": "code",
   "execution_count": 7,
   "id": "bcdd8043",
   "metadata": {},
   "outputs": [
    {
     "data": {
      "text/html": [
       "<span style=\"white-space:pre; font-family: monospace\">0 1 0 1 0\n",
       "</span>"
      ]
     },
     "execution_count": 7,
     "metadata": {},
     "output_type": "execute_result"
    }
   ],
   "source": [
    "'aeiou'∊'Hello World'"
   ]
  },
  {
   "cell_type": "markdown",
   "id": "11d0be5f",
   "metadata": {},
   "source": [
    "Question:\n",
    "> Does APL have an \"insert at index\" command? As in, given an array, an index and a value, insert value at the index in the array. Example: [1, 2, 4, 5], 2, 3 => [1, 2, 3, 4, 5]"
   ]
  },
  {
   "cell_type": "markdown",
   "id": "790c8271",
   "metadata": {},
   "source": [
    "There are a couple of approaches: "
   ]
  },
  {
   "cell_type": "code",
   "execution_count": 9,
   "id": "68690f1f",
   "metadata": {},
   "outputs": [
    {
     "data": {
      "text/html": [
       "<span style=\"white-space:pre; font-family: monospace\">1 2 3 4 5\n",
       "</span>"
      ]
     },
     "execution_count": 9,
     "metadata": {},
     "output_type": "execute_result"
    }
   ],
   "source": [
    "∊(⊂,∘3)@2⊢1 2 4 5"
   ]
  },
  {
   "cell_type": "markdown",
   "id": "820175c5",
   "metadata": {},
   "source": [
    "This appended a 3 to the 2, then flattened. You flatten with monadic `∊` which is the function we're up to. A more traditional and better performing approach would be: "
   ]
  },
  {
   "cell_type": "code",
   "execution_count": 10,
   "id": "f6386d8e",
   "metadata": {},
   "outputs": [
    {
     "data": {
      "text/html": [
       "<span style=\"white-space:pre; font-family: monospace\">1 2 3 4 5\n",
       "</span>"
      ]
     },
     "execution_count": 10,
     "metadata": {},
     "output_type": "execute_result"
    }
   ],
   "source": [
    "{3@(1+2)⊢⍵\\⍨1+2=⍳≢⍵}1 2 4 5"
   ]
  },
  {
   "cell_type": "markdown",
   "id": "2af8e04e",
   "metadata": {},
   "source": [
    "but we have not covered the `\\` function yet.\n",
    "\n",
    "### Enlist `∊`\n",
    "\n",
    "`∊` is [enlist](http://help.dyalog.com/latest/index.htm#Language/Primitive%20Functions/Enlist.htm):"
   ]
  },
  {
   "cell_type": "code",
   "execution_count": 61,
   "id": "d0118807",
   "metadata": {},
   "outputs": [
    {
     "data": {
      "text/html": [
       "<span style=\"white-space:pre; font-family: monospace\">┌─────┬───┐\n",
       "│1 2 3│1 2│\n",
       "│     │3 4│\n",
       "└─────┴───┘\n",
       "</span>"
      ]
     },
     "execution_count": 61,
     "metadata": {},
     "output_type": "execute_result"
    },
    {
     "data": {
      "text/html": [
       "<span style=\"white-space:pre; font-family: monospace\">1 2 3 1 2 3 4\n",
       "</span>"
      ]
     },
     "execution_count": 61,
     "metadata": {},
     "output_type": "execute_result"
    }
   ],
   "source": [
    "⊢m←(⍳3)(2 2⍴⍳4)\n",
    "∊m"
   ]
  },
  {
   "cell_type": "markdown",
   "id": "4f2a7b5c",
   "metadata": {},
   "source": [
    "### Find `⍷`\n",
    "\n",
    "Next up is `⍷` which is (as of yet) only dyadic. `⍷` is [find](http://help.dyalog.com/latest/index.htm#Language/Primitive%20Functions/Find.htm). It returns a Boolean array of the right argument's shape with a 1 at the \"top left\" corner of occurrences of the left argument in the right argument: "
   ]
  },
  {
   "cell_type": "code",
   "execution_count": 62,
   "id": "897ca9f7",
   "metadata": {},
   "outputs": [
    {
     "data": {
      "text/html": [
       "<span style=\"white-space:pre; font-family: monospace\">0 0 1 0 0 1 0 0 0 0 0\n",
       "</span>"
      ]
     },
     "execution_count": 62,
     "metadata": {},
     "output_type": "execute_result"
    }
   ],
   "source": [
    "'ss'⍷'Mississippi'"
   ]
  },
  {
   "cell_type": "markdown",
   "id": "8e966c0c",
   "metadata": {},
   "source": [
    "The ones here indicate the left \"s\" wherever \"ss\" begins. It also works for overlaps, "
   ]
  },
  {
   "cell_type": "code",
   "execution_count": 63,
   "id": "119c5de6",
   "metadata": {},
   "outputs": [
    {
     "data": {
      "text/html": [
       "<span style=\"white-space:pre; font-family: monospace\">0 0 1 0 1 0 0\n",
       "</span>"
      ]
     },
     "execution_count": 63,
     "metadata": {},
     "output_type": "execute_result"
    }
   ],
   "source": [
    "'aba'⍷'alababa'"
   ]
  },
  {
   "cell_type": "markdown",
   "id": "f8130f44",
   "metadata": {},
   "source": [
    "and for higher-rank arrays:"
   ]
  },
  {
   "cell_type": "code",
   "execution_count": 54,
   "id": "9f66504e",
   "metadata": {},
   "outputs": [
    {
     "data": {
      "text/html": [
       "<span style=\"white-space:pre; font-family: monospace\">0 1\n",
       "0 0\n",
       "</span>"
      ]
     },
     "execution_count": 54,
     "metadata": {},
     "output_type": "execute_result"
    },
    {
     "data": {
      "text/html": [
       "<span style=\"white-space:pre; font-family: monospace\">0 1 1\n",
       "0 0 1\n",
       "1 0 0\n",
       "</span>"
      ]
     },
     "execution_count": 54,
     "metadata": {},
     "output_type": "execute_result"
    },
    {
     "data": {
      "text/html": [
       "<span style=\"white-space:pre; font-family: monospace\">1 0 0\n",
       "0 1 0\n",
       "0 0 0\n",
       "</span>"
      ]
     },
     "execution_count": 54,
     "metadata": {},
     "output_type": "execute_result"
    }
   ],
   "source": [
    "2 2⍴0 1 0\n",
    "3 3⍴0 1 1 0\n",
    "(2 2⍴0 1 0)⍷(3 3⍴0 1 1 0)"
   ]
  },
  {
   "cell_type": "markdown",
   "id": "c82c7362",
   "metadata": {},
   "source": [
    "and also for nested arrays, too:"
   ]
  },
  {
   "cell_type": "code",
   "execution_count": 18,
   "id": "cd801316",
   "metadata": {},
   "outputs": [
    {
     "data": {
      "text/html": [
       "<span style=\"white-space:pre; font-family: monospace\">0 1 0 0 0 1 0\n",
       "</span>"
      ]
     },
     "execution_count": 18,
     "metadata": {},
     "output_type": "execute_result"
    }
   ],
   "source": [
    "'aa' 'bbb'⍷'c' 'aa' 'bbb' 'dddd' 'aa' 'aa' 'bbb'"
   ]
  },
  {
   "cell_type": "markdown",
   "id": "b7e033f3",
   "metadata": {},
   "source": [
    "Quiz using `⍷`: Determine if A is a prefix of B. "
   ]
  },
  {
   "cell_type": "markdown",
   "id": "784a59c5",
   "metadata": {},
   "source": [
    "<details><summary><a>Click for quiz answer</a></summary><code>⊃⍷</code></details>"
   ]
  },
  {
   "cell_type": "markdown",
   "id": "b7dd96c9",
   "metadata": {},
   "source": [
    "How about: Is A a suffix of B?"
   ]
  },
  {
   "cell_type": "markdown",
   "id": "fa9e93b5",
   "metadata": {},
   "source": [
    "<details><summary><a>Click for quiz answer</a></summary><code>{⊃(⊖⍺)⍷⊖⍵}</code></details>"
   ]
  },
  {
   "cell_type": "markdown",
   "id": "0301844b",
   "metadata": {},
   "source": [
    "### Union `∪`\n",
    "\n",
    "Next function is dyadic `∪`. It is basically [union](http://help.dyalog.com/latest/index.htm#Language/Primitive%20Functions/Union.htm) of multi-sets. However, it is symmetrical in a way you can often use to your advantage: "
   ]
  },
  {
   "cell_type": "code",
   "execution_count": 21,
   "id": "6cb30188",
   "metadata": {},
   "outputs": [
    {
     "data": {
      "text/html": [
       "<span style=\"white-space:pre; font-family: monospace\">abccd\n",
       "</span>"
      ]
     },
     "execution_count": 21,
     "metadata": {},
     "output_type": "execute_result"
    },
    {
     "data": {
      "text/html": [
       "<span style=\"white-space:pre; font-family: monospace\">cdab\n",
       "</span>"
      ]
     },
     "execution_count": 21,
     "metadata": {},
     "output_type": "execute_result"
    }
   ],
   "source": [
    "'abcc'∪'cda'\n",
    "'cda'∪'abcc'"
   ]
  },
  {
   "cell_type": "markdown",
   "id": "e098f1c8",
   "metadata": {},
   "source": [
    "It preserves duplicates from the left argument, while only adding the items from the right necessary to make the result contain all elements from both. It will add duplicate elements from the right if they are not in the left, though: "
   ]
  },
  {
   "cell_type": "code",
   "execution_count": 22,
   "id": "564bb209",
   "metadata": {},
   "outputs": [
    {
     "data": {
      "text/html": [
       "<span style=\"white-space:pre; font-family: monospace\">abccdd\n",
       "</span>"
      ]
     },
     "execution_count": 22,
     "metadata": {},
     "output_type": "execute_result"
    }
   ],
   "source": [
    "'abcc'∪'cdda'"
   ]
  },
  {
   "cell_type": "markdown",
   "id": "83f7e9ad",
   "metadata": {},
   "source": [
    "### Unique `∪`\n",
    "\n",
    "The monadic `∪` is [unique](http://help.dyalog.com/latest/index.htm#Language/Primitive%20Functions/Unique.htm). It simply removes duplicates: "
   ]
  },
  {
   "cell_type": "code",
   "execution_count": 23,
   "id": "91c25ebd",
   "metadata": {},
   "outputs": [
    {
     "data": {
      "text/html": [
       "<span style=\"white-space:pre; font-family: monospace\">Misp\n",
       "</span>"
      ]
     },
     "execution_count": 23,
     "metadata": {},
     "output_type": "execute_result"
    }
   ],
   "source": [
    "∪'Mississippi'"
   ]
  },
  {
   "cell_type": "markdown",
   "id": "8c3ec286",
   "metadata": {},
   "source": [
    "### Intersection `∩`\n",
    "\n",
    "Dyadic `∩` is, of course, [intersection](http://help.dyalog.com/latest/index.htm#Language/Primitive%20Functions/Intersection.htm), again asymmetric: "
   ]
  },
  {
   "cell_type": "code",
   "execution_count": 24,
   "id": "f20be7fe",
   "metadata": {},
   "outputs": [
    {
     "data": {
      "text/html": [
       "<span style=\"white-space:pre; font-family: monospace\">acc\n",
       "</span>"
      ]
     },
     "execution_count": 24,
     "metadata": {},
     "output_type": "execute_result"
    },
    {
     "data": {
      "text/html": [
       "<span style=\"white-space:pre; font-family: monospace\">ca\n",
       "</span>"
      ]
     },
     "execution_count": 24,
     "metadata": {},
     "output_type": "execute_result"
    }
   ],
   "source": [
    "'abcc'∩'cda'\n",
    "'cda'∩'abcc'"
   ]
  },
  {
   "cell_type": "markdown",
   "id": "47b5c55a",
   "metadata": {},
   "source": [
    "It removes elements from the left which are not present in the right. Duplicates in the right do not matter.\n",
    "\n",
    "### Without `~`\n",
    "\n",
    "The last multi-set function is dyadic `~` which is [without](http://help.dyalog.com/latest/index.htm#Language/Primitive%20Functions/Excluding.htm) or _except_. It simply removes from the left whatever is on the right. Note that it can take even high-rank right arguments. "
   ]
  },
  {
   "cell_type": "code",
   "execution_count": 25,
   "id": "4a929c2e",
   "metadata": {},
   "outputs": [
    {
     "data": {
      "text/html": [
       "<span style=\"white-space:pre; font-family: monospace\">Miiii\n",
       "</span>"
      ]
     },
     "execution_count": 25,
     "metadata": {},
     "output_type": "execute_result"
    }
   ],
   "source": [
    "'Mississippi'~'pss'"
   ]
  },
  {
   "cell_type": "markdown",
   "id": "c75969a1",
   "metadata": {},
   "source": [
    "### NOT `~`\n",
    "\n",
    "Monadic `~` is logical [NOT](http://help.dyalog.com/latest/index.htm#Language/Primitive%20Functions/Not.htm), simply swapping `1→0` and `0→1`:"
   ]
  },
  {
   "cell_type": "code",
   "execution_count": 26,
   "id": "aae08d6c",
   "metadata": {},
   "outputs": [
    {
     "data": {
      "text/html": [
       "<span style=\"white-space:pre; font-family: monospace\">┌─────┬─────┐\n",
       "│0 1 1│1 0 0│\n",
       "│0 0 1│1 1 0│\n",
       "│1 0 0│0 1 1│\n",
       "└─────┴─────┘\n",
       "</span>"
      ]
     },
     "execution_count": 26,
     "metadata": {},
     "output_type": "execute_result"
    }
   ],
   "source": [
    "(3 3⍴0 1 1 0) (~3 3⍴0 1 1 0)"
   ]
  },
  {
   "cell_type": "markdown",
   "id": "6dcbd0e0",
   "metadata": {},
   "source": [
    "## `/\\⌿⍀,⍪`\n",
    "\n",
    "### Replicate `/`\n",
    "\n",
    "Next up is `/`. When what's on its left is an array rather than a function it instead acts like a function, which makes it unusual. We cover the operator case of `/` elsewhere, e.g. `+/` for sum. \n",
    "\n",
    "As a function, `/` is called [replicate](http://help.dyalog.com/latest/index.htm#Language/Primitive%20Functions/Replicate.htm). It replicates each element on the right to as many copies as indicated by the corresponding element on the left: "
   ]
  },
  {
   "cell_type": "code",
   "execution_count": 27,
   "id": "15c3590e",
   "metadata": {},
   "outputs": [
    {
     "data": {
      "text/html": [
       "<span style=\"white-space:pre; font-family: monospace\">Mississippi\n",
       "</span>"
      ]
     },
     "execution_count": 27,
     "metadata": {},
     "output_type": "execute_result"
    }
   ],
   "source": [
    "1 1 2 1 2 1 2 1/'Misisipi'"
   ]
  },
  {
   "cell_type": "markdown",
   "id": "258e3b11",
   "metadata": {},
   "source": [
    "A more common usage is with a Boolean left argument, where it then acts as a filter: "
   ]
  },
  {
   "cell_type": "code",
   "execution_count": 28,
   "id": "dd558e4b",
   "metadata": {},
   "outputs": [
    {
     "data": {
      "text/html": [
       "<span style=\"white-space:pre; font-family: monospace\">HllWrld\n",
       "</span>"
      ]
     },
     "execution_count": 28,
     "metadata": {},
     "output_type": "execute_result"
    }
   ],
   "source": [
    "1 0 1 1 0 0 1 0 1 1 1/'Hello World'"
   ]
  },
  {
   "cell_type": "markdown",
   "id": "dc96a0f7",
   "metadata": {},
   "source": [
    "It has one more trick: if you use a negative number, then it replaces the corresponding element with that many prototypes (spaces for characters and zeros for numbers): "
   ]
  },
  {
   "cell_type": "code",
   "execution_count": 29,
   "id": "3d93bde9",
   "metadata": {},
   "outputs": [
    {
     "data": {
      "text/html": [
       "<span style=\"white-space:pre; font-family: monospace\">He lo\n",
       "</span>"
      ]
     },
     "execution_count": 29,
     "metadata": {},
     "output_type": "execute_result"
    }
   ],
   "source": [
    "1 1 ¯1 1 1/'Hello'"
   ]
  },
  {
   "cell_type": "markdown",
   "id": "1313e22f",
   "metadata": {},
   "source": [
    "You can also use a single scalar to \"empty\" an array: "
   ]
  },
  {
   "cell_type": "code",
   "execution_count": 30,
   "id": "53dcf0d4",
   "metadata": {},
   "outputs": [
    {
     "data": {
      "text/html": [
       "<span style=\"white-space:pre; font-family: monospace\">\n",
       "</span>"
      ]
     },
     "execution_count": 30,
     "metadata": {},
     "output_type": "execute_result"
    },
    {
     "data": {
      "text/html": [
       "<span style=\"white-space:pre; font-family: monospace\">abc\n",
       "</span>"
      ]
     },
     "execution_count": 30,
     "metadata": {},
     "output_type": "execute_result"
    }
   ],
   "source": [
    "0/'abc'\n",
    "1/'abc' "
   ]
  },
  {
   "cell_type": "markdown",
   "id": "50ef3600",
   "metadata": {},
   "source": [
    "`1/x` can also be used to ensure that `x` has at least one dimension (it ravels scalars, leaving all other arrays untouched):"
   ]
  },
  {
   "cell_type": "code",
   "execution_count": 6,
   "id": "19963906",
   "metadata": {},
   "outputs": [
    {
     "data": {
      "text/html": [
       "<span style=\"white-space:pre; font-family: monospace\">1\n",
       "</span>"
      ]
     },
     "execution_count": 6,
     "metadata": {},
     "output_type": "execute_result"
    },
    {
     "data": {
      "text/html": [
       "<span style=\"white-space:pre; font-family: monospace\">2\n",
       "</span>"
      ]
     },
     "execution_count": 6,
     "metadata": {},
     "output_type": "execute_result"
    }
   ],
   "source": [
    "⍴1/8   ⍝ Scalar becomes vector, rank 1\n",
    "⍴1/8 8 ⍝ Higher ranks remain untouched"
   ]
  },
  {
   "cell_type": "markdown",
   "id": "fd446076",
   "metadata": {},
   "source": [
    "### Expand `\\`\n",
    "\n",
    "`/` has a cousin, `\\`, which, when used as a function, is called [expand](http://help.dyalog.com/latest/index.htm#Language/Primitive%20Functions/Expand.htm).\n",
    "\n",
    "Positive numbers on the left also replicate like with `/` but negative numbers insert that many prototypical elements at that position:"
   ]
  },
  {
   "cell_type": "code",
   "execution_count": 31,
   "id": "8301b39d",
   "metadata": {},
   "outputs": [
    {
     "data": {
      "text/html": [
       "<span style=\"white-space:pre; font-family: monospace\">1 2 0 3 4 5\n",
       "</span>"
      ]
     },
     "execution_count": 31,
     "metadata": {},
     "output_type": "execute_result"
    }
   ],
   "source": [
    "1 1 ¯1 1 1 1\\1 2 3 4 5"
   ]
  },
  {
   "cell_type": "markdown",
   "id": "e51f18bd",
   "metadata": {},
   "source": [
    "You can use `0` instead of `¯1` which makes it convenient to use Boolean left arguments.\n",
    "\n",
    "We can now begin to see how we can insert into an array. Let's go back to the problem of inserting 3 in between 2 and 4 in the list 1 2 4 5. Our method was: \n",
    "\n",
    "Get the indices of the elements: "
   ]
  },
  {
   "cell_type": "code",
   "execution_count": 32,
   "id": "b030176d",
   "metadata": {},
   "outputs": [
    {
     "data": {
      "text/html": [
       "<span style=\"white-space:pre; font-family: monospace\">1 2 3 4\n",
       "</span>"
      ]
     },
     "execution_count": 32,
     "metadata": {},
     "output_type": "execute_result"
    }
   ],
   "source": [
    "⍳≢1 2 4 5"
   ]
  },
  {
   "cell_type": "markdown",
   "id": "6a60d0fc",
   "metadata": {},
   "source": [
    "Look where the index is 2: "
   ]
  },
  {
   "cell_type": "code",
   "execution_count": 33,
   "id": "54f0a0b5",
   "metadata": {},
   "outputs": [
    {
     "data": {
      "text/html": [
       "<span style=\"white-space:pre; font-family: monospace\">0 1 0 0\n",
       "</span>"
      ]
     },
     "execution_count": 33,
     "metadata": {},
     "output_type": "execute_result"
    }
   ],
   "source": [
    "2=⍳≢1 2 4 5"
   ]
  },
  {
   "cell_type": "markdown",
   "id": "a7c02adf",
   "metadata": {},
   "source": [
    "That's where we want to expand: "
   ]
  },
  {
   "cell_type": "code",
   "execution_count": 34,
   "id": "f48d8f7a",
   "metadata": {},
   "outputs": [
    {
     "data": {
      "text/html": [
       "<span style=\"white-space:pre; font-family: monospace\">1 2 1 1\n",
       "</span>"
      ]
     },
     "execution_count": 34,
     "metadata": {},
     "output_type": "execute_result"
    }
   ],
   "source": [
    "1+2=⍳≢1 2 4 5"
   ]
  },
  {
   "cell_type": "markdown",
   "id": "a16e5f12",
   "metadata": {},
   "source": [
    "Use `\\` to perform the expansion:"
   ]
  },
  {
   "cell_type": "code",
   "execution_count": 37,
   "id": "0ff45a39",
   "metadata": {},
   "outputs": [
    {
     "data": {
      "text/html": [
       "<span style=\"white-space:pre; font-family: monospace\">1 2 2 4 5\n",
       "</span>"
      ]
     },
     "execution_count": 37,
     "metadata": {},
     "output_type": "execute_result"
    }
   ],
   "source": [
    "(1+2=⍳≢1 2 4 5)\\1 2 4 5 "
   ]
  },
  {
   "cell_type": "markdown",
   "id": "e717ba9a",
   "metadata": {},
   "source": [
    "Replace the extra 2 with our desired element: "
   ]
  },
  {
   "cell_type": "code",
   "execution_count": 38,
   "id": "002ff638",
   "metadata": {},
   "outputs": [
    {
     "data": {
      "text/html": [
       "<span style=\"white-space:pre; font-family: monospace\">1 2 3 4 5\n",
       "</span>"
      ]
     },
     "execution_count": 38,
     "metadata": {},
     "output_type": "execute_result"
    }
   ],
   "source": [
    "3@(1+2)⊢(1+2=⍳≢1 2 4 5)\\1 2 4 5"
   ]
  },
  {
   "cell_type": "markdown",
   "id": "f3f2532c",
   "metadata": {},
   "source": [
    "Just like the operators `/` and `\\` each have a sibling, `⌿` and `⍀` which do the same thing but along the first axis (i.e. on the major cells) so to with the functions `/` and `\\`: "
   ]
  },
  {
   "cell_type": "code",
   "execution_count": 39,
   "id": "e995a9d1",
   "metadata": {},
   "outputs": [
    {
     "data": {
      "text/html": [
       "<span style=\"white-space:pre; font-family: monospace\">┌──┬───┐\n",
       "│AC│ABC│\n",
       "│DF│GHI│\n",
       "│GI│   │\n",
       "└──┴───┘\n",
       "</span>"
      ]
     },
     "execution_count": 39,
     "metadata": {},
     "output_type": "execute_result"
    }
   ],
   "source": [
    "(1 0 1/3 3⍴⎕A) (1 0 1⌿3 3⍴⎕A)"
   ]
  },
  {
   "cell_type": "code",
   "execution_count": 40,
   "id": "ca02ed17",
   "metadata": {},
   "outputs": [
    {
     "data": {
      "text/html": [
       "<span style=\"white-space:pre; font-family: monospace\">┌─────┬───┐\n",
       "│A  BC│ABC│\n",
       "│D  EF│   │\n",
       "│G  HI│   │\n",
       "│     │DEF│\n",
       "│     │GHI│\n",
       "└─────┴───┘\n",
       "</span>"
      ]
     },
     "execution_count": 40,
     "metadata": {},
     "output_type": "execute_result"
    }
   ],
   "source": [
    "(1 ¯2 1 1\\3 3⍴⎕A) (1 ¯2 1 1⍀3 3⍴⎕A)"
   ]
  },
  {
   "cell_type": "markdown",
   "id": "6821c113",
   "metadata": {},
   "source": [
    "### Ravel `,`\n",
    "\n",
    "Monadic `,` [ravels](http://help.dyalog.com/latest/index.htm#Language/Primitive%20Functions/Ravel.htm). It takes all the scalars of an array and makes a single vector (list) out of them. This includes a scalar, so `,3` is a one-element vector:"
   ]
  },
  {
   "cell_type": "code",
   "execution_count": 41,
   "id": "c821ec45",
   "metadata": {},
   "outputs": [
    {
     "data": {
      "text/html": [
       "<span style=\"white-space:pre; font-family: monospace\">ABC\n",
       "DEF\n",
       "GHI\n",
       "</span>"
      ]
     },
     "execution_count": 41,
     "metadata": {},
     "output_type": "execute_result"
    },
    {
     "data": {
      "text/html": [
       "<span style=\"white-space:pre; font-family: monospace\">ABCDEFGHI\n",
       "</span>"
      ]
     },
     "execution_count": 41,
     "metadata": {},
     "output_type": "execute_result"
    }
   ],
   "source": [
    "3 3⍴⎕A\n",
    ",3 3⍴⎕A"
   ]
  },
  {
   "cell_type": "markdown",
   "id": "27b892bc",
   "metadata": {},
   "source": [
    "Question:\n",
    "> Isn't that the same as monadic `∊`?\n",
    "\n",
    "It is not. For example,"
   ]
  },
  {
   "cell_type": "code",
   "execution_count": 55,
   "id": "1a4d55de",
   "metadata": {},
   "outputs": [
    {
     "data": {
      "text/html": [
       "<span style=\"white-space:pre; font-family: monospace\">ABCDEFGHI\n",
       "</span>"
      ]
     },
     "execution_count": 55,
     "metadata": {},
     "output_type": "execute_result"
    },
    {
     "data": {
      "text/html": [
       "<span style=\"white-space:pre; font-family: monospace\">1 2 3 4 5 6 7 8 9 10 11 12 13 14 15 16 17 18 19 20 21 22 23 24 25 26 27\n",
       "</span>"
      ]
     },
     "execution_count": 55,
     "metadata": {},
     "output_type": "execute_result"
    }
   ],
   "source": [
    "∊3 3⍴⎕A\n",
    "∊3 3 3⍴⍳27"
   ]
  },
  {
   "cell_type": "markdown",
   "id": "39dd0b37",
   "metadata": {},
   "source": [
    "The difference is that `∊` will take all the data and make it a simple vector. `,` will take all the scalars and make it a (potentially nested) vector:"
   ]
  },
  {
   "cell_type": "code",
   "execution_count": 43,
   "id": "6c28712b",
   "metadata": {},
   "outputs": [
    {
     "data": {
      "text/html": [
       "<span style=\"white-space:pre; font-family: monospace\">abcdefghijkl\n",
       "</span>"
      ]
     },
     "execution_count": 43,
     "metadata": {},
     "output_type": "execute_result"
    },
    {
     "data": {
      "text/html": [
       "<span style=\"white-space:pre; font-family: monospace\">┌───┬───┬───┬───┐\n",
       "│abc│def│ghi│jkl│\n",
       "└───┴───┴───┴───┘\n",
       "</span>"
      ]
     },
     "execution_count": 43,
     "metadata": {},
     "output_type": "execute_result"
    }
   ],
   "source": [
    "∊2 2⍴'abc' 'def' 'ghi' 'jkl'\n",
    ",2 2⍴'abc' 'def' 'ghi' 'jkl' "
   ]
  },
  {
   "cell_type": "markdown",
   "id": "a23c5396",
   "metadata": {},
   "source": [
    "`∊` is the same as recursive application of `⊃,/`.\n",
    "\n",
    "### Catenate `,`\n",
    "\n",
    "Which brings us to dyadic `,`, [catenate](http://help.dyalog.com/latest/index.htm#Language/Primitive%20Functions/Catenate%20Laminate.htm), which is simply concatenation:"
   ]
  },
  {
   "cell_type": "code",
   "execution_count": 44,
   "id": "67c47c26",
   "metadata": {},
   "outputs": [
    {
     "data": {
      "text/html": [
       "<span style=\"white-space:pre; font-family: monospace\">1 2 3 4 5 6\n",
       "</span>"
      ]
     },
     "execution_count": 44,
     "metadata": {},
     "output_type": "execute_result"
    }
   ],
   "source": [
    "1 2 3,4 5 6"
   ]
  },
  {
   "cell_type": "markdown",
   "id": "dd3b8313",
   "metadata": {},
   "source": [
    "`,` can also get specified an axis upon which to act: "
   ]
  },
  {
   "cell_type": "code",
   "execution_count": 46,
   "id": "06af0201",
   "metadata": {},
   "outputs": [
    {
     "data": {
      "text/html": [
       "<span style=\"white-space:pre; font-family: monospace\">A B C\n",
       "D E F\n",
       "1 2 3\n",
       "4 5 6\n",
       "</span>"
      ]
     },
     "execution_count": 46,
     "metadata": {},
     "output_type": "execute_result"
    },
    {
     "data": {
      "text/html": [
       "<span style=\"white-space:pre; font-family: monospace\">ABC 1 2 3\n",
       "DEF 4 5 6\n",
       "</span>"
      ]
     },
     "execution_count": 46,
     "metadata": {},
     "output_type": "execute_result"
    }
   ],
   "source": [
    "(2 3⍴⎕A),[1](2 3⍴⍳6)\n",
    "(2 3⍴⎕A),[2](2 3⍴⍳6) "
   ]
  },
  {
   "cell_type": "markdown",
   "id": "b1303302",
   "metadata": {},
   "source": [
    "You can even use fractional axes to specify that you want to concatenate along a new inserted axis between the next lower and higher integer axes:"
   ]
  },
  {
   "cell_type": "code",
   "execution_count": 48,
   "id": "05f49445",
   "metadata": {},
   "outputs": [
    {
     "data": {
      "text/html": [
       "<span style=\"white-space:pre; font-family: monospace\">A B C\n",
       "D E F\n",
       "\n",
       "1 2 3\n",
       "4 5 6\n",
       "</span>"
      ]
     },
     "execution_count": 48,
     "metadata": {},
     "output_type": "execute_result"
    },
    {
     "data": {
      "text/html": [
       "<span style=\"white-space:pre; font-family: monospace\">A B C\n",
       "1 2 3\n",
       "\n",
       "D E F\n",
       "4 5 6\n",
       "</span>"
      ]
     },
     "execution_count": 48,
     "metadata": {},
     "output_type": "execute_result"
    }
   ],
   "source": [
    "(2 3⍴⎕A),[0.5](2 3⍴⍳6) ⍝ 3D array\n",
    "(2 3⍴⎕A),[1.5](2 3⍴⍳6) ⍝ 3D array "
   ]
  },
  {
   "cell_type": "markdown",
   "id": "90444833",
   "metadata": {},
   "source": [
    "This works for the monadic form too:"
   ]
  },
  {
   "cell_type": "code",
   "execution_count": 50,
   "id": "56b60aad",
   "metadata": {},
   "outputs": [
    {
     "data": {
      "text/html": [
       "<span style=\"white-space:pre; font-family: monospace\">ABC\n",
       "DEF\n",
       "</span>"
      ]
     },
     "execution_count": 50,
     "metadata": {},
     "output_type": "execute_result"
    },
    {
     "data": {
      "text/html": [
       "<span style=\"white-space:pre; font-family: monospace\">1 2 3\n",
       "</span>"
      ]
     },
     "execution_count": 50,
     "metadata": {},
     "output_type": "execute_result"
    },
    {
     "data": {
      "text/html": [
       "<span style=\"white-space:pre; font-family: monospace\">ABC\n",
       "\n",
       "DEF\n",
       "</span>"
      ]
     },
     "execution_count": 50,
     "metadata": {},
     "output_type": "execute_result"
    },
    {
     "data": {
      "text/html": [
       "<span style=\"white-space:pre; font-family: monospace\">2 1 3\n",
       "</span>"
      ]
     },
     "execution_count": 50,
     "metadata": {},
     "output_type": "execute_result"
    }
   ],
   "source": [
    ",[0.5]2 3⍴⎕A\n",
    "⍴,[0.5]2 3⍴⎕A\n",
    ",[1.5]2 3⍴⎕A\n",
    "⍴,[1.5]2 3⍴⎕A"
   ]
  },
  {
   "cell_type": "markdown",
   "id": "8ef5596a",
   "metadata": {},
   "source": [
    "### Catenate first `⍪`\n",
    "\n",
    "Then we have `⍪`. The dyadic `⍪` is a synonym for `,[1]`, and it's sometimes referred to as [catenate first](http://help.dyalog.com/latest/index.htm#Language/Primitive%20Functions/Catenate%20First.htm):"
   ]
  },
  {
   "cell_type": "code",
   "execution_count": 51,
   "id": "553de3ff",
   "metadata": {},
   "outputs": [
    {
     "data": {
      "text/html": [
       "<span style=\"white-space:pre; font-family: monospace\">A B C\n",
       "D E F\n",
       "1 2 3\n",
       "4 5 6\n",
       "</span>"
      ]
     },
     "execution_count": 51,
     "metadata": {},
     "output_type": "execute_result"
    },
    {
     "data": {
      "text/html": [
       "<span style=\"white-space:pre; font-family: monospace\">A B C\n",
       "D E F\n",
       "1 2 3\n",
       "4 5 6\n",
       "</span>"
      ]
     },
     "execution_count": 51,
     "metadata": {},
     "output_type": "execute_result"
    }
   ],
   "source": [
    "(2 3⍴⎕A),[1](2 3⍴⍳6)\n",
    "(2 3⍴⎕A)⍪(2 3⍴⍳6)"
   ]
  },
  {
   "cell_type": "markdown",
   "id": "60199325",
   "metadata": {},
   "source": [
    "### Table `⍪`\n",
    "\n",
    "Monadic `⍪` is called [table](http://help.dyalog.com/latest/index.htm#Language/Primitive%20Functions/Table.htm) as it ensures that the result is a table. It ravels the major cells of an array and makes each one of them into a row (i.e. a major cell) of a matrix: "
   ]
  },
  {
   "cell_type": "code",
   "execution_count": 56,
   "id": "75a9bf35",
   "metadata": {},
   "outputs": [
    {
     "data": {
      "text/html": [
       "<span style=\"white-space:pre; font-family: monospace\">ABCD\n",
       "EFGH\n",
       "IJKL\n",
       "\n",
       "MNOP\n",
       "QRST\n",
       "UVWX\n",
       "</span>"
      ]
     },
     "execution_count": 56,
     "metadata": {},
     "output_type": "execute_result"
    },
    {
     "data": {
      "text/html": [
       "<span style=\"white-space:pre; font-family: monospace\">ABCDEFGHIJKL\n",
       "MNOPQRSTUVWX\n",
       "</span>"
      ]
     },
     "execution_count": 56,
     "metadata": {},
     "output_type": "execute_result"
    }
   ],
   "source": [
    "2 3 4⍴⎕A\n",
    "⍪2 3 4⍴⎕A"
   ]
  },
  {
   "cell_type": "markdown",
   "id": "ad5fa24a",
   "metadata": {},
   "source": [
    "That is, monadic `⍪` is just a synonym for `,⍤¯1` (except for scalars). To be universal, we'd need to say `{,⍤¯1⊢1/⍵}`."
   ]
  },
  {
   "cell_type": "markdown",
   "id": "75fc5522",
   "metadata": {},
   "source": [
    "## `⍴⌽⊖⍉⍎⍕`"
   ]
  },
  {
   "cell_type": "markdown",
   "id": "8eef3313",
   "metadata": {},
   "source": [
    "### Reshape `⍴`\n",
    "\n",
    "We've met ⍴ (Greek Rho) in passing before. Let's cover it in more depth. `⍴` is maybe the most fundamental function in an array language, as it allows the formation of multi-dimensional (high-rank) arrays. Note that `⍴` is not _actually_ the Greek Rho in Unicode. Dyalog APL only uses the special Unicode APL Rho. \n",
    " \n",
    "The Greek letter Rho is has the sound of the letter R, and stands for [reshape](http://help.dyalog.com/latest/index.htm#Language/Primitive%20Functions/Reshape.htm). The right argument of `⍴` is used in ravel order to fill an array with the dimensions given by the left argument. The left argument must therefore be a vector (list) of dimension lengths (although for ease of use, we do allow a scalar instead of a one-element vector). Another way to look at it is that the left argument of `⍴` is the index of the last element in the resulting array (if you stick to the default `⎕IO` of 1). If you omit the shape (left argument) then the current shape is returned. "
   ]
  },
  {
   "cell_type": "code",
   "execution_count": 2,
   "id": "250d60ea",
   "metadata": {},
   "outputs": [
    {
     "data": {
      "text/html": [
       "<span style=\"white-space:pre; font-family: monospace\">aaa\n",
       "</span>"
      ]
     },
     "execution_count": 2,
     "metadata": {},
     "output_type": "execute_result"
    },
    {
     "data": {
      "text/html": [
       "<span style=\"white-space:pre; font-family: monospace\">aba\n",
       "</span>"
      ]
     },
     "execution_count": 2,
     "metadata": {},
     "output_type": "execute_result"
    },
    {
     "data": {
      "text/html": [
       "<span style=\"white-space:pre; font-family: monospace\">abc\n",
       "</span>"
      ]
     },
     "execution_count": 2,
     "metadata": {},
     "output_type": "execute_result"
    },
    {
     "data": {
      "text/html": [
       "<span style=\"white-space:pre; font-family: monospace\">abc\n",
       "abc\n",
       "</span>"
      ]
     },
     "execution_count": 2,
     "metadata": {},
     "output_type": "execute_result"
    }
   ],
   "source": [
    "3⍴'a'\n",
    "3⍴'ab'\n",
    "3⍴'abcd'\n",
    "2 3⍴'abc'"
   ]
  },
  {
   "cell_type": "markdown",
   "id": "7f7b89db",
   "metadata": {},
   "source": [
    "That's two rows and three columns. The order of the left argument is the number of major cells first and of \"leaf\" cells last. "
   ]
  },
  {
   "cell_type": "code",
   "execution_count": 4,
   "id": "cab39a10",
   "metadata": {},
   "outputs": [
    {
     "data": {
      "text/html": [
       "<span style=\"white-space:pre; font-family: monospace\">13 23 33 43\n",
       "14 24 34 44\n",
       "15 25 35 45\n",
       "</span>"
      ]
     },
     "execution_count": 4,
     "metadata": {},
     "output_type": "execute_result"
    },
    {
     "data": {
      "text/html": [
       "<span style=\"white-space:pre; font-family: monospace\">3 4\n",
       "</span>"
      ]
     },
     "execution_count": 4,
     "metadata": {},
     "output_type": "execute_result"
    }
   ],
   "source": [
    "3 4 5∘.+10 20 30 40\n",
    "⍴3 4 5∘.+10 20 30 40"
   ]
  },
  {
   "cell_type": "markdown",
   "id": "2b80de3a",
   "metadata": {},
   "source": [
    "A scalar doesn't have any dimensions, so the corresponding left argument is `⍬` (or `0⍴0`): "
   ]
  },
  {
   "cell_type": "code",
   "execution_count": 5,
   "id": "5a8a9827",
   "metadata": {},
   "outputs": [
    {
     "data": {
      "text/html": [
       "<span style=\"white-space:pre; font-family: monospace\">13\n",
       "</span>"
      ]
     },
     "execution_count": 5,
     "metadata": {},
     "output_type": "execute_result"
    }
   ],
   "source": [
    "⍬⍴3 4 5∘.+10 20 30 40"
   ]
  },
  {
   "cell_type": "markdown",
   "id": "9f6b5630",
   "metadata": {},
   "source": [
    "If one or more dimensions are 0, then the array doesn't have any elements, but it is still there. If it has rank 2 or higher, then it has an empty default display. If an array has no elements, then `⍴` will uses its prototype to fill any array it needs to form:"
   ]
  },
  {
   "cell_type": "code",
   "execution_count": 6,
   "id": "4aba5637",
   "metadata": {},
   "outputs": [
    {
     "data": {
      "text/html": [
       "<span style=\"white-space:pre; font-family: monospace\">0 0 0\n",
       "0 0 0\n",
       "</span>"
      ]
     },
     "execution_count": 6,
     "metadata": {},
     "output_type": "execute_result"
    }
   ],
   "source": [
    "2 3⍴⍬"
   ]
  },
  {
   "cell_type": "markdown",
   "id": "20889f3f",
   "metadata": {},
   "source": [
    "Recall that `⍬` is just `0⍴0` so it being simple and numeric, its prototype is 0. \n",
    "\n",
    "### Reverse `⌽`\n",
    "\n",
    "Monadic `⌽` is [reverse](https://help.dyalog.com/latest/#Language/Primitive%20Functions/Reverse.htm). It reverses the leaf rank-1 sub-arrays of an array. For a matrix, it means reversing each row: "
   ]
  },
  {
   "cell_type": "code",
   "execution_count": 7,
   "id": "ceee9cc1",
   "metadata": {},
   "outputs": [
    {
     "data": {
      "text/html": [
       "<span style=\"white-space:pre; font-family: monospace\">1 2 3 4\n",
       "5 6 7 8\n",
       "</span>"
      ]
     },
     "execution_count": 7,
     "metadata": {},
     "output_type": "execute_result"
    },
    {
     "data": {
      "text/html": [
       "<span style=\"white-space:pre; font-family: monospace\">4 3 2 1\n",
       "8 7 6 5\n",
       "</span>"
      ]
     },
     "execution_count": 7,
     "metadata": {},
     "output_type": "execute_result"
    }
   ],
   "source": [
    "2 4⍴⍳8\n",
    "⌽2 4⍴⍳8"
   ]
  },
  {
   "cell_type": "markdown",
   "id": "eae623b1",
   "metadata": {},
   "source": [
    "For a vector, it simply means reversing the vector:"
   ]
  },
  {
   "cell_type": "code",
   "execution_count": 9,
   "id": "1e14940e",
   "metadata": {},
   "outputs": [
    {
     "data": {
      "text/html": [
       "<span style=\"white-space:pre; font-family: monospace\">ABCDEFGHIJKLMNOPQRSTUVWXYZ\n",
       "</span>"
      ]
     },
     "execution_count": 9,
     "metadata": {},
     "output_type": "execute_result"
    },
    {
     "data": {
      "text/html": [
       "<span style=\"white-space:pre; font-family: monospace\">ZYXWVUTSRQPONMLKJIHGFEDCBA\n",
       "</span>"
      ]
     },
     "execution_count": 9,
     "metadata": {},
     "output_type": "execute_result"
    }
   ],
   "source": [
    "⎕A\n",
    "⌽⎕A"
   ]
  },
  {
   "cell_type": "markdown",
   "id": "4e929d7b",
   "metadata": {},
   "source": [
    "Of course, it doesn't affect scalars.\n",
    "\n",
    "### Reverse first `⊖`\n",
    "\n",
    "`⌽` has a sibling, just like `/` and `\\` have `⌿` and `⍀`, namely [reverse first](https://help.dyalog.com/latest/#Language/Primitive%20Functions/Reverse%20First.htm), `⊖`, which I usually call \"Flip\". `⊖` reverses the order of major cells, which for a matrix means reversing the order of the rows, i.e. flipping it upside down: "
   ]
  },
  {
   "cell_type": "code",
   "execution_count": 10,
   "id": "b1ea2529",
   "metadata": {},
   "outputs": [
    {
     "data": {
      "text/html": [
       "<span style=\"white-space:pre; font-family: monospace\">5 6 7 8\n",
       "1 2 3 4\n",
       "</span>"
      ]
     },
     "execution_count": 10,
     "metadata": {},
     "output_type": "execute_result"
    }
   ],
   "source": [
    "⊖2 4⍴⍳8"
   ]
  },
  {
   "cell_type": "markdown",
   "id": "758b22e3",
   "metadata": {},
   "source": [
    "For vectors, it is the same as `⌽` and again it does nothing to scalars. For a 3D array, it reverses the order of layers:"
   ]
  },
  {
   "cell_type": "code",
   "execution_count": 12,
   "id": "87f28282",
   "metadata": {},
   "outputs": [
    {
     "data": {
      "text/html": [
       "<span style=\"white-space:pre; font-family: monospace\">ABC\n",
       "DEF\n",
       "\n",
       "GHI\n",
       "JKL\n",
       "\n",
       "MNO\n",
       "PQR\n",
       "\n",
       "STU\n",
       "VWX\n",
       "</span>"
      ]
     },
     "execution_count": 12,
     "metadata": {},
     "output_type": "execute_result"
    },
    {
     "data": {
      "text/html": [
       "<span style=\"white-space:pre; font-family: monospace\">STU\n",
       "VWX\n",
       "\n",
       "MNO\n",
       "PQR\n",
       "\n",
       "GHI\n",
       "JKL\n",
       "\n",
       "ABC\n",
       "DEF\n",
       "</span>"
      ]
     },
     "execution_count": 12,
     "metadata": {},
     "output_type": "execute_result"
    }
   ],
   "source": [
    "4 2 3⍴⎕A\n",
    "⊖4 2 3⍴⎕A"
   ]
  },
  {
   "cell_type": "markdown",
   "id": "21043246",
   "metadata": {},
   "source": [
    "Dyadic `⌽` and `⊖` do rotations instead of reversals:"
   ]
  },
  {
   "cell_type": "code",
   "execution_count": 14,
   "id": "78e62fc1",
   "metadata": {},
   "outputs": [
    {
     "data": {
      "text/html": [
       "<span style=\"white-space:pre; font-family: monospace\">DEFGHIJKLMNOPQRSTUVWXYZABC\n",
       "</span>"
      ]
     },
     "execution_count": 14,
     "metadata": {},
     "output_type": "execute_result"
    },
    {
     "data": {
      "text/html": [
       "<span style=\"white-space:pre; font-family: monospace\">GHI\n",
       "JKL\n",
       "\n",
       "MNO\n",
       "PQR\n",
       "\n",
       "STU\n",
       "VWX\n",
       "\n",
       "ABC\n",
       "DEF\n",
       "</span>"
      ]
     },
     "execution_count": 14,
     "metadata": {},
     "output_type": "execute_result"
    }
   ],
   "source": [
    "3⊖⎕A\n",
    "1⊖4 2 3⍴⎕A"
   ]
  },
  {
   "cell_type": "markdown",
   "id": "3714eeb0",
   "metadata": {},
   "source": [
    "Negative rotation amounts just rotate to the other way: "
   ]
  },
  {
   "cell_type": "code",
   "execution_count": 15,
   "id": "1bd9089a",
   "metadata": {},
   "outputs": [
    {
     "data": {
      "text/html": [
       "<span style=\"white-space:pre; font-family: monospace\">XYZABCDEFGHIJKLMNOPQRSTUVW\n",
       "</span>"
      ]
     },
     "execution_count": 15,
     "metadata": {},
     "output_type": "execute_result"
    }
   ],
   "source": [
    "¯3⊖⎕A"
   ]
  },
  {
   "cell_type": "markdown",
   "id": "98bc95ac",
   "metadata": {},
   "source": [
    "Here is a cool feature of `⌽` and `⊖`: If you give them a vector of rotation amounts, they get distributed on the relevant cells: "
   ]
  },
  {
   "cell_type": "code",
   "execution_count": 16,
   "id": "483c0653",
   "metadata": {},
   "outputs": [
    {
     "data": {
      "text/html": [
       "<span style=\"white-space:pre; font-family: monospace\">ABCD\n",
       "EFGH\n",
       "IJKL\n",
       "</span>"
      ]
     },
     "execution_count": 16,
     "metadata": {},
     "output_type": "execute_result"
    },
    {
     "data": {
      "text/html": [
       "<span style=\"white-space:pre; font-family: monospace\">BCDA\n",
       "EFGH\n",
       "KLIJ\n",
       "</span>"
      ]
     },
     "execution_count": 16,
     "metadata": {},
     "output_type": "execute_result"
    },
    {
     "data": {
      "text/html": [
       "<span style=\"white-space:pre; font-family: monospace\">EBKD\n",
       "IFCH\n",
       "AJGL\n",
       "</span>"
      ]
     },
     "execution_count": 16,
     "metadata": {},
     "output_type": "execute_result"
    }
   ],
   "source": [
    "3 4⍴⎕A\n",
    "1 0 2⌽3 4⍴⎕A\n",
    "1 0 ¯1 0⊖3 4⍴⎕A"
   ]
  },
  {
   "cell_type": "markdown",
   "id": "769c10a1",
   "metadata": {},
   "source": [
    "### Transpose `⍉`\n",
    "\n",
    "`⌽` and `⊖` also have a cousin named `⍉` (Transpose). The monadic function does not reverse the major cells or the rank 1 cells, but rather reverses the order of the indices. For matrices this is normal transposing: "
   ]
  },
  {
   "cell_type": "code",
   "execution_count": 17,
   "id": "4eb04237",
   "metadata": {},
   "outputs": [
    {
     "data": {
      "text/html": [
       "<span style=\"white-space:pre; font-family: monospace\">ABCD\n",
       "EFGH\n",
       "IJKL\n",
       "</span>"
      ]
     },
     "execution_count": 17,
     "metadata": {},
     "output_type": "execute_result"
    },
    {
     "data": {
      "text/html": [
       "<span style=\"white-space:pre; font-family: monospace\">AEI\n",
       "BFJ\n",
       "CGK\n",
       "DHL\n",
       "</span>"
      ]
     },
     "execution_count": 17,
     "metadata": {},
     "output_type": "execute_result"
    }
   ],
   "source": [
    "3 4⍴⎕A\n",
    "⍉3 4⍴⎕A"
   ]
  },
  {
   "cell_type": "markdown",
   "id": "3c86d2a2",
   "metadata": {},
   "source": [
    "For arrays of rank higher than 2 it helps to think of the shape as being reversed:"
   ]
  },
  {
   "cell_type": "code",
   "execution_count": 18,
   "id": "6d03ef4f",
   "metadata": {},
   "outputs": [
    {
     "data": {
      "text/html": [
       "<span style=\"white-space:pre; font-family: monospace\">ABCD\n",
       "EFGH\n",
       "IJKL\n",
       "\n",
       "MNOP\n",
       "QRST\n",
       "UVWX\n",
       "</span>"
      ]
     },
     "execution_count": 18,
     "metadata": {},
     "output_type": "execute_result"
    },
    {
     "data": {
      "text/html": [
       "<span style=\"white-space:pre; font-family: monospace\">AM\n",
       "EQ\n",
       "IU\n",
       "\n",
       "BN\n",
       "FR\n",
       "JV\n",
       "\n",
       "CO\n",
       "GS\n",
       "KW\n",
       "\n",
       "DP\n",
       "HT\n",
       "LX\n",
       "</span>"
      ]
     },
     "execution_count": 18,
     "metadata": {},
     "output_type": "execute_result"
    }
   ],
   "source": [
    "2 3 4⍴⎕A\n",
    "⍉2 3 4⍴⎕A"
   ]
  },
  {
   "cell_type": "markdown",
   "id": "d48c70a6",
   "metadata": {},
   "source": [
    "If you look carefully, you can see that the runs like ABCD which originally spanned rows are now spanning layers. Look at the top left corner of each new layer. So, too, are the layers now spanning rows. Look how the top left of the layers, A and M are now next to each other in a row. Whilst the column AEI is still a column, because reversing the shape 2 3 4 (layers, rows, columns) gives 4 3 2 (columns, rows, layers) so the runs spanning rows are in the same position, still spanning rows.\n",
    "\n",
    "Now you know how to reverse the order of axes, but what if you want an entirely _new_ order? That's what dyadic `⍉` does. The left argument is the indices of the axes in the desired order. Therefore, if we reverse the indices of the rank, it is the same as monadic transpose: "
   ]
  },
  {
   "cell_type": "code",
   "execution_count": 19,
   "id": "26b8372b",
   "metadata": {},
   "outputs": [
    {
     "data": {
      "text/html": [
       "<span style=\"white-space:pre; font-family: monospace\">AM\n",
       "EQ\n",
       "IU\n",
       "\n",
       "BN\n",
       "FR\n",
       "JV\n",
       "\n",
       "CO\n",
       "GS\n",
       "KW\n",
       "\n",
       "DP\n",
       "HT\n",
       "LX\n",
       "</span>"
      ]
     },
     "execution_count": 19,
     "metadata": {},
     "output_type": "execute_result"
    }
   ],
   "source": [
    "3 2 1⍉2 3 4⍴⎕A"
   ]
  },
  {
   "cell_type": "markdown",
   "id": "e5e99797",
   "metadata": {},
   "source": [
    "Now we can keep the layers and only reverse (i.e. transpose) columns/rows: "
   ]
  },
  {
   "cell_type": "code",
   "execution_count": 20,
   "id": "2777cc25",
   "metadata": {},
   "outputs": [
    {
     "data": {
      "text/html": [
       "<span style=\"white-space:pre; font-family: monospace\">AEI\n",
       "BFJ\n",
       "CGK\n",
       "DHL\n",
       "\n",
       "MQU\n",
       "NRV\n",
       "OSW\n",
       "PTX\n",
       "</span>"
      ]
     },
     "execution_count": 20,
     "metadata": {},
     "output_type": "execute_result"
    }
   ],
   "source": [
    "1 3 2⍉2 3 4⍴⎕A"
   ]
  },
  {
   "cell_type": "markdown",
   "id": "f496cdc0",
   "metadata": {},
   "source": [
    "Here is a very cool thing: You can duplicate indices in the left argument. If so, APL will merge the indicated axes, taking only the elements that have equal indices along those two axes. This is the diagonal or diagonal plane, or diagonal 3D array (!), etc. "
   ]
  },
  {
   "cell_type": "code",
   "execution_count": 21,
   "id": "76009a3a",
   "metadata": {},
   "outputs": [
    {
     "data": {
      "text/html": [
       "<span style=\"white-space:pre; font-family: monospace\">ABCD\n",
       "EFGH\n",
       "IJKL\n",
       "</span>"
      ]
     },
     "execution_count": 21,
     "metadata": {},
     "output_type": "execute_result"
    },
    {
     "data": {
      "text/html": [
       "<span style=\"white-space:pre; font-family: monospace\">AFK\n",
       "</span>"
      ]
     },
     "execution_count": 21,
     "metadata": {},
     "output_type": "execute_result"
    },
    {
     "data": {
      "text/html": [
       "<span style=\"white-space:pre; font-family: monospace\">AR\n",
       "</span>"
      ]
     },
     "execution_count": 21,
     "metadata": {},
     "output_type": "execute_result"
    },
    {
     "data": {
      "text/html": [
       "<span style=\"white-space:pre; font-family: monospace\">ABCD\n",
       "QRST\n",
       "</span>"
      ]
     },
     "execution_count": 21,
     "metadata": {},
     "output_type": "execute_result"
    }
   ],
   "source": [
    "3 4⍴⎕A\n",
    "1 1⍉3 4⍴⎕A\n",
    "1 1 1⍉2 3 4⍴⎕A\n",
    "1 1 2⍉2 3 4⍴⎕A"
   ]
  },
  {
   "cell_type": "markdown",
   "id": "48da9672",
   "metadata": {},
   "source": [
    "Here the layers and rows got merged, i.e. 1st row of 1st layer and 2nd row of 2nd layer, while the columns stayed as is. "
   ]
  },
  {
   "cell_type": "code",
   "execution_count": 22,
   "id": "e2a755d1",
   "metadata": {},
   "outputs": [
    {
     "data": {
      "text/html": [
       "<span style=\"white-space:pre; font-family: monospace\">AEI\n",
       "NRV\n",
       "</span>"
      ]
     },
     "execution_count": 22,
     "metadata": {},
     "output_type": "execute_result"
    }
   ],
   "source": [
    "1 2 1⍉2 3 4⍴⎕A"
   ]
  },
  {
   "cell_type": "markdown",
   "id": "bdfb2cac",
   "metadata": {},
   "source": [
    "Here we merged layers and columns, i.e. 1st column of 1st layer and second column of 2nd layer. Dyadic `⍉` is pretty advanced and quite rarely used, but when you need it (and can figure out the correct left argument — experiment!) it is really handy. \n",
    "\n",
    "Here's an example. Given a multiplication table, what were the numbers that generated it?"
   ]
  },
  {
   "cell_type": "code",
   "execution_count": 23,
   "id": "c12c4cde",
   "metadata": {},
   "outputs": [
    {
     "data": {
      "text/html": [
       "<span style=\"white-space:pre; font-family: monospace\"> 9 6 12\n",
       " 6 4  8\n",
       "12 8 16\n",
       "</span>"
      ]
     },
     "execution_count": 23,
     "metadata": {},
     "output_type": "execute_result"
    }
   ],
   "source": [
    "3 3⍴9 6 12 6 4 8 12 8 16 ⍝ A multiplication table"
   ]
  },
  {
   "cell_type": "markdown",
   "id": "c77d4ad2",
   "metadata": {},
   "source": [
    "In this case, the answer is `3 2 4`:"
   ]
  },
  {
   "cell_type": "code",
   "execution_count": 24,
   "id": "d69dbbaa",
   "metadata": {},
   "outputs": [
    {
     "data": {
      "text/html": [
       "<span style=\"white-space:pre; font-family: monospace\"> 9 6 12\n",
       " 6 4  8\n",
       "12 8 16\n",
       "</span>"
      ]
     },
     "execution_count": 24,
     "metadata": {},
     "output_type": "execute_result"
    }
   ],
   "source": [
    "∘.×⍨3 2 4"
   ]
  },
  {
   "cell_type": "markdown",
   "id": "9f4eb396",
   "metadata": {},
   "source": [
    "We can 'reverse engineer' this by finding the square root of the diagonal elements:"
   ]
  },
  {
   "cell_type": "code",
   "execution_count": 28,
   "id": "9450a499",
   "metadata": {},
   "outputs": [
    {
     "data": {
      "text/html": [
       "<span style=\"white-space:pre; font-family: monospace\">9 4 16\n",
       "</span>"
      ]
     },
     "execution_count": 28,
     "metadata": {},
     "output_type": "execute_result"
    },
    {
     "data": {
      "text/html": [
       "<span style=\"white-space:pre; font-family: monospace\">3 2 4\n",
       "</span>"
      ]
     },
     "execution_count": 28,
     "metadata": {},
     "output_type": "execute_result"
    }
   ],
   "source": [
    "1 1⍉3 3⍴9 6 12 6 4 8 12 8 16       ⍝ main diagonal\n",
    "0.5*⍨1 1⍉3 3⍴9 6 12 6 4 8 12 8 16"
   ]
  },
  {
   "cell_type": "markdown",
   "id": "06ff73fe",
   "metadata": {},
   "source": [
    "### Execute `⍎`"
   ]
  },
  {
   "cell_type": "markdown",
   "id": "ace5b47b",
   "metadata": {},
   "source": [
    "[Execute](http://help.dyalog.com/latest/index.htm#Language/Primitive%20Functions/Execute.htm), `⍎`, evaluates a string representing a line of APL. This can be any valid APL expression, including functions and multiple statements:"
   ]
  },
  {
   "cell_type": "code",
   "execution_count": 31,
   "id": "68de52b3",
   "metadata": {},
   "outputs": [
    {
     "data": {
      "text/html": [
       "<span style=\"white-space:pre; font-family: monospace\">5\n",
       "</span>"
      ]
     },
     "execution_count": 31,
     "metadata": {},
     "output_type": "execute_result"
    },
    {
     "data": {
      "text/html": [
       "<span style=\"white-space:pre; font-family: monospace\">5\n",
       "</span>"
      ]
     },
     "execution_count": 31,
     "metadata": {},
     "output_type": "execute_result"
    },
    {
     "data": {
      "text/html": [
       "<span style=\"white-space:pre; font-family: monospace\">5\n",
       "</span>"
      ]
     },
     "execution_count": 31,
     "metadata": {},
     "output_type": "execute_result"
    }
   ],
   "source": [
    "⍎'2+3'\n",
    "2(⍎'+')3\n",
    "⍎'a←2 ⋄ a←a+3 ⋄ a'"
   ]
  },
  {
   "cell_type": "markdown",
   "id": "002828ef",
   "metadata": {},
   "source": [
    "The result of `⍎` is the result of the last statement, if that has a result. If it doesn't (e.g. it is an empty statement or has a leading `{}`), then `⍎` doesn't have a result either. The result of `⍎` can be a monadic operator: "
   ]
  },
  {
   "cell_type": "code",
   "execution_count": 32,
   "id": "0a511a47",
   "metadata": {},
   "outputs": [
    {
     "data": {
      "text/html": [
       "<span style=\"white-space:pre; font-family: monospace\">3 4\n",
       "</span>"
      ]
     },
     "execution_count": 32,
     "metadata": {},
     "output_type": "execute_result"
    }
   ],
   "source": [
    "≢(⍎'¨')'abc' 'defg'"
   ]
  },
  {
   "cell_type": "markdown",
   "id": "c290631a",
   "metadata": {},
   "source": [
    "`⍎` has all the features of a line of APL. You can run your entire program from `⍎`. Indeed, when a workspace is loaded, APL automatically does `⍎⎕LX` to bootstrap your application. This is what causes the greeting message when you load a workspace like [dfns](http://dfns.dyalog.com/). \n",
    "\n",
    "Dyadic `⍎` is exactly like the monadic, but executes the expression in the namespace named in the left argument. "
   ]
  },
  {
   "cell_type": "code",
   "execution_count": 34,
   "id": "d13cf134",
   "metadata": {},
   "outputs": [
    {
     "data": {
      "text/html": [
       "<span style=\"white-space:pre; font-family: monospace\">base\n",
       "</span>"
      ]
     },
     "execution_count": 34,
     "metadata": {},
     "output_type": "execute_result"
    },
    {
     "data": {
      "text/html": [
       "<span style=\"white-space:pre; font-family: monospace\">sub\n",
       "</span>"
      ]
     },
     "execution_count": 34,
     "metadata": {},
     "output_type": "execute_result"
    }
   ],
   "source": [
    "0 0⍴a←'base'\n",
    "ns←⎕NS⍬\n",
    "ns.a←'sub'\n",
    "⍎'a'\n",
    "'ns'⍎'a'"
   ]
  },
  {
   "cell_type": "markdown",
   "id": "95eab8e4",
   "metadata": {},
   "source": [
    "Here we first set `a` to `'base'` in `#` (the root namespace), then we created the empty namespace `ns`, populated it there, then evaluated `a` here (in `#`) and then in `ns`. In other words, monadic `⍎` is the same as dyadic `⍎` but with the default left argument of `⎕THIS` (this current namespace).\n",
    "\n",
    "Nowadays, we usually \"dot into\" namespaces to evaluate there: "
   ]
  },
  {
   "cell_type": "code",
   "execution_count": 35,
   "id": "554a7d94",
   "metadata": {},
   "outputs": [
    {
     "data": {
      "text/html": [
       "<span style=\"white-space:pre; font-family: monospace\">base\n",
       "</span>"
      ]
     },
     "execution_count": 35,
     "metadata": {},
     "output_type": "execute_result"
    },
    {
     "data": {
      "text/html": [
       "<span style=\"white-space:pre; font-family: monospace\">sub\n",
       "</span>"
      ]
     },
     "execution_count": 35,
     "metadata": {},
     "output_type": "execute_result"
    }
   ],
   "source": [
    "0 0⍴a←'base'\n",
    "ns←⎕NS⍬\n",
    "ns.a←'sub'\n",
    "⍎'a'\n",
    "ns.⍎'a'"
   ]
  },
  {
   "cell_type": "markdown",
   "id": "2b7de4a4",
   "metadata": {},
   "source": [
    "Same as before, but here we used the \"value\" of `⍎` _inside_ `ns` instead of `⍎`'s value here. \n",
    "\n",
    "### Format `⍕`\n",
    "\n",
    "[Format](http://help.dyalog.com/latest/index.htm#Language/Primitive%20Functions/Format%20Monadic.htm), `⍕`, is really quite simple. It returns a simple character vector or matrix which displays exactly as if its argument had been displayed: "
   ]
  },
  {
   "cell_type": "code",
   "execution_count": 39,
   "id": "6ca5c564",
   "metadata": {},
   "outputs": [
    {
     "data": {
      "text/html": [
       "<span style=\"white-space:pre; font-family: monospace\">┌→──────┐\n",
       "│1 2 3 4│\n",
       "└~──────┘\n",
       "</span>"
      ]
     },
     "execution_count": 39,
     "metadata": {},
     "output_type": "execute_result"
    },
    {
     "data": {
      "text/html": [
       "<span style=\"white-space:pre; font-family: monospace\">4\n",
       "</span>"
      ]
     },
     "execution_count": 39,
     "metadata": {},
     "output_type": "execute_result"
    },
    {
     "data": {
      "text/html": [
       "<span style=\"white-space:pre; font-family: monospace\">┌→──────┐\n",
       "│1 2 3 4│\n",
       "└───────┘\n",
       "</span>"
      ]
     },
     "execution_count": 39,
     "metadata": {},
     "output_type": "execute_result"
    },
    {
     "data": {
      "text/html": [
       "<span style=\"white-space:pre; font-family: monospace\">7\n",
       "</span>"
      ]
     },
     "execution_count": 39,
     "metadata": {},
     "output_type": "execute_result"
    }
   ],
   "source": [
    "]display 1 2 3 4   ⍝ numeric vector\n",
    "≢1 2 3 4\n",
    "\n",
    "]display ⍕1 2 3 4  ⍝ convert to character vector\n",
    "≢⍕1 2 3 4"
   ]
  },
  {
   "cell_type": "markdown",
   "id": "4048dbed",
   "metadata": {},
   "source": [
    "If you give `⍕` a left argument, it will display numeric values with that many decimals, rounding 5 up: "
   ]
  },
  {
   "cell_type": "code",
   "execution_count": 43,
   "id": "30216701",
   "metadata": {},
   "outputs": [
    {
     "data": {
      "text/html": [
       "<span style=\"white-space:pre; font-family: monospace\"> 0.6667\n",
       "</span>"
      ]
     },
     "execution_count": 43,
     "metadata": {},
     "output_type": "execute_result"
    },
    {
     "data": {
      "text/html": [
       "<span style=\"white-space:pre; font-family: monospace\"> 0.3333 0.6667 1.0000\n",
       "</span>"
      ]
     },
     "execution_count": 43,
     "metadata": {},
     "output_type": "execute_result"
    }
   ],
   "source": [
    "4⍕2÷3    ⍝ character vector of 2÷3 rounded to 4 dp\n",
    "4⍕1 2 3÷3"
   ]
  },
  {
   "cell_type": "markdown",
   "id": "0b3aa083",
   "metadata": {},
   "source": [
    "If you give it two values as left argument, it will use the first as \"field width\" and the second as the number of decimal places:"
   ]
  },
  {
   "cell_type": "code",
   "execution_count": 44,
   "id": "ad5b5996",
   "metadata": {},
   "outputs": [
    {
     "data": {
      "text/html": [
       "<span style=\"white-space:pre; font-family: monospace\">              0.3333              0.6667              1.0000\n",
       "</span>"
      ]
     },
     "execution_count": 44,
     "metadata": {},
     "output_type": "execute_result"
    }
   ],
   "source": [
    "20 4⍕1 2 3÷3"
   ]
  },
  {
   "cell_type": "markdown",
   "id": "a9d19ac9",
   "metadata": {},
   "source": [
    "You can also use twice as many elements on the left as there are leaf cells on the right, and it will pair each two on the left to each one on the right: "
   ]
  },
  {
   "cell_type": "code",
   "execution_count": 45,
   "id": "d8e107bf",
   "metadata": {},
   "outputs": [
    {
     "data": {
      "text/html": [
       "<span style=\"white-space:pre; font-family: monospace\">    0.3333                   1            1.0\n",
       "</span>"
      ]
     },
     "execution_count": 45,
     "metadata": {},
     "output_type": "execute_result"
    }
   ],
   "source": [
    "10 4 20 0 15 1⍕1 2 3÷3"
   ]
  },
  {
   "cell_type": "code",
   "execution_count": null,
   "id": "bea87db4",
   "metadata": {},
   "outputs": [],
   "source": []
  }
 ],
 "metadata": {
  "kernelspec": {
   "display_name": "Dyalog APL",
   "language": "apl",
   "name": "dyalog-kernel"
  },
  "language_info": {
   "file_extension": ".apl",
   "mimetype": "text/apl",
   "name": "APL"
  }
 },
 "nbformat": 4,
 "nbformat_minor": 5
}

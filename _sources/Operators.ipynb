{
 "cells": [
  {
   "cell_type": "markdown",
   "id": "30ed6a62",
   "metadata": {},
   "source": [
    "# Primitive operators\n",
    "\n",
    "Operators take _operands_, which may be functions, and derive a function. You can think of APL's operators as higher-order functions.\n",
    "\n",
    "## Reduce `/` `⌿`\n",
    "\n",
    "The first operator is `/`, called [reduce](https://help.dyalog.com/latest/#Language/Primitive%20Operators/Reduce.htm). It is a monadic operator which derives an ambivalent function. An ambivalent function is one which can be called either monadically or dyadically. For example, `-` is ambivalent. Monadically, it is negate; dyadically, it is subtraction.\n",
    "\n",
    "`+/` is a derived ambivalent function. The monadic function is plus-reduction (i.e. sum) and the dyadic function is windowed sum, as in sliding windows of size `⍺` (shorthand for \"left argument\")."
   ]
  },
  {
   "cell_type": "code",
   "execution_count": 1,
   "id": "d199077e",
   "metadata": {},
   "outputs": [
    {
     "data": {
      "text/html": [
       "<span style=\"white-space:pre; font-family: monospace\">14\n",
       "</span>"
      ]
     },
     "execution_count": 1,
     "metadata": {},
     "output_type": "execute_result"
    },
    {
     "data": {
      "text/html": [
       "<span style=\"white-space:pre; font-family: monospace\">4 5 5 6\n",
       "</span>"
      ]
     },
     "execution_count": 1,
     "metadata": {},
     "output_type": "execute_result"
    },
    {
     "data": {
      "text/html": [
       "<span style=\"white-space:pre; font-family: monospace\">8 6 10\n",
       "</span>"
      ]
     },
     "execution_count": 1,
     "metadata": {},
     "output_type": "execute_result"
    }
   ],
   "source": [
    "+/3 1 4 1 5\n",
    "2 +/ 3 1 4 1 5\n",
    "3 +/ 3 1 4 1 5 "
   ]
  },
  {
   "cell_type": "markdown",
   "id": "bb8dc43a",
   "metadata": {},
   "source": [
    "Question:\n",
    "> What does `3-/` do? Subtraction isn't associative. "
   ]
  },
  {
   "cell_type": "code",
   "execution_count": 2,
   "id": "468ee154",
   "metadata": {},
   "outputs": [
    {
     "data": {
      "text/html": [
       "<span style=\"white-space:pre; font-family: monospace\">2 3 4\n",
       "</span>"
      ]
     },
     "execution_count": 2,
     "metadata": {},
     "output_type": "execute_result"
    }
   ],
   "source": [
    "3-/ 1 2 3 4 5"
   ]
  },
  {
   "cell_type": "markdown",
   "id": "bf59c252",
   "metadata": {},
   "source": [
    "As functions in APL are right-associative, `-/⍵` (this is a shorthand which means the monadic form of `-/`) is alternating sum. "
   ]
  },
  {
   "cell_type": "code",
   "execution_count": 3,
   "id": "42b58262",
   "metadata": {},
   "outputs": [
    {
     "data": {
      "text/html": [
       "<span style=\"white-space:pre; font-family: monospace\">2\n",
       "</span>"
      ]
     },
     "execution_count": 3,
     "metadata": {},
     "output_type": "execute_result"
    }
   ],
   "source": [
    "1 - (2 - 3)"
   ]
  },
  {
   "cell_type": "markdown",
   "id": "f0b772ac",
   "metadata": {},
   "source": [
    "`f/⍵` is called _reduce_ because it reduces the rank of its argument by 1. For example, if we apply it to a matrix, we'll get back a vector, even if the function we provide does not \"combine\" its arguments. "
   ]
  },
  {
   "cell_type": "code",
   "execution_count": 4,
   "id": "ce859dde",
   "metadata": {},
   "outputs": [
    {
     "data": {
      "text/html": [
       "<span style=\"white-space:pre; font-family: monospace\">┌─────────────┐\n",
       "│(H(e(l(lo))))│\n",
       "└─────────────┘\n",
       "</span>"
      ]
     },
     "execution_count": 4,
     "metadata": {},
     "output_type": "execute_result"
    }
   ],
   "source": [
    "{'(',⍺,⍵,')'}/'Hello'"
   ]
  },
  {
   "cell_type": "markdown",
   "id": "9801296c",
   "metadata": {},
   "source": [
    "Here, the function we gave concatenates its arguments and parentheses. With output boxing turned on, it is clear to see that there is a space in front of the leftmost `(`. Without output boxing, that space is still there, but you may have to look a bit more carefully in order to notice it. This is APLs way to indicate that the array (a character vector) is enclosed. In other words, it returned `⊂'(H(e(l(lo))))'`."
   ]
  },
  {
   "cell_type": "code",
   "execution_count": 5,
   "id": "969dc151",
   "metadata": {},
   "outputs": [
    {
     "data": {
      "text/html": [
       "<span style=\"white-space:pre; font-family: monospace\">1\n",
       "</span>"
      ]
     },
     "execution_count": 5,
     "metadata": {},
     "output_type": "execute_result"
    }
   ],
   "source": [
    "(⊂'(H(e(l(lo))))') ≡ {'(',⍺,⍵,')'}/'Hello'"
   ]
  },
  {
   "cell_type": "markdown",
   "id": "d6c526bb",
   "metadata": {},
   "source": [
    "We can also apply reductions to higher-rank arrays:"
   ]
  },
  {
   "cell_type": "code",
   "execution_count": 6,
   "id": "c518c83b",
   "metadata": {},
   "outputs": [
    {
     "data": {
      "text/html": [
       "<span style=\"white-space:pre; font-family: monospace\">1  2  3  4\n",
       "5  6  7  8\n",
       "9 10 11 12\n",
       "</span>"
      ]
     },
     "execution_count": 6,
     "metadata": {},
     "output_type": "execute_result"
    },
    {
     "data": {
      "text/html": [
       "<span style=\"white-space:pre; font-family: monospace\">10 26 42\n",
       "</span>"
      ]
     },
     "execution_count": 6,
     "metadata": {},
     "output_type": "execute_result"
    }
   ],
   "source": [
    "3 4⍴⍳12\n",
    "+/3 4⍴⍳12"
   ]
  },
  {
   "cell_type": "markdown",
   "id": "7fe88b51",
   "metadata": {},
   "source": [
    "Notice how the rank went down from 2 to 1 (i.e. matrix to vector). Reductions lower the rank. `N f/` is called N-wise reduce, and does not lower the rank. Notice that `/` goes along the trailing axis, i.e. the it reduced the rows of the matrix. It has a twin, `⌿`, which goes along the first axis, i.e. the columns of a matrix. "
   ]
  },
  {
   "cell_type": "code",
   "execution_count": 7,
   "id": "35f3f290",
   "metadata": {},
   "outputs": [
    {
     "data": {
      "text/html": [
       "<span style=\"white-space:pre; font-family: monospace\">15 18 21 24\n",
       "</span>"
      ]
     },
     "execution_count": 7,
     "metadata": {},
     "output_type": "execute_result"
    }
   ],
   "source": [
    "+⌿3 4⍴⍳12 "
   ]
  },
  {
   "cell_type": "markdown",
   "id": "f639c0f2",
   "metadata": {},
   "source": [
    "If you have higher-rank arrays, you can reduce along any axis with a bracket axis specification:"
   ]
  },
  {
   "cell_type": "code",
   "execution_count": 8,
   "id": "01d61bd4",
   "metadata": {},
   "outputs": [
    {
     "data": {
      "text/html": [
       "<span style=\"white-space:pre; font-family: monospace\"> 1  2  3  4\n",
       " 5  6  7  8\n",
       " 9 10 11 12\n",
       "\n",
       "13 14 15 16\n",
       "17 18 19 20\n",
       "21 22 23 24\n",
       "</span>"
      ]
     },
     "execution_count": 8,
     "metadata": {},
     "output_type": "execute_result"
    },
    {
     "data": {
      "text/html": [
       "<span style=\"white-space:pre; font-family: monospace\">┌───────────┬───────────┬────────┐\n",
       "│14 16 18 20│15 18 21 24│10 26 42│\n",
       "│22 24 26 28│51 54 57 60│58 74 90│\n",
       "│30 32 34 36│           │        │\n",
       "└───────────┴───────────┴────────┘\n",
       "</span>"
      ]
     },
     "execution_count": 8,
     "metadata": {},
     "output_type": "execute_result"
    }
   ],
   "source": [
    "2 3 4⍴⍳24\n",
    "(+⌿2 3 4⍴⍳24)(+/[2]2 3 4⍴⍳24)(+/2 3 4⍴⍳24)"
   ]
  },
  {
   "cell_type": "markdown",
   "id": "ca6feaf9",
   "metadata": {},
   "source": [
    "Note that `f/[1]` is the same thing as `f⌿`.\n",
    "\n",
    "## Scan `\\`  `⍀`\n",
    "\n",
    "While `/` is reduction, `\\` is cumulative reduction, known as [scan](http://help.dyalog.com/latest/index.htm#Language/Primitive%20Operators/Scan.htm):"
   ]
  },
  {
   "cell_type": "code",
   "execution_count": 9,
   "id": "6baac869",
   "metadata": {},
   "outputs": [
    {
     "data": {
      "text/html": [
       "<span style=\"white-space:pre; font-family: monospace\">3 4 8 9 14\n",
       "</span>"
      ]
     },
     "execution_count": 9,
     "metadata": {},
     "output_type": "execute_result"
    }
   ],
   "source": [
    "+\\3 1 4 1 5"
   ]
  },
  {
   "cell_type": "markdown",
   "id": "8f7f3f5a",
   "metadata": {},
   "source": [
    "`/`'s cousin `\\` of course has a twin, too; `⍀`, behaving analogously."
   ]
  },
  {
   "cell_type": "markdown",
   "id": "08b32099",
   "metadata": {},
   "source": [
    "## Each `¨`"
   ]
  },
  {
   "cell_type": "markdown",
   "id": "c29f1072",
   "metadata": {},
   "source": [
    "The next operator is `¨` which is called [each](http://help.dyalog.com/latest/index.htm#Language/Primitive%20Operators/Each%20with%20Monadic%20Operand.htm) for a good reason. `f¨⍵` applies the function `f` monadically to each element of `⍵`. `⍺ f¨ ⍵` applies `f` between the paired-up elements of `⍺` and `⍵`. "
   ]
  },
  {
   "cell_type": "code",
   "execution_count": 10,
   "id": "82535e7c",
   "metadata": {},
   "outputs": [
    {
     "data": {
      "text/html": [
       "<span style=\"white-space:pre; font-family: monospace\">1 2 3 4 5 6\n",
       "</span>"
      ]
     },
     "execution_count": 10,
     "metadata": {},
     "output_type": "execute_result"
    },
    {
     "data": {
      "text/html": [
       "<span style=\"white-space:pre; font-family: monospace\">┌───┬───┬───┐\n",
       "│1 4│2 5│3 6│\n",
       "└───┴───┴───┘\n",
       "</span>"
      ]
     },
     "execution_count": 10,
     "metadata": {},
     "output_type": "execute_result"
    },
    {
     "data": {
      "text/html": [
       "<span style=\"white-space:pre; font-family: monospace\">┌───────┬───────┬─────┐\n",
       "│1 10 20│2 30 40│3 5 6│\n",
       "└───────┴───────┴─────┘\n",
       "</span>"
      ]
     },
     "execution_count": 10,
     "metadata": {},
     "output_type": "execute_result"
    }
   ],
   "source": [
    "1 2 3 , 4 5 6 \n",
    "1 2 3 ,¨ 4 5 6\n",
    "1 2 3 ,¨ (10 20)(30 40)(5 6) "
   ]
  },
  {
   "cell_type": "markdown",
   "id": "9573fb06",
   "metadata": {},
   "source": [
    "Most arithmetic functions are \"scalar\" meaning they penetrate to the very leaves of the arrays. `¨` is meaningless for scalar functions. "
   ]
  },
  {
   "cell_type": "code",
   "execution_count": 11,
   "id": "c34c546b",
   "metadata": {},
   "outputs": [
    {
     "data": {
      "text/html": [
       "<span style=\"white-space:pre; font-family: monospace\">6 4 7 4 8 12 5 9 8\n",
       "</span>"
      ]
     },
     "execution_count": 11,
     "metadata": {},
     "output_type": "execute_result"
    },
    {
     "data": {
      "text/html": [
       "<span style=\"white-space:pre; font-family: monospace\">6 4 7 4 8 12 5 9 8\n",
       "</span>"
      ]
     },
     "execution_count": 11,
     "metadata": {},
     "output_type": "execute_result"
    }
   ],
   "source": [
    "3+¨3 1 4 1 5 9 2 6 5  ⍝ works; but pointless\n",
    "3+3 1 4 1 5 9 2 6 5   ⍝ scalar function + is pervasive"
   ]
  },
  {
   "cell_type": "markdown",
   "id": "f39cfed2",
   "metadata": {},
   "source": [
    "## Power `⍣`"
   ]
  },
  {
   "cell_type": "markdown",
   "id": "77be9a4a",
   "metadata": {},
   "source": [
    "`⍣` is the [power](http://help.dyalog.com/latest/index.htm#Language/Primitive%20Operators/Power%20Operator.htm) operator. `f⍣n` applies the function `f` n times. "
   ]
  },
  {
   "cell_type": "code",
   "execution_count": 12,
   "id": "87ee735a",
   "metadata": {},
   "outputs": [
    {
     "data": {
      "text/html": [
       "<span style=\"white-space:pre; font-family: monospace\">6\n",
       "</span>"
      ]
     },
     "execution_count": 12,
     "metadata": {},
     "output_type": "execute_result"
    },
    {
     "data": {
      "text/html": [
       "<span style=\"white-space:pre; font-family: monospace\">12\n",
       "</span>"
      ]
     },
     "execution_count": 12,
     "metadata": {},
     "output_type": "execute_result"
    },
    {
     "data": {
      "text/html": [
       "<span style=\"white-space:pre; font-family: monospace\">24\n",
       "</span>"
      ]
     },
     "execution_count": 12,
     "metadata": {},
     "output_type": "execute_result"
    },
    {
     "data": {
      "text/html": [
       "<span style=\"white-space:pre; font-family: monospace\">24\n",
       "</span>"
      ]
     },
     "execution_count": 12,
     "metadata": {},
     "output_type": "execute_result"
    }
   ],
   "source": [
    "2×3\n",
    "2×2×3\n",
    "2×2×2×3\n",
    "2(×⍣3)3"
   ]
  },
  {
   "cell_type": "markdown",
   "id": "1417182c",
   "metadata": {},
   "source": [
    "It did the multiplication 3 times. We need parentheses here to separate the two 3s to make sure the two 3s don't strand into a single array. Note that `⍺ (f⍣n) ⍵` is defined as `(⍺∘f⍣n) ⍵`. In the case above, `⍺ (×⍣3) ⍵` therefore is `⍺ × ⍺ × ⍺ × ⍵`. Operators are never ambivalent. Their derived functions can be, but they are either monadic or dyadic. `⍣` is dyadic. `/` and `¨` are monadic. The result of `×⍣3` is a new function which takes arrays as arguments.\n",
    "\n",
    "`f⍣≡` is the fixpoint of `f`. "
   ]
  },
  {
   "cell_type": "code",
   "execution_count": 1,
   "id": "57c6fa60",
   "metadata": {},
   "outputs": [
    {
     "data": {
      "text/html": [
       "<span style=\"white-space:pre; font-family: monospace\">\n",
       "Rebuilding user command cache... \n",
       "done\n",
       "\n",
       "Rebuilding user command cache... \n",
       "done\n",
       "</span>"
      ]
     },
     "execution_count": 1,
     "metadata": {},
     "output_type": "execute_result"
    },
    {
     "data": {
      "text/html": [
       "<span style=\"white-space:pre; font-family: monospace\">0\n",
       "</span>"
      ]
     },
     "execution_count": 1,
     "metadata": {},
     "output_type": "execute_result"
    }
   ],
   "source": [
    "0.5×⍣≡1"
   ]
  },
  {
   "cell_type": "markdown",
   "id": "87095703",
   "metadata": {},
   "source": [
    "If you keep halving 1 you end up with 0. `0.5×⍣≡` means keep multiplying 0.5 with the argument until it stops changing. The power operator can take a custom right function operator, too. See the [documentation](http://help.dyalog.com/latest/index.htm#Language/Primitive%20Operators/Power%20Operator.htm).\n",
    "\n",
    "## Commute `f ⍨`\n",
    "\n",
    "[Commute](http://help.dyalog.com/latest/index.htm#Language/Primitive%20Operators/Commute.htm), `⍨`, is a monadic operator taking a dyadic function and deriving an ambivalent function. `⍺ f⍨ ⍵` is `⍵ f ⍺`. `f⍨ ⍵` is `⍵ f ⍵`. We sometimes informally refer to `⍨` as \"selfie\" when the derived function is used monadically, because that's what it does, and it looks like a selfie (photo) too. `⍨` seems very simple, but it has some neat applications. Monadic `+⍨` is double. Monadic `×⍨` is square. "
   ]
  },
  {
   "cell_type": "markdown",
   "id": "b4e91652",
   "metadata": {},
   "source": [
    "## Constant `A ⍨`"
   ]
  },
  {
   "cell_type": "markdown",
   "id": "79ef513e",
   "metadata": {},
   "source": [
    "With an array operator, `⍨` is [constant](https://help.dyalog.com/latest/#Language/Primitive%20Operators/Constant.htm). It always returns the operator array. It might not be immediately obvious when this is useful. Consider the following examples:"
   ]
  },
  {
   "cell_type": "code",
   "execution_count": 3,
   "id": "242d770d",
   "metadata": {},
   "outputs": [
    {
     "data": {
      "text/html": [
       "<span style=\"white-space:pre; font-family: monospace\">¯1 2 ¯3\n",
       "</span>"
      ]
     },
     "execution_count": 3,
     "metadata": {},
     "output_type": "execute_result"
    }
   ],
   "source": [
    "neg←{-@(⍺⍨)⍵}\n",
    "1 0 1 neg ⍳3"
   ]
  },
  {
   "cell_type": "markdown",
   "id": "a4651dcf",
   "metadata": {},
   "source": [
    "Here we have a function that uses a Boolean left argument to indicate where to apply negation in the right argument. Whilst it's certainly possible to achieve this without _constant_, it'd be a bit more cumbersome, for example:"
   ]
  },
  {
   "cell_type": "code",
   "execution_count": 6,
   "id": "07801114",
   "metadata": {},
   "outputs": [
    {
     "data": {
      "text/html": [
       "<span style=\"white-space:pre; font-family: monospace\">¯1 2 ¯3\n",
       "</span>"
      ]
     },
     "execution_count": 6,
     "metadata": {},
     "output_type": "execute_result"
    }
   ],
   "source": [
    "1 0 1 {a←⍺⋄-@{a}⍵} ⍳3"
   ]
  },
  {
   "cell_type": "markdown",
   "id": "0d79a1e1",
   "metadata": {},
   "source": [
    "We could use `⍸` to expand the left argument into indices, but that introduces an unnecessary inefficiency we avoid when using _constant_:"
   ]
  },
  {
   "cell_type": "code",
   "execution_count": 15,
   "id": "36ecaba8",
   "metadata": {},
   "outputs": [
    {
     "data": {
      "text/html": [
       "<span style=\"white-space:pre; font-family: monospace\">¯1 2 ¯3\n",
       "</span>"
      ]
     },
     "execution_count": 15,
     "metadata": {},
     "output_type": "execute_result"
    }
   ],
   "source": [
    "1 0 1 {-@(⍸⍺)⊢⍵} ⍳3"
   ]
  },
  {
   "cell_type": "markdown",
   "id": "d527ce35",
   "metadata": {},
   "source": [
    "Another usecase is when you want to use one array's structure as a model, but use a particular element instead:"
   ]
  },
  {
   "cell_type": "code",
   "execution_count": 18,
   "id": "ac7d9e38",
   "metadata": {},
   "outputs": [
    {
     "data": {
      "text/html": [
       "<span style=\"white-space:pre; font-family: monospace\">3 3 3 3 3 3 3 3 3 3 3 3 3 3 3 3\n",
       "</span>"
      ]
     },
     "execution_count": 18,
     "metadata": {},
     "output_type": "execute_result"
    }
   ],
   "source": [
    "(?3)⍨¨'this is a string'"
   ]
  },
  {
   "cell_type": "markdown",
   "id": "9454f9d5",
   "metadata": {},
   "source": [
    "The alternatives, again, tend to be either more cumbersome, or inefficient"
   ]
  },
  {
   "cell_type": "code",
   "execution_count": 22,
   "id": "6bcc94c9",
   "metadata": {},
   "outputs": [
    {
     "data": {
      "text/html": [
       "<span style=\"white-space:pre; font-family: monospace\">1 1 1 1 1 1 1 1 1 1 1 1 1 1 1 1\n",
       "</span>"
      ]
     },
     "execution_count": 22,
     "metadata": {},
     "output_type": "execute_result"
    }
   ],
   "source": [
    "(⍴'this is a string')⍴?3"
   ]
  },
  {
   "cell_type": "markdown",
   "id": "9544bc7c",
   "metadata": {},
   "source": [
    "Note that we can't do"
   ]
  },
  {
   "cell_type": "code",
   "execution_count": 21,
   "id": "4e7002cd",
   "metadata": {},
   "outputs": [
    {
     "data": {
      "text/html": [
       "<span style=\"white-space:pre; font-family: monospace\">2 2 1 2 2 1 2 2 2 1 1 2 1 2 3 3\n",
       "</span>"
      ]
     },
     "execution_count": 21,
     "metadata": {},
     "output_type": "execute_result"
    }
   ],
   "source": [
    "{?3}¨'this is a string'  ⍝ Not the same thing!"
   ]
  },
  {
   "cell_type": "markdown",
   "id": "9737fd66",
   "metadata": {},
   "source": [
    "## Jot `∘`\n",
    "\n",
    "The [jot](https://help.dyalog.com/latest/#Language/Symbols/Jot.htm) operator, `∘`.  `∘` comes from function composition, like how `f(g(x))` can be written `f∘g(x)` in mathematics. So, too, in APL, if `f` and `g` are functions, then `f∘g x` is the same as `f g x` (APL doesn't need parentheses for function application). This alone is, of course, not very interesting. However, APL also has dyadic (infix) functions: `A f∘g B` is `A f g B`.\n",
    "\n",
    "Both of these are very important when writing tacit APL code. For example, if we want to write a function which adds its left argument to the reciprocal (monadic `÷`) of its right argument, it can be written as `f ← +∘÷`. \n",
    "\n",
    "The golden ratio (phi) can be calculated with the continued fraction\n",
    "\n",
    "$\\Large \\phi = 1 + \\frac{1}{1+\\frac{1}{1+\\frac{1}{1+\\frac{1}{\\ddots}}}}$\n",
    "\n",
    "So $\\phi$ is `1+÷1+÷1+÷…`. We can insert the same function between elements of a list with the `/` operator, for example,  "
   ]
  },
  {
   "cell_type": "code",
   "execution_count": 6,
   "id": "fcf0a03f",
   "metadata": {},
   "outputs": [
    {
     "data": {
      "text/html": [
       "<span style=\"white-space:pre; font-family: monospace\">7\n",
       "</span>"
      ]
     },
     "execution_count": 6,
     "metadata": {},
     "output_type": "execute_result"
    }
   ],
   "source": [
    "+/1 1 2 3 "
   ]
  },
  {
   "cell_type": "markdown",
   "id": "76fd6a45",
   "metadata": {},
   "source": [
    "In our case, we want to insert `…+÷…`, but that isn't a single function. However, we can use `+∘÷`: "
   ]
  },
  {
   "cell_type": "code",
   "execution_count": 7,
   "id": "0e2c0718",
   "metadata": {},
   "outputs": [
    {
     "data": {
      "text/html": [
       "<span style=\"white-space:pre; font-family: monospace\">1.618181818181818181818181818181818\n",
       "</span>"
      ]
     },
     "execution_count": 7,
     "metadata": {},
     "output_type": "execute_result"
    }
   ],
   "source": [
    "+∘÷/1 1 1 1 1 1 1 1 1 1"
   ]
  },
  {
   "cell_type": "markdown",
   "id": "fdeaf6cd",
   "metadata": {},
   "source": [
    "`X⍴Y` reshapes `Y` into shape `X`:"
   ]
  },
  {
   "cell_type": "code",
   "execution_count": 11,
   "id": "75096e77",
   "metadata": {},
   "outputs": [
    {
     "data": {
      "text/html": [
       "<span style=\"white-space:pre; font-family: monospace\">1.618033988749894848204586834365638\n",
       "</span>"
      ]
     },
     "execution_count": 11,
     "metadata": {},
     "output_type": "execute_result"
    }
   ],
   "source": [
    "+∘÷/1000⍴1  ⍝ A good approximation of phi."
   ]
  },
  {
   "cell_type": "markdown",
   "id": "298c368e",
   "metadata": {},
   "source": [
    "`∘` also allows you to compose with argumnents. `g←f∘A` where `f` is a dyadic function and `A` an array (any data) gives `g`, a new monadic function which calculates `x f A`. Similarly, `g←A∘f` makes `g` a function which calculates `A f x`.\n",
    "\n",
    "For _operators_ you can \"curry\" their right operand. So `WithTwo←∘2` is a new monadic operator which can in turn modify a dyadic function to become monadic (using 2 as its right argument). For example, `+ WithTwo 3` will give 5. "
   ]
  },
  {
   "cell_type": "code",
   "execution_count": 14,
   "id": "bfd63ad9",
   "metadata": {},
   "outputs": [
    {
     "data": {
      "text/html": [
       "<span style=\"white-space:pre; font-family: monospace\">5\n",
       "</span>"
      ]
     },
     "execution_count": 14,
     "metadata": {},
     "output_type": "execute_result"
    }
   ],
   "source": [
    "WithTwo←∘2\n",
    "+ WithTwo 3"
   ]
  },
  {
   "cell_type": "markdown",
   "id": "1ee12e1b",
   "metadata": {},
   "source": [
    "This is especially useful with the `f⍣n` [power operator](http://help.dyalog.com/latest/index.htm#Language/Primitive%20Operators/Power%20Operator.htm) which applies its `f` operand function `n` times. `twice←⍣2` is an operator which applies a function twice. For example, `2+twice 3` is 7. "
   ]
  },
  {
   "cell_type": "code",
   "execution_count": 15,
   "id": "e5105f89",
   "metadata": {},
   "outputs": [
    {
     "data": {
      "text/html": [
       "<span style=\"white-space:pre; font-family: monospace\">7\n",
       "</span>"
      ]
     },
     "execution_count": 15,
     "metadata": {},
     "output_type": "execute_result"
    }
   ],
   "source": [
    "twice←⍣2\n",
    "2+twice 3"
   ]
  },
  {
   "cell_type": "markdown",
   "id": "032e349d",
   "metadata": {},
   "source": [
    "`inv←⍣¯1` is an operator which will apply a function -1 times, i.e. applies the inverse of that function. \n",
    "\n",
    "Question:\n",
    "> Do all functions have inverses?\n",
    "\n",
    "No, but surprisingly many do. If you derive new functions tacitly using only operators and invertible functions, then the resulting function can also (generally) be inverted automatically. Even structural functions can be inverted: "
   ]
  },
  {
   "cell_type": "code",
   "execution_count": 16,
   "id": "85ec744e",
   "metadata": {},
   "outputs": [
    {
     "data": {
      "text/html": [
       "<span style=\"white-space:pre; font-family: monospace\">abc\n",
       "</span>"
      ]
     },
     "execution_count": 16,
     "metadata": {},
     "output_type": "execute_result"
    }
   ],
   "source": [
    "('x'∘,⍣¯1) 'x'∘, 'abc' "
   ]
  },
  {
   "cell_type": "markdown",
   "id": "8114b2ac",
   "metadata": {},
   "source": [
    "So what happened there is that we applied the function `'x'∘`, which prepends the letter `x`, and then we applied its inverse, which removes an `x` from the left side. The specific function `'x'∘`, is not hardcoded. Instead the interpreter has a bunch of rules which lets it determine the inverse of various compositions."
   ]
  },
  {
   "cell_type": "markdown",
   "id": "c4214640",
   "metadata": {},
   "source": [
    "That's really all there is to say about `∘`. However, a warning is in place: `(f g)Y` is the same as `f∘g Y` which may fool you into thinking that `X(f g)Y` is the same as `X f∘g Y`. However, they are not the same!\n",
    "\n",
    "A nice golfing trick using `∘` is having the left operand be `⊢`. This allows using a monadic function on the right argument while ignoring the left argument. "
   ]
  },
  {
   "cell_type": "markdown",
   "id": "1cbd4aea",
   "metadata": {},
   "source": [
    "## At `@`"
   ]
  },
  {
   "cell_type": "markdown",
   "id": "2d4f5fea",
   "metadata": {},
   "source": [
    "The [at](https://help.dyalog.com/latest/#Language/Primitive%20Operators/At.htm) operator, `@`, does exactly what it says. What's on its left gets done at the position indicated by its right operand."
   ]
  },
  {
   "cell_type": "code",
   "execution_count": 12,
   "id": "a4680c2f",
   "metadata": {},
   "outputs": [
    {
     "data": {
      "text/html": [
       "<span style=\"white-space:pre; font-family: monospace\">HXllX\n",
       "</span>"
      ]
     },
     "execution_count": 12,
     "metadata": {},
     "output_type": "execute_result"
    }
   ],
   "source": [
    "('X'@2 5) 'Hello'"
   ]
  },
  {
   "cell_type": "markdown",
   "id": "72772294",
   "metadata": {},
   "source": [
    "So we put an `X` at positions 2 and 5 (APL is 1-indexed by default – you can change to 0-indexing if you want). We can also give an array which matches the selected elements:"
   ]
  },
  {
   "cell_type": "code",
   "execution_count": 13,
   "id": "cc290424",
   "metadata": {},
   "outputs": [
    {
     "data": {
      "text/html": [
       "<span style=\"white-space:pre; font-family: monospace\">HXllY\n",
       "</span>"
      ]
     },
     "execution_count": 13,
     "metadata": {},
     "output_type": "execute_result"
    }
   ],
   "source": [
    "('XY'@2 5) 'Hello'"
   ]
  },
  {
   "cell_type": "markdown",
   "id": "027f182b",
   "metadata": {},
   "source": [
    "So far, we've only used `@` to substitute elements. We can also use it to modify them: "
   ]
  },
  {
   "cell_type": "code",
   "execution_count": 17,
   "id": "71a46384",
   "metadata": {},
   "outputs": [
    {
     "data": {
      "text/html": [
       "<span style=\"white-space:pre; font-family: monospace\">10 ¯20 30 40 ¯50 60\n",
       "</span>"
      ]
     },
     "execution_count": 17,
     "metadata": {},
     "output_type": "execute_result"
    }
   ],
   "source": [
    "(-@2 5)10 20 30 40 50 60 "
   ]
  },
  {
   "cell_type": "markdown",
   "id": "1eeee313",
   "metadata": {},
   "source": [
    "Here we applied the monadic function `-` (negate) at positions 2 and 5. We can do the same with a dyadic function, too:"
   ]
  },
  {
   "cell_type": "code",
   "execution_count": 18,
   "id": "e98cc7f4",
   "metadata": {},
   "outputs": [
    {
     "data": {
      "text/html": [
       "<span style=\"white-space:pre; font-family: monospace\">10 27 30 40 57 60\n",
       "</span>"
      ]
     },
     "execution_count": 18,
     "metadata": {},
     "output_type": "execute_result"
    }
   ],
   "source": [
    "7(+@2 5)10 20 30 40 50 60"
   ]
  },
  {
   "cell_type": "markdown",
   "id": "b9e8a510",
   "metadata": {},
   "source": [
    "So far, we have been using an array right operand. If we use a function right operand it gets applied to the right argument, and the result must be a Boolean mask instead of a list of indices."
   ]
  },
  {
   "cell_type": "code",
   "execution_count": 19,
   "id": "ea0c3634",
   "metadata": {},
   "outputs": [
    {
     "data": {
      "text/html": [
       "<span style=\"white-space:pre; font-family: monospace\">ABCDEFGHIJKLMNOPQRSTUVWXYZ\n",
       "</span>"
      ]
     },
     "execution_count": 19,
     "metadata": {},
     "output_type": "execute_result"
    },
    {
     "data": {
      "text/html": [
       "<span style=\"white-space:pre; font-family: monospace\">xello xorld\n",
       "</span>"
      ]
     },
     "execution_count": 19,
     "metadata": {},
     "output_type": "execute_result"
    }
   ],
   "source": [
    "⎕A ⍝ uppercase alphabet \n",
    "'x'@(∊∘⎕A)'Hello World' "
   ]
  },
  {
   "cell_type": "markdown",
   "id": "19fb50e1",
   "metadata": {},
   "source": [
    "`∊` is [membership](http://help.dyalog.com/latest/index.htm#Language/Primitive%20Functions/Membership.htm), so the derived function `∊∘⎕A` gives a Boolean for where elements of the right (and only) argument are members of the uppercase alphabet: "
   ]
  },
  {
   "cell_type": "code",
   "execution_count": 20,
   "id": "02d65e18",
   "metadata": {},
   "outputs": [
    {
     "data": {
      "text/html": [
       "<span style=\"white-space:pre; font-family: monospace\">1 0 0 0 0 0 1 0 0 0 0\n",
       "</span>"
      ]
     },
     "execution_count": 20,
     "metadata": {},
     "output_type": "execute_result"
    }
   ],
   "source": [
    "(∊∘⎕A)'Hello World'"
   ]
  },
  {
   "cell_type": "markdown",
   "id": "8daf31fd",
   "metadata": {},
   "source": [
    "which is then used as mask by `@` to determine where to substitute with `x`. See, for example [Goto the Nth Page](https://codegolf.stackexchange.com/questions/147318/goto-the-nth-page/147339#147339) which uses `@` twice.\n",
    "\n",
    "## I-beam `⌶`\n",
    "\n",
    "[I-beam](https://help.dyalog.com/latest/#Language/Primitive%20Operators/I%20Beam.htm), `⌶`, is a special monadic operator (although it follows normal APL syntax) which uses a positive integer operand to select a functionality, typically from a range of system related services. Note that although documentation is provided for `⌶` functions, any service provided this way should be considered as \"experimental\" and subject to change – without notice – from one release to the next. \n",
    "\n",
    "One example is [Format Date-Time](https://help.dyalog.com/latest/#Language/I%20Beam%20Functions/Format%20Datetime.htm), `1200⌶`, which formats _Dyalog Date Numbers_ according to a set of pattern rules."
   ]
  },
  {
   "cell_type": "code",
   "execution_count": 21,
   "id": "7a224cac",
   "metadata": {},
   "outputs": [
    {
     "data": {
      "text/html": [
       "<span style=\"white-space:pre; font-family: monospace\">┌───────────────────┐\n",
       "│2022-01-04T17:42:49│\n",
       "└───────────────────┘\n",
       "</span>"
      ]
     },
     "execution_count": 21,
     "metadata": {},
     "output_type": "execute_result"
    }
   ],
   "source": [
    "'%ISO%'(1200⌶)1⎕DT'J'"
   ]
  },
  {
   "cell_type": "markdown",
   "id": "cecaed91",
   "metadata": {},
   "source": [
    "## Stencil `⌺`"
   ]
  },
  {
   "cell_type": "markdown",
   "id": "f4dbddf9",
   "metadata": {},
   "source": [
    "Next up is [stencil](https://help.dyalog.com/latest/#Language/Primitive%20Operators/Stencil.htm) (as in [stencil code](https://en.wikipedia.org/wiki/Iterative_Stencil_Loops)), `⌺`. The symbol is supposed to evoke the picture of a stencil over a paper. Stencil is useful for [Game of Life](https://en.wikipedia.org/wiki/Conway%27s_Game_of_Life) and related problems. It is a dyadic operator which derives a monadic function. The left operand must be a function and the right operand must be an array. \n",
    "\n",
    "The right operand specifies what neighbourhoods to apply to. For example, in Game of Life, the neighbourhoods are 3-by-3 sub-matrices centred on each element in the input array. The operand gets called dyadically. The right argument is a neighbourhood and the left is information about whether he neighbourhood overlaps an edge of the original argument world.\n",
    "\n",
    "To see how it works, we'll use `{⊂⍵}` as left operand. It just encloses the neighbourhood so we can see it. As right operand we use `3 3`, i.e. the neighbourhood size: "
   ]
  },
  {
   "cell_type": "code",
   "execution_count": 1,
   "id": "4bbfc5fe",
   "metadata": {},
   "outputs": [
    {
     "data": {
      "text/html": [
       "<span style=\"white-space:pre; font-family: monospace\">ABCDEF\n",
       "GHIJKL\n",
       "MNOPQR\n",
       "STUVWX\n",
       "</span>"
      ]
     },
     "execution_count": 1,
     "metadata": {},
     "output_type": "execute_result"
    },
    {
     "data": {
      "text/html": [
       "<span style=\"white-space:pre; font-family: monospace\">┌───┬───┬───┬───┬───┬───┐\n",
       "│   │   │   │   │   │   │\n",
       "│ AB│ABC│BCD│CDE│DEF│EF │\n",
       "│ GH│GHI│HIJ│IJK│JKL│KL │\n",
       "├───┼───┼───┼───┼───┼───┤\n",
       "│ AB│ABC│BCD│CDE│DEF│EF │\n",
       "│ GH│GHI│HIJ│IJK│JKL│KL │\n",
       "│ MN│MNO│NOP│OPQ│PQR│QR │\n",
       "├───┼───┼───┼───┼───┼───┤\n",
       "│ GH│GHI│HIJ│IJK│JKL│KL │\n",
       "│ MN│MNO│NOP│OPQ│PQR│QR │\n",
       "│ ST│STU│TUV│UVW│VWX│WX │\n",
       "├───┼───┼───┼───┼───┼───┤\n",
       "│ MN│MNO│NOP│OPQ│PQR│QR │\n",
       "│ ST│STU│TUV│UVW│VWX│WX │\n",
       "│   │   │   │   │   │   │\n",
       "└───┴───┴───┴───┴───┴───┘\n",
       "</span>"
      ]
     },
     "execution_count": 1,
     "metadata": {},
     "output_type": "execute_result"
    }
   ],
   "source": [
    "4 6⍴⎕A ⍝ our argument\n",
    "({⊂⍵}⌺3 3) 4 6⍴⎕A "
   ]
  },
  {
   "cell_type": "markdown",
   "id": "550e4273",
   "metadata": {},
   "source": [
    " Here you see that we returned a 4-by-6 matrix of neighbourhoods. Notice that all the neighbourhoods are 3-by-3, even at the edges. They were padded with spaces.\n",
    " \n",
    "The padding was done sometimes on top, sometimes on left, sometimes on right, and sometimes on the bottom. The information about that is in the left argument (`⍺`) of the operand function: "
   ]
  },
  {
   "cell_type": "code",
   "execution_count": 2,
   "id": "2eff3dc9",
   "metadata": {},
   "outputs": [
    {
     "data": {
      "text/html": [
       "<span style=\"white-space:pre; font-family: monospace\">┌────┬────┬────┬────┬────┬─────┐\n",
       "│1 1 │1 0 │1 0 │1 0 │1 0 │1 ¯1 │\n",
       "├────┼────┼────┼────┼────┼─────┤\n",
       "│0 1 │0 0 │0 0 │0 0 │0 0 │0 ¯1 │\n",
       "├────┼────┼────┼────┼────┼─────┤\n",
       "│0 1 │0 0 │0 0 │0 0 │0 0 │0 ¯1 │\n",
       "├────┼────┼────┼────┼────┼─────┤\n",
       "│¯1 1│¯1 0│¯1 0│¯1 0│¯1 0│¯1 ¯1│\n",
       "└────┴────┴────┴────┴────┴─────┘\n",
       "</span>"
      ]
     },
     "execution_count": 2,
     "metadata": {},
     "output_type": "execute_result"
    }
   ],
   "source": [
    "({⊂⍺}⌺3 3) 4 6⍴⎕A "
   ]
  },
  {
   "cell_type": "markdown",
   "id": "3c899b11",
   "metadata": {},
   "source": [
    "Each cell contains two elements, one for rows, and one for columns. Positive indicates left/top. Negative is right/bottom. The magnitude indicates how many rows/columns were padded.\n",
    "\n",
    "This fits nicely with the dyadic `↓` [drop](http://help.dyalog.com/latest/index.htm#Language/Primitive%20Functions/Drop.htm) primitive, which takes the number of rows,columns as left argument to drop from the right argument: "
   ]
  },
  {
   "cell_type": "code",
   "execution_count": 3,
   "id": "a1231ced",
   "metadata": {},
   "outputs": [
    {
     "data": {
      "text/html": [
       "<span style=\"white-space:pre; font-family: monospace\">┌──┬───┬───┬───┬───┬──┐\n",
       "│AB│ABC│BCD│CDE│DEF│EF│\n",
       "│GH│GHI│HIJ│IJK│JKL│KL│\n",
       "├──┼───┼───┼───┼───┼──┤\n",
       "│AB│ABC│BCD│CDE│DEF│EF│\n",
       "│GH│GHI│HIJ│IJK│JKL│KL│\n",
       "│MN│MNO│NOP│OPQ│PQR│QR│\n",
       "├──┼───┼───┼───┼───┼──┤\n",
       "│GH│GHI│HIJ│IJK│JKL│KL│\n",
       "│MN│MNO│NOP│OPQ│PQR│QR│\n",
       "│ST│STU│TUV│UVW│VWX│WX│\n",
       "├──┼───┼───┼───┼───┼──┤\n",
       "│MN│MNO│NOP│OPQ│PQR│QR│\n",
       "│ST│STU│TUV│UVW│VWX│WX│\n",
       "└──┴───┴───┴───┴───┴──┘\n",
       "</span>"
      ]
     },
     "execution_count": 3,
     "metadata": {},
     "output_type": "execute_result"
    }
   ],
   "source": [
    "({⊂⍺↓⍵}⌺3 3) 4 6⍴⎕A"
   ]
  },
  {
   "cell_type": "markdown",
   "id": "0e900590",
   "metadata": {},
   "source": [
    "As you can see, the padding was removed. \n",
    "\n",
    "Another example. Here you can see that on the far left and right, we have to pad two columns to get a 5-wide neighbourhood centred on the first column: "
   ]
  },
  {
   "cell_type": "code",
   "execution_count": 4,
   "id": "15fba843",
   "metadata": {},
   "outputs": [
    {
     "data": {
      "text/html": [
       "<span style=\"white-space:pre; font-family: monospace\">┌────┬────┬────┬────┬─────┬─────┐\n",
       "│1 2 │1 1 │1 0 │1 0 │1 ¯1 │1 ¯2 │\n",
       "├────┼────┼────┼────┼─────┼─────┤\n",
       "│0 2 │0 1 │0 0 │0 0 │0 ¯1 │0 ¯2 │\n",
       "├────┼────┼────┼────┼─────┼─────┤\n",
       "│0 2 │0 1 │0 0 │0 0 │0 ¯1 │0 ¯2 │\n",
       "├────┼────┼────┼────┼─────┼─────┤\n",
       "│¯1 2│¯1 1│¯1 0│¯1 0│¯1 ¯1│¯1 ¯2│\n",
       "└────┴────┴────┴────┴─────┴─────┘\n",
       "</span>"
      ]
     },
     "execution_count": 4,
     "metadata": {},
     "output_type": "execute_result"
    }
   ],
   "source": [
    "({⊂⍺}⌺3 5) 4 6⍴⎕A "
   ]
  },
  {
   "cell_type": "markdown",
   "id": "f4135d7b",
   "metadata": {},
   "source": [
    "Now, let's try implementing _Game of Life_.\n",
    "\n",
    "Here are the rules:\n",
    "* A cell will stay alive with 2 or 3 neighbours.\n",
    "* It will become alive with 3 neighbours.\n",
    "* It will die with fewer than 2 or more than 3 neighbours.\n",
    "\n",
    "Let's make a world: "
   ]
  },
  {
   "cell_type": "code",
   "execution_count": 5,
   "id": "0d4815b6",
   "metadata": {},
   "outputs": [
    {
     "data": {
      "text/html": [
       "<span style=\"white-space:pre; font-family: monospace\">0 0 1 0 0\n",
       "1 0 0 0 1\n",
       "0 0 1 0 0\n",
       "0 1 0 0 1\n",
       "</span>"
      ]
     },
     "execution_count": 5,
     "metadata": {},
     "output_type": "execute_result"
    }
   ],
   "source": [
    "4 5⍴0 0 1 0 0 1 0"
   ]
  },
  {
   "cell_type": "markdown",
   "id": "12a93107",
   "metadata": {},
   "source": [
    "The 1s indicate live cells while the 0s indicate dead cells. Let's look at our neighbourhoods:"
   ]
  },
  {
   "cell_type": "code",
   "execution_count": 6,
   "id": "1939e054",
   "metadata": {},
   "outputs": [
    {
     "data": {
      "text/html": [
       "<span style=\"white-space:pre; font-family: monospace\">┌─────┬─────┬─────┬─────┬─────┐\n",
       "│0 0 0│0 0 0│0 0 0│0 0 0│0 0 0│\n",
       "│0 0 0│0 0 1│0 1 0│1 0 0│0 0 0│\n",
       "│0 1 0│1 0 0│0 0 0│0 0 1│0 1 0│\n",
       "├─────┼─────┼─────┼─────┼─────┤\n",
       "│0 0 0│0 0 1│0 1 0│1 0 0│0 0 0│\n",
       "│0 1 0│1 0 0│0 0 0│0 0 1│0 1 0│\n",
       "│0 0 0│0 0 1│0 1 0│1 0 0│0 0 0│\n",
       "├─────┼─────┼─────┼─────┼─────┤\n",
       "│0 1 0│1 0 0│0 0 0│0 0 1│0 1 0│\n",
       "│0 0 0│0 0 1│0 1 0│1 0 0│0 0 0│\n",
       "│0 0 1│0 1 0│1 0 0│0 0 1│0 1 0│\n",
       "├─────┼─────┼─────┼─────┼─────┤\n",
       "│0 0 0│0 0 1│0 1 0│1 0 0│0 0 0│\n",
       "│0 0 1│0 1 0│1 0 0│0 0 1│0 1 0│\n",
       "│0 0 0│0 0 0│0 0 0│0 0 0│0 0 0│\n",
       "└─────┴─────┴─────┴─────┴─────┘\n",
       "</span>"
      ]
     },
     "execution_count": 6,
     "metadata": {},
     "output_type": "execute_result"
    }
   ],
   "source": [
    "({⊂⍵}⌺3 3) 4 5⍴0 0 1 0 0 1 0 "
   ]
  },
  {
   "cell_type": "markdown",
   "id": "ac8cbb6a",
   "metadata": {},
   "source": [
    "We can get the number of neighbours by summing. So we make a list with [ravel](http://help.dyalog.com/latest/index.htm#Language/Primitive%20Functions/Ravel.htm), `,`, and use `+/` to sum: "
   ]
  },
  {
   "cell_type": "code",
   "execution_count": 7,
   "id": "d2f65cc2",
   "metadata": {},
   "outputs": [
    {
     "data": {
      "text/html": [
       "<span style=\"white-space:pre; font-family: monospace\">1 2 1 2 1\n",
       "1 3 2 3 1\n",
       "2 3 2 3 2\n",
       "1 2 2 2 1\n",
       "</span>"
      ]
     },
     "execution_count": 7,
     "metadata": {},
     "output_type": "execute_result"
    }
   ],
   "source": [
    "({+/,⍵}⌺3 3) 4 5⍴0 0 1 0 0 1 0"
   ]
  },
  {
   "cell_type": "markdown",
   "id": "a313583d",
   "metadata": {},
   "source": [
    "We also need to know what the current value is. That is the 5th value in the ravelled neighbourhood: "
   ]
  },
  {
   "cell_type": "code",
   "execution_count": 8,
   "id": "c6c1adb7",
   "metadata": {},
   "outputs": [
    {
     "data": {
      "text/html": [
       "<span style=\"white-space:pre; font-family: monospace\">0 0 1 0 0\n",
       "1 0 0 0 1\n",
       "0 0 1 0 0\n",
       "0 1 0 0 1\n",
       "</span>"
      ]
     },
     "execution_count": 8,
     "metadata": {},
     "output_type": "execute_result"
    }
   ],
   "source": [
    "({5⌷,⍵}⌺3 3) 4 5⍴0 0 1 0 0 1 0"
   ]
  },
  {
   "cell_type": "markdown",
   "id": "54b50a8b",
   "metadata": {},
   "source": [
    "Now we can say that `self←5⌷,⍵` and `total←+/,⍵`: "
   ]
  },
  {
   "cell_type": "code",
   "execution_count": 9,
   "id": "da9ae808",
   "metadata": {},
   "outputs": [
    {
     "data": {
      "text/html": [
       "<span style=\"white-space:pre; font-family: monospace\">┌───┬───┬───┬───┬───┐\n",
       "│0 1│0 2│1 1│0 2│0 1│\n",
       "├───┼───┼───┼───┼───┤\n",
       "│1 1│0 3│0 2│0 3│1 1│\n",
       "├───┼───┼───┼───┼───┤\n",
       "│0 2│0 3│1 2│0 3│0 2│\n",
       "├───┼───┼───┼───┼───┤\n",
       "│0 1│1 2│0 2│0 2│1 1│\n",
       "└───┴───┴───┴───┴───┘\n",
       "</span>"
      ]
     },
     "execution_count": 9,
     "metadata": {},
     "output_type": "execute_result"
    }
   ],
   "source": [
    "({self←5⌷,⍵ ⋄ total←+/,⍵ ⋄ ⊂self total}⌺3 3) 4 5⍴0 0 1 0 0 1 0"
   ]
  },
  {
   "cell_type": "markdown",
   "id": "6d2bce43",
   "metadata": {},
   "source": [
    "Here we have the self and the total for each cell.\n",
    "\n",
    "The logic is that in the next generation the cell is alive if itself was alive and had 2–3 neighbours (3 or 4 total, including self), or if it was dead and had 3 neighbours.  That is \n",
    "\n",
    "```apl\n",
    "(self ∧ (total∊3 4)) ∨ ((~self) ∧ (total=3))\n",
    "```\n",
    "\n",
    "Let's plug that in: "
   ]
  },
  {
   "cell_type": "code",
   "execution_count": 10,
   "id": "87fab65a",
   "metadata": {},
   "outputs": [
    {
     "data": {
      "text/html": [
       "<span style=\"white-space:pre; font-family: monospace\">0 0 0 0 0\n",
       "0 1 0 1 0\n",
       "0 1 0 1 0\n",
       "0 0 0 0 0\n",
       "</span>"
      ]
     },
     "execution_count": 10,
     "metadata": {},
     "output_type": "execute_result"
    }
   ],
   "source": [
    "({self←5⌷,⍵ ⋄ total←+/,⍵ ⋄ (self ∧ (total∊3 4)) ∨ ((~self) ∧ (total=3))}⌺3 3) 4 5⍴0 0 1 0 0 1 0"
   ]
  },
  {
   "cell_type": "markdown",
   "id": "37098884",
   "metadata": {},
   "source": [
    "This can be shortened considerably, if we so wished. For a detailed walk-though of the shortest possible _Game of Life_ using [stencil](http://help.dyalog.com/latest/index.htm#Language/Primitive%20Operators/Stencil.htm), see the webinar on [dyalog.tv](https://dyalog.tv/Webinar/?v=3FjYly2G_QI). \n",
    "\n",
    "`⌺` can do a further trick, too. If the right operand is a matrix, then the second row indicates the step size. By default it is 1 in every dimension. Consider the following:"
   ]
  },
  {
   "cell_type": "code",
   "execution_count": 11,
   "id": "11bb27f7",
   "metadata": {},
   "outputs": [
    {
     "data": {
      "text/html": [
       "<span style=\"white-space:pre; font-family: monospace\">┌───┬───┬───┐\n",
       "│   │   │   │\n",
       "│ AB│CDE│FG │\n",
       "│ HI│JKL│MN │\n",
       "├───┼───┼───┤\n",
       "│ OP│QRS│TU │\n",
       "│ VW│XYZ│AB │\n",
       "│ CD│EFG│HI │\n",
       "├───┼───┼───┤\n",
       "│ JK│LMN│OP │\n",
       "│ QR│STU│VW │\n",
       "│   │   │   │\n",
       "└───┴───┴───┘\n",
       "</span>"
      ]
     },
     "execution_count": 11,
     "metadata": {},
     "output_type": "execute_result"
    }
   ],
   "source": [
    "({⊂⍵}⌺(2 2⍴3))7 7⍴⎕A"
   ]
  },
  {
   "cell_type": "markdown",
   "id": "dc57a218",
   "metadata": {},
   "source": [
    "Here we used a 2-by-2 matrix of all 3s. In other words, we get 3-by-3 neighbourhoods going over 3 rows and 3 columns. Thus, we \"chop\" the argument, with no overlaps. We can also use even sizes, in which case every \"space\" between elements (rather than elements themselves) gets to be the centre of a neighbourhood: "
   ]
  },
  {
   "cell_type": "code",
   "execution_count": 13,
   "id": "4998c6c2",
   "metadata": {},
   "outputs": [
    {
     "data": {
      "text/html": [
       "<span style=\"white-space:pre; font-family: monospace\">┌──┬──┬──┐\n",
       "│AB│CD│EF│\n",
       "│GH│IJ│KL│\n",
       "├──┼──┼──┤\n",
       "│MN│OP│QR│\n",
       "│ST│UV│WX│\n",
       "├──┼──┼──┤\n",
       "│YZ│AB│CD│\n",
       "│EF│GH│IJ│\n",
       "└──┴──┴──┘\n",
       "</span>"
      ]
     },
     "execution_count": 13,
     "metadata": {},
     "output_type": "execute_result"
    },
    {
     "data": {
      "text/html": [
       "<span style=\"white-space:pre; font-family: monospace\">┌────┬────┬────┬────┬────┐\n",
       "│ ABC│ABCD│BCDE│CDEF│DEF │\n",
       "│ GHI│GHIJ│HIJK│IJKL│JKL │\n",
       "├────┼────┼────┼────┼────┤\n",
       "│ GHI│GHIJ│HIJK│IJKL│JKL │\n",
       "│ MNO│MNOP│NOPQ│OPQR│PQR │\n",
       "├────┼────┼────┼────┼────┤\n",
       "│ MNO│MNOP│NOPQ│OPQR│PQR │\n",
       "│ STU│STUV│TUVW│UVWX│VWX │\n",
       "└────┴────┴────┴────┴────┘\n",
       "</span>"
      ]
     },
     "execution_count": 13,
     "metadata": {},
     "output_type": "execute_result"
    }
   ],
   "source": [
    "({⊂⍵}⌺(2 2⍴2))6 6⍴⎕A\n",
    "({⊂⍵}⌺(2 4))4 6⍴⎕A "
   ]
  },
  {
   "cell_type": "markdown",
   "id": "cff953a6",
   "metadata": {},
   "source": [
    "## Key `⌸`"
   ]
  },
  {
   "cell_type": "markdown",
   "id": "0ba3257b",
   "metadata": {},
   "source": [
    "`⌸` is [key](https://help.dyalog.com/latest/#Language/Primitive%20Operators/Key.htm), a monadic operator deriving an ambivalent function (i.e. monadic or dyadic depending on usage). The lone operand must be a function, and it gets called dyadically in a manner not too different from [stencil's](http://help.dyalog.com/latest/index.htm#Language/Primitive%20Operators/Stencil.htm) left operand.\n",
    "\n",
    "Let's do the monadic derived function first, i.e. `(f⌸) data`.\n",
    "\n",
    "[Key](http://help.dyalog.com/latest/index.htm#Language/Primitive%20Operators/Key.htm) will group identical major cells of the data together and call the operand `f` with the unique element as left argument, and the indices of that element in the data as right argument: "
   ]
  },
  {
   "cell_type": "code",
   "execution_count": 14,
   "id": "554f4e5d",
   "metadata": {},
   "outputs": [
    {
     "data": {
      "text/html": [
       "<span style=\"white-space:pre; font-family: monospace\">┌─────┬────────────┬───────────┬────────┐\n",
       "│┌─┬─┐│┌─┬────────┐│┌─┬───────┐│┌─┬────┐│\n",
       "││M│1│││i│2 5 8 11│││s│3 4 6 7│││p│9 10││\n",
       "│└─┴─┘│└─┴────────┘│└─┴───────┘│└─┴────┘│\n",
       "└─────┴────────────┴───────────┴────────┘\n",
       "</span>"
      ]
     },
     "execution_count": 14,
     "metadata": {},
     "output_type": "execute_result"
    }
   ],
   "source": [
    "{⊂⍺⍵}⌸'Mississippi'"
   ]
  },
  {
   "cell_type": "markdown",
   "id": "94137f22",
   "metadata": {},
   "source": [
    "This tells us that \"M\" is at index 1, \"i\" at 2 5 8 11, etc. It is very common to use `≢` to tally the indices: "
   ]
  },
  {
   "cell_type": "code",
   "execution_count": 15,
   "id": "cffa4c3b",
   "metadata": {},
   "outputs": [
    {
     "data": {
      "text/html": [
       "<span style=\"white-space:pre; font-family: monospace\">M 1\n",
       "i 4\n",
       "s 4\n",
       "p 2\n",
       "</span>"
      ]
     },
     "execution_count": 15,
     "metadata": {},
     "output_type": "execute_result"
    }
   ],
   "source": [
    "{⍺,≢⍵}⌸'Mississippi'"
   ]
  },
  {
   "cell_type": "markdown",
   "id": "7500da69",
   "metadata": {},
   "source": [
    "which gives us the count of each unique element. We can, for example, use this to remove elements which only occur once. We first use [key](http://help.dyalog.com/latest/index.htm#Language/Primitive%20Operators/Key.htm) to make a Boolean vector for each unique element:"
   ]
  },
  {
   "cell_type": "code",
   "execution_count": 18,
   "id": "9ce82eae",
   "metadata": {},
   "outputs": [
    {
     "data": {
      "text/html": [
       "<span style=\"white-space:pre; font-family: monospace\">0 1 1 1\n",
       "</span>"
      ]
     },
     "execution_count": 18,
     "metadata": {},
     "output_type": "execute_result"
    }
   ],
   "source": [
    "{1≠≢⍵}⌸'Mississippi'"
   ]
  },
  {
   "cell_type": "markdown",
   "id": "860ae408",
   "metadata": {},
   "source": [
    "Monadic `∪` gives us the [unique](http://help.dyalog.com/latest/index.htm#Language/Primitive%20Functions/Unique.htm) elements:"
   ]
  },
  {
   "cell_type": "code",
   "execution_count": 17,
   "id": "f8eb177f",
   "metadata": {},
   "outputs": [
    {
     "data": {
      "text/html": [
       "<span style=\"white-space:pre; font-family: monospace\">Misp\n",
       "</span>"
      ]
     },
     "execution_count": 17,
     "metadata": {},
     "output_type": "execute_result"
    }
   ],
   "source": [
    "∪'Mississippi'"
   ]
  },
  {
   "cell_type": "markdown",
   "id": "7aca4baa",
   "metadata": {},
   "source": [
    "We can use `/` to filter one by the other:"
   ]
  },
  {
   "cell_type": "code",
   "execution_count": 19,
   "id": "f91a8f8c",
   "metadata": {},
   "outputs": [
    {
     "data": {
      "text/html": [
       "<span style=\"white-space:pre; font-family: monospace\">isp\n",
       "</span>"
      ]
     },
     "execution_count": 19,
     "metadata": {},
     "output_type": "execute_result"
    }
   ],
   "source": [
    "0 1 1 1/'Misp'"
   ]
  },
  {
   "cell_type": "markdown",
   "id": "a35db991",
   "metadata": {},
   "source": [
    "Putting it all together, we get"
   ]
  },
  {
   "cell_type": "code",
   "execution_count": 20,
   "id": "d06b79f7",
   "metadata": {},
   "outputs": [
    {
     "data": {
      "text/html": [
       "<span style=\"white-space:pre; font-family: monospace\">isp\n",
       "</span>"
      ]
     },
     "execution_count": 20,
     "metadata": {},
     "output_type": "execute_result"
    }
   ],
   "source": [
    "{({1≠≢⍵}⌸⍵)/∪⍵}'Mississippi' ⍝ Unique elements occurring more than once"
   ]
  },
  {
   "cell_type": "markdown",
   "id": "7d593ad2",
   "metadata": {},
   "source": [
    "`⌸` works on higher rank arrays, too (matrices, 3D blocks, etc.), where it will use the major cells (rows for matrices, layers for 3D blocks…) as \"items\". "
   ]
  },
  {
   "cell_type": "code",
   "execution_count": 21,
   "id": "b0238c7a",
   "metadata": {},
   "outputs": [
    {
     "data": {
      "text/html": [
       "<span style=\"white-space:pre; font-family: monospace\">AAA\n",
       "ABC\n",
       "AAA\n",
       "ABB\n",
       "AAA\n",
       "</span>"
      ]
     },
     "execution_count": 21,
     "metadata": {},
     "output_type": "execute_result"
    },
    {
     "data": {
      "text/html": [
       "<span style=\"white-space:pre; font-family: monospace\">┌───┬─────┐\n",
       "│AAA│1 3 5│\n",
       "├───┼─────┤\n",
       "│ABC│2    │\n",
       "├───┼─────┤\n",
       "│ABB│4    │\n",
       "└───┴─────┘\n",
       "</span>"
      ]
     },
     "execution_count": 21,
     "metadata": {},
     "output_type": "execute_result"
    }
   ],
   "source": [
    "5 3⍴'AAAABCAAAABBAAA' \n",
    "{⍺⍵}⌸ 5 3⍴'AAAABCAAAABBAAA' "
   ]
  },
  {
   "cell_type": "markdown",
   "id": "98cf7bb5",
   "metadata": {},
   "source": [
    "Dyadic _key_ then. Behold: "
   ]
  },
  {
   "cell_type": "code",
   "execution_count": 23,
   "id": "f53dbc95",
   "metadata": {},
   "outputs": [
    {
     "data": {
      "text/html": [
       "<span style=\"white-space:pre; font-family: monospace\">┌─────┬────────────┬───────────┬────────┐\n",
       "│┌─┬─┐│┌─┬────────┐│┌─┬───────┐│┌─┬────┐│\n",
       "││M│1│││i│2 5 8 11│││s│3 4 6 7│││p│9 10││\n",
       "│└─┴─┘│└─┴────────┘│└─┴───────┘│└─┴────┘│\n",
       "└─────┴────────────┴───────────┴────────┘\n",
       "</span>"
      ]
     },
     "execution_count": 23,
     "metadata": {},
     "output_type": "execute_result"
    },
    {
     "data": {
      "text/html": [
       "<span style=\"white-space:pre; font-family: monospace\">┌─────┬────────┬────────┬──────┐\n",
       "│┌─┬─┐│┌─┬────┐│┌─┬────┐│┌─┬──┐│\n",
       "││M│A│││i│BEHK│││s│CDFG│││p│IJ││\n",
       "│└─┴─┘│└─┴────┘│└─┴────┘│└─┴──┘│\n",
       "└─────┴────────┴────────┴──────┘\n",
       "</span>"
      ]
     },
     "execution_count": 23,
     "metadata": {},
     "output_type": "execute_result"
    }
   ],
   "source": [
    "'Mississippi' {⊂⍺⍵}⌸ ⍳11\n",
    "'Mississippi' {⊂⍺⍵}⌸ 'ABCDEFGHIJK'"
   ]
  },
  {
   "cell_type": "markdown",
   "id": "3d0abf55",
   "metadata": {},
   "source": [
    "Instead of returning the indices of the unique elements (of the right – and only – argument), it returns the elements of the right _corresponding_ to the unique elements of the left. "
   ]
  }
 ],
 "metadata": {
  "kernelspec": {
   "display_name": "Dyalog APL",
   "language": "apl",
   "name": "dyalog-kernel"
  },
  "language_info": {
   "file_extension": ".apl",
   "mimetype": "text/apl",
   "name": "APL"
  }
 },
 "nbformat": 4,
 "nbformat_minor": 5
}

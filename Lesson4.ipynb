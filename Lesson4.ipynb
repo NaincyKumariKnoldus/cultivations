{
 "cells": [
  {
   "cell_type": "markdown",
   "id": "b81d0197",
   "metadata": {},
   "source": [
    "# Lesson 4 - More APL operators: `∘` `@` `⌶`\n",
    "\n",
    "Let's start with the [Jot](https://help.dyalog.com/latest/#Language/Symbols/Jot.htm) operator, `∘`.  `∘` comes from function composition, like how `f(g(x))` can be written `f∘g(x)` in mathematics. So, too, in APL, if `f` and `g` are functions, then `f∘g x` is the same as `f g x` (APL doesn't need parentheses for function application). This alone is, of course, not very interesting. However, APL also has dyadic (infix) functions: `A f∘g B` is `A f g B`.\n",
    "\n",
    "\n",
    "Both of these are very important when writing tacit APL code. For example, if we want to write a function which adds its left argument to the reciprocal (monadic `÷`) of its right argument, it can be written as `f ← +∘÷`. \n",
    "\n",
    "\n",
    "The golden ratio (phi) can be calculated with the continued fraction\n",
    "\n",
    "$\\Large \\phi = 1 + \\frac{1}{1+\\frac{1}{1+\\frac{1}{1+\\frac{1}{\\ddots}}}}$\n",
    "\n",
    "So $\\phi$ is `1+÷1+÷1+÷…`. We can insert the same function between elements of a list with the `/` operator, for example,  "
   ]
  },
  {
   "cell_type": "code",
   "execution_count": 6,
   "id": "493c94c0",
   "metadata": {},
   "outputs": [
    {
     "data": {
      "text/html": [
       "<span style=\"white-space:pre; font-family: monospace\">7\n",
       "</span>"
      ]
     },
     "execution_count": 6,
     "metadata": {},
     "output_type": "execute_result"
    }
   ],
   "source": [
    "+/1 1 2 3 "
   ]
  },
  {
   "cell_type": "markdown",
   "id": "8a19e1e6",
   "metadata": {},
   "source": [
    "In our case, we want to insert `…+÷…`, but that isn't a single function. However, we can use `+∘÷`: "
   ]
  },
  {
   "cell_type": "code",
   "execution_count": 7,
   "id": "d057ce1f",
   "metadata": {},
   "outputs": [
    {
     "data": {
      "text/html": [
       "<span style=\"white-space:pre; font-family: monospace\">1.618181818181818181818181818181818\n",
       "</span>"
      ]
     },
     "execution_count": 7,
     "metadata": {},
     "output_type": "execute_result"
    }
   ],
   "source": [
    "+∘÷/1 1 1 1 1 1 1 1 1 1"
   ]
  },
  {
   "cell_type": "markdown",
   "id": "5dde2fc2",
   "metadata": {},
   "source": [
    "Let's increase our floating point precision a bit first,"
   ]
  },
  {
   "cell_type": "code",
   "execution_count": 10,
   "id": "550577f6",
   "metadata": {},
   "outputs": [],
   "source": [
    "⎕PP←34      ⍝ Increase print precision\n",
    "⎕FR←1287    ⍝ 128-bit floats"
   ]
  },
  {
   "cell_type": "markdown",
   "id": "9d4b89f5",
   "metadata": {},
   "source": [
    "`X⍴Y` reshapes `Y` into shape `X`:"
   ]
  },
  {
   "cell_type": "code",
   "execution_count": 11,
   "id": "568e2b67",
   "metadata": {},
   "outputs": [
    {
     "data": {
      "text/html": [
       "<span style=\"white-space:pre; font-family: monospace\">1.618033988749894848204586834365638\n",
       "</span>"
      ]
     },
     "execution_count": 11,
     "metadata": {},
     "output_type": "execute_result"
    }
   ],
   "source": [
    "+∘÷/1000⍴1  ⍝ A good approximation of phi."
   ]
  },
  {
   "cell_type": "markdown",
   "id": "4bf5f8cc",
   "metadata": {},
   "source": [
    "`∘` also allows you to compose with argumnents. `g←f∘A` where `f` is a dyadic function and `A` an array (any data) gives `g`, a new monadic function which calculates `x f A`. Similarly, `g←A∘f` makes `g` a function which calculates `A f x`.\n",
    "\n",
    "For _operators_ you can \"curry\" their right operand. So `WithTwo←∘2` is a new monadic operator which can in turn modify a dyadic function to become monadic (using 2 as its right argument). For example, `+ WithTwo 3` will give 5. "
   ]
  },
  {
   "cell_type": "code",
   "execution_count": 14,
   "id": "b0caf084",
   "metadata": {},
   "outputs": [
    {
     "data": {
      "text/html": [
       "<span style=\"white-space:pre; font-family: monospace\">5\n",
       "</span>"
      ]
     },
     "execution_count": 14,
     "metadata": {},
     "output_type": "execute_result"
    }
   ],
   "source": [
    "WithTwo←∘2\n",
    "+ WithTwo 3"
   ]
  },
  {
   "cell_type": "markdown",
   "id": "7db3feff",
   "metadata": {},
   "source": [
    "This is especially useful with the `f⍣n` \"power operator\" which applies its `f` operand function `n` times. `twice←⍣2` is an operator which applies a function twice. For example, `2+twice 3` is 7. "
   ]
  },
  {
   "cell_type": "code",
   "execution_count": 15,
   "id": "6a6b5256",
   "metadata": {},
   "outputs": [
    {
     "data": {
      "text/html": [
       "<span style=\"white-space:pre; font-family: monospace\">7\n",
       "</span>"
      ]
     },
     "execution_count": 15,
     "metadata": {},
     "output_type": "execute_result"
    }
   ],
   "source": [
    "twice←⍣2\n",
    "2+twice 3"
   ]
  },
  {
   "cell_type": "markdown",
   "id": "318dcedc",
   "metadata": {},
   "source": [
    "`inv←⍣¯1` is an operator which will apply a function -1 times, i.e. applies the inverse of that function. \n",
    "\n",
    "Question:\n",
    "> Do all functions have inverses?\n",
    "\n",
    "No, but surprisingly many do. If you derive new functions tacitly using only operators and invertible functions, then the resulting function can also (generally) be inverted automatically. Even structural functions can be inverted: "
   ]
  },
  {
   "cell_type": "code",
   "execution_count": 16,
   "id": "de4c4d4f",
   "metadata": {},
   "outputs": [
    {
     "data": {
      "text/html": [
       "<span style=\"white-space:pre; font-family: monospace\">abc\n",
       "</span>"
      ]
     },
     "execution_count": 16,
     "metadata": {},
     "output_type": "execute_result"
    }
   ],
   "source": [
    "('x'∘,⍣¯1) 'x'∘, 'abc' "
   ]
  },
  {
   "cell_type": "markdown",
   "id": "9a443046",
   "metadata": {},
   "source": [
    "So what happened there is that we applied the function `'x'∘`, which prepends the letter `x`, and then we applied its inverse, which removes an `x` from the left side. The specific function `'x'∘`, is not hardcoded. Instead the interpreter has a bunch of rules which lets it determine the inverse of various compositions."
   ]
  },
  {
   "cell_type": "markdown",
   "id": "514971c3",
   "metadata": {},
   "source": [
    "That's really all there is to say about `∘`. However, a warning is in place: `(f g)Y` is the same as `f∘g Y` which may fool you into thinking that `X(f g)Y` is the same as `X f∘g Y`. However, they are not the same!\n",
    "\n",
    "A nice golfing trick using `∘` is having the left operand be `⊢`. This allows using a monadic function on the right argument while ignoring the left argument. \n",
    "\n",
    "The [At](https://help.dyalog.com/latest/#Language/Primitive%20Operators/At.htm) operator, `@`, does exactly what it says. What's on its left gets done at the position indicated by its right operand."
   ]
  },
  {
   "cell_type": "code",
   "execution_count": 12,
   "id": "c909a0e1",
   "metadata": {},
   "outputs": [
    {
     "data": {
      "text/html": [
       "<span style=\"white-space:pre; font-family: monospace\">HXllX\n",
       "</span>"
      ]
     },
     "execution_count": 12,
     "metadata": {},
     "output_type": "execute_result"
    }
   ],
   "source": [
    "('X'@2 5) 'Hello'"
   ]
  },
  {
   "cell_type": "markdown",
   "id": "7c22fd80",
   "metadata": {},
   "source": [
    "So we put an `X` at positions 2 and 5 (APL is 1-indexed by default – you can change to 0-indexing if you want). We can also give an array which matches the selected elements:"
   ]
  },
  {
   "cell_type": "code",
   "execution_count": 13,
   "id": "ab7f830c",
   "metadata": {},
   "outputs": [
    {
     "data": {
      "text/html": [
       "<span style=\"white-space:pre; font-family: monospace\">HXllY\n",
       "</span>"
      ]
     },
     "execution_count": 13,
     "metadata": {},
     "output_type": "execute_result"
    }
   ],
   "source": [
    "('XY'@2 5) 'Hello'"
   ]
  },
  {
   "cell_type": "markdown",
   "id": "10d26c69",
   "metadata": {},
   "source": [
    "So far, we've only used `@` to substitute elements. We can also use it to modify them: "
   ]
  },
  {
   "cell_type": "code",
   "execution_count": 17,
   "id": "884d8c42",
   "metadata": {},
   "outputs": [
    {
     "data": {
      "text/html": [
       "<span style=\"white-space:pre; font-family: monospace\">10 ¯20 30 40 ¯50 60\n",
       "</span>"
      ]
     },
     "execution_count": 17,
     "metadata": {},
     "output_type": "execute_result"
    }
   ],
   "source": [
    "(-@2 5)10 20 30 40 50 60 "
   ]
  },
  {
   "cell_type": "markdown",
   "id": "0604a39a",
   "metadata": {},
   "source": [
    "Here we applied the monadic function `-` (negate) at positions 2 and 5. We can do the same with a dyadic function, too:"
   ]
  },
  {
   "cell_type": "code",
   "execution_count": 18,
   "id": "7b50ed2e",
   "metadata": {},
   "outputs": [
    {
     "data": {
      "text/html": [
       "<span style=\"white-space:pre; font-family: monospace\">10 27 30 40 57 60\n",
       "</span>"
      ]
     },
     "execution_count": 18,
     "metadata": {},
     "output_type": "execute_result"
    }
   ],
   "source": [
    "7(+@2 5)10 20 30 40 50 60"
   ]
  },
  {
   "cell_type": "markdown",
   "id": "6e8229af",
   "metadata": {},
   "source": [
    "So far, we have been using an array right operand. If we use a function right operand it gets applied to the right argument, and the result must be a Boolean mask instead of a list of indices."
   ]
  },
  {
   "cell_type": "code",
   "execution_count": 19,
   "id": "77007054",
   "metadata": {},
   "outputs": [
    {
     "data": {
      "text/html": [
       "<span style=\"white-space:pre; font-family: monospace\">ABCDEFGHIJKLMNOPQRSTUVWXYZ\n",
       "</span>"
      ]
     },
     "execution_count": 19,
     "metadata": {},
     "output_type": "execute_result"
    },
    {
     "data": {
      "text/html": [
       "<span style=\"white-space:pre; font-family: monospace\">xello xorld\n",
       "</span>"
      ]
     },
     "execution_count": 19,
     "metadata": {},
     "output_type": "execute_result"
    }
   ],
   "source": [
    "⎕A ⍝ uppercase alphabet \n",
    "'x'@(∊∘⎕A)'Hello World' "
   ]
  },
  {
   "cell_type": "markdown",
   "id": "49a3d3d4",
   "metadata": {},
   "source": [
    "`∊` is membership, so the derived function `∊∘⎕A` gives a Boolean for where elements of the right (and only) argument are members of the uppercase alphabet: "
   ]
  },
  {
   "cell_type": "code",
   "execution_count": 20,
   "id": "dbb5bb44",
   "metadata": {},
   "outputs": [
    {
     "data": {
      "text/html": [
       "<span style=\"white-space:pre; font-family: monospace\">1 0 0 0 0 0 1 0 0 0 0\n",
       "</span>"
      ]
     },
     "execution_count": 20,
     "metadata": {},
     "output_type": "execute_result"
    }
   ],
   "source": [
    "(∊∘⎕A)'Hello World'"
   ]
  },
  {
   "cell_type": "markdown",
   "id": "affb31a5",
   "metadata": {},
   "source": [
    "which is then used as mask by `@` to determine where to substitute with `x`. See, for example [Goto the Nth Page](https://codegolf.stackexchange.com/questions/147318/goto-the-nth-page/147339#147339) where I use `@` twice.\n",
    "\n",
    "\n",
    "[I-beam](https://help.dyalog.com/latest/#Language/Primitive%20Operators/I%20Beam.htm), `⌶`, is a special monadic operator (although it follows normal APL syntax) which uses a positive integer operand to select a functionality, typically from a range of system related services. Note that although documentation is provided for `⌶` functions, any service provided this way should be considered as \"experimental\" and subject to change – without notice – from one release to the next. \n",
    "\n",
    "One example is [Format Date-Time](https://help.dyalog.com/latest/#Language/I%20Beam%20Functions/Format%20Datetime.htm), `1200⌶`, which formats _Dyalog Date Numbers_ according to a set of pattern rules."
   ]
  },
  {
   "cell_type": "code",
   "execution_count": 21,
   "id": "b2bdb2f3",
   "metadata": {},
   "outputs": [
    {
     "data": {
      "text/html": [
       "<span style=\"white-space:pre; font-family: monospace\">┌───────────────────┐\n",
       "│2022-01-04T17:42:49│\n",
       "└───────────────────┘\n",
       "</span>"
      ]
     },
     "execution_count": 21,
     "metadata": {},
     "output_type": "execute_result"
    }
   ],
   "source": [
    "'%ISO%'(1200⌶)1⎕DT'J'"
   ]
  },
  {
   "cell_type": "code",
   "execution_count": null,
   "id": "bf06592a",
   "metadata": {},
   "outputs": [],
   "source": []
  }
 ],
 "metadata": {
  "kernelspec": {
   "display_name": "Dyalog APL",
   "language": "apl",
   "name": "dyalog-kernel"
  },
  "language_info": {
   "file_extension": ".apl",
   "mimetype": "text/apl",
   "name": "APL"
  }
 },
 "nbformat": 4,
 "nbformat_minor": 5
}

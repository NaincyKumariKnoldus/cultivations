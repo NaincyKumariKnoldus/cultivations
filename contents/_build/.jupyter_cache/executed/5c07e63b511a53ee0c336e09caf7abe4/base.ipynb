{
 "cells": [
  {
   "cell_type": "code",
   "execution_count": 1,
   "id": "7a937866",
   "metadata": {},
   "outputs": [
    {
     "data": {
      "text/html": [
       "<span style=\"white-space:pre; font-family: monospace\">\n",
       "Rebuilding user command cache... \n",
       "done\n",
       "</span>"
      ]
     },
     "execution_count": 1,
     "metadata": {},
     "output_type": "execute_result"
    },
    {
     "data": {
      "text/html": [
       "<span style=\"white-space:pre; font-family: monospace\">ABCDEF\n",
       "GHIJKL\n",
       "MNOPQR\n",
       "STUVWX\n",
       "</span>"
      ]
     },
     "execution_count": 1,
     "metadata": {},
     "output_type": "execute_result"
    },
    {
     "data": {
      "text/html": [
       "<span style=\"white-space:pre; font-family: monospace\">┌───┬───┬───┬───┬───┬───┐\n",
       "│   │   │   │   │   │   │\n",
       "│ AB│ABC│BCD│CDE│DEF│EF │\n",
       "│ GH│GHI│HIJ│IJK│JKL│KL │\n",
       "├───┼───┼───┼───┼───┼───┤\n",
       "│ AB│ABC│BCD│CDE│DEF│EF │\n",
       "│ GH│GHI│HIJ│IJK│JKL│KL │\n",
       "│ MN│MNO│NOP│OPQ│PQR│QR │\n",
       "├───┼───┼───┼───┼───┼───┤\n",
       "│ GH│GHI│HIJ│IJK│JKL│KL │\n",
       "│ MN│MNO│NOP│OPQ│PQR│QR │\n",
       "│ ST│STU│TUV│UVW│VWX│WX │\n",
       "├───┼───┼───┼───┼───┼───┤\n",
       "│ MN│MNO│NOP│OPQ│PQR│QR │\n",
       "│ ST│STU│TUV│UVW│VWX│WX │\n",
       "│   │   │   │   │   │   │\n",
       "└───┴───┴───┴───┴───┴───┘\n",
       "</span>"
      ]
     },
     "execution_count": 1,
     "metadata": {},
     "output_type": "execute_result"
    }
   ],
   "source": [
    "4 6⍴⎕A ⍝ our argument\n",
    "({⊂⍵}⌺3 3) 4 6⍴⎕A "
   ]
  },
  {
   "cell_type": "code",
   "execution_count": 2,
   "id": "7e6f698f",
   "metadata": {},
   "outputs": [
    {
     "data": {
      "text/html": [
       "<span style=\"white-space:pre; font-family: monospace\">┌────┬────┬────┬────┬────┬─────┐\n",
       "│1 1 │1 0 │1 0 │1 0 │1 0 │1 ¯1 │\n",
       "├────┼────┼────┼────┼────┼─────┤\n",
       "│0 1 │0 0 │0 0 │0 0 │0 0 │0 ¯1 │\n",
       "├────┼────┼────┼────┼────┼─────┤\n",
       "│0 1 │0 0 │0 0 │0 0 │0 0 │0 ¯1 │\n",
       "├────┼────┼────┼────┼────┼─────┤\n",
       "│¯1 1│¯1 0│¯1 0│¯1 0│¯1 0│¯1 ¯1│\n",
       "└────┴────┴────┴────┴────┴─────┘\n",
       "</span>"
      ]
     },
     "execution_count": 2,
     "metadata": {},
     "output_type": "execute_result"
    }
   ],
   "source": [
    "({⊂⍺}⌺3 3) 4 6⍴⎕A "
   ]
  },
  {
   "cell_type": "code",
   "execution_count": 3,
   "id": "34c17350",
   "metadata": {},
   "outputs": [
    {
     "data": {
      "text/html": [
       "<span style=\"white-space:pre; font-family: monospace\">┌──┬───┬───┬───┬───┬──┐\n",
       "│AB│ABC│BCD│CDE│DEF│EF│\n",
       "│GH│GHI│HIJ│IJK│JKL│KL│\n",
       "├──┼───┼───┼───┼───┼──┤\n",
       "│AB│ABC│BCD│CDE│DEF│EF│\n",
       "│GH│GHI│HIJ│IJK│JKL│KL│\n",
       "│MN│MNO│NOP│OPQ│PQR│QR│\n",
       "├──┼───┼───┼───┼───┼──┤\n",
       "│GH│GHI│HIJ│IJK│JKL│KL│\n",
       "│MN│MNO│NOP│OPQ│PQR│QR│\n",
       "│ST│STU│TUV│UVW│VWX│WX│\n",
       "├──┼───┼───┼───┼───┼──┤\n",
       "│MN│MNO│NOP│OPQ│PQR│QR│\n",
       "│ST│STU│TUV│UVW│VWX│WX│\n",
       "└──┴───┴───┴───┴───┴──┘\n",
       "</span>"
      ]
     },
     "execution_count": 3,
     "metadata": {},
     "output_type": "execute_result"
    }
   ],
   "source": [
    "({⊂⍺↓⍵}⌺3 3) 4 6⍴⎕A"
   ]
  },
  {
   "cell_type": "code",
   "execution_count": 4,
   "id": "cc922290",
   "metadata": {},
   "outputs": [
    {
     "data": {
      "text/html": [
       "<span style=\"white-space:pre; font-family: monospace\">┌────┬────┬────┬────┬─────┬─────┐\n",
       "│1 2 │1 1 │1 0 │1 0 │1 ¯1 │1 ¯2 │\n",
       "├────┼────┼────┼────┼─────┼─────┤\n",
       "│0 2 │0 1 │0 0 │0 0 │0 ¯1 │0 ¯2 │\n",
       "├────┼────┼────┼────┼─────┼─────┤\n",
       "│0 2 │0 1 │0 0 │0 0 │0 ¯1 │0 ¯2 │\n",
       "├────┼────┼────┼────┼─────┼─────┤\n",
       "│¯1 2│¯1 1│¯1 0│¯1 0│¯1 ¯1│¯1 ¯2│\n",
       "└────┴────┴────┴────┴─────┴─────┘\n",
       "</span>"
      ]
     },
     "execution_count": 4,
     "metadata": {},
     "output_type": "execute_result"
    }
   ],
   "source": [
    "({⊂⍺}⌺3 5) 4 6⍴⎕A "
   ]
  },
  {
   "cell_type": "code",
   "execution_count": 5,
   "id": "af345a5f",
   "metadata": {},
   "outputs": [
    {
     "data": {
      "text/html": [
       "<span style=\"white-space:pre; font-family: monospace\">0 0 1 0 0\n",
       "1 0 0 0 1\n",
       "0 0 1 0 0\n",
       "0 1 0 0 1\n",
       "</span>"
      ]
     },
     "execution_count": 5,
     "metadata": {},
     "output_type": "execute_result"
    }
   ],
   "source": [
    "4 5⍴0 0 1 0 0 1 0"
   ]
  },
  {
   "cell_type": "code",
   "execution_count": 6,
   "id": "5c328d58",
   "metadata": {},
   "outputs": [
    {
     "data": {
      "text/html": [
       "<span style=\"white-space:pre; font-family: monospace\">┌─────┬─────┬─────┬─────┬─────┐\n",
       "│0 0 0│0 0 0│0 0 0│0 0 0│0 0 0│\n",
       "│0 0 0│0 0 1│0 1 0│1 0 0│0 0 0│\n",
       "│0 1 0│1 0 0│0 0 0│0 0 1│0 1 0│\n",
       "├─────┼─────┼─────┼─────┼─────┤\n",
       "│0 0 0│0 0 1│0 1 0│1 0 0│0 0 0│\n",
       "│0 1 0│1 0 0│0 0 0│0 0 1│0 1 0│\n",
       "│0 0 0│0 0 1│0 1 0│1 0 0│0 0 0│\n",
       "├─────┼─────┼─────┼─────┼─────┤\n",
       "│0 1 0│1 0 0│0 0 0│0 0 1│0 1 0│\n",
       "│0 0 0│0 0 1│0 1 0│1 0 0│0 0 0│\n",
       "│0 0 1│0 1 0│1 0 0│0 0 1│0 1 0│\n",
       "├─────┼─────┼─────┼─────┼─────┤\n",
       "│0 0 0│0 0 1│0 1 0│1 0 0│0 0 0│\n",
       "│0 0 1│0 1 0│1 0 0│0 0 1│0 1 0│\n",
       "│0 0 0│0 0 0│0 0 0│0 0 0│0 0 0│\n",
       "└─────┴─────┴─────┴─────┴─────┘\n",
       "</span>"
      ]
     },
     "execution_count": 6,
     "metadata": {},
     "output_type": "execute_result"
    }
   ],
   "source": [
    "({⊂⍵}⌺3 3) 4 5⍴0 0 1 0 0 1 0 "
   ]
  },
  {
   "cell_type": "code",
   "execution_count": 7,
   "id": "4449d83f",
   "metadata": {},
   "outputs": [
    {
     "data": {
      "text/html": [
       "<span style=\"white-space:pre; font-family: monospace\">1 2 1 2 1\n",
       "1 3 2 3 1\n",
       "2 3 2 3 2\n",
       "1 2 2 2 1\n",
       "</span>"
      ]
     },
     "execution_count": 7,
     "metadata": {},
     "output_type": "execute_result"
    }
   ],
   "source": [
    "({+/,⍵}⌺3 3) 4 5⍴0 0 1 0 0 1 0"
   ]
  },
  {
   "cell_type": "code",
   "execution_count": 8,
   "id": "197856ed",
   "metadata": {},
   "outputs": [
    {
     "data": {
      "text/html": [
       "<span style=\"white-space:pre; font-family: monospace\">0 0 1 0 0\n",
       "1 0 0 0 1\n",
       "0 0 1 0 0\n",
       "0 1 0 0 1\n",
       "</span>"
      ]
     },
     "execution_count": 8,
     "metadata": {},
     "output_type": "execute_result"
    }
   ],
   "source": [
    "({5⌷,⍵}⌺3 3) 4 5⍴0 0 1 0 0 1 0"
   ]
  },
  {
   "cell_type": "code",
   "execution_count": 9,
   "id": "ff9365e6",
   "metadata": {},
   "outputs": [
    {
     "data": {
      "text/html": [
       "<span style=\"white-space:pre; font-family: monospace\">┌───┬───┬───┬───┬───┐\n",
       "│0 1│0 2│1 1│0 2│0 1│\n",
       "├───┼───┼───┼───┼───┤\n",
       "│1 1│0 3│0 2│0 3│1 1│\n",
       "├───┼───┼───┼───┼───┤\n",
       "│0 2│0 3│1 2│0 3│0 2│\n",
       "├───┼───┼───┼───┼───┤\n",
       "│0 1│1 2│0 2│0 2│1 1│\n",
       "└───┴───┴───┴───┴───┘\n",
       "</span>"
      ]
     },
     "execution_count": 9,
     "metadata": {},
     "output_type": "execute_result"
    }
   ],
   "source": [
    "({self←5⌷,⍵ ⋄ total←+/,⍵ ⋄ ⊂self total}⌺3 3) 4 5⍴0 0 1 0 0 1 0"
   ]
  },
  {
   "cell_type": "code",
   "execution_count": 10,
   "id": "fa16652b",
   "metadata": {},
   "outputs": [
    {
     "data": {
      "text/html": [
       "<span style=\"white-space:pre; font-family: monospace\">0 0 0 0 0\n",
       "0 1 0 1 0\n",
       "0 1 0 1 0\n",
       "0 0 0 0 0\n",
       "</span>"
      ]
     },
     "execution_count": 10,
     "metadata": {},
     "output_type": "execute_result"
    }
   ],
   "source": [
    "({self←5⌷,⍵ ⋄ total←+/,⍵ ⋄ (self ∧ (total∊3 4)) ∨ ((~self) ∧ (total=3))}⌺3 3) 4 5⍴0 0 1 0 0 1 0"
   ]
  },
  {
   "cell_type": "code",
   "execution_count": 11,
   "id": "6c452c60",
   "metadata": {},
   "outputs": [
    {
     "data": {
      "text/html": [
       "<span style=\"white-space:pre; font-family: monospace\">┌───┬───┬───┐\n",
       "│   │   │   │\n",
       "│ AB│CDE│FG │\n",
       "│ HI│JKL│MN │\n",
       "├───┼───┼───┤\n",
       "│ OP│QRS│TU │\n",
       "│ VW│XYZ│AB │\n",
       "│ CD│EFG│HI │\n",
       "├───┼───┼───┤\n",
       "│ JK│LMN│OP │\n",
       "│ QR│STU│VW │\n",
       "│   │   │   │\n",
       "└───┴───┴───┘\n",
       "</span>"
      ]
     },
     "execution_count": 11,
     "metadata": {},
     "output_type": "execute_result"
    }
   ],
   "source": [
    "({⊂⍵}⌺(2 2⍴3))7 7⍴⎕A"
   ]
  },
  {
   "cell_type": "code",
   "execution_count": 12,
   "id": "69761de8",
   "metadata": {},
   "outputs": [
    {
     "data": {
      "text/html": [
       "<span style=\"white-space:pre; font-family: monospace\">┌──┬──┬──┐\n",
       "│AB│CD│EF│\n",
       "│GH│IJ│KL│\n",
       "├──┼──┼──┤\n",
       "│MN│OP│QR│\n",
       "│ST│UV│WX│\n",
       "├──┼──┼──┤\n",
       "│YZ│AB│CD│\n",
       "│EF│GH│IJ│\n",
       "└──┴──┴──┘\n",
       "</span>"
      ]
     },
     "execution_count": 12,
     "metadata": {},
     "output_type": "execute_result"
    },
    {
     "data": {
      "text/html": [
       "<span style=\"white-space:pre; font-family: monospace\">┌────┬────┬────┬────┬────┐\n",
       "│ ABC│ABCD│BCDE│CDEF│DEF │\n",
       "│ GHI│GHIJ│HIJK│IJKL│JKL │\n",
       "├────┼────┼────┼────┼────┤\n",
       "│ GHI│GHIJ│HIJK│IJKL│JKL │\n",
       "│ MNO│MNOP│NOPQ│OPQR│PQR │\n",
       "├────┼────┼────┼────┼────┤\n",
       "│ MNO│MNOP│NOPQ│OPQR│PQR │\n",
       "│ STU│STUV│TUVW│UVWX│VWX │\n",
       "└────┴────┴────┴────┴────┘\n",
       "</span>"
      ]
     },
     "execution_count": 12,
     "metadata": {},
     "output_type": "execute_result"
    }
   ],
   "source": [
    "({⊂⍵}⌺(2 2⍴2))6 6⍴⎕A\n",
    "({⊂⍵}⌺(2 4))4 6⍴⎕A "
   ]
  },
  {
   "cell_type": "code",
   "execution_count": 13,
   "id": "d04adb12",
   "metadata": {},
   "outputs": [
    {
     "data": {
      "text/html": [
       "<span style=\"white-space:pre; font-family: monospace\">┌─────┬────────────┬───────────┬────────┐\n",
       "│┌─┬─┐│┌─┬────────┐│┌─┬───────┐│┌─┬────┐│\n",
       "││M│1│││i│2 5 8 11│││s│3 4 6 7│││p│9 10││\n",
       "│└─┴─┘│└─┴────────┘│└─┴───────┘│└─┴────┘│\n",
       "└─────┴────────────┴───────────┴────────┘\n",
       "</span>"
      ]
     },
     "execution_count": 13,
     "metadata": {},
     "output_type": "execute_result"
    }
   ],
   "source": [
    "{⊂⍺⍵}⌸'Mississippi'"
   ]
  },
  {
   "cell_type": "code",
   "execution_count": 14,
   "id": "badd7ac1",
   "metadata": {},
   "outputs": [
    {
     "data": {
      "text/html": [
       "<span style=\"white-space:pre; font-family: monospace\">M 1\n",
       "i 4\n",
       "s 4\n",
       "p 2\n",
       "</span>"
      ]
     },
     "execution_count": 14,
     "metadata": {},
     "output_type": "execute_result"
    }
   ],
   "source": [
    "{⍺,≢⍵}⌸'Mississippi'"
   ]
  },
  {
   "cell_type": "code",
   "execution_count": 15,
   "id": "8c902a86",
   "metadata": {},
   "outputs": [
    {
     "data": {
      "text/html": [
       "<span style=\"white-space:pre; font-family: monospace\">0 1 1 1\n",
       "</span>"
      ]
     },
     "execution_count": 15,
     "metadata": {},
     "output_type": "execute_result"
    }
   ],
   "source": [
    "{1≠≢⍵}⌸'Mississippi'"
   ]
  },
  {
   "cell_type": "code",
   "execution_count": 16,
   "id": "13daf2a6",
   "metadata": {},
   "outputs": [
    {
     "data": {
      "text/html": [
       "<span style=\"white-space:pre; font-family: monospace\">Misp\n",
       "</span>"
      ]
     },
     "execution_count": 16,
     "metadata": {},
     "output_type": "execute_result"
    }
   ],
   "source": [
    "∪'Mississippi'"
   ]
  },
  {
   "cell_type": "code",
   "execution_count": 17,
   "id": "c47d27bb",
   "metadata": {},
   "outputs": [
    {
     "data": {
      "text/html": [
       "<span style=\"white-space:pre; font-family: monospace\">isp\n",
       "</span>"
      ]
     },
     "execution_count": 17,
     "metadata": {},
     "output_type": "execute_result"
    }
   ],
   "source": [
    "0 1 1 1/'Misp'"
   ]
  },
  {
   "cell_type": "code",
   "execution_count": 18,
   "id": "629a2094",
   "metadata": {},
   "outputs": [
    {
     "data": {
      "text/html": [
       "<span style=\"white-space:pre; font-family: monospace\">isp\n",
       "</span>"
      ]
     },
     "execution_count": 18,
     "metadata": {},
     "output_type": "execute_result"
    }
   ],
   "source": [
    "{({1≠≢⍵}⌸⍵)/∪⍵}'Mississippi' ⍝ Unique elements occurring more than once"
   ]
  },
  {
   "cell_type": "code",
   "execution_count": 19,
   "id": "7bc74a68",
   "metadata": {},
   "outputs": [
    {
     "data": {
      "text/html": [
       "<span style=\"white-space:pre; font-family: monospace\">AAA\n",
       "ABC\n",
       "AAA\n",
       "ABB\n",
       "AAA\n",
       "</span>"
      ]
     },
     "execution_count": 19,
     "metadata": {},
     "output_type": "execute_result"
    },
    {
     "data": {
      "text/html": [
       "<span style=\"white-space:pre; font-family: monospace\">┌───┬─────┐\n",
       "│AAA│1 3 5│\n",
       "├───┼─────┤\n",
       "│ABC│2    │\n",
       "├───┼─────┤\n",
       "│ABB│4    │\n",
       "└───┴─────┘\n",
       "</span>"
      ]
     },
     "execution_count": 19,
     "metadata": {},
     "output_type": "execute_result"
    }
   ],
   "source": [
    "5 3⍴'AAAABCAAAABBAAA' \n",
    "{⍺⍵}⌸ 5 3⍴'AAAABCAAAABBAAA' "
   ]
  },
  {
   "cell_type": "code",
   "execution_count": 20,
   "id": "855911f2",
   "metadata": {},
   "outputs": [
    {
     "data": {
      "text/html": [
       "<span style=\"white-space:pre; font-family: monospace\">┌─────┬────────────┬───────────┬────────┐\n",
       "│┌─┬─┐│┌─┬────────┐│┌─┬───────┐│┌─┬────┐│\n",
       "││M│1│││i│2 5 8 11│││s│3 4 6 7│││p│9 10││\n",
       "│└─┴─┘│└─┴────────┘│└─┴───────┘│└─┴────┘│\n",
       "└─────┴────────────┴───────────┴────────┘\n",
       "</span>"
      ]
     },
     "execution_count": 20,
     "metadata": {},
     "output_type": "execute_result"
    },
    {
     "data": {
      "text/html": [
       "<span style=\"white-space:pre; font-family: monospace\">┌─────┬────────┬────────┬──────┐\n",
       "│┌─┬─┐│┌─┬────┐│┌─┬────┐│┌─┬──┐│\n",
       "││M│A│││i│BEHK│││s│CDFG│││p│IJ││\n",
       "│└─┴─┘│└─┴────┘│└─┴────┘│└─┴──┘│\n",
       "└─────┴────────┴────────┴──────┘\n",
       "</span>"
      ]
     },
     "execution_count": 20,
     "metadata": {},
     "output_type": "execute_result"
    }
   ],
   "source": [
    "'Mississippi' {⊂⍺⍵}⌸ ⍳11\n",
    "'Mississippi' {⊂⍺⍵}⌸ 'ABCDEFGHIJK'"
   ]
  },
  {
   "cell_type": "code",
   "execution_count": null,
   "id": "bdd6af27",
   "metadata": {},
   "outputs": [],
   "source": []
  }
 ],
 "metadata": {
  "kernelspec": {
   "display_name": "Dyalog APL",
   "language": "apl",
   "name": "dyalog-kernel"
  },
  "language_info": {
   "file_extension": ".apl",
   "mimetype": "text/apl",
   "name": "APL"
  }
 },
 "nbformat": 4,
 "nbformat_minor": 5
}
{
 "cells": [
  {
   "cell_type": "code",
   "execution_count": 1,
   "id": "f9a261c7",
   "metadata": {},
   "outputs": [
    {
     "data": {
      "text/html": [
       "<span style=\"white-space:pre; font-family: monospace\">\n",
       "Rebuilding user command cache... \n",
       "done\n",
       "</span>"
      ]
     },
     "execution_count": 1,
     "metadata": {},
     "output_type": "execute_result"
    }
   ],
   "source": [
    "⎕IO←1"
   ]
  },
  {
   "cell_type": "code",
   "execution_count": 2,
   "id": "f9a672bc",
   "metadata": {},
   "outputs": [
    {
     "data": {
      "text/html": [
       "<span style=\"white-space:pre; font-family: monospace\">2 4 1 3 5\n",
       "</span>"
      ]
     },
     "execution_count": 2,
     "metadata": {},
     "output_type": "execute_result"
    }
   ],
   "source": [
    "⍋3 1 4 1 5"
   ]
  },
  {
   "cell_type": "code",
   "execution_count": 3,
   "id": "6972e7b5",
   "metadata": {},
   "outputs": [
    {
     "data": {
      "text/html": [
       "<span style=\"white-space:pre; font-family: monospace\">1 1 3 4 5\n",
       "</span>"
      ]
     },
     "execution_count": 3,
     "metadata": {},
     "output_type": "execute_result"
    }
   ],
   "source": [
    "3 1 4 1 5[⍋3 1 4 1 5]"
   ]
  },
  {
   "cell_type": "code",
   "execution_count": 4,
   "id": "aff5314c",
   "metadata": {},
   "outputs": [
    {
     "data": {
      "text/html": [
       "<span style=\"white-space:pre; font-family: monospace\">2 7\n",
       "1 8\n",
       "2 8\n",
       "</span>"
      ]
     },
     "execution_count": 4,
     "metadata": {},
     "output_type": "execute_result"
    },
    {
     "data": {
      "text/html": [
       "<span style=\"white-space:pre; font-family: monospace\">2 1 3\n",
       "</span>"
      ]
     },
     "execution_count": 4,
     "metadata": {},
     "output_type": "execute_result"
    }
   ],
   "source": [
    "3 2⍴2 7 1 8 2 8\n",
    "⍋3 2⍴2 7 1 8 2 8 "
   ]
  },
  {
   "cell_type": "code",
   "execution_count": 5,
   "id": "0a120256",
   "metadata": {},
   "outputs": [
    {
     "data": {
      "text/html": [
       "<span style=\"white-space:pre; font-family: monospace\">He\n",
       "ll\n",
       "oW\n",
       "or\n",
       "ld\n",
       "</span>"
      ]
     },
     "execution_count": 5,
     "metadata": {},
     "output_type": "execute_result"
    },
    {
     "data": {
      "text/html": [
       "<span style=\"white-space:pre; font-family: monospace\">1 5 2 3 4\n",
       "</span>"
      ]
     },
     "execution_count": 5,
     "metadata": {},
     "output_type": "execute_result"
    },
    {
     "data": {
      "text/html": [
       "<span style=\"white-space:pre; font-family: monospace\">He\n",
       "ld\n",
       "ll\n",
       "oW\n",
       "or\n",
       "</span>"
      ]
     },
     "execution_count": 5,
     "metadata": {},
     "output_type": "execute_result"
    }
   ],
   "source": [
    "5 2⍴'HelloWorld'\n",
    "⍋5 2⍴'HelloWorld'\n",
    "(5 2⍴'HelloWorld')[⍋5 2⍴'HelloWorld';] "
   ]
  },
  {
   "cell_type": "code",
   "execution_count": 6,
   "id": "eba73e08",
   "metadata": {},
   "outputs": [
    {
     "data": {
      "text/html": [
       "<span style=\"white-space:pre; font-family: monospace\">He\n",
       "ll\n",
       "\n",
       "o \n",
       "Wo\n",
       "\n",
       "rl\n",
       "d \n",
       "\n",
       "PP\n",
       "CG\n",
       "</span>"
      ]
     },
     "execution_count": 6,
     "metadata": {},
     "output_type": "execute_result"
    },
    {
     "data": {
      "text/html": [
       "<span style=\"white-space:pre; font-family: monospace\">1 4 2 3\n",
       "</span>"
      ]
     },
     "execution_count": 6,
     "metadata": {},
     "output_type": "execute_result"
    }
   ],
   "source": [
    "4 2 2⍴'Hello World PPCG'   \n",
    "⍋4 2 2⍴'Hello World PPCG'  ⍝ layer grade up"
   ]
  },
  {
   "cell_type": "code",
   "execution_count": 7,
   "id": "667f40f3",
   "metadata": {},
   "outputs": [
    {
     "data": {
      "text/html": [
       "<span style=\"white-space:pre; font-family: monospace\">He\n",
       "ll\n",
       "\n",
       "PP\n",
       "CG\n",
       "\n",
       "o \n",
       "Wo\n",
       "\n",
       "rl\n",
       "d \n",
       "</span>"
      ]
     },
     "execution_count": 7,
     "metadata": {},
     "output_type": "execute_result"
    }
   ],
   "source": [
    "{⍵[⍋⍵;;]}4 2 2⍴'Hello World PPCG'"
   ]
  },
  {
   "cell_type": "code",
   "execution_count": 8,
   "id": "28669ae7",
   "metadata": {},
   "outputs": [
    {
     "data": {
      "text/html": [
       "<span style=\"white-space:pre; font-family: monospace\">3 4 1 2\n",
       "</span>"
      ]
     },
     "execution_count": 8,
     "metadata": {},
     "output_type": "execute_result"
    },
    {
     "data": {
      "text/html": [
       "<span style=\"white-space:pre; font-family: monospace\">3 4 1 2\n",
       "</span>"
      ]
     },
     "execution_count": 8,
     "metadata": {},
     "output_type": "execute_result"
    }
   ],
   "source": [
    "⍋'PPCG' \n",
    "⍋⍋'PPCG' "
   ]
  },
  {
   "cell_type": "code",
   "execution_count": 9,
   "id": "1e60ffe1",
   "metadata": {},
   "outputs": [
    {
     "data": {
      "text/html": [
       "<span style=\"white-space:pre; font-family: monospace\">2 4 6 3 5 1\n",
       "</span>"
      ]
     },
     "execution_count": 9,
     "metadata": {},
     "output_type": "execute_result"
    },
    {
     "data": {
      "text/html": [
       "<span style=\"white-space:pre; font-family: monospace\">6 1 4 2 5 3\n",
       "</span>"
      ]
     },
     "execution_count": 9,
     "metadata": {},
     "output_type": "execute_result"
    },
    {
     "data": {
      "text/html": [
       "<span style=\"white-space:pre; font-family: monospace\">2 4 6 3 5 1\n",
       "</span>"
      ]
     },
     "execution_count": 9,
     "metadata": {},
     "output_type": "execute_result"
    }
   ],
   "source": [
    "⍋'random'\n",
    "⍋⍋'random' \n",
    "⍋⍋⍋'random'  ⍝ grading the cardinals takes us back to grade"
   ]
  },
  {
   "cell_type": "code",
   "execution_count": 10,
   "id": "bf591929",
   "metadata": {},
   "outputs": [
    {
     "data": {
      "text/html": [
       "<span style=\"white-space:pre; font-family: monospace\">eoodhlllrw\n",
       "</span>"
      ]
     },
     "execution_count": 10,
     "metadata": {},
     "output_type": "execute_result"
    }
   ],
   "source": [
    "{⍵['aeioubcdfghjklmnpqrstvwxyz'⍋⍵]}'helloworld'"
   ]
  },
  {
   "cell_type": "code",
   "execution_count": 11,
   "id": "34adfdee",
   "metadata": {},
   "outputs": [
    {
     "data": {
      "text/html": [
       "<span style=\"white-space:pre; font-family: monospace\">2 1 3 4\n",
       "</span>"
      ]
     },
     "execution_count": 11,
     "metadata": {},
     "output_type": "execute_result"
    }
   ],
   "source": [
    "'abcdefgh'⍋'hawl'"
   ]
  },
  {
   "cell_type": "code",
   "execution_count": 12,
   "id": "b1f038af",
   "metadata": {},
   "outputs": [
    {
     "data": {
      "text/html": [
       "<span style=\"white-space:pre; font-family: monospace\">ab\n",
       "ec\n",
       "id\n",
       "of\n",
       "ug\n",
       " h\n",
       " j\n",
       " k\n",
       " l\n",
       " m\n",
       " n\n",
       " p\n",
       " q\n",
       " r\n",
       " s\n",
       " t\n",
       " v\n",
       " w\n",
       " x\n",
       " y\n",
       " z\n",
       "</span>"
      ]
     },
     "execution_count": 12,
     "metadata": {},
     "output_type": "execute_result"
    }
   ],
   "source": [
    "⍉↑'aeiou' 'bcdfghjklmnpqrstvwxyz'"
   ]
  },
  {
   "cell_type": "code",
   "execution_count": 13,
   "id": "cc04471e",
   "metadata": {},
   "outputs": [
    {
     "data": {
      "text/html": [
       "<span style=\"white-space:pre; font-family: monospace\">eoodhlllrw\n",
       "</span>"
      ]
     },
     "execution_count": 13,
     "metadata": {},
     "output_type": "execute_result"
    }
   ],
   "source": [
    "{⍵[(⍉↑'aeiou' 'bcdfghjklmnpqrstvwxyz')⍋⍵]}'helloworld'"
   ]
  },
  {
   "cell_type": "code",
   "execution_count": 14,
   "id": "8e846190",
   "metadata": {},
   "outputs": [
    {
     "data": {
      "text/html": [
       "<span style=\"white-space:pre; font-family: monospace\">1 2 3 4 5 6 7 8 9 10\n",
       "</span>"
      ]
     },
     "execution_count": 14,
     "metadata": {},
     "output_type": "execute_result"
    },
    {
     "data": {
      "text/html": [
       "<span style=\"white-space:pre; font-family: monospace\">┌───┬───┬───┬───┐\n",
       "│1 1│1 2│1 3│1 4│\n",
       "├───┼───┼───┼───┤\n",
       "│2 1│2 2│2 3│2 4│\n",
       "└───┴───┴───┴───┘\n",
       "</span>"
      ]
     },
     "execution_count": 14,
     "metadata": {},
     "output_type": "execute_result"
    }
   ],
   "source": [
    "⍳10\n",
    "⍳2 4"
   ]
  },
  {
   "cell_type": "code",
   "execution_count": 15,
   "id": "10834c6e",
   "metadata": {},
   "outputs": [
    {
     "data": {
      "text/html": [
       "<span style=\"white-space:pre; font-family: monospace\">┌⊖┐\n",
       "│0│\n",
       "└~┘\n",
       "</span>"
      ]
     },
     "execution_count": 15,
     "metadata": {},
     "output_type": "execute_result"
    }
   ],
   "source": [
    "]display ⍳0"
   ]
  },
  {
   "cell_type": "code",
   "execution_count": 16,
   "id": "44b61597",
   "metadata": {},
   "outputs": [
    {
     "data": {
      "text/html": [
       "<span style=\"white-space:pre; font-family: monospace\">┌⊖──────┐\n",
       "⌽ ┌→──┐ │\n",
       "│ │0 0│ │\n",
       "│ └~──┘ │\n",
       "└∊──────┘\n",
       "</span>"
      ]
     },
     "execution_count": 16,
     "metadata": {},
     "output_type": "execute_result"
    }
   ],
   "source": [
    "]display ⍳0 0"
   ]
  },
  {
   "cell_type": "code",
   "execution_count": 17,
   "id": "c1e207c3",
   "metadata": {},
   "outputs": [
    {
     "data": {
      "text/html": [
       "<span style=\"white-space:pre; font-family: monospace\">3\n",
       "</span>"
      ]
     },
     "execution_count": 17,
     "metadata": {},
     "output_type": "execute_result"
    },
    {
     "data": {
      "text/html": [
       "<span style=\"white-space:pre; font-family: monospace\">3 5\n",
       "</span>"
      ]
     },
     "execution_count": 17,
     "metadata": {},
     "output_type": "execute_result"
    }
   ],
   "source": [
    "'hello'⍳'l'\n",
    "'hello'⍳'lo' "
   ]
  },
  {
   "cell_type": "code",
   "execution_count": 18,
   "id": "e08409a8",
   "metadata": {},
   "outputs": [
    {
     "data": {
      "text/html": [
       "<span style=\"white-space:pre; font-family: monospace\">6\n",
       "</span>"
      ]
     },
     "execution_count": 18,
     "metadata": {},
     "output_type": "execute_result"
    }
   ],
   "source": [
    "'hello'⍳'x'"
   ]
  },
  {
   "cell_type": "code",
   "execution_count": 19,
   "id": "d332538f",
   "metadata": {},
   "outputs": [
    {
     "data": {
      "text/html": [
       "<span style=\"white-space:pre; font-family: monospace\">2 4\n",
       "</span>"
      ]
     },
     "execution_count": 19,
     "metadata": {},
     "output_type": "execute_result"
    }
   ],
   "source": [
    "(3 2⍴'abcdef')⍳(2 2⍴'cdxy')"
   ]
  },
  {
   "cell_type": "code",
   "execution_count": 20,
   "id": "8e401af1",
   "metadata": {},
   "outputs": [
    {
     "data": {
      "text/html": [
       "<span style=\"white-space:pre; font-family: monospace\">┌─────┬───────┬─────┬──────┐\n",
       "│Third│Missing│First│Second│\n",
       "└─────┴───────┴─────┴──────┘\n",
       "</span>"
      ]
     },
     "execution_count": 20,
     "metadata": {},
     "output_type": "execute_result"
    }
   ],
   "source": [
    "'First' 'Second' 'Third' 'Missing'['abc'⍳'cdab']"
   ]
  },
  {
   "cell_type": "code",
   "execution_count": null,
   "id": "fff8c28e",
   "metadata": {},
   "outputs": [],
   "source": []
  }
 ],
 "metadata": {
  "kernelspec": {
   "display_name": "Dyalog APL",
   "language": "apl",
   "name": "dyalog-kernel"
  },
  "language_info": {
   "file_extension": ".apl",
   "mimetype": "text/apl",
   "name": "APL"
  }
 },
 "nbformat": 4,
 "nbformat_minor": 5
}
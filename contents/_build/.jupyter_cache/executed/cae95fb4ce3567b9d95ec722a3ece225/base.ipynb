{
 "cells": [
  {
   "cell_type": "code",
   "execution_count": 1,
   "id": "893cf292",
   "metadata": {},
   "outputs": [
    {
     "data": {
      "text/html": [
       "<span style=\"white-space:pre; font-family: monospace\">1E¯14\n",
       "</span>"
      ]
     },
     "execution_count": 1,
     "metadata": {},
     "output_type": "execute_result"
    }
   ],
   "source": [
    "⎕CT"
   ]
  },
  {
   "cell_type": "code",
   "execution_count": 2,
   "id": "b6cc5de9",
   "metadata": {},
   "outputs": [
    {
     "data": {
      "text/html": [
       "<span style=\"white-space:pre; font-family: monospace\">1\n",
       "</span>"
      ]
     },
     "execution_count": 2,
     "metadata": {},
     "output_type": "execute_result"
    }
   ],
   "source": [
    "1=1+1e¯20"
   ]
  },
  {
   "cell_type": "code",
   "execution_count": 3,
   "id": "3a9d4f5b",
   "metadata": {},
   "outputs": [
    {
     "data": {
      "text/html": [
       "<span style=\"white-space:pre; font-family: monospace\">1\n",
       "</span>"
      ]
     },
     "execution_count": 3,
     "metadata": {},
     "output_type": "execute_result"
    },
    {
     "data": {
      "text/html": [
       "<span style=\"white-space:pre; font-family: monospace\">0\n",
       "</span>"
      ]
     },
     "execution_count": 3,
     "metadata": {},
     "output_type": "execute_result"
    }
   ],
   "source": [
    "⎕CT←1E¯10    ⍝ More tolerant\n",
    "1=1+1e¯11\n",
    "\n",
    "⎕CT←0        ⍝ Disable comparison tolerance\n",
    "1=1+1e¯15\n",
    "\n",
    "⎕CT←1E¯14    ⍝ Reset to default"
   ]
  },
  {
   "cell_type": "code",
   "execution_count": 4,
   "id": "8d4b7b1d",
   "metadata": {},
   "outputs": [
    {
     "data": {
      "text/html": [
       "<span style=\"white-space:pre; font-family: monospace\">1\n",
       "</span>"
      ]
     },
     "execution_count": 4,
     "metadata": {},
     "output_type": "execute_result"
    }
   ],
   "source": [
    "0÷0"
   ]
  },
  {
   "cell_type": "code",
   "execution_count": 5,
   "id": "66b655ec",
   "metadata": {},
   "outputs": [
    {
     "data": {
      "text/html": [
       "<span style=\"white-space:pre; font-family: monospace\">0 0 0 1\n",
       "</span>"
      ]
     },
     "execution_count": 5,
     "metadata": {},
     "output_type": "execute_result"
    }
   ],
   "source": [
    "⎕DIV←1\n",
    "0 0 3 3÷0 3 0 3\n",
    "⎕DIV←0"
   ]
  },
  {
   "cell_type": "code",
   "execution_count": 6,
   "id": "fbcaa0f8",
   "metadata": {},
   "outputs": [
    {
     "data": {
      "text/html": [
       "<span style=\"white-space:pre; font-family: monospace\">1 2 3 4\n",
       "</span>"
      ]
     },
     "execution_count": 6,
     "metadata": {},
     "output_type": "execute_result"
    },
    {
     "data": {
      "text/html": [
       "<span style=\"white-space:pre; font-family: monospace\">0 1 2 3\n",
       "</span>"
      ]
     },
     "execution_count": 6,
     "metadata": {},
     "output_type": "execute_result"
    }
   ],
   "source": [
    "⍳4\n",
    "⎕IO←0\n",
    "⍳4\n",
    "⎕IO←1"
   ]
  },
  {
   "cell_type": "code",
   "execution_count": 7,
   "id": "cf594afd",
   "metadata": {},
   "outputs": [
    {
     "data": {
      "text/html": [
       "<span style=\"white-space:pre; font-family: monospace\">0\n",
       "</span>"
      ]
     },
     "execution_count": 7,
     "metadata": {},
     "output_type": "execute_result"
    }
   ],
   "source": [
    "3 4 5⍸2"
   ]
  },
  {
   "cell_type": "code",
   "execution_count": 8,
   "id": "f870bc33",
   "metadata": {},
   "outputs": [
    {
     "data": {
      "text/html": [
       "<span style=\"white-space:pre; font-family: monospace\">¯1\n",
       "</span>"
      ]
     },
     "execution_count": 8,
     "metadata": {},
     "output_type": "execute_result"
    }
   ],
   "source": [
    "⎕IO←0\n",
    "3 4 5⍸2\n",
    "⎕IO←1"
   ]
  },
  {
   "cell_type": "code",
   "execution_count": 9,
   "id": "5cfd362d",
   "metadata": {},
   "outputs": [
    {
     "data": {
      "text/html": [
       "<span style=\"white-space:pre; font-family: monospace\">1 0 1\n",
       "</span>"
      ]
     },
     "execution_count": 9,
     "metadata": {},
     "output_type": "execute_result"
    }
   ],
   "source": [
    "⎕IO,({⎕IO←0 ⋄ ⎕IO}⍬),⎕IO"
   ]
  },
  {
   "cell_type": "code",
   "execution_count": 10,
   "id": "07e51de8",
   "metadata": {},
   "outputs": [
    {
     "data": {
      "text/html": [
       "<span style=\"white-space:pre; font-family: monospace\">0.143\n",
       "</span>"
      ]
     },
     "execution_count": 10,
     "metadata": {},
     "output_type": "execute_result"
    },
    {
     "data": {
      "text/html": [
       "<span style=\"white-space:pre; font-family: monospace\">0.1428571429\n",
       "</span>"
      ]
     },
     "execution_count": 10,
     "metadata": {},
     "output_type": "execute_result"
    }
   ],
   "source": [
    "⎕PP←3\n",
    "÷7\n",
    "⎕PP←10\n",
    "÷7"
   ]
  },
  {
   "cell_type": "code",
   "execution_count": 11,
   "id": "46f20e6c",
   "metadata": {},
   "outputs": [
    {
     "data": {
      "text/html": [
       "<span style=\"white-space:pre; font-family: monospace\">12\n",
       "</span>"
      ]
     },
     "execution_count": 11,
     "metadata": {},
     "output_type": "execute_result"
    }
   ],
   "source": [
    "≢⍕÷7"
   ]
  },
  {
   "cell_type": "code",
   "execution_count": 12,
   "id": "860096ed",
   "metadata": {},
   "outputs": [
    {
     "data": {
      "text/html": [
       "<span style=\"white-space:pre; font-family: monospace\">5\n",
       "</span>"
      ]
     },
     "execution_count": 12,
     "metadata": {},
     "output_type": "execute_result"
    }
   ],
   "source": [
    "≢⍕÷7 ⊣ ⎕PP←3"
   ]
  },
  {
   "cell_type": "code",
   "execution_count": 13,
   "id": "0468cdd9",
   "metadata": {},
   "outputs": [
    {
     "data": {
      "text/html": [
       "<span style=\"white-space:pre; font-family: monospace\">3.141592653589793\n",
       "</span>"
      ]
     },
     "execution_count": 13,
     "metadata": {},
     "output_type": "execute_result"
    }
   ],
   "source": [
    "○1 ⊣ ⎕PP←17 ⍝ 𝜋"
   ]
  },
  {
   "cell_type": "code",
   "execution_count": 14,
   "id": "0cc928e0",
   "metadata": {},
   "outputs": [
    {
     "data": {
      "text/html": [
       "<span style=\"white-space:pre; font-family: monospace\">3.141592653589793\n",
       "</span>"
      ]
     },
     "execution_count": 14,
     "metadata": {},
     "output_type": "execute_result"
    }
   ],
   "source": [
    "○1 ⊣ ⎕PP←34"
   ]
  },
  {
   "cell_type": "code",
   "execution_count": 15,
   "id": "ec99ce2e",
   "metadata": {},
   "outputs": [
    {
     "data": {
      "text/html": [
       "<span style=\"white-space:pre; font-family: monospace\">3.141592653589793238462643383279503\n",
       "</span>"
      ]
     },
     "execution_count": 15,
     "metadata": {},
     "output_type": "execute_result"
    }
   ],
   "source": [
    "○1 ⊣ ⎕PP←34 ⊣ ⎕FR←1287\n",
    "⎕FR←645"
   ]
  },
  {
   "cell_type": "code",
   "execution_count": 16,
   "id": "8981c425",
   "metadata": {},
   "outputs": [
    {
     "data": {
      "text/html": [
       "<span style=\"white-space:pre; font-family: monospace\">0.12793188553860924\n",
       "</span>"
      ]
     },
     "execution_count": 16,
     "metadata": {},
     "output_type": "execute_result"
    }
   ],
   "source": [
    "?0"
   ]
  },
  {
   "cell_type": "code",
   "execution_count": 17,
   "id": "ab496723",
   "metadata": {},
   "outputs": [
    {
     "data": {
      "text/html": [
       "<span style=\"white-space:pre; font-family: monospace\">0.5289210360276925\n",
       "</span>"
      ]
     },
     "execution_count": 17,
     "metadata": {},
     "output_type": "execute_result"
    }
   ],
   "source": [
    "?0"
   ]
  },
  {
   "cell_type": "code",
   "execution_count": 18,
   "id": "4ea3d128",
   "metadata": {},
   "outputs": [
    {
     "data": {
      "text/html": [
       "<span style=\"white-space:pre; font-family: monospace\">0.0019533783197548393\n",
       "</span>"
      ]
     },
     "execution_count": 18,
     "metadata": {},
     "output_type": "execute_result"
    },
    {
     "data": {
      "text/html": [
       "<span style=\"white-space:pre; font-family: monospace\">0.0019533783197548393\n",
       "</span>"
      ]
     },
     "execution_count": 18,
     "metadata": {},
     "output_type": "execute_result"
    }
   ],
   "source": [
    "?0 ⊣ ⎕RL←42 1\n",
    "?0 ⊣ ⎕RL←42 1   ⍝ Start the sequence at the same place"
   ]
  },
  {
   "cell_type": "code",
   "execution_count": 19,
   "id": "5759c7c9",
   "metadata": {},
   "outputs": [
    {
     "data": {
      "text/html": [
       "<span style=\"white-space:pre; font-family: monospace\">1292\n",
       "</span>"
      ]
     },
     "execution_count": 19,
     "metadata": {},
     "output_type": "execute_result"
    }
   ],
   "source": [
    "a←3⊃⎕AI\n",
    "⎕DL 1      ⍝ Sleep for 1s\n",
    "a-⍨3⊃⎕AI"
   ]
  },
  {
   "cell_type": "code",
   "execution_count": 20,
   "id": "dbf49bc5",
   "metadata": {},
   "outputs": [
    {
     "data": {
      "text/html": [
       "<span style=\"white-space:pre; font-family: monospace\">stefan\n",
       "</span>"
      ]
     },
     "execution_count": 20,
     "metadata": {},
     "output_type": "execute_result"
    }
   ],
   "source": [
    "⎕AN"
   ]
  },
  {
   "cell_type": "code",
   "execution_count": 21,
   "id": "de2b4f45",
   "metadata": {},
   "outputs": [
    {
     "data": {
      "text/html": [
       "<span style=\"white-space:pre; font-family: monospace\">¯5 ¯4 ¯3 ¯2 ¯1 0 1 2 3 4 5\n",
       "</span>"
      ]
     },
     "execution_count": 21,
     "metadata": {},
     "output_type": "execute_result"
    }
   ],
   "source": [
    "'iotag'⎕CY'dfns'   ⍝ Copy the iotag function from the dfns workspace\n",
    "¯5 iotag 5"
   ]
  },
  {
   "cell_type": "code",
   "execution_count": 22,
   "id": "24ee123e",
   "metadata": {},
   "outputs": [
    {
     "data": {
      "text/html": [
       "<span style=\"white-space:pre; font-family: monospace\">1.02012\n",
       "</span>"
      ]
     },
     "execution_count": 22,
     "metadata": {},
     "output_type": "execute_result"
    }
   ],
   "source": [
    "⎕←⎕DL 1"
   ]
  },
  {
   "cell_type": "code",
   "execution_count": 23,
   "id": "f0b98f14",
   "metadata": {},
   "outputs": [
    {
     "data": {
      "text/html": [
       "<span style=\"white-space:pre; font-family: monospace\">2022 1 14 9 37 24 429\n",
       "</span>"
      ]
     },
     "execution_count": 23,
     "metadata": {},
     "output_type": "execute_result"
    }
   ],
   "source": [
    "⎕TS"
   ]
  },
  {
   "cell_type": "code",
   "execution_count": null,
   "id": "50f43a46",
   "metadata": {},
   "outputs": [],
   "source": []
  }
 ],
 "metadata": {
  "kernelspec": {
   "display_name": "Dyalog APL",
   "language": "apl",
   "name": "dyalog-kernel"
  },
  "language_info": {
   "file_extension": ".apl",
   "mimetype": "text/apl",
   "name": "APL"
  }
 },
 "nbformat": 4,
 "nbformat_minor": 5
}
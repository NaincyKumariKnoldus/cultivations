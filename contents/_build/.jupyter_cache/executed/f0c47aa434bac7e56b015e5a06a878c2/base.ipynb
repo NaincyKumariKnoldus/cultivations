{
 "cells": [
  {
   "cell_type": "code",
   "execution_count": 1,
   "id": "6b5a975a",
   "metadata": {},
   "outputs": [
    {
     "data": {
      "text/html": [
       "<span style=\"white-space:pre; font-family: monospace\">ABCDEF\n",
       "GHIJKL\n",
       "MNOPQR\n",
       "STUVWX\n",
       "</span>"
      ]
     },
     "execution_count": 1,
     "metadata": {},
     "output_type": "execute_result"
    },
    {
     "data": {
      "text/html": [
       "<span style=\"white-space:pre; font-family: monospace\">┌───┬───┬───┬───┬───┬───┐\n",
       "│   │   │   │   │   │   │\n",
       "│ AB│ABC│BCD│CDE│DEF│EF │\n",
       "│ GH│GHI│HIJ│IJK│JKL│KL │\n",
       "├───┼───┼───┼───┼───┼───┤\n",
       "│ AB│ABC│BCD│CDE│DEF│EF │\n",
       "│ GH│GHI│HIJ│IJK│JKL│KL │\n",
       "│ MN│MNO│NOP│OPQ│PQR│QR │\n",
       "├───┼───┼───┼───┼───┼───┤\n",
       "│ GH│GHI│HIJ│IJK│JKL│KL │\n",
       "│ MN│MNO│NOP│OPQ│PQR│QR │\n",
       "│ ST│STU│TUV│UVW│VWX│WX │\n",
       "├───┼───┼───┼───┼───┼───┤\n",
       "│ MN│MNO│NOP│OPQ│PQR│QR │\n",
       "│ ST│STU│TUV│UVW│VWX│WX │\n",
       "│   │   │   │   │   │   │\n",
       "└───┴───┴───┴───┴───┴───┘\n",
       "</span>"
      ]
     },
     "execution_count": 1,
     "metadata": {},
     "output_type": "execute_result"
    }
   ],
   "source": [
    "4 6⍴⎕A ⍝ our argument\n",
    "({⊂⍵}⌺3 3) 4 6⍴⎕A "
   ]
  },
  {
   "cell_type": "code",
   "execution_count": 2,
   "id": "799e1e65",
   "metadata": {},
   "outputs": [
    {
     "data": {
      "text/html": [
       "<span style=\"white-space:pre; font-family: monospace\">┌────┬────┬────┬────┬────┬─────┐\n",
       "│1 1 │1 0 │1 0 │1 0 │1 0 │1 ¯1 │\n",
       "├────┼────┼────┼────┼────┼─────┤\n",
       "│0 1 │0 0 │0 0 │0 0 │0 0 │0 ¯1 │\n",
       "├────┼────┼────┼────┼────┼─────┤\n",
       "│0 1 │0 0 │0 0 │0 0 │0 0 │0 ¯1 │\n",
       "├────┼────┼────┼────┼────┼─────┤\n",
       "│¯1 1│¯1 0│¯1 0│¯1 0│¯1 0│¯1 ¯1│\n",
       "└────┴────┴────┴────┴────┴─────┘\n",
       "</span>"
      ]
     },
     "execution_count": 2,
     "metadata": {},
     "output_type": "execute_result"
    }
   ],
   "source": [
    "({⊂⍺}⌺3 3) 4 6⍴⎕A "
   ]
  },
  {
   "cell_type": "code",
   "execution_count": 3,
   "id": "308d5316",
   "metadata": {},
   "outputs": [
    {
     "data": {
      "text/html": [
       "<span style=\"white-space:pre; font-family: monospace\">┌──┬───┬───┬───┬───┬──┐\n",
       "│AB│ABC│BCD│CDE│DEF│EF│\n",
       "│GH│GHI│HIJ│IJK│JKL│KL│\n",
       "├──┼───┼───┼───┼───┼──┤\n",
       "│AB│ABC│BCD│CDE│DEF│EF│\n",
       "│GH│GHI│HIJ│IJK│JKL│KL│\n",
       "│MN│MNO│NOP│OPQ│PQR│QR│\n",
       "├──┼───┼───┼───┼───┼──┤\n",
       "│GH│GHI│HIJ│IJK│JKL│KL│\n",
       "│MN│MNO│NOP│OPQ│PQR│QR│\n",
       "│ST│STU│TUV│UVW│VWX│WX│\n",
       "├──┼───┼───┼───┼───┼──┤\n",
       "│MN│MNO│NOP│OPQ│PQR│QR│\n",
       "│ST│STU│TUV│UVW│VWX│WX│\n",
       "└──┴───┴───┴───┴───┴──┘\n",
       "</span>"
      ]
     },
     "execution_count": 3,
     "metadata": {},
     "output_type": "execute_result"
    }
   ],
   "source": [
    "({⊂⍺↓⍵}⌺3 3) 4 6⍴⎕A"
   ]
  },
  {
   "cell_type": "code",
   "execution_count": 4,
   "id": "7cc178e4",
   "metadata": {},
   "outputs": [
    {
     "data": {
      "text/html": [
       "<span style=\"white-space:pre; font-family: monospace\">┌────┬────┬────┬────┬─────┬─────┐\n",
       "│1 2 │1 1 │1 0 │1 0 │1 ¯1 │1 ¯2 │\n",
       "├────┼────┼────┼────┼─────┼─────┤\n",
       "│0 2 │0 1 │0 0 │0 0 │0 ¯1 │0 ¯2 │\n",
       "├────┼────┼────┼────┼─────┼─────┤\n",
       "│0 2 │0 1 │0 0 │0 0 │0 ¯1 │0 ¯2 │\n",
       "├────┼────┼────┼────┼─────┼─────┤\n",
       "│¯1 2│¯1 1│¯1 0│¯1 0│¯1 ¯1│¯1 ¯2│\n",
       "└────┴────┴────┴────┴─────┴─────┘\n",
       "</span>"
      ]
     },
     "execution_count": 4,
     "metadata": {},
     "output_type": "execute_result"
    }
   ],
   "source": [
    "({⊂⍺}⌺3 5) 4 6⍴⎕A "
   ]
  },
  {
   "cell_type": "code",
   "execution_count": 5,
   "id": "69ed097f",
   "metadata": {},
   "outputs": [
    {
     "data": {
      "text/html": [
       "<span style=\"white-space:pre; font-family: monospace\">0 0 1 0 0\n",
       "1 0 0 0 1\n",
       "0 0 1 0 0\n",
       "0 1 0 0 1\n",
       "</span>"
      ]
     },
     "execution_count": 5,
     "metadata": {},
     "output_type": "execute_result"
    }
   ],
   "source": [
    "4 5⍴0 0 1 0 0 1 0"
   ]
  },
  {
   "cell_type": "code",
   "execution_count": 6,
   "id": "bc4d4d20",
   "metadata": {},
   "outputs": [
    {
     "data": {
      "text/html": [
       "<span style=\"white-space:pre; font-family: monospace\">┌─────┬─────┬─────┬─────┬─────┐\n",
       "│0 0 0│0 0 0│0 0 0│0 0 0│0 0 0│\n",
       "│0 0 0│0 0 1│0 1 0│1 0 0│0 0 0│\n",
       "│0 1 0│1 0 0│0 0 0│0 0 1│0 1 0│\n",
       "├─────┼─────┼─────┼─────┼─────┤\n",
       "│0 0 0│0 0 1│0 1 0│1 0 0│0 0 0│\n",
       "│0 1 0│1 0 0│0 0 0│0 0 1│0 1 0│\n",
       "│0 0 0│0 0 1│0 1 0│1 0 0│0 0 0│\n",
       "├─────┼─────┼─────┼─────┼─────┤\n",
       "│0 1 0│1 0 0│0 0 0│0 0 1│0 1 0│\n",
       "│0 0 0│0 0 1│0 1 0│1 0 0│0 0 0│\n",
       "│0 0 1│0 1 0│1 0 0│0 0 1│0 1 0│\n",
       "├─────┼─────┼─────┼─────┼─────┤\n",
       "│0 0 0│0 0 1│0 1 0│1 0 0│0 0 0│\n",
       "│0 0 1│0 1 0│1 0 0│0 0 1│0 1 0│\n",
       "│0 0 0│0 0 0│0 0 0│0 0 0│0 0 0│\n",
       "└─────┴─────┴─────┴─────┴─────┘\n",
       "</span>"
      ]
     },
     "execution_count": 6,
     "metadata": {},
     "output_type": "execute_result"
    }
   ],
   "source": [
    "({⊂⍵}⌺3 3) 4 5⍴0 0 1 0 0 1 0 "
   ]
  },
  {
   "cell_type": "code",
   "execution_count": 7,
   "id": "ec71ff17",
   "metadata": {},
   "outputs": [
    {
     "data": {
      "text/html": [
       "<span style=\"white-space:pre; font-family: monospace\">1 2 1 2 1\n",
       "1 3 2 3 1\n",
       "2 3 2 3 2\n",
       "1 2 2 2 1\n",
       "</span>"
      ]
     },
     "execution_count": 7,
     "metadata": {},
     "output_type": "execute_result"
    }
   ],
   "source": [
    "({+/,⍵}⌺3 3) 4 5⍴0 0 1 0 0 1 0"
   ]
  },
  {
   "cell_type": "code",
   "execution_count": 8,
   "id": "40bb54dd",
   "metadata": {},
   "outputs": [
    {
     "data": {
      "text/html": [
       "<span style=\"white-space:pre; font-family: monospace\">0 0 1 0 0\n",
       "1 0 0 0 1\n",
       "0 0 1 0 0\n",
       "0 1 0 0 1\n",
       "</span>"
      ]
     },
     "execution_count": 8,
     "metadata": {},
     "output_type": "execute_result"
    }
   ],
   "source": [
    "({5⌷,⍵}⌺3 3) 4 5⍴0 0 1 0 0 1 0"
   ]
  },
  {
   "cell_type": "code",
   "execution_count": 9,
   "id": "5c721045",
   "metadata": {},
   "outputs": [
    {
     "data": {
      "text/html": [
       "<span style=\"white-space:pre; font-family: monospace\">┌───┬───┬───┬───┬───┐\n",
       "│0 1│0 2│1 1│0 2│0 1│\n",
       "├───┼───┼───┼───┼───┤\n",
       "│1 1│0 3│0 2│0 3│1 1│\n",
       "├───┼───┼───┼───┼───┤\n",
       "│0 2│0 3│1 2│0 3│0 2│\n",
       "├───┼───┼───┼───┼───┤\n",
       "│0 1│1 2│0 2│0 2│1 1│\n",
       "└───┴───┴───┴───┴───┘\n",
       "</span>"
      ]
     },
     "execution_count": 9,
     "metadata": {},
     "output_type": "execute_result"
    }
   ],
   "source": [
    "({self←5⌷,⍵ ⋄ total←+/,⍵ ⋄ ⊂self total}⌺3 3) 4 5⍴0 0 1 0 0 1 0"
   ]
  },
  {
   "cell_type": "code",
   "execution_count": 10,
   "id": "00b84a0b",
   "metadata": {},
   "outputs": [
    {
     "data": {
      "text/html": [
       "<span style=\"white-space:pre; font-family: monospace\">0 0 0 0 0\n",
       "0 1 0 1 0\n",
       "0 1 0 1 0\n",
       "0 0 0 0 0\n",
       "</span>"
      ]
     },
     "execution_count": 10,
     "metadata": {},
     "output_type": "execute_result"
    }
   ],
   "source": [
    "({self←5⌷,⍵ ⋄ total←+/,⍵ ⋄ (self ∧ (total∊3 4)) ∨ ((~self) ∧ (total=3))}⌺3 3) 4 5⍴0 0 1 0 0 1 0"
   ]
  },
  {
   "cell_type": "code",
   "execution_count": 11,
   "id": "a5fb04a6",
   "metadata": {},
   "outputs": [
    {
     "data": {
      "text/html": [
       "<span style=\"white-space:pre; font-family: monospace\">┌───┬───┬───┐\n",
       "│   │   │   │\n",
       "│ AB│CDE│FG │\n",
       "│ HI│JKL│MN │\n",
       "├───┼───┼───┤\n",
       "│ OP│QRS│TU │\n",
       "│ VW│XYZ│AB │\n",
       "│ CD│EFG│HI │\n",
       "├───┼───┼───┤\n",
       "│ JK│LMN│OP │\n",
       "│ QR│STU│VW │\n",
       "│   │   │   │\n",
       "└───┴───┴───┘\n",
       "</span>"
      ]
     },
     "execution_count": 11,
     "metadata": {},
     "output_type": "execute_result"
    }
   ],
   "source": [
    "({⊂⍵}⌺(2 2⍴3))7 7⍴⎕A"
   ]
  },
  {
   "cell_type": "code",
   "execution_count": 12,
   "id": "11b566e0",
   "metadata": {},
   "outputs": [
    {
     "data": {
      "text/html": [
       "<span style=\"white-space:pre; font-family: monospace\">┌──┬──┬──┐\n",
       "│AB│CD│EF│\n",
       "│GH│IJ│KL│\n",
       "├──┼──┼──┤\n",
       "│MN│OP│QR│\n",
       "│ST│UV│WX│\n",
       "├──┼──┼──┤\n",
       "│YZ│AB│CD│\n",
       "│EF│GH│IJ│\n",
       "└──┴──┴──┘\n",
       "</span>"
      ]
     },
     "execution_count": 12,
     "metadata": {},
     "output_type": "execute_result"
    },
    {
     "data": {
      "text/html": [
       "<span style=\"white-space:pre; font-family: monospace\">┌────┬────┬────┬────┬────┐\n",
       "│ ABC│ABCD│BCDE│CDEF│DEF │\n",
       "│ GHI│GHIJ│HIJK│IJKL│JKL │\n",
       "├────┼────┼────┼────┼────┤\n",
       "│ GHI│GHIJ│HIJK│IJKL│JKL │\n",
       "│ MNO│MNOP│NOPQ│OPQR│PQR │\n",
       "├────┼────┼────┼────┼────┤\n",
       "│ MNO│MNOP│NOPQ│OPQR│PQR │\n",
       "│ STU│STUV│TUVW│UVWX│VWX │\n",
       "└────┴────┴────┴────┴────┘\n",
       "</span>"
      ]
     },
     "execution_count": 12,
     "metadata": {},
     "output_type": "execute_result"
    }
   ],
   "source": [
    "({⊂⍵}⌺(2 2⍴2))6 6⍴⎕A\n",
    "({⊂⍵}⌺(2 4))4 6⍴⎕A "
   ]
  },
  {
   "cell_type": "code",
   "execution_count": 13,
   "id": "ca13a4dd",
   "metadata": {},
   "outputs": [
    {
     "data": {
      "text/html": [
       "<span style=\"white-space:pre; font-family: monospace\">┌─────┬────────────┬───────────┬────────┐\n",
       "│┌─┬─┐│┌─┬────────┐│┌─┬───────┐│┌─┬────┐│\n",
       "││M│1│││i│2 5 8 11│││s│3 4 6 7│││p│9 10││\n",
       "│└─┴─┘│└─┴────────┘│└─┴───────┘│└─┴────┘│\n",
       "└─────┴────────────┴───────────┴────────┘\n",
       "</span>"
      ]
     },
     "execution_count": 13,
     "metadata": {},
     "output_type": "execute_result"
    }
   ],
   "source": [
    "{⊂⍺⍵}⌸'Mississippi'"
   ]
  },
  {
   "cell_type": "code",
   "execution_count": 14,
   "id": "af62ed47",
   "metadata": {},
   "outputs": [
    {
     "data": {
      "text/html": [
       "<span style=\"white-space:pre; font-family: monospace\">M 1\n",
       "i 4\n",
       "s 4\n",
       "p 2\n",
       "</span>"
      ]
     },
     "execution_count": 14,
     "metadata": {},
     "output_type": "execute_result"
    }
   ],
   "source": [
    "{⍺,≢⍵}⌸'Mississippi'"
   ]
  },
  {
   "cell_type": "code",
   "execution_count": 15,
   "id": "489c647d",
   "metadata": {},
   "outputs": [
    {
     "data": {
      "text/html": [
       "<span style=\"white-space:pre; font-family: monospace\">0 1 1 1\n",
       "</span>"
      ]
     },
     "execution_count": 15,
     "metadata": {},
     "output_type": "execute_result"
    }
   ],
   "source": [
    "{1≠≢⍵}⌸'Mississippi'"
   ]
  },
  {
   "cell_type": "code",
   "execution_count": 16,
   "id": "b038fcc9",
   "metadata": {},
   "outputs": [
    {
     "data": {
      "text/html": [
       "<span style=\"white-space:pre; font-family: monospace\">Misp\n",
       "</span>"
      ]
     },
     "execution_count": 16,
     "metadata": {},
     "output_type": "execute_result"
    }
   ],
   "source": [
    "∪'Mississippi'"
   ]
  },
  {
   "cell_type": "code",
   "execution_count": 17,
   "id": "1d9f9a76",
   "metadata": {},
   "outputs": [
    {
     "data": {
      "text/html": [
       "<span style=\"white-space:pre; font-family: monospace\">isp\n",
       "</span>"
      ]
     },
     "execution_count": 17,
     "metadata": {},
     "output_type": "execute_result"
    }
   ],
   "source": [
    "0 1 1 1/'Misp'"
   ]
  },
  {
   "cell_type": "code",
   "execution_count": 18,
   "id": "fb6d14d2",
   "metadata": {},
   "outputs": [
    {
     "data": {
      "text/html": [
       "<span style=\"white-space:pre; font-family: monospace\">isp\n",
       "</span>"
      ]
     },
     "execution_count": 18,
     "metadata": {},
     "output_type": "execute_result"
    }
   ],
   "source": [
    "{({1≠≢⍵}⌸⍵)/∪⍵}'Mississippi' ⍝ Unique elements occurring more than once"
   ]
  },
  {
   "cell_type": "code",
   "execution_count": 19,
   "id": "00713ee3",
   "metadata": {},
   "outputs": [
    {
     "data": {
      "text/html": [
       "<span style=\"white-space:pre; font-family: monospace\">AAA\n",
       "ABC\n",
       "AAA\n",
       "ABB\n",
       "AAA\n",
       "</span>"
      ]
     },
     "execution_count": 19,
     "metadata": {},
     "output_type": "execute_result"
    },
    {
     "data": {
      "text/html": [
       "<span style=\"white-space:pre; font-family: monospace\">┌───┬─────┐\n",
       "│AAA│1 3 5│\n",
       "├───┼─────┤\n",
       "│ABC│2    │\n",
       "├───┼─────┤\n",
       "│ABB│4    │\n",
       "└───┴─────┘\n",
       "</span>"
      ]
     },
     "execution_count": 19,
     "metadata": {},
     "output_type": "execute_result"
    }
   ],
   "source": [
    "5 3⍴'AAAABCAAAABBAAA' \n",
    "{⍺⍵}⌸ 5 3⍴'AAAABCAAAABBAAA' "
   ]
  },
  {
   "cell_type": "code",
   "execution_count": 20,
   "id": "fe1993f9",
   "metadata": {},
   "outputs": [
    {
     "data": {
      "text/html": [
       "<span style=\"white-space:pre; font-family: monospace\">┌─────┬────────────┬───────────┬────────┐\n",
       "│┌─┬─┐│┌─┬────────┐│┌─┬───────┐│┌─┬────┐│\n",
       "││M│1│││i│2 5 8 11│││s│3 4 6 7│││p│9 10││\n",
       "│└─┴─┘│└─┴────────┘│└─┴───────┘│└─┴────┘│\n",
       "└─────┴────────────┴───────────┴────────┘\n",
       "</span>"
      ]
     },
     "execution_count": 20,
     "metadata": {},
     "output_type": "execute_result"
    },
    {
     "data": {
      "text/html": [
       "<span style=\"white-space:pre; font-family: monospace\">┌─────┬────────┬────────┬──────┐\n",
       "│┌─┬─┐│┌─┬────┐│┌─┬────┐│┌─┬──┐│\n",
       "││M│A│││i│BEHK│││s│CDFG│││p│IJ││\n",
       "│└─┴─┘│└─┴────┘│└─┴────┘│└─┴──┘│\n",
       "└─────┴────────┴────────┴──────┘\n",
       "</span>"
      ]
     },
     "execution_count": 20,
     "metadata": {},
     "output_type": "execute_result"
    }
   ],
   "source": [
    "'Mississippi' {⊂⍺⍵}⌸ ⍳11\n",
    "'Mississippi' {⊂⍺⍵}⌸ 'ABCDEFGHIJK'"
   ]
  },
  {
   "cell_type": "code",
   "execution_count": null,
   "id": "afd109ab",
   "metadata": {},
   "outputs": [],
   "source": []
  }
 ],
 "metadata": {
  "kernelspec": {
   "display_name": "Dyalog APL",
   "language": "apl",
   "name": "dyalog-kernel"
  },
  "language_info": {
   "file_extension": ".apl",
   "mimetype": "text/apl",
   "name": "APL"
  }
 },
 "nbformat": 4,
 "nbformat_minor": 5
}
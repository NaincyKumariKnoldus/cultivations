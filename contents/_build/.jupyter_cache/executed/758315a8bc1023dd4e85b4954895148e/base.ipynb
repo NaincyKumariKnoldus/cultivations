{
 "cells": [
  {
   "cell_type": "code",
   "execution_count": 1,
   "id": "1941a24f",
   "metadata": {},
   "outputs": [
    {
     "data": {
      "text/html": [
       "<span style=\"white-space:pre; font-family: monospace\">11\n",
       "</span>"
      ]
     },
     "execution_count": 1,
     "metadata": {},
     "output_type": "execute_result"
    },
    {
     "data": {
      "text/html": [
       "<span style=\"white-space:pre; font-family: monospace\">48\n",
       "</span>"
      ]
     },
     "execution_count": 1,
     "metadata": {},
     "output_type": "execute_result"
    },
    {
     "data": {
      "text/html": [
       "<span style=\"white-space:pre; font-family: monospace\">1584\n",
       "</span>"
      ]
     },
     "execution_count": 1,
     "metadata": {},
     "output_type": "execute_result"
    },
    {
     "data": {
      "text/html": [
       "<span style=\"white-space:pre; font-family: monospace\">¯4\n",
       "</span>"
      ]
     },
     "execution_count": 1,
     "metadata": {},
     "output_type": "execute_result"
    }
   ],
   "source": [
    "3+8\n",
    "4×12\n",
    "144×11\n",
    "3-7"
   ]
  },
  {
   "cell_type": "code",
   "execution_count": 2,
   "id": "5617f12b",
   "metadata": {},
   "outputs": [
    {
     "data": {
      "text/html": [
       "<span style=\"white-space:pre; font-family: monospace\">1\n",
       "</span>"
      ]
     },
     "execution_count": 2,
     "metadata": {},
     "output_type": "execute_result"
    }
   ],
   "source": [
    "0÷0"
   ]
  },
  {
   "cell_type": "code",
   "execution_count": 3,
   "id": "5d477521",
   "metadata": {},
   "outputs": [
    {
     "data": {
      "text/html": [
       "<span style=\"white-space:pre; font-family: monospace\">0\n",
       "</span>"
      ]
     },
     "execution_count": 3,
     "metadata": {},
     "output_type": "execute_result"
    }
   ],
   "source": [
    "⎕DIV←1\n",
    "0÷0\n",
    "⎕DIV←0       ⍝ default setting"
   ]
  },
  {
   "cell_type": "code",
   "execution_count": 4,
   "id": "c7b0f9df",
   "metadata": {},
   "outputs": [
    {
     "name": "stderr",
     "output_type": "stream",
     "text": [
      "DOMAIN ERROR: Divide by zero\n",
      "      0×÷0        ⍝ DOMAIN ERROR: Divide by zero\n",
      "        ∧\n"
     ]
    }
   ],
   "source": [
    "0×÷0        ⍝ DOMAIN ERROR: Divide by zero "
   ]
  },
  {
   "cell_type": "code",
   "execution_count": 5,
   "id": "ea78a91b",
   "metadata": {},
   "outputs": [
    {
     "data": {
      "text/html": [
       "<span style=\"white-space:pre; font-family: monospace\">0.2\n",
       "</span>"
      ]
     },
     "execution_count": 5,
     "metadata": {},
     "output_type": "execute_result"
    },
    {
     "data": {
      "text/html": [
       "<span style=\"white-space:pre; font-family: monospace\">1 ¯1 0\n",
       "</span>"
      ]
     },
     "execution_count": 5,
     "metadata": {},
     "output_type": "execute_result"
    },
    {
     "data": {
      "text/html": [
       "<span style=\"white-space:pre; font-family: monospace\">0.8J¯0.6\n",
       "</span>"
      ]
     },
     "execution_count": 5,
     "metadata": {},
     "output_type": "execute_result"
    }
   ],
   "source": [
    "÷5          ⍝ reciprocal: 1÷5\n",
    "×12 ¯33 0   ⍝ signum\n",
    "×32j¯24     ⍝ direction"
   ]
  },
  {
   "cell_type": "code",
   "execution_count": 6,
   "id": "c2c23794",
   "metadata": {},
   "outputs": [
    {
     "data": {
      "text/html": [
       "<span style=\"white-space:pre; font-family: monospace\">1024\n",
       "</span>"
      ]
     },
     "execution_count": 6,
     "metadata": {},
     "output_type": "execute_result"
    },
    {
     "data": {
      "text/html": [
       "<span style=\"white-space:pre; font-family: monospace\">2.71828\n",
       "</span>"
      ]
     },
     "execution_count": 6,
     "metadata": {},
     "output_type": "execute_result"
    }
   ],
   "source": [
    "2*10        ⍝ ⍺ to the power of ⍵\n",
    "*1          ⍝ e to the power of ⍵"
   ]
  },
  {
   "cell_type": "code",
   "execution_count": 7,
   "id": "f0bcd664",
   "metadata": {},
   "outputs": [
    {
     "data": {
      "text/html": [
       "<span style=\"white-space:pre; font-family: monospace\">7\n",
       "</span>"
      ]
     },
     "execution_count": 7,
     "metadata": {},
     "output_type": "execute_result"
    }
   ],
   "source": [
    "10⍟10000000   ⍝ log(10000000)"
   ]
  },
  {
   "cell_type": "code",
   "execution_count": 8,
   "id": "6a9b5687",
   "metadata": {},
   "outputs": [
    {
     "data": {
      "text/html": [
       "<span style=\"white-space:pre; font-family: monospace\">3 2\n",
       "</span>"
      ]
     },
     "execution_count": 8,
     "metadata": {},
     "output_type": "execute_result"
    }
   ],
   "source": [
    "13 1 ⌹ 2 2⍴3 2 1 ¯1"
   ]
  },
  {
   "cell_type": "code",
   "execution_count": 9,
   "id": "267cbfe5",
   "metadata": {},
   "outputs": [
    {
     "data": {
      "text/html": [
       "<span style=\"white-space:pre; font-family: monospace\">6.28319\n",
       "</span>"
      ]
     },
     "execution_count": 9,
     "metadata": {},
     "output_type": "execute_result"
    }
   ],
   "source": [
    "○2          ⍝ 2 times π"
   ]
  },
  {
   "cell_type": "code",
   "execution_count": 10,
   "id": "25277632",
   "metadata": {},
   "outputs": [
    {
     "data": {
      "text/html": [
       "<span style=\"white-space:pre; font-family: monospace\">1.22465E¯16\n",
       "</span>"
      ]
     },
     "execution_count": 10,
     "metadata": {},
     "output_type": "execute_result"
    },
    {
     "data": {
      "text/html": [
       "<span style=\"white-space:pre; font-family: monospace\">¯1\n",
       "</span>"
      ]
     },
     "execution_count": 10,
     "metadata": {},
     "output_type": "execute_result"
    },
    {
     "data": {
      "text/html": [
       "<span style=\"white-space:pre; font-family: monospace\">3.14159\n",
       "</span>"
      ]
     },
     "execution_count": 10,
     "metadata": {},
     "output_type": "execute_result"
    }
   ],
   "source": [
    "1○○1        ⍝ sin π\n",
    "2○○1        ⍝ cos π\n",
    "¯2○2○○1     ⍝ arccos cos π"
   ]
  },
  {
   "cell_type": "code",
   "execution_count": 11,
   "id": "de02713d",
   "metadata": {},
   "outputs": [
    {
     "data": {
      "text/html": [
       "<span style=\"white-space:pre; font-family: monospace\">479001600\n",
       "</span>"
      ]
     },
     "execution_count": 11,
     "metadata": {},
     "output_type": "execute_result"
    },
    {
     "data": {
      "text/html": [
       "<span style=\"white-space:pre; font-family: monospace\">28\n",
       "</span>"
      ]
     },
     "execution_count": 11,
     "metadata": {},
     "output_type": "execute_result"
    }
   ],
   "source": [
    "!12         ⍝ 12 factorial\n",
    "2!8         ⍝ how many ways can we select 2 from 8?"
   ]
  },
  {
   "cell_type": "code",
   "execution_count": 12,
   "id": "d3c5acac",
   "metadata": {},
   "outputs": [
    {
     "data": {
      "text/html": [
       "<span style=\"white-space:pre; font-family: monospace\">4 3 4\n",
       "</span>"
      ]
     },
     "execution_count": 12,
     "metadata": {},
     "output_type": "execute_result"
    },
    {
     "data": {
      "text/html": [
       "<span style=\"white-space:pre; font-family: monospace\">0.320547\n",
       "</span>"
      ]
     },
     "execution_count": 12,
     "metadata": {},
     "output_type": "execute_result"
    }
   ],
   "source": [
    "?6 6 6     ⍝ roll three six-sided dice\n",
    "?0         ⍝ random float between 0-1, excluding 0 and 1"
   ]
  },
  {
   "cell_type": "code",
   "execution_count": 13,
   "id": "273ac46d",
   "metadata": {},
   "outputs": [
    {
     "data": {
      "text/html": [
       "<span style=\"white-space:pre; font-family: monospace\">1 6 9 2 4 7 8 3 5 10\n",
       "</span>"
      ]
     },
     "execution_count": 13,
     "metadata": {},
     "output_type": "execute_result"
    }
   ],
   "source": [
    "10?10       ⍝ 1-10 in random order"
   ]
  },
  {
   "cell_type": "code",
   "execution_count": 14,
   "id": "d66e3e91",
   "metadata": {},
   "outputs": [
    {
     "data": {
      "text/html": [
       "<span style=\"white-space:pre; font-family: monospace\">8 0 3 6 5 2 7 9 4 1\n",
       "</span>"
      ]
     },
     "execution_count": 14,
     "metadata": {},
     "output_type": "execute_result"
    }
   ],
   "source": [
    "⎕IO←0\n",
    "10?10      ⍝ Now we should get 0-9\n",
    "⎕IO←1"
   ]
  },
  {
   "cell_type": "code",
   "execution_count": 15,
   "id": "165d6a20",
   "metadata": {},
   "outputs": [
    {
     "data": {
      "text/html": [
       "<span style=\"white-space:pre; font-family: monospace\">97\n",
       "</span>"
      ]
     },
     "execution_count": 15,
     "metadata": {},
     "output_type": "execute_result"
    },
    {
     "data": {
      "text/html": [
       "<span style=\"white-space:pre; font-family: monospace\">3 5 7 8 7 2\n",
       "</span>"
      ]
     },
     "execution_count": 15,
     "metadata": {},
     "output_type": "execute_result"
    }
   ],
   "source": [
    "|¯97\n",
    "|3 5 ¯7 ¯8 7 ¯2"
   ]
  },
  {
   "cell_type": "code",
   "execution_count": 16,
   "id": "9f9ce2c8",
   "metadata": {},
   "outputs": [
    {
     "data": {
      "text/html": [
       "<span style=\"white-space:pre; font-family: monospace\">1 0 1 0 1 0 1 0 1 0\n",
       "</span>"
      ]
     },
     "execution_count": 16,
     "metadata": {},
     "output_type": "execute_result"
    }
   ],
   "source": [
    "2|⍳10     ⍝ odd numbers in 1-10"
   ]
  },
  {
   "cell_type": "code",
   "execution_count": 17,
   "id": "aec5f99d",
   "metadata": {},
   "outputs": [
    {
     "data": {
      "text/html": [
       "<span style=\"white-space:pre; font-family: monospace\">4\n",
       "</span>"
      ]
     },
     "execution_count": 17,
     "metadata": {},
     "output_type": "execute_result"
    }
   ],
   "source": [
    "⌈3.14159256"
   ]
  },
  {
   "cell_type": "code",
   "execution_count": 18,
   "id": "34a92ece",
   "metadata": {},
   "outputs": [
    {
     "data": {
      "text/html": [
       "<span style=\"white-space:pre; font-family: monospace\">23\n",
       "</span>"
      ]
     },
     "execution_count": 18,
     "metadata": {},
     "output_type": "execute_result"
    }
   ],
   "source": [
    "15⌈23"
   ]
  },
  {
   "cell_type": "code",
   "execution_count": 19,
   "id": "8c7de44a",
   "metadata": {},
   "outputs": [
    {
     "data": {
      "text/html": [
       "<span style=\"white-space:pre; font-family: monospace\">3\n",
       "</span>"
      ]
     },
     "execution_count": 19,
     "metadata": {},
     "output_type": "execute_result"
    },
    {
     "data": {
      "text/html": [
       "<span style=\"white-space:pre; font-family: monospace\">15\n",
       "</span>"
      ]
     },
     "execution_count": 19,
     "metadata": {},
     "output_type": "execute_result"
    }
   ],
   "source": [
    "⌊3.14159256\n",
    "15⌊23"
   ]
  },
  {
   "cell_type": "code",
   "execution_count": 20,
   "id": "82af26a4",
   "metadata": {},
   "outputs": [
    {
     "data": {
      "text/html": [
       "<span style=\"white-space:pre; font-family: monospace\">42\n",
       "</span>"
      ]
     },
     "execution_count": 20,
     "metadata": {},
     "output_type": "execute_result"
    }
   ],
   "source": [
    "2⊥1 0 1 0 1 0   ⍝ decode binary to decimal"
   ]
  },
  {
   "cell_type": "code",
   "execution_count": 21,
   "id": "a7e8d832",
   "metadata": {},
   "outputs": [
    {
     "data": {
      "text/html": [
       "<span style=\"white-space:pre; font-family: monospace\">2 46 40\n",
       "</span>"
      ]
     },
     "execution_count": 21,
     "metadata": {},
     "output_type": "execute_result"
    }
   ],
   "source": [
    "24 60 60⊤10000  ⍝ seconds to hour, minutes, seconds"
   ]
  },
  {
   "cell_type": "code",
   "execution_count": 22,
   "id": "7a648d31",
   "metadata": {},
   "outputs": [
    {
     "data": {
      "text/html": [
       "<span style=\"white-space:pre; font-family: monospace\">0\n",
       "</span>"
      ]
     },
     "execution_count": 22,
     "metadata": {},
     "output_type": "execute_result"
    }
   ],
   "source": [
    "''≡⍬   ⍝ does the empty char vector match the empty numeric vector?"
   ]
  },
  {
   "cell_type": "code",
   "execution_count": 23,
   "id": "83aa422e",
   "metadata": {},
   "outputs": [
    {
     "data": {
      "text/html": [
       "<span style=\"white-space:pre; font-family: monospace\">¯3\n",
       "</span>"
      ]
     },
     "execution_count": 23,
     "metadata": {},
     "output_type": "execute_result"
    },
    {
     "data": {
      "text/html": [
       "<span style=\"white-space:pre; font-family: monospace\">1\n",
       "</span>"
      ]
     },
     "execution_count": 23,
     "metadata": {},
     "output_type": "execute_result"
    },
    {
     "data": {
      "text/html": [
       "<span style=\"white-space:pre; font-family: monospace\">3\n",
       "</span>"
      ]
     },
     "execution_count": 23,
     "metadata": {},
     "output_type": "execute_result"
    }
   ],
   "source": [
    "≡(1 2 (3 4 5 (6 7 8)))  ⍝ unevenly nested vector\n",
    "≢1                      ⍝ scalars tally to 1\n",
    "≢3 2⍴⍳6                 ⍝ matrix tally is the number of rows"
   ]
  },
  {
   "cell_type": "code",
   "execution_count": 24,
   "id": "112de663",
   "metadata": {},
   "outputs": [
    {
     "data": {
      "text/html": [
       "<span style=\"white-space:pre; font-family: monospace\">0 1 1 1\n",
       "</span>"
      ]
     },
     "execution_count": 24,
     "metadata": {},
     "output_type": "execute_result"
    },
    {
     "data": {
      "text/html": [
       "<span style=\"white-space:pre; font-family: monospace\">5 1 2 7\n",
       "</span>"
      ]
     },
     "execution_count": 24,
     "metadata": {},
     "output_type": "execute_result"
    }
   ],
   "source": [
    "0 1 0 1 ∨ 0 0 1 1    ⍝ logical OR\n",
    "15 1 2 7 ∨ 35 1 4 0  ⍝ GCD"
   ]
  },
  {
   "cell_type": "code",
   "execution_count": 25,
   "id": "ae722b8e",
   "metadata": {},
   "outputs": [
    {
     "data": {
      "text/html": [
       "<span style=\"white-space:pre; font-family: monospace\">0 0 0 1\n",
       "</span>"
      ]
     },
     "execution_count": 25,
     "metadata": {},
     "output_type": "execute_result"
    },
    {
     "data": {
      "text/html": [
       "<span style=\"white-space:pre; font-family: monospace\">105 1 4 0\n",
       "</span>"
      ]
     },
     "execution_count": 25,
     "metadata": {},
     "output_type": "execute_result"
    }
   ],
   "source": [
    "0 1 0 1 ∧ 0 0 1 1     ⍝ logical AND\n",
    "15 1 2 7 ∧ 35 1 4 0   ⍝ LCM"
   ]
  },
  {
   "cell_type": "code",
   "execution_count": 26,
   "id": "a1068dd0",
   "metadata": {},
   "outputs": [
    {
     "data": {
      "text/html": [
       "<span style=\"white-space:pre; font-family: monospace\">1 0 0 0\n",
       "</span>"
      ]
     },
     "execution_count": 26,
     "metadata": {},
     "output_type": "execute_result"
    },
    {
     "data": {
      "text/html": [
       "<span style=\"white-space:pre; font-family: monospace\">0 1 1 0\n",
       "</span>"
      ]
     },
     "execution_count": 26,
     "metadata": {},
     "output_type": "execute_result"
    },
    {
     "data": {
      "text/html": [
       "<span style=\"white-space:pre; font-family: monospace\">1 0 0 1\n",
       "</span>"
      ]
     },
     "execution_count": 26,
     "metadata": {},
     "output_type": "execute_result"
    },
    {
     "data": {
      "text/html": [
       "<span style=\"white-space:pre; font-family: monospace\">1 1 1 0\n",
       "</span>"
      ]
     },
     "execution_count": 26,
     "metadata": {},
     "output_type": "execute_result"
    }
   ],
   "source": [
    "0 1 0 1 ⍱ 0 0 1 1 ⍝ NOR\n",
    "0 1 0 1 ≠ 0 0 1 1 ⍝ XOR\n",
    "0 1 0 1 = 0 0 1 1 ⍝ XNOR\n",
    "0 1 0 1 ⍲ 0 0 1 1 ⍝ NAND"
   ]
  },
  {
   "cell_type": "code",
   "execution_count": 27,
   "id": "bed71bd0",
   "metadata": {},
   "outputs": [
    {
     "data": {
      "text/html": [
       "<span style=\"white-space:pre; font-family: monospace\">ABCD\n",
       "EFGH\n",
       "IJKL\n",
       "</span>"
      ]
     },
     "execution_count": 27,
     "metadata": {},
     "output_type": "execute_result"
    },
    {
     "data": {
      "text/html": [
       "<span style=\"white-space:pre; font-family: monospace\">ABCD\n",
       "EFGH\n",
       "</span>"
      ]
     },
     "execution_count": 27,
     "metadata": {},
     "output_type": "execute_result"
    },
    {
     "data": {
      "text/html": [
       "<span style=\"white-space:pre; font-family: monospace\">ABC\n",
       "EFG\n",
       "</span>"
      ]
     },
     "execution_count": 27,
     "metadata": {},
     "output_type": "execute_result"
    }
   ],
   "source": [
    "3 4⍴⎕A            ⍝ original array\n",
    "2↑3 4⍴⎕A          ⍝ take two major cells (a.k.a rows)\n",
    "2 3↑3 4⍴⎕A        ⍝ two major, and three semi-major cells"
   ]
  },
  {
   "cell_type": "code",
   "execution_count": 28,
   "id": "495a6110",
   "metadata": {},
   "outputs": [
    {
     "data": {
      "text/html": [
       "<span style=\"white-space:pre; font-family: monospace\">3 1 4 0 0 0\n",
       "</span>"
      ]
     },
     "execution_count": 28,
     "metadata": {},
     "output_type": "execute_result"
    }
   ],
   "source": [
    "6↑3 1 4"
   ]
  },
  {
   "cell_type": "code",
   "execution_count": 29,
   "id": "688e1e02",
   "metadata": {},
   "outputs": [
    {
     "data": {
      "text/html": [
       "<span style=\"white-space:pre; font-family: monospace\">4 0 0\n",
       "0 0 0\n",
       "</span>"
      ]
     },
     "execution_count": 29,
     "metadata": {},
     "output_type": "execute_result"
    }
   ],
   "source": [
    "2 3↑4"
   ]
  },
  {
   "cell_type": "code",
   "execution_count": 30,
   "id": "174f5795",
   "metadata": {},
   "outputs": [
    {
     "data": {
      "text/html": [
       "<span style=\"white-space:pre; font-family: monospace\">0 0 0 3 1 4\n",
       "</span>"
      ]
     },
     "execution_count": 30,
     "metadata": {},
     "output_type": "execute_result"
    },
    {
     "data": {
      "text/html": [
       "<span style=\"white-space:pre; font-family: monospace\">0 0 0\n",
       "0 0 4\n",
       "</span>"
      ]
     },
     "execution_count": 30,
     "metadata": {},
     "output_type": "execute_result"
    }
   ],
   "source": [
    "¯6↑3 1 4\n",
    "¯2 ¯3↑4"
   ]
  },
  {
   "cell_type": "code",
   "execution_count": 31,
   "id": "26295292",
   "metadata": {},
   "outputs": [
    {
     "data": {
      "text/html": [
       "<span style=\"white-space:pre; font-family: monospace\">ABCD\n",
       "EFGH\n",
       "IJKL\n",
       "</span>"
      ]
     },
     "execution_count": 31,
     "metadata": {},
     "output_type": "execute_result"
    },
    {
     "data": {
      "text/html": [
       "<span style=\"white-space:pre; font-family: monospace\">GH\n",
       "KL\n",
       "</span>"
      ]
     },
     "execution_count": 31,
     "metadata": {},
     "output_type": "execute_result"
    }
   ],
   "source": [
    "3 4⍴⎕A\n",
    "¯2 ¯2↑3 4⍴⎕A "
   ]
  },
  {
   "cell_type": "code",
   "execution_count": 32,
   "id": "7063d972",
   "metadata": {},
   "outputs": [
    {
     "data": {
      "text/html": [
       "<span style=\"white-space:pre; font-family: monospace\">1 2 3\n",
       "4 5 6\n",
       "</span>"
      ]
     },
     "execution_count": 32,
     "metadata": {},
     "output_type": "execute_result"
    }
   ],
   "source": [
    "↑(1 2 3)(4 5 6)"
   ]
  },
  {
   "cell_type": "code",
   "execution_count": 33,
   "id": "56f0571c",
   "metadata": {},
   "outputs": [
    {
     "data": {
      "text/html": [
       "<span style=\"white-space:pre; font-family: monospace\">1 2 3\n",
       "4 5 0\n",
       "</span>"
      ]
     },
     "execution_count": 33,
     "metadata": {},
     "output_type": "execute_result"
    }
   ],
   "source": [
    "↑(1 2 3)(4 5)"
   ]
  },
  {
   "cell_type": "code",
   "execution_count": 34,
   "id": "34c45ad1",
   "metadata": {},
   "outputs": [
    {
     "data": {
      "text/html": [
       "<span style=\"white-space:pre; font-family: monospace\">ABCD\n",
       "EFGH\n",
       "IJKL\n",
       "</span>"
      ]
     },
     "execution_count": 34,
     "metadata": {},
     "output_type": "execute_result"
    },
    {
     "data": {
      "text/html": [
       "<span style=\"white-space:pre; font-family: monospace\">EFGH\n",
       "IJKL\n",
       "</span>"
      ]
     },
     "execution_count": 34,
     "metadata": {},
     "output_type": "execute_result"
    },
    {
     "data": {
      "text/html": [
       "<span style=\"white-space:pre; font-family: monospace\">┌→──┐\n",
       "↓JKL│\n",
       "└───┘\n",
       "</span>"
      ]
     },
     "execution_count": 34,
     "metadata": {},
     "output_type": "execute_result"
    }
   ],
   "source": [
    "3 4⍴⎕A \n",
    "1↓3 4⍴⎕A\n",
    "]display 2 1↓3 4⍴⎕A"
   ]
  },
  {
   "cell_type": "code",
   "execution_count": 35,
   "id": "b30f4587",
   "metadata": {},
   "outputs": [
    {
     "data": {
      "text/html": [
       "<span style=\"white-space:pre; font-family: monospace\">┌────┬────┬────┐\n",
       "│ABCD│EFGH│IJKL│\n",
       "└────┴────┴────┘\n",
       "</span>"
      ]
     },
     "execution_count": 35,
     "metadata": {},
     "output_type": "execute_result"
    }
   ],
   "source": [
    "↓3 4⍴⎕A"
   ]
  },
  {
   "cell_type": "code",
   "execution_count": 36,
   "id": "96b78505",
   "metadata": {},
   "outputs": [
    {
     "data": {
      "text/html": [
       "<span style=\"white-space:pre; font-family: monospace\">┌→────────────────┐\n",
       "│Was ON -style=min│\n",
       "└─────────────────┘\n",
       "</span>"
      ]
     },
     "execution_count": 36,
     "metadata": {},
     "output_type": "execute_result"
    }
   ],
   "source": [
    "]box on -s=max"
   ]
  },
  {
   "cell_type": "code",
   "execution_count": 37,
   "id": "a0f5d0fa",
   "metadata": {},
   "outputs": [
    {
     "data": {
      "text/html": [
       "<span style=\"white-space:pre; font-family: monospace\">┌→──────┐\n",
       "│1 2 3 4│\n",
       "└~──────┘\n",
       "</span>"
      ]
     },
     "execution_count": 37,
     "metadata": {},
     "output_type": "execute_result"
    },
    {
     "data": {
      "text/html": [
       "<span style=\"white-space:pre; font-family: monospace\">┌───────────┐\n",
       "│ ┌→──────┐ │\n",
       "│ │1 2 3 4│ │\n",
       "│ └~──────┘ │\n",
       "└∊──────────┘\n",
       "</span>"
      ]
     },
     "execution_count": 37,
     "metadata": {},
     "output_type": "execute_result"
    }
   ],
   "source": [
    "v←1 2 3 4\n",
    "v\n",
    "⊂v"
   ]
  },
  {
   "cell_type": "code",
   "execution_count": 38,
   "id": "82e8ebb2",
   "metadata": {},
   "outputs": [
    {
     "data": {
      "text/html": [
       "<span style=\"white-space:pre; font-family: monospace\"> \n",
       "1\n",
       " \n",
       "</span>"
      ]
     },
     "execution_count": 38,
     "metadata": {},
     "output_type": "execute_result"
    }
   ],
   "source": [
    "≢⊂v   ⍝ an enclosed vector is a scalar"
   ]
  },
  {
   "cell_type": "code",
   "execution_count": 39,
   "id": "d2a24ede",
   "metadata": {},
   "outputs": [
    {
     "data": {
      "text/html": [
       "<span style=\"white-space:pre; font-family: monospace\">┌→─────┐\n",
       "↓ABCABC│\n",
       "│DEFDEF│\n",
       "│GHIGHI│\n",
       "└──────┘\n",
       "</span>"
      ]
     },
     "execution_count": 39,
     "metadata": {},
     "output_type": "execute_result"
    },
    {
     "data": {
      "text/html": [
       "<span style=\"white-space:pre; font-family: monospace\">┌→────────────┐\n",
       "│ ┌→──┐ ┌→──┐ │\n",
       "│ ↓ABC│ ↓ABC│ │\n",
       "│ │DEF│ │DEF│ │\n",
       "│ │GHI│ │GHI│ │\n",
       "│ └───┘ └───┘ │\n",
       "└∊────────────┘\n",
       "</span>"
      ]
     },
     "execution_count": 39,
     "metadata": {},
     "output_type": "execute_result"
    }
   ],
   "source": [
    "(3 3⍴⎕A),(3 3⍴⎕A)   ⍝ concatenation of two matrices. \n",
    "(⊂3 3⍴⎕A),(⊂3 3⍴⎕A) ⍝ concatenation of two enclosed matrices"
   ]
  },
  {
   "cell_type": "code",
   "execution_count": 40,
   "id": "08a6411a",
   "metadata": {},
   "outputs": [
    {
     "data": {
      "text/html": [
       "<span style=\"white-space:pre; font-family: monospace\">┌→────────────┐\n",
       "↓       ┌→──┐ │\n",
       "│ A B C ↓ABC│ │\n",
       "│ - - - │DEF│ │\n",
       "│       │GHI│ │\n",
       "│       └───┘ │\n",
       "│       ┌→──┐ │\n",
       "│ D E F ↓ABC│ │\n",
       "│ - - - │DEF│ │\n",
       "│       │GHI│ │\n",
       "│       └───┘ │\n",
       "│       ┌→──┐ │\n",
       "│ G H I ↓ABC│ │\n",
       "│ - - - │DEF│ │\n",
       "│       │GHI│ │\n",
       "│       └───┘ │\n",
       "└∊────────────┘\n",
       "</span>"
      ]
     },
     "execution_count": 40,
     "metadata": {},
     "output_type": "execute_result"
    }
   ],
   "source": [
    "(3 3⍴⎕A),(⊂3 3⍴⎕A) ⍝ concatenation of a matrix and an enclosed matrix "
   ]
  },
  {
   "cell_type": "code",
   "execution_count": 41,
   "id": "f447a786",
   "metadata": {},
   "outputs": [
    {
     "data": {
      "text/html": [
       "<span style=\"white-space:pre; font-family: monospace\">┌→───┐\n",
       "↓ABCx│\n",
       "│DEFx│\n",
       "│GHIx│\n",
       "└────┘\n",
       "</span>"
      ]
     },
     "execution_count": 41,
     "metadata": {},
     "output_type": "execute_result"
    }
   ],
   "source": [
    "(3 3⍴⎕A),'x'"
   ]
  },
  {
   "cell_type": "code",
   "execution_count": 42,
   "id": "1f67aaf7",
   "metadata": {},
   "outputs": [
    {
     "data": {
      "text/html": [
       "<span style=\"white-space:pre; font-family: monospace\">┌→────┐\n",
       "│4 4 4│\n",
       "└~────┘\n",
       "</span>"
      ]
     },
     "execution_count": 42,
     "metadata": {},
     "output_type": "execute_result"
    }
   ],
   "source": [
    "'aaa' 'bbb' 'ccc' ⍳ 'aaa'"
   ]
  },
  {
   "cell_type": "code",
   "execution_count": 43,
   "id": "6a469ec3",
   "metadata": {},
   "outputs": [
    {
     "data": {
      "text/html": [
       "<span style=\"white-space:pre; font-family: monospace\"> \n",
       "1\n",
       " \n",
       "</span>"
      ]
     },
     "execution_count": 43,
     "metadata": {},
     "output_type": "execute_result"
    }
   ],
   "source": [
    "'aaa' 'bbb' 'ccc' ⍳ ⊂'aaa'"
   ]
  },
  {
   "cell_type": "code",
   "execution_count": 44,
   "id": "7628d5d6",
   "metadata": {},
   "outputs": [
    {
     "data": {
      "text/html": [
       "<span style=\"white-space:pre; font-family: monospace\">┌→───────────────────────┐\n",
       "│ ┌→──┐ ┌→─┐ ┌→───┐ ┌→─┐ │\n",
       "│ │Hel│ │lo│ │ Wor│ │ld│ │\n",
       "│ └───┘ └──┘ └────┘ └──┘ │\n",
       "└∊───────────────────────┘\n",
       "</span>"
      ]
     },
     "execution_count": 44,
     "metadata": {},
     "output_type": "execute_result"
    }
   ],
   "source": [
    "1 0 0 1 0 1 0 0 0 1 0⊂'Hello World' "
   ]
  },
  {
   "cell_type": "code",
   "execution_count": 45,
   "id": "a29422ea",
   "metadata": {},
   "outputs": [
    {
     "data": {
      "text/html": [
       "<span style=\"white-space:pre; font-family: monospace\">┌→───────────────────────────────┐\n",
       "│ ┌→─┐ ┌→──┐ ┌→─┐ ┌→───┐ ┌→┐ ┌→┐ │\n",
       "│ ↓AB│ ↓CDE│ ↓FG│ ↓HIJK│ ↓L│ ↓M│ │\n",
       "│ │NO│ │PQR│ │ST│ │UVWX│ │Y│ │Z│ │\n",
       "│ └──┘ └───┘ └──┘ └────┘ └─┘ └─┘ │\n",
       "└∊───────────────────────────────┘\n",
       "</span>"
      ]
     },
     "execution_count": 45,
     "metadata": {},
     "output_type": "execute_result"
    }
   ],
   "source": [
    "1 0 1 0 0 1 0 1 0 0 0 1 1 ⊂ 2 13⍴⎕A"
   ]
  },
  {
   "cell_type": "code",
   "execution_count": 46,
   "id": "4a2acd76",
   "metadata": {},
   "outputs": [
    {
     "data": {
      "text/html": [
       "<span style=\"white-space:pre; font-family: monospace\">┌→────────────────────────────────────────────────────┐\n",
       "│ ┌→┐ ┌→┐ ┌→┐ ┌→┐ ┌→┐ ┌→┐ ┌→┐ ┌→┐ ┌→┐ ┌→┐ ┌→┐ ┌→┐ ┌→┐ │\n",
       "│ ↓A│ ↓B│ ↓C│ ↓D│ ↓E│ ↓F│ ↓G│ ↓H│ ↓I│ ↓J│ ↓K│ ↓L│ ↓M│ │\n",
       "│ │N│ │O│ │P│ │Q│ │R│ │S│ │T│ │U│ │V│ │W│ │X│ │Y│ │Z│ │\n",
       "│ └─┘ └─┘ └─┘ └─┘ └─┘ └─┘ └─┘ └─┘ └─┘ └─┘ └─┘ └─┘ └─┘ │\n",
       "└∊────────────────────────────────────────────────────┘\n",
       "</span>"
      ]
     },
     "execution_count": 46,
     "metadata": {},
     "output_type": "execute_result"
    }
   ],
   "source": [
    "1 ⊂ 2 13⍴⎕A"
   ]
  },
  {
   "cell_type": "code",
   "execution_count": 47,
   "id": "34a990ee",
   "metadata": {},
   "outputs": [
    {
     "data": {
      "text/html": [
       "<span style=\"white-space:pre; font-family: monospace\">┌→────────────────────────────────┐\n",
       "│ ┌→────────────┐ ┌→────────────┐ │\n",
       "│ ↓ABCDEFGHIJKLM│ ↓NOPQRSTUVWXYZ│ │\n",
       "│ └─────────────┘ └─────────────┘ │\n",
       "└∊────────────────────────────────┘\n",
       "</span>"
      ]
     },
     "execution_count": 47,
     "metadata": {},
     "output_type": "execute_result"
    },
    {
     "data": {
      "text/html": [
       "<span style=\"white-space:pre; font-family: monospace\">┌→──────────────────┐\n",
       "│ ┌→──┐ ┌→──┐ ┌→──┐ │\n",
       "│ ↓ABC│ ↓GHI│ ↓JKL│ │\n",
       "│ │DEF│ └───┘ └───┘ │\n",
       "│ └───┘             │\n",
       "└∊──────────────────┘\n",
       "</span>"
      ]
     },
     "execution_count": 47,
     "metadata": {},
     "output_type": "execute_result"
    }
   ],
   "source": [
    "1 ⊂[1] 2 13⍴⎕A\n",
    "1 0 1 1 ⊂[1] 4 3⍴⎕A "
   ]
  },
  {
   "cell_type": "code",
   "execution_count": 48,
   "id": "2cbc2f49",
   "metadata": {},
   "outputs": [
    {
     "data": {
      "text/html": [
       "<span style=\"white-space:pre; font-family: monospace\">┌→──────────────────┐\n",
       "│1 0 0 0 1 0 0 0 0 1│\n",
       "└~──────────────────┘\n",
       "</span>"
      ]
     },
     "execution_count": 48,
     "metadata": {},
     "output_type": "execute_result"
    },
    {
     "data": {
      "text/html": [
       "<span style=\"white-space:pre; font-family: monospace\">┌→───────────────────────────────────┐\n",
       "│ ┌→───┐ ┌→────┐ ┌→────────────────┐ │\n",
       "│ │ABCD│ │EFGHI│ │JKLMNOPQRSTUVWXYZ│ │\n",
       "│ └────┘ └─────┘ └─────────────────┘ │\n",
       "└∊───────────────────────────────────┘\n",
       "</span>"
      ]
     },
     "execution_count": 48,
     "metadata": {},
     "output_type": "execute_result"
    }
   ],
   "source": [
    "⍸⍣¯1⊢1 5 10        \n",
    "(⍸⍣¯1⊢1 5 10)⊂⎕A ⍝ note: left arg is length 10. right arg is length 26"
   ]
  },
  {
   "cell_type": "code",
   "execution_count": 49,
   "id": "fc23d43b",
   "metadata": {},
   "outputs": [
    {
     "data": {
      "text/html": [
       "<span style=\"white-space:pre; font-family: monospace\">┌→──────────────────┐\n",
       "│ ┌→┐ ┌→──────────┐ │\n",
       "│ │1│ │2 3 4 5 6 7│ │\n",
       "│ └~┘ └~──────────┘ │\n",
       "└∊──────────────────┘\n",
       "</span>"
      ]
     },
     "execution_count": 49,
     "metadata": {},
     "output_type": "execute_result"
    }
   ],
   "source": [
    "1 1⊂1 2 3 4 5 6 7"
   ]
  },
  {
   "cell_type": "code",
   "execution_count": 50,
   "id": "616da5e6",
   "metadata": {},
   "outputs": [
    {
     "data": {
      "text/html": [
       "<span style=\"white-space:pre; font-family: monospace\">┌→──┐\n",
       "↓ABC│\n",
       "│DEF│\n",
       "│GHI│\n",
       "└───┘\n",
       "</span>"
      ]
     },
     "execution_count": 50,
     "metadata": {},
     "output_type": "execute_result"
    },
    {
     "data": {
      "text/html": [
       "<span style=\"white-space:pre; font-family: monospace\">┌───────┐\n",
       "│ ┌→──┐ │\n",
       "│ ↓ABC│ │\n",
       "│ │DEF│ │\n",
       "│ │GHI│ │\n",
       "│ └───┘ │\n",
       "└∊──────┘\n",
       "</span>"
      ]
     },
     "execution_count": 50,
     "metadata": {},
     "output_type": "execute_result"
    },
    {
     "data": {
      "text/html": [
       "<span style=\"white-space:pre; font-family: monospace\">┌→──┐\n",
       "↓ABC│\n",
       "│DEF│\n",
       "│GHI│\n",
       "└───┘\n",
       "</span>"
      ]
     },
     "execution_count": 50,
     "metadata": {},
     "output_type": "execute_result"
    },
    {
     "data": {
      "text/html": [
       "<span style=\"white-space:pre; font-family: monospace\"> \n",
       "A\n",
       "-\n",
       "</span>"
      ]
     },
     "execution_count": 50,
     "metadata": {},
     "output_type": "execute_result"
    }
   ],
   "source": [
    "3 3⍴⎕A      ⍝ 3x3 matrix\n",
    "⊂3 3⍴⎕A     ⍝ enclosed\n",
    "⊃⊂3 3⍴⎕A    ⍝ disclose enclosed\n",
    "⊃3 3⍴⎕A     ⍝ dislclose unenclosed gives the first element"
   ]
  },
  {
   "cell_type": "code",
   "execution_count": 51,
   "id": "e8bb39bc",
   "metadata": {},
   "outputs": [
    {
     "data": {
      "text/html": [
       "<span style=\"white-space:pre; font-family: monospace\"> \n",
       "C\n",
       "-\n",
       "</span>"
      ]
     },
     "execution_count": 51,
     "metadata": {},
     "output_type": "execute_result"
    },
    {
     "data": {
      "text/html": [
       "<span style=\"white-space:pre; font-family: monospace\"> \n",
       "G\n",
       "-\n",
       "</span>"
      ]
     },
     "execution_count": 51,
     "metadata": {},
     "output_type": "execute_result"
    }
   ],
   "source": [
    "⊃⌽3 3⍴⎕A ⍝ top right\n",
    "⊃⊖3 3⍴⎕A ⍝ bottom left "
   ]
  },
  {
   "cell_type": "code",
   "execution_count": 52,
   "id": "4274973b",
   "metadata": {},
   "outputs": [
    {
     "data": {
      "text/html": [
       "<span style=\"white-space:pre; font-family: monospace\">┌→──┐\n",
       "│KEI│\n",
       "└───┘\n",
       "</span>"
      ]
     },
     "execution_count": 52,
     "metadata": {},
     "output_type": "execute_result"
    }
   ],
   "source": [
    "⊃¨'Kenneth' 'Eugene' 'Iverson'"
   ]
  },
  {
   "cell_type": "code",
   "execution_count": 53,
   "id": "65990a0d",
   "metadata": {},
   "outputs": [
    {
     "data": {
      "text/html": [
       "<span style=\"white-space:pre; font-family: monospace\"> \n",
       "F\n",
       "-\n",
       "</span>"
      ]
     },
     "execution_count": 53,
     "metadata": {},
     "output_type": "execute_result"
    },
    {
     "data": {
      "text/html": [
       "<span style=\"white-space:pre; font-family: monospace\"> \n",
       "6\n",
       " \n",
       "</span>"
      ]
     },
     "execution_count": 53,
     "metadata": {},
     "output_type": "execute_result"
    }
   ],
   "source": [
    "(⊂2 3)⊃3 3⍴⎕A\n",
    "2 3 1⊃(1 2 3)(4 5 (6 7 8))"
   ]
  },
  {
   "cell_type": "code",
   "execution_count": 54,
   "id": "7b465ab6",
   "metadata": {},
   "outputs": [
    {
     "data": {
      "text/html": [
       "<span style=\"white-space:pre; font-family: monospace\">┌→────────────┐\n",
       "↓ ┌→──┐ ┌→──┐ │\n",
       "│ │1 2│ │3 4│ │\n",
       "│ └~──┘ └~──┘ │\n",
       "│ ┌→──┐ ┌→──┐ │\n",
       "│ │5 6│ │7 8│ │\n",
       "│ └~──┘ └~──┘ │\n",
       "└∊────────────┘\n",
       "</span>"
      ]
     },
     "execution_count": 54,
     "metadata": {},
     "output_type": "execute_result"
    },
    {
     "data": {
      "text/html": [
       "<span style=\"white-space:pre; font-family: monospace\"> \n",
       "4\n",
       " \n",
       "</span>"
      ]
     },
     "execution_count": 54,
     "metadata": {},
     "output_type": "execute_result"
    }
   ],
   "source": [
    "2 2⍴(1 2)(3 4)(5 6)(7 8)\n",
    "(1 2) 2⊃2 2⍴(1 2)(3 4)(5 6)(7 8)"
   ]
  },
  {
   "cell_type": "code",
   "execution_count": 55,
   "id": "e57c800d",
   "metadata": {},
   "outputs": [
    {
     "data": {
      "text/html": [
       "<span style=\"white-space:pre; font-family: monospace\">┌→──────────────┐\n",
       "│ ┌→──┐ ┌→────┐ │\n",
       "│ │1 2│ │3 4 5│ │\n",
       "│ └~──┘ └~────┘ │\n",
       "└∊──────────────┘\n",
       "</span>"
      ]
     },
     "execution_count": 55,
     "metadata": {},
     "output_type": "execute_result"
    },
    {
     "data": {
      "text/html": [
       "<span style=\"white-space:pre; font-family: monospace\">┌→──────────────┐\n",
       "│ ┌→──┐ ┌→────┐ │\n",
       "│ │1 2│ │3 4 5│ │\n",
       "│ └~──┘ └~────┘ │\n",
       "└∊──────────────┘\n",
       "</span>"
      ]
     },
     "execution_count": 55,
     "metadata": {},
     "output_type": "execute_result"
    }
   ],
   "source": [
    "(1 2)(3 4 5)\n",
    "⊆(1 2)(3 4 5) "
   ]
  },
  {
   "cell_type": "code",
   "execution_count": 56,
   "id": "6b5d6955",
   "metadata": {},
   "outputs": [
    {
     "data": {
      "text/html": [
       "<span style=\"white-space:pre; font-family: monospace\">┌→────┐\n",
       "│1 2 3│\n",
       "└~────┘\n",
       "</span>"
      ]
     },
     "execution_count": 56,
     "metadata": {},
     "output_type": "execute_result"
    },
    {
     "data": {
      "text/html": [
       "<span style=\"white-space:pre; font-family: monospace\">┌─────────┐\n",
       "│ ┌→────┐ │\n",
       "│ │1 2 3│ │\n",
       "│ └~────┘ │\n",
       "└∊────────┘\n",
       "</span>"
      ]
     },
     "execution_count": 56,
     "metadata": {},
     "output_type": "execute_result"
    }
   ],
   "source": [
    "1 2 3\n",
    "⊆1 2 3"
   ]
  },
  {
   "cell_type": "code",
   "execution_count": 57,
   "id": "6ceb5b69",
   "metadata": {},
   "outputs": [
    {
     "data": {
      "text/html": [
       "<span style=\"white-space:pre; font-family: monospace\">┌→──────────────────┐\n",
       "↓ ┌→──┐ ┌→──┐ ┌→──┐ │\n",
       "│ │abc│ │abc│ │abc│ │\n",
       "│ └───┘ └───┘ └───┘ │\n",
       "│ ┌→──┐ ┌→──┐ ┌→──┐ │\n",
       "│ │abc│ │abc│ │abc│ │\n",
       "│ └───┘ └───┘ └───┘ │\n",
       "└∊──────────────────┘\n",
       "</span>"
      ]
     },
     "execution_count": 57,
     "metadata": {},
     "output_type": "execute_result"
    },
    {
     "data": {
      "text/html": [
       "<span style=\"white-space:pre; font-family: monospace\">┌→──────────────────┐\n",
       "↓ ┌→──┐ ┌→──┐ ┌→──┐ │\n",
       "│ │abc│ │abc│ │abc│ │\n",
       "│ └───┘ └───┘ └───┘ │\n",
       "│ ┌→──┐ ┌→──┐ ┌→──┐ │\n",
       "│ │abc│ │abc│ │abc│ │\n",
       "│ └───┘ └───┘ └───┘ │\n",
       "└∊──────────────────┘\n",
       "</span>"
      ]
     },
     "execution_count": 57,
     "metadata": {},
     "output_type": "execute_result"
    }
   ],
   "source": [
    "2 3⍴⊂'abc'\n",
    "⊆2 3⍴⊂'abc' ⍝ already nested, so no-op "
   ]
  },
  {
   "cell_type": "code",
   "execution_count": 58,
   "id": "d2238286",
   "metadata": {},
   "outputs": [
    {
     "data": {
      "text/html": [
       "<span style=\"white-space:pre; font-family: monospace\">┌→──┐\n",
       "↓abc│\n",
       "│abc│\n",
       "└───┘\n",
       "</span>"
      ]
     },
     "execution_count": 58,
     "metadata": {},
     "output_type": "execute_result"
    },
    {
     "data": {
      "text/html": [
       "<span style=\"white-space:pre; font-family: monospace\">┌───────┐\n",
       "│ ┌→──┐ │\n",
       "│ ↓abc│ │\n",
       "│ │abc│ │\n",
       "│ └───┘ │\n",
       "└∊──────┘\n",
       "</span>"
      ]
     },
     "execution_count": 58,
     "metadata": {},
     "output_type": "execute_result"
    }
   ],
   "source": [
    "2 3⍴'abc'   ⍝ not nested\n",
    "⊆2 3⍴'abc'  ⍝ nested"
   ]
  },
  {
   "cell_type": "code",
   "execution_count": 59,
   "id": "ead55bce",
   "metadata": {},
   "outputs": [
    {
     "data": {
      "text/html": [
       "<span style=\"white-space:pre; font-family: monospace\">┌→────────────────────┐\n",
       "│ ┌→┐ ┌→─┐ ┌→──┐ ┌→─┐ │\n",
       "│ │H│ │lo│ │ Wo│ │rl│ │\n",
       "│ └─┘ └──┘ └───┘ └──┘ │\n",
       "└∊────────────────────┘\n",
       "</span>"
      ]
     },
     "execution_count": 59,
     "metadata": {},
     "output_type": "execute_result"
    }
   ],
   "source": [
    "1 0 0 1 1 3 2 2 5 5 0⊆'Hello World'"
   ]
  },
  {
   "cell_type": "code",
   "execution_count": 60,
   "id": "2625640c",
   "metadata": {},
   "outputs": [],
   "source": [
    "]dinput\n",
    ":Class cl\n",
    "    :Property Default thing\n",
    "    :Access Public Shared\n",
    "        ∇ r←get\n",
    "          r←3 1 4 1 4\n",
    "        ∇\n",
    "    :EndProperty\n",
    ":EndClass"
   ]
  },
  {
   "cell_type": "code",
   "execution_count": 61,
   "id": "dcd9c7cd",
   "metadata": {},
   "outputs": [
    {
     "data": {
      "text/html": [
       "<span style=\"white-space:pre; font-family: monospace\">┌→────────┐\n",
       "│3 1 4 1 4│\n",
       "└~────────┘\n",
       "</span>"
      ]
     },
     "execution_count": 61,
     "metadata": {},
     "output_type": "execute_result"
    },
    {
     "data": {
      "text/html": [
       "<span style=\"white-space:pre; font-family: monospace\">    \n",
       "#.cl\n",
       "    \n",
       "</span>"
      ]
     },
     "execution_count": 61,
     "metadata": {},
     "output_type": "execute_result"
    },
    {
     "data": {
      "text/html": [
       "<span style=\"white-space:pre; font-family: monospace\">┌→────────┐\n",
       "│3 1 4 1 4│\n",
       "└~────────┘\n",
       "</span>"
      ]
     },
     "execution_count": 61,
     "metadata": {},
     "output_type": "execute_result"
    }
   ],
   "source": [
    "cl.thing\n",
    "⊢cl\n",
    "⌷cl"
   ]
  },
  {
   "cell_type": "code",
   "execution_count": 62,
   "id": "31974c4c",
   "metadata": {},
   "outputs": [
    {
     "data": {
      "text/html": [
       "<span style=\"white-space:pre; font-family: monospace\">┌┌→───┐\n",
       "↓↓ABCD│\n",
       "││EFGH│\n",
       "││IJKL│\n",
       "││    │\n",
       "││MNOP│\n",
       "││QRST│\n",
       "││UVWX│\n",
       "└└────┘\n",
       "</span>"
      ]
     },
     "execution_count": 62,
     "metadata": {},
     "output_type": "execute_result"
    },
    {
     "data": {
      "text/html": [
       "<span style=\"white-space:pre; font-family: monospace\">┌→───┐\n",
       "↓MNOP│\n",
       "│QRST│\n",
       "│UVWX│\n",
       "└────┘\n",
       "</span>"
      ]
     },
     "execution_count": 62,
     "metadata": {},
     "output_type": "execute_result"
    },
    {
     "data": {
      "text/html": [
       "<span style=\"white-space:pre; font-family: monospace\">┌→───┐\n",
       "│MNOP│\n",
       "└────┘\n",
       "</span>"
      ]
     },
     "execution_count": 62,
     "metadata": {},
     "output_type": "execute_result"
    },
    {
     "data": {
      "text/html": [
       "<span style=\"white-space:pre; font-family: monospace\"> \n",
       "O\n",
       "-\n",
       "</span>"
      ]
     },
     "execution_count": 62,
     "metadata": {},
     "output_type": "execute_result"
    }
   ],
   "source": [
    "2 3 4⍴⎕A\n",
    "2⌷2 3 4⍴⎕A\n",
    "2 1⌷2 3 4⍴⎕A\n",
    "2 1 3⌷2 3 4⍴⎕A"
   ]
  },
  {
   "cell_type": "code",
   "execution_count": 63,
   "id": "21960a9f",
   "metadata": {},
   "outputs": [
    {
     "data": {
      "text/html": [
       "<span style=\"white-space:pre; font-family: monospace\">┌┌→───┐\n",
       "↓↓ABCD│\n",
       "││EFGH│\n",
       "││IJKL│\n",
       "││    │\n",
       "││ABCD│\n",
       "││EFGH│\n",
       "││IJKL│\n",
       "└└────┘\n",
       "</span>"
      ]
     },
     "execution_count": 63,
     "metadata": {},
     "output_type": "execute_result"
    },
    {
     "data": {
      "text/html": [
       "<span style=\"white-space:pre; font-family: monospace\">┌→───┐\n",
       "↓MNOP│\n",
       "│UVWX│\n",
       "└────┘\n",
       "</span>"
      ]
     },
     "execution_count": 63,
     "metadata": {},
     "output_type": "execute_result"
    },
    {
     "data": {
      "text/html": [
       "<span style=\"white-space:pre; font-family: monospace\">┌→─┐\n",
       "│CO│\n",
       "└──┘\n",
       "</span>"
      ]
     },
     "execution_count": 63,
     "metadata": {},
     "output_type": "execute_result"
    },
    {
     "data": {
      "text/html": [
       "<span style=\"white-space:pre; font-family: monospace\">┌┌→───┐\n",
       "↓↓EFGH│\n",
       "││IJKL│\n",
       "││    │\n",
       "││QRST│\n",
       "││UVWX│\n",
       "└└────┘\n",
       "</span>"
      ]
     },
     "execution_count": 63,
     "metadata": {},
     "output_type": "execute_result"
    }
   ],
   "source": [
    "(⊂1 1)⌷2 3 4⍴⎕A\n",
    "2 (1 3)⌷2 3 4⍴⎕A ⍝ first and third row of second layer \n",
    "(1 2)1 3⌷2 3 4⍴⎕A ⍝ third char of first row of layers 1 and 2 \n",
    "(1 2)(2 3)⌷2 3 4⍴⎕A ⍝ rows 2 and 3 of each of layers 1 and 2 "
   ]
  },
  {
   "cell_type": "code",
   "execution_count": 64,
   "id": "ab1c765e",
   "metadata": {},
   "outputs": [
    {
     "data": {
      "text/html": [
       "<span style=\"white-space:pre; font-family: monospace\">┌→────────┐\n",
       "│2 4 1 3 5│\n",
       "└~────────┘\n",
       "</span>"
      ]
     },
     "execution_count": 64,
     "metadata": {},
     "output_type": "execute_result"
    }
   ],
   "source": [
    "⍋3 1 4 1 5"
   ]
  },
  {
   "cell_type": "code",
   "execution_count": 65,
   "id": "d54508cb",
   "metadata": {},
   "outputs": [
    {
     "data": {
      "text/html": [
       "<span style=\"white-space:pre; font-family: monospace\">┌→────────┐\n",
       "│1 1 3 4 5│\n",
       "└~────────┘\n",
       "</span>"
      ]
     },
     "execution_count": 65,
     "metadata": {},
     "output_type": "execute_result"
    }
   ],
   "source": [
    "3 1 4 1 5[⍋3 1 4 1 5]"
   ]
  },
  {
   "cell_type": "code",
   "execution_count": 66,
   "id": "191db708",
   "metadata": {},
   "outputs": [
    {
     "data": {
      "text/html": [
       "<span style=\"white-space:pre; font-family: monospace\">┌→──┐\n",
       "↓2 7│\n",
       "│1 8│\n",
       "│2 8│\n",
       "└~──┘\n",
       "</span>"
      ]
     },
     "execution_count": 66,
     "metadata": {},
     "output_type": "execute_result"
    },
    {
     "data": {
      "text/html": [
       "<span style=\"white-space:pre; font-family: monospace\">┌→────┐\n",
       "│2 1 3│\n",
       "└~────┘\n",
       "</span>"
      ]
     },
     "execution_count": 66,
     "metadata": {},
     "output_type": "execute_result"
    }
   ],
   "source": [
    "3 2⍴2 7 1 8 2 8\n",
    "⍋3 2⍴2 7 1 8 2 8 "
   ]
  },
  {
   "cell_type": "code",
   "execution_count": 67,
   "id": "52572b4a",
   "metadata": {},
   "outputs": [
    {
     "data": {
      "text/html": [
       "<span style=\"white-space:pre; font-family: monospace\">┌→─┐\n",
       "↓He│\n",
       "│ll│\n",
       "│oW│\n",
       "│or│\n",
       "│ld│\n",
       "└──┘\n",
       "</span>"
      ]
     },
     "execution_count": 67,
     "metadata": {},
     "output_type": "execute_result"
    },
    {
     "data": {
      "text/html": [
       "<span style=\"white-space:pre; font-family: monospace\">┌→────────┐\n",
       "│1 5 2 3 4│\n",
       "└~────────┘\n",
       "</span>"
      ]
     },
     "execution_count": 67,
     "metadata": {},
     "output_type": "execute_result"
    },
    {
     "data": {
      "text/html": [
       "<span style=\"white-space:pre; font-family: monospace\">┌→─┐\n",
       "↓He│\n",
       "│ld│\n",
       "│ll│\n",
       "│oW│\n",
       "│or│\n",
       "└──┘\n",
       "</span>"
      ]
     },
     "execution_count": 67,
     "metadata": {},
     "output_type": "execute_result"
    }
   ],
   "source": [
    "5 2⍴'HelloWorld'\n",
    "⍋5 2⍴'HelloWorld'\n",
    "(5 2⍴'HelloWorld')[⍋5 2⍴'HelloWorld';] "
   ]
  },
  {
   "cell_type": "code",
   "execution_count": 68,
   "id": "9b06c415",
   "metadata": {},
   "outputs": [
    {
     "data": {
      "text/html": [
       "<span style=\"white-space:pre; font-family: monospace\">┌┌→─┐\n",
       "↓↓He│\n",
       "││ll│\n",
       "││  │\n",
       "││o │\n",
       "││Wo│\n",
       "││  │\n",
       "││rl│\n",
       "││d │\n",
       "││  │\n",
       "││PP│\n",
       "││CG│\n",
       "└└──┘\n",
       "</span>"
      ]
     },
     "execution_count": 68,
     "metadata": {},
     "output_type": "execute_result"
    },
    {
     "data": {
      "text/html": [
       "<span style=\"white-space:pre; font-family: monospace\">┌→──────┐\n",
       "│1 4 2 3│\n",
       "└~──────┘\n",
       "</span>"
      ]
     },
     "execution_count": 68,
     "metadata": {},
     "output_type": "execute_result"
    }
   ],
   "source": [
    "4 2 2⍴'Hello World PPCG'   \n",
    "⍋4 2 2⍴'Hello World PPCG'  ⍝ layer grade up"
   ]
  },
  {
   "cell_type": "code",
   "execution_count": 69,
   "id": "ae32f06d",
   "metadata": {},
   "outputs": [
    {
     "data": {
      "text/html": [
       "<span style=\"white-space:pre; font-family: monospace\">┌┌→─┐\n",
       "↓↓He│\n",
       "││ll│\n",
       "││  │\n",
       "││PP│\n",
       "││CG│\n",
       "││  │\n",
       "││o │\n",
       "││Wo│\n",
       "││  │\n",
       "││rl│\n",
       "││d │\n",
       "└└──┘\n",
       "</span>"
      ]
     },
     "execution_count": 69,
     "metadata": {},
     "output_type": "execute_result"
    }
   ],
   "source": [
    "{⍵[⍋⍵;;]}4 2 2⍴'Hello World PPCG'"
   ]
  },
  {
   "cell_type": "code",
   "execution_count": 70,
   "id": "89d4fa3d",
   "metadata": {},
   "outputs": [
    {
     "data": {
      "text/html": [
       "<span style=\"white-space:pre; font-family: monospace\">┌→──────┐\n",
       "│3 4 1 2│\n",
       "└~──────┘\n",
       "</span>"
      ]
     },
     "execution_count": 70,
     "metadata": {},
     "output_type": "execute_result"
    },
    {
     "data": {
      "text/html": [
       "<span style=\"white-space:pre; font-family: monospace\">┌→──────┐\n",
       "│3 4 1 2│\n",
       "└~──────┘\n",
       "</span>"
      ]
     },
     "execution_count": 70,
     "metadata": {},
     "output_type": "execute_result"
    }
   ],
   "source": [
    "⍋'PPCG' \n",
    "⍋⍋'PPCG' "
   ]
  },
  {
   "cell_type": "code",
   "execution_count": 71,
   "id": "2cbcebb2",
   "metadata": {},
   "outputs": [
    {
     "data": {
      "text/html": [
       "<span style=\"white-space:pre; font-family: monospace\">┌→──────────┐\n",
       "│2 4 6 3 5 1│\n",
       "└~──────────┘\n",
       "</span>"
      ]
     },
     "execution_count": 71,
     "metadata": {},
     "output_type": "execute_result"
    },
    {
     "data": {
      "text/html": [
       "<span style=\"white-space:pre; font-family: monospace\">┌→──────────┐\n",
       "│6 1 4 2 5 3│\n",
       "└~──────────┘\n",
       "</span>"
      ]
     },
     "execution_count": 71,
     "metadata": {},
     "output_type": "execute_result"
    },
    {
     "data": {
      "text/html": [
       "<span style=\"white-space:pre; font-family: monospace\">┌→──────────┐\n",
       "│2 4 6 3 5 1│\n",
       "└~──────────┘\n",
       "</span>"
      ]
     },
     "execution_count": 71,
     "metadata": {},
     "output_type": "execute_result"
    }
   ],
   "source": [
    "⍋'random'\n",
    "⍋⍋'random' \n",
    "⍋⍋⍋'random'  ⍝ grading the cardinals takes us back to grade"
   ]
  },
  {
   "cell_type": "code",
   "execution_count": 72,
   "id": "04ddf809",
   "metadata": {},
   "outputs": [
    {
     "data": {
      "text/html": [
       "<span style=\"white-space:pre; font-family: monospace\">┌→─────────┐\n",
       "│eoodhlllrw│\n",
       "└──────────┘\n",
       "</span>"
      ]
     },
     "execution_count": 72,
     "metadata": {},
     "output_type": "execute_result"
    }
   ],
   "source": [
    "{⍵['aeioubcdfghjklmnpqrstvwxyz'⍋⍵]}'helloworld'"
   ]
  },
  {
   "cell_type": "code",
   "execution_count": 73,
   "id": "c073d2af",
   "metadata": {},
   "outputs": [
    {
     "data": {
      "text/html": [
       "<span style=\"white-space:pre; font-family: monospace\">┌→──────┐\n",
       "│2 1 3 4│\n",
       "└~──────┘\n",
       "</span>"
      ]
     },
     "execution_count": 73,
     "metadata": {},
     "output_type": "execute_result"
    }
   ],
   "source": [
    "'abcdefgh'⍋'hawl'"
   ]
  },
  {
   "cell_type": "code",
   "execution_count": 74,
   "id": "9b11c7f9",
   "metadata": {},
   "outputs": [
    {
     "data": {
      "text/html": [
       "<span style=\"white-space:pre; font-family: monospace\">┌→─┐\n",
       "↓ab│\n",
       "│ec│\n",
       "│id│\n",
       "│of│\n",
       "│ug│\n",
       "│ h│\n",
       "│ j│\n",
       "│ k│\n",
       "│ l│\n",
       "│ m│\n",
       "│ n│\n",
       "│ p│\n",
       "│ q│\n",
       "│ r│\n",
       "│ s│\n",
       "│ t│\n",
       "│ v│\n",
       "│ w│\n",
       "│ x│\n",
       "│ y│\n",
       "│ z│\n",
       "└──┘\n",
       "</span>"
      ]
     },
     "execution_count": 74,
     "metadata": {},
     "output_type": "execute_result"
    }
   ],
   "source": [
    "⍉↑'aeiou' 'bcdfghjklmnpqrstvwxyz'"
   ]
  },
  {
   "cell_type": "code",
   "execution_count": 75,
   "id": "e72c0563",
   "metadata": {},
   "outputs": [
    {
     "data": {
      "text/html": [
       "<span style=\"white-space:pre; font-family: monospace\">┌→─────────┐\n",
       "│eoodhlllrw│\n",
       "└──────────┘\n",
       "</span>"
      ]
     },
     "execution_count": 75,
     "metadata": {},
     "output_type": "execute_result"
    }
   ],
   "source": [
    "{⍵[(⍉↑'aeiou' 'bcdfghjklmnpqrstvwxyz')⍋⍵]}'helloworld'"
   ]
  },
  {
   "cell_type": "code",
   "execution_count": 76,
   "id": "5159b113",
   "metadata": {},
   "outputs": [
    {
     "data": {
      "text/html": [
       "<span style=\"white-space:pre; font-family: monospace\">┌→───────────────────┐\n",
       "│1 2 3 4 5 6 7 8 9 10│\n",
       "└~───────────────────┘\n",
       "</span>"
      ]
     },
     "execution_count": 76,
     "metadata": {},
     "output_type": "execute_result"
    },
    {
     "data": {
      "text/html": [
       "<span style=\"white-space:pre; font-family: monospace\">┌→────────────────────────┐\n",
       "↓ ┌→──┐ ┌→──┐ ┌→──┐ ┌→──┐ │\n",
       "│ │1 1│ │1 2│ │1 3│ │1 4│ │\n",
       "│ └~──┘ └~──┘ └~──┘ └~──┘ │\n",
       "│ ┌→──┐ ┌→──┐ ┌→──┐ ┌→──┐ │\n",
       "│ │2 1│ │2 2│ │2 3│ │2 4│ │\n",
       "│ └~──┘ └~──┘ └~──┘ └~──┘ │\n",
       "└∊────────────────────────┘\n",
       "</span>"
      ]
     },
     "execution_count": 76,
     "metadata": {},
     "output_type": "execute_result"
    }
   ],
   "source": [
    "⍳10\n",
    "⍳2 4"
   ]
  },
  {
   "cell_type": "code",
   "execution_count": 77,
   "id": "0b26094f",
   "metadata": {},
   "outputs": [
    {
     "data": {
      "text/html": [
       "<span style=\"white-space:pre; font-family: monospace\">┌→──┐\n",
       "↓┌⊖┐│\n",
       "││0││\n",
       "│└~┘│\n",
       "└───┘\n",
       "</span>"
      ]
     },
     "execution_count": 77,
     "metadata": {},
     "output_type": "execute_result"
    }
   ],
   "source": [
    "]display ⍳0"
   ]
  },
  {
   "cell_type": "code",
   "execution_count": 78,
   "id": "bec968b1",
   "metadata": {},
   "outputs": [
    {
     "data": {
      "text/html": [
       "<span style=\"white-space:pre; font-family: monospace\">┌→────────┐\n",
       "↓┌⊖──────┐│\n",
       "│⌽ ┌→──┐ ││\n",
       "││ │0 0│ ││\n",
       "││ └~──┘ ││\n",
       "│└∊──────┘│\n",
       "└─────────┘\n",
       "</span>"
      ]
     },
     "execution_count": 78,
     "metadata": {},
     "output_type": "execute_result"
    }
   ],
   "source": [
    "]display ⍳0 0"
   ]
  },
  {
   "cell_type": "code",
   "execution_count": 79,
   "id": "4f3dca8d",
   "metadata": {},
   "outputs": [
    {
     "data": {
      "text/html": [
       "<span style=\"white-space:pre; font-family: monospace\"> \n",
       "3\n",
       " \n",
       "</span>"
      ]
     },
     "execution_count": 79,
     "metadata": {},
     "output_type": "execute_result"
    },
    {
     "data": {
      "text/html": [
       "<span style=\"white-space:pre; font-family: monospace\">┌→──┐\n",
       "│3 5│\n",
       "└~──┘\n",
       "</span>"
      ]
     },
     "execution_count": 79,
     "metadata": {},
     "output_type": "execute_result"
    }
   ],
   "source": [
    "'hello'⍳'l'\n",
    "'hello'⍳'lo' "
   ]
  },
  {
   "cell_type": "code",
   "execution_count": 80,
   "id": "369eea57",
   "metadata": {},
   "outputs": [
    {
     "data": {
      "text/html": [
       "<span style=\"white-space:pre; font-family: monospace\"> \n",
       "6\n",
       " \n",
       "</span>"
      ]
     },
     "execution_count": 80,
     "metadata": {},
     "output_type": "execute_result"
    }
   ],
   "source": [
    "'hello'⍳'x'"
   ]
  },
  {
   "cell_type": "code",
   "execution_count": 81,
   "id": "ec5f90df",
   "metadata": {},
   "outputs": [
    {
     "data": {
      "text/html": [
       "<span style=\"white-space:pre; font-family: monospace\">┌→──┐\n",
       "│2 4│\n",
       "└~──┘\n",
       "</span>"
      ]
     },
     "execution_count": 81,
     "metadata": {},
     "output_type": "execute_result"
    }
   ],
   "source": [
    "(3 2⍴'abcdef')⍳(2 2⍴'cdxy')"
   ]
  },
  {
   "cell_type": "code",
   "execution_count": 82,
   "id": "effd58a0",
   "metadata": {},
   "outputs": [
    {
     "data": {
      "text/html": [
       "<span style=\"white-space:pre; font-family: monospace\">┌→───────────────────────────────────┐\n",
       "│ ┌→────┐ ┌→──────┐ ┌→────┐ ┌→─────┐ │\n",
       "│ │Third│ │Missing│ │First│ │Second│ │\n",
       "│ └─────┘ └───────┘ └─────┘ └──────┘ │\n",
       "└∊───────────────────────────────────┘\n",
       "</span>"
      ]
     },
     "execution_count": 82,
     "metadata": {},
     "output_type": "execute_result"
    }
   ],
   "source": [
    "'First' 'Second' 'Third' 'Missing'['abc'⍳'cdab']"
   ]
  },
  {
   "cell_type": "code",
   "execution_count": 83,
   "id": "bc294859",
   "metadata": {},
   "outputs": [
    {
     "data": {
      "text/html": [
       "<span style=\"white-space:pre; font-family: monospace\">┌→────┐\n",
       "│2 4 5│\n",
       "└~────┘\n",
       "</span>"
      ]
     },
     "execution_count": 83,
     "metadata": {},
     "output_type": "execute_result"
    }
   ],
   "source": [
    "⍸0 1 0 1 1 "
   ]
  },
  {
   "cell_type": "code",
   "execution_count": 84,
   "id": "8f789922",
   "metadata": {},
   "outputs": [
    {
     "data": {
      "text/html": [
       "<span style=\"white-space:pre; font-family: monospace\">┌→────┐\n",
       "↓0 1 0│\n",
       "│1 1 0│\n",
       "└~────┘\n",
       "</span>"
      ]
     },
     "execution_count": 84,
     "metadata": {},
     "output_type": "execute_result"
    },
    {
     "data": {
      "text/html": [
       "<span style=\"white-space:pre; font-family: monospace\">┌→──────────────────┐\n",
       "│ ┌→──┐ ┌→──┐ ┌→──┐ │\n",
       "│ │1 2│ │2 1│ │2 2│ │\n",
       "│ └~──┘ └~──┘ └~──┘ │\n",
       "└∊──────────────────┘\n",
       "</span>"
      ]
     },
     "execution_count": 84,
     "metadata": {},
     "output_type": "execute_result"
    }
   ],
   "source": [
    "⊢m←2 3⍴0 1 0 1 1 0\n",
    "⍸m"
   ]
  },
  {
   "cell_type": "code",
   "execution_count": 85,
   "id": "6bcf0eb1",
   "metadata": {},
   "outputs": [
    {
     "data": {
      "text/html": [
       "<span style=\"white-space:pre; font-family: monospace\">┌→────────────────────────────────────┐\n",
       "│ ┌→──┐ ┌→──┐ ┌→──┐ ┌→──┐ ┌→──┐ ┌→──┐ │\n",
       "│ │1 2│ │1 2│ │2 1│ │2 1│ │2 2│ │2 2│ │\n",
       "│ └~──┘ └~──┘ └~──┘ └~──┘ └~──┘ └~──┘ │\n",
       "└∊────────────────────────────────────┘\n",
       "</span>"
      ]
     },
     "execution_count": 85,
     "metadata": {},
     "output_type": "execute_result"
    }
   ],
   "source": [
    "⍸2 3⍴0 2 0 2 2 0              "
   ]
  },
  {
   "cell_type": "code",
   "execution_count": 86,
   "id": "2b2fa4d3",
   "metadata": {},
   "outputs": [
    {
     "data": {
      "text/html": [
       "<span style=\"white-space:pre; font-family: monospace\"> \n",
       "3\n",
       " \n",
       "</span>"
      ]
     },
     "execution_count": 86,
     "metadata": {},
     "output_type": "execute_result"
    }
   ],
   "source": [
    "≢⍸2 3⍴0 1 0 1 1 0"
   ]
  },
  {
   "cell_type": "code",
   "execution_count": 87,
   "id": "dfa350d7",
   "metadata": {},
   "outputs": [
    {
     "data": {
      "text/html": [
       "<span style=\"white-space:pre; font-family: monospace\">┌→────────┐\n",
       "│0 3 4 1 2│\n",
       "└~────────┘\n",
       "</span>"
      ]
     },
     "execution_count": 87,
     "metadata": {},
     "output_type": "execute_result"
    }
   ],
   "source": [
    "1 10 100 1000⍸0 500 2000 3 10"
   ]
  },
  {
   "cell_type": "code",
   "execution_count": 88,
   "id": "41340337",
   "metadata": {},
   "outputs": [
    {
     "data": {
      "text/html": [
       "<span style=\"white-space:pre; font-family: monospace\">┌→────────┐\n",
       "│0 1 0 1 0│\n",
       "└~────────┘\n",
       "</span>"
      ]
     },
     "execution_count": 88,
     "metadata": {},
     "output_type": "execute_result"
    }
   ],
   "source": [
    "'aeiou'∊'Hello World'"
   ]
  },
  {
   "cell_type": "code",
   "execution_count": 89,
   "id": "1732cfc1",
   "metadata": {},
   "outputs": [
    {
     "data": {
      "text/html": [
       "<span style=\"white-space:pre; font-family: monospace\">┌→────────┐\n",
       "│1 2 3 4 5│\n",
       "└~────────┘\n",
       "</span>"
      ]
     },
     "execution_count": 89,
     "metadata": {},
     "output_type": "execute_result"
    }
   ],
   "source": [
    "∊(⊂,∘3)@2⊢1 2 4 5"
   ]
  },
  {
   "cell_type": "code",
   "execution_count": 90,
   "id": "ba4776b6",
   "metadata": {},
   "outputs": [
    {
     "data": {
      "text/html": [
       "<span style=\"white-space:pre; font-family: monospace\">┌→────────┐\n",
       "│1 2 3 4 5│\n",
       "└~────────┘\n",
       "</span>"
      ]
     },
     "execution_count": 90,
     "metadata": {},
     "output_type": "execute_result"
    }
   ],
   "source": [
    "{3@(1+2)⊢⍵\\⍨1+2=⍳≢⍵}1 2 4 5"
   ]
  },
  {
   "cell_type": "code",
   "execution_count": 91,
   "id": "947388f3",
   "metadata": {},
   "outputs": [
    {
     "data": {
      "text/html": [
       "<span style=\"white-space:pre; font-family: monospace\">┌→──────────────┐\n",
       "│ ┌→────┐ ┌→──┐ │\n",
       "│ │1 2 3│ ↓1 2│ │\n",
       "│ └~────┘ │3 4│ │\n",
       "│         └~──┘ │\n",
       "└∊──────────────┘\n",
       "</span>"
      ]
     },
     "execution_count": 91,
     "metadata": {},
     "output_type": "execute_result"
    },
    {
     "data": {
      "text/html": [
       "<span style=\"white-space:pre; font-family: monospace\">┌→────────────┐\n",
       "│1 2 3 1 2 3 4│\n",
       "└~────────────┘\n",
       "</span>"
      ]
     },
     "execution_count": 91,
     "metadata": {},
     "output_type": "execute_result"
    }
   ],
   "source": [
    "⊢m←(⍳3)(2 2⍴⍳4)\n",
    "∊m"
   ]
  },
  {
   "cell_type": "code",
   "execution_count": 92,
   "id": "cc86903d",
   "metadata": {},
   "outputs": [
    {
     "data": {
      "text/html": [
       "<span style=\"white-space:pre; font-family: monospace\">┌→────────────────────┐\n",
       "│0 0 1 0 0 1 0 0 0 0 0│\n",
       "└~────────────────────┘\n",
       "</span>"
      ]
     },
     "execution_count": 92,
     "metadata": {},
     "output_type": "execute_result"
    }
   ],
   "source": [
    "'ss'⍷'Mississippi'"
   ]
  },
  {
   "cell_type": "code",
   "execution_count": 93,
   "id": "5b2214bd",
   "metadata": {},
   "outputs": [
    {
     "data": {
      "text/html": [
       "<span style=\"white-space:pre; font-family: monospace\">┌→────────────┐\n",
       "│0 0 1 0 1 0 0│\n",
       "└~────────────┘\n",
       "</span>"
      ]
     },
     "execution_count": 93,
     "metadata": {},
     "output_type": "execute_result"
    }
   ],
   "source": [
    "'aba'⍷'alababa'"
   ]
  },
  {
   "cell_type": "code",
   "execution_count": 94,
   "id": "b7e08f0c",
   "metadata": {},
   "outputs": [
    {
     "data": {
      "text/html": [
       "<span style=\"white-space:pre; font-family: monospace\">┌→──┐\n",
       "↓0 1│\n",
       "│0 0│\n",
       "└~──┘\n",
       "</span>"
      ]
     },
     "execution_count": 94,
     "metadata": {},
     "output_type": "execute_result"
    },
    {
     "data": {
      "text/html": [
       "<span style=\"white-space:pre; font-family: monospace\">┌→────┐\n",
       "↓0 1 1│\n",
       "│0 0 1│\n",
       "│1 0 0│\n",
       "└~────┘\n",
       "</span>"
      ]
     },
     "execution_count": 94,
     "metadata": {},
     "output_type": "execute_result"
    },
    {
     "data": {
      "text/html": [
       "<span style=\"white-space:pre; font-family: monospace\">┌→────┐\n",
       "↓1 0 0│\n",
       "│0 1 0│\n",
       "│0 0 0│\n",
       "└~────┘\n",
       "</span>"
      ]
     },
     "execution_count": 94,
     "metadata": {},
     "output_type": "execute_result"
    }
   ],
   "source": [
    "2 2⍴0 1 0\n",
    "3 3⍴0 1 1 0\n",
    "(2 2⍴0 1 0)⍷(3 3⍴0 1 1 0)"
   ]
  },
  {
   "cell_type": "code",
   "execution_count": 95,
   "id": "4a03dd95",
   "metadata": {},
   "outputs": [
    {
     "data": {
      "text/html": [
       "<span style=\"white-space:pre; font-family: monospace\">┌→────────────┐\n",
       "│0 1 0 0 0 1 0│\n",
       "└~────────────┘\n",
       "</span>"
      ]
     },
     "execution_count": 95,
     "metadata": {},
     "output_type": "execute_result"
    }
   ],
   "source": [
    "'aa' 'bbb'⍷'c' 'aa' 'bbb' 'dddd' 'aa' 'aa' 'bbb'"
   ]
  },
  {
   "cell_type": "code",
   "execution_count": 96,
   "id": "09b60a62",
   "metadata": {},
   "outputs": [
    {
     "data": {
      "text/html": [
       "<span style=\"white-space:pre; font-family: monospace\">┌→────┐\n",
       "│abccd│\n",
       "└─────┘\n",
       "</span>"
      ]
     },
     "execution_count": 96,
     "metadata": {},
     "output_type": "execute_result"
    },
    {
     "data": {
      "text/html": [
       "<span style=\"white-space:pre; font-family: monospace\">┌→───┐\n",
       "│cdab│\n",
       "└────┘\n",
       "</span>"
      ]
     },
     "execution_count": 96,
     "metadata": {},
     "output_type": "execute_result"
    }
   ],
   "source": [
    "'abcc'∪'cda'\n",
    "'cda'∪'abcc'"
   ]
  },
  {
   "cell_type": "code",
   "execution_count": 97,
   "id": "7fbd0b8c",
   "metadata": {},
   "outputs": [
    {
     "data": {
      "text/html": [
       "<span style=\"white-space:pre; font-family: monospace\">┌→─────┐\n",
       "│abccdd│\n",
       "└──────┘\n",
       "</span>"
      ]
     },
     "execution_count": 97,
     "metadata": {},
     "output_type": "execute_result"
    }
   ],
   "source": [
    "'abcc'∪'cdda'"
   ]
  },
  {
   "cell_type": "code",
   "execution_count": 98,
   "id": "7b88a54c",
   "metadata": {},
   "outputs": [
    {
     "data": {
      "text/html": [
       "<span style=\"white-space:pre; font-family: monospace\">┌→───┐\n",
       "│Misp│\n",
       "└────┘\n",
       "</span>"
      ]
     },
     "execution_count": 98,
     "metadata": {},
     "output_type": "execute_result"
    }
   ],
   "source": [
    "∪'Mississippi'"
   ]
  },
  {
   "cell_type": "code",
   "execution_count": 99,
   "id": "b003e8b2",
   "metadata": {},
   "outputs": [
    {
     "data": {
      "text/html": [
       "<span style=\"white-space:pre; font-family: monospace\">┌→──┐\n",
       "│acc│\n",
       "└───┘\n",
       "</span>"
      ]
     },
     "execution_count": 99,
     "metadata": {},
     "output_type": "execute_result"
    },
    {
     "data": {
      "text/html": [
       "<span style=\"white-space:pre; font-family: monospace\">┌→─┐\n",
       "│ca│\n",
       "└──┘\n",
       "</span>"
      ]
     },
     "execution_count": 99,
     "metadata": {},
     "output_type": "execute_result"
    }
   ],
   "source": [
    "'abcc'∩'cda'\n",
    "'cda'∩'abcc'"
   ]
  },
  {
   "cell_type": "code",
   "execution_count": 100,
   "id": "b3ed8404",
   "metadata": {},
   "outputs": [
    {
     "data": {
      "text/html": [
       "<span style=\"white-space:pre; font-family: monospace\">┌→────┐\n",
       "│Miiii│\n",
       "└─────┘\n",
       "</span>"
      ]
     },
     "execution_count": 100,
     "metadata": {},
     "output_type": "execute_result"
    }
   ],
   "source": [
    "'Mississippi'~'pss'"
   ]
  },
  {
   "cell_type": "code",
   "execution_count": 101,
   "id": "cf603a93",
   "metadata": {},
   "outputs": [
    {
     "data": {
      "text/html": [
       "<span style=\"white-space:pre; font-family: monospace\">┌→────────────────┐\n",
       "│ ┌→────┐ ┌→────┐ │\n",
       "│ ↓0 1 1│ ↓1 0 0│ │\n",
       "│ │0 0 1│ │1 1 0│ │\n",
       "│ │1 0 0│ │0 1 1│ │\n",
       "│ └~────┘ └~────┘ │\n",
       "└∊────────────────┘\n",
       "</span>"
      ]
     },
     "execution_count": 101,
     "metadata": {},
     "output_type": "execute_result"
    }
   ],
   "source": [
    "(3 3⍴0 1 1 0) (~3 3⍴0 1 1 0)"
   ]
  },
  {
   "cell_type": "code",
   "execution_count": 102,
   "id": "8f02f13b",
   "metadata": {},
   "outputs": [
    {
     "data": {
      "text/html": [
       "<span style=\"white-space:pre; font-family: monospace\">┌→──────────┐\n",
       "│Mississippi│\n",
       "└───────────┘\n",
       "</span>"
      ]
     },
     "execution_count": 102,
     "metadata": {},
     "output_type": "execute_result"
    }
   ],
   "source": [
    "1 1 2 1 2 1 2 1/'Misisipi'"
   ]
  },
  {
   "cell_type": "code",
   "execution_count": 103,
   "id": "7d916cbd",
   "metadata": {},
   "outputs": [
    {
     "data": {
      "text/html": [
       "<span style=\"white-space:pre; font-family: monospace\">┌→──────┐\n",
       "│HllWrld│\n",
       "└───────┘\n",
       "</span>"
      ]
     },
     "execution_count": 103,
     "metadata": {},
     "output_type": "execute_result"
    }
   ],
   "source": [
    "1 0 1 1 0 0 1 0 1 1 1/'Hello World'"
   ]
  },
  {
   "cell_type": "code",
   "execution_count": 104,
   "id": "a7804659",
   "metadata": {},
   "outputs": [
    {
     "data": {
      "text/html": [
       "<span style=\"white-space:pre; font-family: monospace\">┌→────┐\n",
       "│He lo│\n",
       "└─────┘\n",
       "</span>"
      ]
     },
     "execution_count": 104,
     "metadata": {},
     "output_type": "execute_result"
    }
   ],
   "source": [
    "1 1 ¯1 1 1/'Hello'"
   ]
  },
  {
   "cell_type": "code",
   "execution_count": 105,
   "id": "8dc313ef",
   "metadata": {},
   "outputs": [
    {
     "data": {
      "text/html": [
       "<span style=\"white-space:pre; font-family: monospace\">┌⊖┐\n",
       "│ │\n",
       "└─┘\n",
       "</span>"
      ]
     },
     "execution_count": 105,
     "metadata": {},
     "output_type": "execute_result"
    },
    {
     "data": {
      "text/html": [
       "<span style=\"white-space:pre; font-family: monospace\">┌→──┐\n",
       "│abc│\n",
       "└───┘\n",
       "</span>"
      ]
     },
     "execution_count": 105,
     "metadata": {},
     "output_type": "execute_result"
    }
   ],
   "source": [
    "0/'abc'\n",
    "1/'abc' "
   ]
  },
  {
   "cell_type": "code",
   "execution_count": 106,
   "id": "56986d5c",
   "metadata": {},
   "outputs": [
    {
     "data": {
      "text/html": [
       "<span style=\"white-space:pre; font-family: monospace\">┌→┐\n",
       "│1│\n",
       "└~┘\n",
       "</span>"
      ]
     },
     "execution_count": 106,
     "metadata": {},
     "output_type": "execute_result"
    },
    {
     "data": {
      "text/html": [
       "<span style=\"white-space:pre; font-family: monospace\">┌→┐\n",
       "│2│\n",
       "└~┘\n",
       "</span>"
      ]
     },
     "execution_count": 106,
     "metadata": {},
     "output_type": "execute_result"
    }
   ],
   "source": [
    "⍴1/8   ⍝ Scalar becomes vector, rank 1\n",
    "⍴1/8 8 ⍝ Higher ranks remain untouched"
   ]
  },
  {
   "cell_type": "code",
   "execution_count": 107,
   "id": "2e32ec0d",
   "metadata": {},
   "outputs": [
    {
     "data": {
      "text/html": [
       "<span style=\"white-space:pre; font-family: monospace\">┌→──────────┐\n",
       "│1 2 0 3 4 5│\n",
       "└~──────────┘\n",
       "</span>"
      ]
     },
     "execution_count": 107,
     "metadata": {},
     "output_type": "execute_result"
    }
   ],
   "source": [
    "1 1 ¯1 1 1 1\\1 2 3 4 5"
   ]
  },
  {
   "cell_type": "code",
   "execution_count": 108,
   "id": "528b4f46",
   "metadata": {},
   "outputs": [
    {
     "data": {
      "text/html": [
       "<span style=\"white-space:pre; font-family: monospace\">┌→──────┐\n",
       "│1 2 3 4│\n",
       "└~──────┘\n",
       "</span>"
      ]
     },
     "execution_count": 108,
     "metadata": {},
     "output_type": "execute_result"
    }
   ],
   "source": [
    "⍳≢1 2 4 5"
   ]
  },
  {
   "cell_type": "code",
   "execution_count": 109,
   "id": "a9149164",
   "metadata": {},
   "outputs": [
    {
     "data": {
      "text/html": [
       "<span style=\"white-space:pre; font-family: monospace\">┌→──────┐\n",
       "│0 1 0 0│\n",
       "└~──────┘\n",
       "</span>"
      ]
     },
     "execution_count": 109,
     "metadata": {},
     "output_type": "execute_result"
    }
   ],
   "source": [
    "2=⍳≢1 2 4 5"
   ]
  },
  {
   "cell_type": "code",
   "execution_count": 110,
   "id": "a3b3cfd8",
   "metadata": {},
   "outputs": [
    {
     "data": {
      "text/html": [
       "<span style=\"white-space:pre; font-family: monospace\">┌→──────┐\n",
       "│1 2 1 1│\n",
       "└~──────┘\n",
       "</span>"
      ]
     },
     "execution_count": 110,
     "metadata": {},
     "output_type": "execute_result"
    }
   ],
   "source": [
    "1+2=⍳≢1 2 4 5"
   ]
  },
  {
   "cell_type": "code",
   "execution_count": 111,
   "id": "0e97e33b",
   "metadata": {},
   "outputs": [
    {
     "data": {
      "text/html": [
       "<span style=\"white-space:pre; font-family: monospace\">┌→────────┐\n",
       "│1 2 2 4 5│\n",
       "└~────────┘\n",
       "</span>"
      ]
     },
     "execution_count": 111,
     "metadata": {},
     "output_type": "execute_result"
    }
   ],
   "source": [
    "(1+2=⍳≢1 2 4 5)\\1 2 4 5 "
   ]
  },
  {
   "cell_type": "code",
   "execution_count": 112,
   "id": "e76fe012",
   "metadata": {},
   "outputs": [
    {
     "data": {
      "text/html": [
       "<span style=\"white-space:pre; font-family: monospace\">┌→────────┐\n",
       "│1 2 3 4 5│\n",
       "└~────────┘\n",
       "</span>"
      ]
     },
     "execution_count": 112,
     "metadata": {},
     "output_type": "execute_result"
    }
   ],
   "source": [
    "3@(1+2)⊢(1+2=⍳≢1 2 4 5)\\1 2 4 5"
   ]
  },
  {
   "cell_type": "code",
   "execution_count": 113,
   "id": "beb4d1fa",
   "metadata": {},
   "outputs": [
    {
     "data": {
      "text/html": [
       "<span style=\"white-space:pre; font-family: monospace\">┌→───────────┐\n",
       "│ ┌→─┐ ┌→──┐ │\n",
       "│ ↓AC│ ↓ABC│ │\n",
       "│ │DF│ │GHI│ │\n",
       "│ │GI│ └───┘ │\n",
       "│ └──┘       │\n",
       "└∊───────────┘\n",
       "</span>"
      ]
     },
     "execution_count": 113,
     "metadata": {},
     "output_type": "execute_result"
    }
   ],
   "source": [
    "(1 0 1/3 3⍴⎕A) (1 0 1⌿3 3⍴⎕A)"
   ]
  },
  {
   "cell_type": "code",
   "execution_count": 114,
   "id": "da890cc4",
   "metadata": {},
   "outputs": [
    {
     "data": {
      "text/html": [
       "<span style=\"white-space:pre; font-family: monospace\">┌→──────────────┐\n",
       "│ ┌→────┐ ┌→──┐ │\n",
       "│ ↓A  BC│ ↓ABC│ │\n",
       "│ │D  EF│ │   │ │\n",
       "│ │G  HI│ │   │ │\n",
       "│ └─────┘ │DEF│ │\n",
       "│         │GHI│ │\n",
       "│         └───┘ │\n",
       "└∊──────────────┘\n",
       "</span>"
      ]
     },
     "execution_count": 114,
     "metadata": {},
     "output_type": "execute_result"
    }
   ],
   "source": [
    "(1 ¯2 1 1\\3 3⍴⎕A) (1 ¯2 1 1⍀3 3⍴⎕A)"
   ]
  },
  {
   "cell_type": "code",
   "execution_count": 115,
   "id": "85187453",
   "metadata": {},
   "outputs": [
    {
     "data": {
      "text/html": [
       "<span style=\"white-space:pre; font-family: monospace\">┌→──┐\n",
       "↓ABC│\n",
       "│DEF│\n",
       "│GHI│\n",
       "└───┘\n",
       "</span>"
      ]
     },
     "execution_count": 115,
     "metadata": {},
     "output_type": "execute_result"
    },
    {
     "data": {
      "text/html": [
       "<span style=\"white-space:pre; font-family: monospace\">┌→────────┐\n",
       "│ABCDEFGHI│\n",
       "└─────────┘\n",
       "</span>"
      ]
     },
     "execution_count": 115,
     "metadata": {},
     "output_type": "execute_result"
    }
   ],
   "source": [
    "3 3⍴⎕A\n",
    ",3 3⍴⎕A"
   ]
  },
  {
   "cell_type": "code",
   "execution_count": 116,
   "id": "f2636246",
   "metadata": {},
   "outputs": [
    {
     "data": {
      "text/html": [
       "<span style=\"white-space:pre; font-family: monospace\">┌→────────┐\n",
       "│ABCDEFGHI│\n",
       "└─────────┘\n",
       "</span>"
      ]
     },
     "execution_count": 116,
     "metadata": {},
     "output_type": "execute_result"
    },
    {
     "data": {
      "text/html": [
       "<span style=\"white-space:pre; font-family: monospace\">┌→──────────────────────────────────────────────────────────────────────┐\n",
       "│1 2 3 4 5 6 7 8 9 10 11 12 13 14 15 16 17 18 19 20 21 22 23 24 25 26 27│\n",
       "└~──────────────────────────────────────────────────────────────────────┘\n",
       "</span>"
      ]
     },
     "execution_count": 116,
     "metadata": {},
     "output_type": "execute_result"
    }
   ],
   "source": [
    "∊3 3⍴⎕A\n",
    "∊3 3 3⍴⍳27"
   ]
  },
  {
   "cell_type": "code",
   "execution_count": 117,
   "id": "e3175bd4",
   "metadata": {},
   "outputs": [
    {
     "data": {
      "text/html": [
       "<span style=\"white-space:pre; font-family: monospace\">┌→───────────┐\n",
       "│abcdefghijkl│\n",
       "└────────────┘\n",
       "</span>"
      ]
     },
     "execution_count": 117,
     "metadata": {},
     "output_type": "execute_result"
    },
    {
     "data": {
      "text/html": [
       "<span style=\"white-space:pre; font-family: monospace\">┌→────────────────────────┐\n",
       "│ ┌→──┐ ┌→──┐ ┌→──┐ ┌→──┐ │\n",
       "│ │abc│ │def│ │ghi│ │jkl│ │\n",
       "│ └───┘ └───┘ └───┘ └───┘ │\n",
       "└∊────────────────────────┘\n",
       "</span>"
      ]
     },
     "execution_count": 117,
     "metadata": {},
     "output_type": "execute_result"
    }
   ],
   "source": [
    "∊2 2⍴'abc' 'def' 'ghi' 'jkl'\n",
    ",2 2⍴'abc' 'def' 'ghi' 'jkl' "
   ]
  },
  {
   "cell_type": "code",
   "execution_count": 118,
   "id": "440cf7fc",
   "metadata": {},
   "outputs": [
    {
     "data": {
      "text/html": [
       "<span style=\"white-space:pre; font-family: monospace\">┌→──────────┐\n",
       "│1 2 3 4 5 6│\n",
       "└~──────────┘\n",
       "</span>"
      ]
     },
     "execution_count": 118,
     "metadata": {},
     "output_type": "execute_result"
    }
   ],
   "source": [
    "1 2 3,4 5 6"
   ]
  },
  {
   "cell_type": "code",
   "execution_count": 119,
   "id": "dd9841a1",
   "metadata": {},
   "outputs": [
    {
     "data": {
      "text/html": [
       "<span style=\"white-space:pre; font-family: monospace\">┌→────┐\n",
       "↓A B C│\n",
       "│D E F│\n",
       "│1 2 3│\n",
       "│4 5 6│\n",
       "└+────┘\n",
       "</span>"
      ]
     },
     "execution_count": 119,
     "metadata": {},
     "output_type": "execute_result"
    },
    {
     "data": {
      "text/html": [
       "<span style=\"white-space:pre; font-family: monospace\">┌→────────┐\n",
       "↓ABC 1 2 3│\n",
       "│DEF 4 5 6│\n",
       "└+────────┘\n",
       "</span>"
      ]
     },
     "execution_count": 119,
     "metadata": {},
     "output_type": "execute_result"
    }
   ],
   "source": [
    "(2 3⍴⎕A),[1](2 3⍴⍳6)\n",
    "(2 3⍴⎕A),[2](2 3⍴⍳6) "
   ]
  },
  {
   "cell_type": "code",
   "execution_count": 120,
   "id": "b3e7b588",
   "metadata": {},
   "outputs": [
    {
     "data": {
      "text/html": [
       "<span style=\"white-space:pre; font-family: monospace\">┌┌→────┐\n",
       "↓↓A B C│\n",
       "││D E F│\n",
       "││     │\n",
       "││1 2 3│\n",
       "││4 5 6│\n",
       "└└+────┘\n",
       "</span>"
      ]
     },
     "execution_count": 120,
     "metadata": {},
     "output_type": "execute_result"
    },
    {
     "data": {
      "text/html": [
       "<span style=\"white-space:pre; font-family: monospace\">┌┌→────┐\n",
       "↓↓A B C│\n",
       "││1 2 3│\n",
       "││     │\n",
       "││D E F│\n",
       "││4 5 6│\n",
       "└└+────┘\n",
       "</span>"
      ]
     },
     "execution_count": 120,
     "metadata": {},
     "output_type": "execute_result"
    }
   ],
   "source": [
    "(2 3⍴⎕A),[0.5](2 3⍴⍳6) ⍝ 3D array\n",
    "(2 3⍴⎕A),[1.5](2 3⍴⍳6) ⍝ 3D array "
   ]
  },
  {
   "cell_type": "code",
   "execution_count": 121,
   "id": "377d58e7",
   "metadata": {},
   "outputs": [
    {
     "data": {
      "text/html": [
       "<span style=\"white-space:pre; font-family: monospace\">┌┌→──┐\n",
       "↓↓ABC│\n",
       "││DEF│\n",
       "└└───┘\n",
       "</span>"
      ]
     },
     "execution_count": 121,
     "metadata": {},
     "output_type": "execute_result"
    },
    {
     "data": {
      "text/html": [
       "<span style=\"white-space:pre; font-family: monospace\">┌→────┐\n",
       "│1 2 3│\n",
       "└~────┘\n",
       "</span>"
      ]
     },
     "execution_count": 121,
     "metadata": {},
     "output_type": "execute_result"
    },
    {
     "data": {
      "text/html": [
       "<span style=\"white-space:pre; font-family: monospace\">┌┌→──┐\n",
       "↓↓ABC│\n",
       "││   │\n",
       "││DEF│\n",
       "└└───┘\n",
       "</span>"
      ]
     },
     "execution_count": 121,
     "metadata": {},
     "output_type": "execute_result"
    },
    {
     "data": {
      "text/html": [
       "<span style=\"white-space:pre; font-family: monospace\">┌→────┐\n",
       "│2 1 3│\n",
       "└~────┘\n",
       "</span>"
      ]
     },
     "execution_count": 121,
     "metadata": {},
     "output_type": "execute_result"
    }
   ],
   "source": [
    ",[0.5]2 3⍴⎕A\n",
    "⍴,[0.5]2 3⍴⎕A\n",
    ",[1.5]2 3⍴⎕A\n",
    "⍴,[1.5]2 3⍴⎕A"
   ]
  },
  {
   "cell_type": "code",
   "execution_count": 122,
   "id": "b76b0776",
   "metadata": {},
   "outputs": [
    {
     "data": {
      "text/html": [
       "<span style=\"white-space:pre; font-family: monospace\">┌→────┐\n",
       "↓A B C│\n",
       "│D E F│\n",
       "│1 2 3│\n",
       "│4 5 6│\n",
       "└+────┘\n",
       "</span>"
      ]
     },
     "execution_count": 122,
     "metadata": {},
     "output_type": "execute_result"
    },
    {
     "data": {
      "text/html": [
       "<span style=\"white-space:pre; font-family: monospace\">┌→────┐\n",
       "↓A B C│\n",
       "│D E F│\n",
       "│1 2 3│\n",
       "│4 5 6│\n",
       "└+────┘\n",
       "</span>"
      ]
     },
     "execution_count": 122,
     "metadata": {},
     "output_type": "execute_result"
    }
   ],
   "source": [
    "(2 3⍴⎕A),[1](2 3⍴⍳6)\n",
    "(2 3⍴⎕A)⍪(2 3⍴⍳6)"
   ]
  },
  {
   "cell_type": "code",
   "execution_count": 123,
   "id": "a41420ae",
   "metadata": {},
   "outputs": [
    {
     "data": {
      "text/html": [
       "<span style=\"white-space:pre; font-family: monospace\">┌┌→───┐\n",
       "↓↓ABCD│\n",
       "││EFGH│\n",
       "││IJKL│\n",
       "││    │\n",
       "││MNOP│\n",
       "││QRST│\n",
       "││UVWX│\n",
       "└└────┘\n",
       "</span>"
      ]
     },
     "execution_count": 123,
     "metadata": {},
     "output_type": "execute_result"
    },
    {
     "data": {
      "text/html": [
       "<span style=\"white-space:pre; font-family: monospace\">┌→───────────┐\n",
       "↓ABCDEFGHIJKL│\n",
       "│MNOPQRSTUVWX│\n",
       "└────────────┘\n",
       "</span>"
      ]
     },
     "execution_count": 123,
     "metadata": {},
     "output_type": "execute_result"
    }
   ],
   "source": [
    "2 3 4⍴⎕A\n",
    "⍪2 3 4⍴⎕A"
   ]
  }
 ],
 "metadata": {
  "kernelspec": {
   "display_name": "Dyalog APL",
   "language": "apl",
   "name": "dyalog-kernel"
  },
  "language_info": {
   "file_extension": ".apl",
   "mimetype": "text/apl",
   "name": "APL"
  }
 },
 "nbformat": 4,
 "nbformat_minor": 5
}
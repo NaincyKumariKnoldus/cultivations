{
 "cells": [
  {
   "cell_type": "code",
   "execution_count": 1,
   "id": "77a45343",
   "metadata": {},
   "outputs": [
    {
     "data": {
      "text/html": [
       "<span style=\"white-space:pre; font-family: monospace\">11\n",
       "</span>"
      ]
     },
     "execution_count": 1,
     "metadata": {},
     "output_type": "execute_result"
    },
    {
     "data": {
      "text/html": [
       "<span style=\"white-space:pre; font-family: monospace\">48\n",
       "</span>"
      ]
     },
     "execution_count": 1,
     "metadata": {},
     "output_type": "execute_result"
    },
    {
     "data": {
      "text/html": [
       "<span style=\"white-space:pre; font-family: monospace\">1584\n",
       "</span>"
      ]
     },
     "execution_count": 1,
     "metadata": {},
     "output_type": "execute_result"
    },
    {
     "data": {
      "text/html": [
       "<span style=\"white-space:pre; font-family: monospace\">¯4\n",
       "</span>"
      ]
     },
     "execution_count": 1,
     "metadata": {},
     "output_type": "execute_result"
    }
   ],
   "source": [
    "3+8\n",
    "4×12\n",
    "144×11\n",
    "3-7"
   ]
  },
  {
   "cell_type": "code",
   "execution_count": 2,
   "id": "fc384c8f",
   "metadata": {},
   "outputs": [
    {
     "data": {
      "text/html": [
       "<span style=\"white-space:pre; font-family: monospace\">1\n",
       "</span>"
      ]
     },
     "execution_count": 2,
     "metadata": {},
     "output_type": "execute_result"
    }
   ],
   "source": [
    "0÷0"
   ]
  },
  {
   "cell_type": "code",
   "execution_count": 3,
   "id": "c5e1f626",
   "metadata": {},
   "outputs": [
    {
     "data": {
      "text/html": [
       "<span style=\"white-space:pre; font-family: monospace\">0\n",
       "</span>"
      ]
     },
     "execution_count": 3,
     "metadata": {},
     "output_type": "execute_result"
    }
   ],
   "source": [
    "⎕DIV←1\n",
    "0÷0\n",
    "⎕DIV←0       ⍝ default setting"
   ]
  },
  {
   "cell_type": "code",
   "execution_count": 4,
   "id": "f3accb85",
   "metadata": {},
   "outputs": [
    {
     "name": "stderr",
     "output_type": "stream",
     "text": [
      "DOMAIN ERROR: Divide by zero\n",
      "      0×÷0        ⍝ DOMAIN ERROR: Divide by zero\n",
      "        ∧\n"
     ]
    }
   ],
   "source": [
    "0×÷0        ⍝ DOMAIN ERROR: Divide by zero "
   ]
  },
  {
   "cell_type": "code",
   "execution_count": 5,
   "id": "51b1aabd",
   "metadata": {},
   "outputs": [
    {
     "data": {
      "text/html": [
       "<span style=\"white-space:pre; font-family: monospace\">0.2\n",
       "</span>"
      ]
     },
     "execution_count": 5,
     "metadata": {},
     "output_type": "execute_result"
    },
    {
     "data": {
      "text/html": [
       "<span style=\"white-space:pre; font-family: monospace\">1 ¯1 0\n",
       "</span>"
      ]
     },
     "execution_count": 5,
     "metadata": {},
     "output_type": "execute_result"
    },
    {
     "data": {
      "text/html": [
       "<span style=\"white-space:pre; font-family: monospace\">0.8J¯0.6\n",
       "</span>"
      ]
     },
     "execution_count": 5,
     "metadata": {},
     "output_type": "execute_result"
    }
   ],
   "source": [
    "÷5          ⍝ reciprocal: 1÷5\n",
    "×12 ¯33 0   ⍝ signum\n",
    "×32j¯24     ⍝ direction"
   ]
  },
  {
   "cell_type": "code",
   "execution_count": 6,
   "id": "fb130262",
   "metadata": {},
   "outputs": [
    {
     "data": {
      "text/html": [
       "<span style=\"white-space:pre; font-family: monospace\">1024\n",
       "</span>"
      ]
     },
     "execution_count": 6,
     "metadata": {},
     "output_type": "execute_result"
    },
    {
     "data": {
      "text/html": [
       "<span style=\"white-space:pre; font-family: monospace\">2.71828\n",
       "</span>"
      ]
     },
     "execution_count": 6,
     "metadata": {},
     "output_type": "execute_result"
    }
   ],
   "source": [
    "2*10        ⍝ ⍺ to the power of ⍵\n",
    "*1          ⍝ e to the power of ⍵"
   ]
  },
  {
   "cell_type": "code",
   "execution_count": 7,
   "id": "b4de25e0",
   "metadata": {},
   "outputs": [
    {
     "data": {
      "text/html": [
       "<span style=\"white-space:pre; font-family: monospace\">7\n",
       "</span>"
      ]
     },
     "execution_count": 7,
     "metadata": {},
     "output_type": "execute_result"
    }
   ],
   "source": [
    "10⍟10000000   ⍝ log(10000000)"
   ]
  },
  {
   "cell_type": "code",
   "execution_count": 8,
   "id": "06a4215e",
   "metadata": {},
   "outputs": [
    {
     "data": {
      "text/html": [
       "<span style=\"white-space:pre; font-family: monospace\">3 2\n",
       "</span>"
      ]
     },
     "execution_count": 8,
     "metadata": {},
     "output_type": "execute_result"
    }
   ],
   "source": [
    "13 1 ⌹ 2 2⍴3 2 1 ¯1"
   ]
  },
  {
   "cell_type": "code",
   "execution_count": 9,
   "id": "ccff5aa9",
   "metadata": {},
   "outputs": [
    {
     "data": {
      "text/html": [
       "<span style=\"white-space:pre; font-family: monospace\">6.28319\n",
       "</span>"
      ]
     },
     "execution_count": 9,
     "metadata": {},
     "output_type": "execute_result"
    }
   ],
   "source": [
    "○2          ⍝ 2 times π"
   ]
  },
  {
   "cell_type": "code",
   "execution_count": 10,
   "id": "f7391d7d",
   "metadata": {},
   "outputs": [
    {
     "data": {
      "text/html": [
       "<span style=\"white-space:pre; font-family: monospace\">1.22465E¯16\n",
       "</span>"
      ]
     },
     "execution_count": 10,
     "metadata": {},
     "output_type": "execute_result"
    },
    {
     "data": {
      "text/html": [
       "<span style=\"white-space:pre; font-family: monospace\">¯1\n",
       "</span>"
      ]
     },
     "execution_count": 10,
     "metadata": {},
     "output_type": "execute_result"
    },
    {
     "data": {
      "text/html": [
       "<span style=\"white-space:pre; font-family: monospace\">3.14159\n",
       "</span>"
      ]
     },
     "execution_count": 10,
     "metadata": {},
     "output_type": "execute_result"
    }
   ],
   "source": [
    "1○○1        ⍝ sin π\n",
    "2○○1        ⍝ cos π\n",
    "¯2○2○○1     ⍝ arccos cos π"
   ]
  },
  {
   "cell_type": "code",
   "execution_count": 11,
   "id": "6adbf865",
   "metadata": {},
   "outputs": [
    {
     "data": {
      "text/html": [
       "<span style=\"white-space:pre; font-family: monospace\">479001600\n",
       "</span>"
      ]
     },
     "execution_count": 11,
     "metadata": {},
     "output_type": "execute_result"
    },
    {
     "data": {
      "text/html": [
       "<span style=\"white-space:pre; font-family: monospace\">28\n",
       "</span>"
      ]
     },
     "execution_count": 11,
     "metadata": {},
     "output_type": "execute_result"
    }
   ],
   "source": [
    "!12         ⍝ 12 factorial\n",
    "2!8         ⍝ how many ways can we select 2 from 8?"
   ]
  },
  {
   "cell_type": "code",
   "execution_count": 12,
   "id": "de495571",
   "metadata": {},
   "outputs": [
    {
     "data": {
      "text/html": [
       "<span style=\"white-space:pre; font-family: monospace\">4 3 4\n",
       "</span>"
      ]
     },
     "execution_count": 12,
     "metadata": {},
     "output_type": "execute_result"
    },
    {
     "data": {
      "text/html": [
       "<span style=\"white-space:pre; font-family: monospace\">0.320547\n",
       "</span>"
      ]
     },
     "execution_count": 12,
     "metadata": {},
     "output_type": "execute_result"
    }
   ],
   "source": [
    "?6 6 6     ⍝ roll three six-sided dice\n",
    "?0         ⍝ random float between 0-1, excluding 0 and 1"
   ]
  },
  {
   "cell_type": "code",
   "execution_count": 13,
   "id": "1ed4894b",
   "metadata": {},
   "outputs": [
    {
     "data": {
      "text/html": [
       "<span style=\"white-space:pre; font-family: monospace\">1 6 9 2 4 7 8 3 5 10\n",
       "</span>"
      ]
     },
     "execution_count": 13,
     "metadata": {},
     "output_type": "execute_result"
    }
   ],
   "source": [
    "10?10       ⍝ 1-10 in random order"
   ]
  },
  {
   "cell_type": "code",
   "execution_count": 14,
   "id": "8faa165c",
   "metadata": {},
   "outputs": [
    {
     "data": {
      "text/html": [
       "<span style=\"white-space:pre; font-family: monospace\">8 0 3 6 5 2 7 9 4 1\n",
       "</span>"
      ]
     },
     "execution_count": 14,
     "metadata": {},
     "output_type": "execute_result"
    }
   ],
   "source": [
    "⎕IO←0\n",
    "10?10      ⍝ Now we should get 0-9\n",
    "⎕IO←1"
   ]
  },
  {
   "cell_type": "code",
   "execution_count": 15,
   "id": "fa5568c1",
   "metadata": {},
   "outputs": [
    {
     "data": {
      "text/html": [
       "<span style=\"white-space:pre; font-family: monospace\">97\n",
       "</span>"
      ]
     },
     "execution_count": 15,
     "metadata": {},
     "output_type": "execute_result"
    },
    {
     "data": {
      "text/html": [
       "<span style=\"white-space:pre; font-family: monospace\">3 5 7 8 7 2\n",
       "</span>"
      ]
     },
     "execution_count": 15,
     "metadata": {},
     "output_type": "execute_result"
    }
   ],
   "source": [
    "|¯97\n",
    "|3 5 ¯7 ¯8 7 ¯2"
   ]
  },
  {
   "cell_type": "code",
   "execution_count": 16,
   "id": "c16b45ad",
   "metadata": {},
   "outputs": [
    {
     "data": {
      "text/html": [
       "<span style=\"white-space:pre; font-family: monospace\">1 0 1 0 1 0 1 0 1 0\n",
       "</span>"
      ]
     },
     "execution_count": 16,
     "metadata": {},
     "output_type": "execute_result"
    }
   ],
   "source": [
    "2|⍳10     ⍝ odd numbers in 1-10"
   ]
  },
  {
   "cell_type": "code",
   "execution_count": 17,
   "id": "1c2a5382",
   "metadata": {},
   "outputs": [
    {
     "data": {
      "text/html": [
       "<span style=\"white-space:pre; font-family: monospace\">4\n",
       "</span>"
      ]
     },
     "execution_count": 17,
     "metadata": {},
     "output_type": "execute_result"
    }
   ],
   "source": [
    "⌈3.14159256"
   ]
  },
  {
   "cell_type": "code",
   "execution_count": 18,
   "id": "f2664196",
   "metadata": {},
   "outputs": [
    {
     "data": {
      "text/html": [
       "<span style=\"white-space:pre; font-family: monospace\">23\n",
       "</span>"
      ]
     },
     "execution_count": 18,
     "metadata": {},
     "output_type": "execute_result"
    }
   ],
   "source": [
    "15⌈23"
   ]
  },
  {
   "cell_type": "code",
   "execution_count": 19,
   "id": "6714a966",
   "metadata": {},
   "outputs": [
    {
     "data": {
      "text/html": [
       "<span style=\"white-space:pre; font-family: monospace\">3\n",
       "</span>"
      ]
     },
     "execution_count": 19,
     "metadata": {},
     "output_type": "execute_result"
    },
    {
     "data": {
      "text/html": [
       "<span style=\"white-space:pre; font-family: monospace\">15\n",
       "</span>"
      ]
     },
     "execution_count": 19,
     "metadata": {},
     "output_type": "execute_result"
    }
   ],
   "source": [
    "⌊3.14159256\n",
    "15⌊23"
   ]
  },
  {
   "cell_type": "code",
   "execution_count": 20,
   "id": "2fbf05fa",
   "metadata": {},
   "outputs": [
    {
     "data": {
      "text/html": [
       "<span style=\"white-space:pre; font-family: monospace\">42\n",
       "</span>"
      ]
     },
     "execution_count": 20,
     "metadata": {},
     "output_type": "execute_result"
    }
   ],
   "source": [
    "2⊥1 0 1 0 1 0   ⍝ decode binary to decimal"
   ]
  },
  {
   "cell_type": "code",
   "execution_count": 21,
   "id": "c9ac322b",
   "metadata": {},
   "outputs": [
    {
     "data": {
      "text/html": [
       "<span style=\"white-space:pre; font-family: monospace\">2 46 40\n",
       "</span>"
      ]
     },
     "execution_count": 21,
     "metadata": {},
     "output_type": "execute_result"
    }
   ],
   "source": [
    "24 60 60⊤10000  ⍝ seconds to hour, minutes, seconds"
   ]
  },
  {
   "cell_type": "code",
   "execution_count": 22,
   "id": "b707968f",
   "metadata": {},
   "outputs": [
    {
     "data": {
      "text/html": [
       "<span style=\"white-space:pre; font-family: monospace\">0\n",
       "</span>"
      ]
     },
     "execution_count": 22,
     "metadata": {},
     "output_type": "execute_result"
    }
   ],
   "source": [
    "''≡⍬   ⍝ does the empty char vector match the empty numeric vector?"
   ]
  },
  {
   "cell_type": "code",
   "execution_count": 23,
   "id": "13824fe4",
   "metadata": {},
   "outputs": [
    {
     "data": {
      "text/html": [
       "<span style=\"white-space:pre; font-family: monospace\">¯3\n",
       "</span>"
      ]
     },
     "execution_count": 23,
     "metadata": {},
     "output_type": "execute_result"
    },
    {
     "data": {
      "text/html": [
       "<span style=\"white-space:pre; font-family: monospace\">1\n",
       "</span>"
      ]
     },
     "execution_count": 23,
     "metadata": {},
     "output_type": "execute_result"
    },
    {
     "data": {
      "text/html": [
       "<span style=\"white-space:pre; font-family: monospace\">3\n",
       "</span>"
      ]
     },
     "execution_count": 23,
     "metadata": {},
     "output_type": "execute_result"
    }
   ],
   "source": [
    "≡(1 2 (3 4 5 (6 7 8)))  ⍝ unevenly nested vector\n",
    "≢1                      ⍝ scalars tally to 1\n",
    "≢3 2⍴⍳6                 ⍝ matrix tally is the number of rows"
   ]
  },
  {
   "cell_type": "code",
   "execution_count": 24,
   "id": "15668a5c",
   "metadata": {},
   "outputs": [
    {
     "data": {
      "text/html": [
       "<span style=\"white-space:pre; font-family: monospace\">0 1 1 1\n",
       "</span>"
      ]
     },
     "execution_count": 24,
     "metadata": {},
     "output_type": "execute_result"
    },
    {
     "data": {
      "text/html": [
       "<span style=\"white-space:pre; font-family: monospace\">5 1 2 7\n",
       "</span>"
      ]
     },
     "execution_count": 24,
     "metadata": {},
     "output_type": "execute_result"
    }
   ],
   "source": [
    "0 1 0 1 ∨ 0 0 1 1    ⍝ logical OR\n",
    "15 1 2 7 ∨ 35 1 4 0  ⍝ GCD"
   ]
  },
  {
   "cell_type": "code",
   "execution_count": 25,
   "id": "0ceaab8a",
   "metadata": {},
   "outputs": [
    {
     "data": {
      "text/html": [
       "<span style=\"white-space:pre; font-family: monospace\">0 0 0 1\n",
       "</span>"
      ]
     },
     "execution_count": 25,
     "metadata": {},
     "output_type": "execute_result"
    },
    {
     "data": {
      "text/html": [
       "<span style=\"white-space:pre; font-family: monospace\">105 1 4 0\n",
       "</span>"
      ]
     },
     "execution_count": 25,
     "metadata": {},
     "output_type": "execute_result"
    }
   ],
   "source": [
    "0 1 0 1 ∧ 0 0 1 1     ⍝ logical AND\n",
    "15 1 2 7 ∧ 35 1 4 0   ⍝ LCM"
   ]
  },
  {
   "cell_type": "code",
   "execution_count": 26,
   "id": "3dd4b5d3",
   "metadata": {},
   "outputs": [
    {
     "data": {
      "text/html": [
       "<span style=\"white-space:pre; font-family: monospace\">1 0 0 0\n",
       "</span>"
      ]
     },
     "execution_count": 26,
     "metadata": {},
     "output_type": "execute_result"
    },
    {
     "data": {
      "text/html": [
       "<span style=\"white-space:pre; font-family: monospace\">0 1 1 0\n",
       "</span>"
      ]
     },
     "execution_count": 26,
     "metadata": {},
     "output_type": "execute_result"
    },
    {
     "data": {
      "text/html": [
       "<span style=\"white-space:pre; font-family: monospace\">1 0 0 1\n",
       "</span>"
      ]
     },
     "execution_count": 26,
     "metadata": {},
     "output_type": "execute_result"
    },
    {
     "data": {
      "text/html": [
       "<span style=\"white-space:pre; font-family: monospace\">1 1 1 0\n",
       "</span>"
      ]
     },
     "execution_count": 26,
     "metadata": {},
     "output_type": "execute_result"
    }
   ],
   "source": [
    "0 1 0 1 ⍱ 0 0 1 1 ⍝ NOR\n",
    "0 1 0 1 ≠ 0 0 1 1 ⍝ XOR\n",
    "0 1 0 1 = 0 0 1 1 ⍝ XNOR\n",
    "0 1 0 1 ⍲ 0 0 1 1 ⍝ NAND"
   ]
  },
  {
   "cell_type": "code",
   "execution_count": 27,
   "id": "ba2f48b7",
   "metadata": {},
   "outputs": [
    {
     "data": {
      "text/html": [
       "<span style=\"white-space:pre; font-family: monospace\">ABCD\n",
       "EFGH\n",
       "IJKL\n",
       "</span>"
      ]
     },
     "execution_count": 27,
     "metadata": {},
     "output_type": "execute_result"
    },
    {
     "data": {
      "text/html": [
       "<span style=\"white-space:pre; font-family: monospace\">ABCD\n",
       "EFGH\n",
       "</span>"
      ]
     },
     "execution_count": 27,
     "metadata": {},
     "output_type": "execute_result"
    },
    {
     "data": {
      "text/html": [
       "<span style=\"white-space:pre; font-family: monospace\">ABC\n",
       "EFG\n",
       "</span>"
      ]
     },
     "execution_count": 27,
     "metadata": {},
     "output_type": "execute_result"
    }
   ],
   "source": [
    "3 4⍴⎕A            ⍝ original array\n",
    "2↑3 4⍴⎕A          ⍝ take two major cells (a.k.a rows)\n",
    "2 3↑3 4⍴⎕A        ⍝ two major, and three semi-major cells"
   ]
  },
  {
   "cell_type": "code",
   "execution_count": 28,
   "id": "1992fe6a",
   "metadata": {},
   "outputs": [
    {
     "data": {
      "text/html": [
       "<span style=\"white-space:pre; font-family: monospace\">3 1 4 0 0 0\n",
       "</span>"
      ]
     },
     "execution_count": 28,
     "metadata": {},
     "output_type": "execute_result"
    }
   ],
   "source": [
    "6↑3 1 4"
   ]
  },
  {
   "cell_type": "code",
   "execution_count": 29,
   "id": "abd654cb",
   "metadata": {},
   "outputs": [
    {
     "data": {
      "text/html": [
       "<span style=\"white-space:pre; font-family: monospace\">4 0 0\n",
       "0 0 0\n",
       "</span>"
      ]
     },
     "execution_count": 29,
     "metadata": {},
     "output_type": "execute_result"
    }
   ],
   "source": [
    "2 3↑4"
   ]
  },
  {
   "cell_type": "code",
   "execution_count": 30,
   "id": "81132754",
   "metadata": {},
   "outputs": [
    {
     "data": {
      "text/html": [
       "<span style=\"white-space:pre; font-family: monospace\">0 0 0 3 1 4\n",
       "</span>"
      ]
     },
     "execution_count": 30,
     "metadata": {},
     "output_type": "execute_result"
    },
    {
     "data": {
      "text/html": [
       "<span style=\"white-space:pre; font-family: monospace\">0 0 0\n",
       "0 0 4\n",
       "</span>"
      ]
     },
     "execution_count": 30,
     "metadata": {},
     "output_type": "execute_result"
    }
   ],
   "source": [
    "¯6↑3 1 4\n",
    "¯2 ¯3↑4"
   ]
  },
  {
   "cell_type": "code",
   "execution_count": 31,
   "id": "ad268072",
   "metadata": {},
   "outputs": [
    {
     "data": {
      "text/html": [
       "<span style=\"white-space:pre; font-family: monospace\">ABCD\n",
       "EFGH\n",
       "IJKL\n",
       "</span>"
      ]
     },
     "execution_count": 31,
     "metadata": {},
     "output_type": "execute_result"
    },
    {
     "data": {
      "text/html": [
       "<span style=\"white-space:pre; font-family: monospace\">GH\n",
       "KL\n",
       "</span>"
      ]
     },
     "execution_count": 31,
     "metadata": {},
     "output_type": "execute_result"
    }
   ],
   "source": [
    "3 4⍴⎕A\n",
    "¯2 ¯2↑3 4⍴⎕A "
   ]
  },
  {
   "cell_type": "code",
   "execution_count": 32,
   "id": "bd95228e",
   "metadata": {},
   "outputs": [
    {
     "data": {
      "text/html": [
       "<span style=\"white-space:pre; font-family: monospace\">1 2 3\n",
       "4 5 6\n",
       "</span>"
      ]
     },
     "execution_count": 32,
     "metadata": {},
     "output_type": "execute_result"
    }
   ],
   "source": [
    "↑(1 2 3)(4 5 6)"
   ]
  },
  {
   "cell_type": "code",
   "execution_count": 33,
   "id": "b08455e4",
   "metadata": {},
   "outputs": [
    {
     "data": {
      "text/html": [
       "<span style=\"white-space:pre; font-family: monospace\">1 2 3\n",
       "4 5 0\n",
       "</span>"
      ]
     },
     "execution_count": 33,
     "metadata": {},
     "output_type": "execute_result"
    }
   ],
   "source": [
    "↑(1 2 3)(4 5)"
   ]
  },
  {
   "cell_type": "code",
   "execution_count": 34,
   "id": "cb1f9e8f",
   "metadata": {},
   "outputs": [
    {
     "data": {
      "text/html": [
       "<span style=\"white-space:pre; font-family: monospace\">ABCD\n",
       "EFGH\n",
       "IJKL\n",
       "</span>"
      ]
     },
     "execution_count": 34,
     "metadata": {},
     "output_type": "execute_result"
    },
    {
     "data": {
      "text/html": [
       "<span style=\"white-space:pre; font-family: monospace\">EFGH\n",
       "IJKL\n",
       "</span>"
      ]
     },
     "execution_count": 34,
     "metadata": {},
     "output_type": "execute_result"
    },
    {
     "data": {
      "text/html": [
       "<span style=\"white-space:pre; font-family: monospace\">┌→──┐\n",
       "↓JKL│\n",
       "└───┘\n",
       "</span>"
      ]
     },
     "execution_count": 34,
     "metadata": {},
     "output_type": "execute_result"
    }
   ],
   "source": [
    "3 4⍴⎕A \n",
    "1↓3 4⍴⎕A\n",
    "]display 2 1↓3 4⍴⎕A"
   ]
  },
  {
   "cell_type": "code",
   "execution_count": 35,
   "id": "490f57fa",
   "metadata": {},
   "outputs": [
    {
     "data": {
      "text/html": [
       "<span style=\"white-space:pre; font-family: monospace\">┌────┬────┬────┐\n",
       "│ABCD│EFGH│IJKL│\n",
       "└────┴────┴────┘\n",
       "</span>"
      ]
     },
     "execution_count": 35,
     "metadata": {},
     "output_type": "execute_result"
    }
   ],
   "source": [
    "↓3 4⍴⎕A"
   ]
  },
  {
   "cell_type": "code",
   "execution_count": 36,
   "id": "d84ecb03",
   "metadata": {},
   "outputs": [
    {
     "data": {
      "text/html": [
       "<span style=\"white-space:pre; font-family: monospace\">┌→────────────────┐\n",
       "│Was ON -style=min│\n",
       "└─────────────────┘\n",
       "</span>"
      ]
     },
     "execution_count": 36,
     "metadata": {},
     "output_type": "execute_result"
    }
   ],
   "source": [
    "]box on -s=max"
   ]
  },
  {
   "cell_type": "code",
   "execution_count": 37,
   "id": "9ce0fc30",
   "metadata": {},
   "outputs": [
    {
     "data": {
      "text/html": [
       "<span style=\"white-space:pre; font-family: monospace\">┌→──────┐\n",
       "│1 2 3 4│\n",
       "└~──────┘\n",
       "</span>"
      ]
     },
     "execution_count": 37,
     "metadata": {},
     "output_type": "execute_result"
    },
    {
     "data": {
      "text/html": [
       "<span style=\"white-space:pre; font-family: monospace\">┌───────────┐\n",
       "│ ┌→──────┐ │\n",
       "│ │1 2 3 4│ │\n",
       "│ └~──────┘ │\n",
       "└∊──────────┘\n",
       "</span>"
      ]
     },
     "execution_count": 37,
     "metadata": {},
     "output_type": "execute_result"
    }
   ],
   "source": [
    "v←1 2 3 4\n",
    "v\n",
    "⊂v"
   ]
  },
  {
   "cell_type": "code",
   "execution_count": 38,
   "id": "fa9a498a",
   "metadata": {},
   "outputs": [
    {
     "data": {
      "text/html": [
       "<span style=\"white-space:pre; font-family: monospace\"> \n",
       "1\n",
       " \n",
       "</span>"
      ]
     },
     "execution_count": 38,
     "metadata": {},
     "output_type": "execute_result"
    }
   ],
   "source": [
    "≢⊂v   ⍝ an enclosed vector is a scalar"
   ]
  },
  {
   "cell_type": "code",
   "execution_count": 39,
   "id": "6bc83880",
   "metadata": {},
   "outputs": [
    {
     "data": {
      "text/html": [
       "<span style=\"white-space:pre; font-family: monospace\">┌→─────┐\n",
       "↓ABCABC│\n",
       "│DEFDEF│\n",
       "│GHIGHI│\n",
       "└──────┘\n",
       "</span>"
      ]
     },
     "execution_count": 39,
     "metadata": {},
     "output_type": "execute_result"
    },
    {
     "data": {
      "text/html": [
       "<span style=\"white-space:pre; font-family: monospace\">┌→────────────┐\n",
       "│ ┌→──┐ ┌→──┐ │\n",
       "│ ↓ABC│ ↓ABC│ │\n",
       "│ │DEF│ │DEF│ │\n",
       "│ │GHI│ │GHI│ │\n",
       "│ └───┘ └───┘ │\n",
       "└∊────────────┘\n",
       "</span>"
      ]
     },
     "execution_count": 39,
     "metadata": {},
     "output_type": "execute_result"
    }
   ],
   "source": [
    "(3 3⍴⎕A),(3 3⍴⎕A)   ⍝ concatenation of two matrices. \n",
    "(⊂3 3⍴⎕A),(⊂3 3⍴⎕A) ⍝ concatenation of two enclosed matrices"
   ]
  },
  {
   "cell_type": "code",
   "execution_count": 40,
   "id": "205d6347",
   "metadata": {},
   "outputs": [
    {
     "data": {
      "text/html": [
       "<span style=\"white-space:pre; font-family: monospace\">┌→────────────┐\n",
       "↓       ┌→──┐ │\n",
       "│ A B C ↓ABC│ │\n",
       "│ - - - │DEF│ │\n",
       "│       │GHI│ │\n",
       "│       └───┘ │\n",
       "│       ┌→──┐ │\n",
       "│ D E F ↓ABC│ │\n",
       "│ - - - │DEF│ │\n",
       "│       │GHI│ │\n",
       "│       └───┘ │\n",
       "│       ┌→──┐ │\n",
       "│ G H I ↓ABC│ │\n",
       "│ - - - │DEF│ │\n",
       "│       │GHI│ │\n",
       "│       └───┘ │\n",
       "└∊────────────┘\n",
       "</span>"
      ]
     },
     "execution_count": 40,
     "metadata": {},
     "output_type": "execute_result"
    }
   ],
   "source": [
    "(3 3⍴⎕A),(⊂3 3⍴⎕A) ⍝ concatenation of a matrix and an enclosed matrix "
   ]
  },
  {
   "cell_type": "code",
   "execution_count": 41,
   "id": "91062569",
   "metadata": {},
   "outputs": [
    {
     "data": {
      "text/html": [
       "<span style=\"white-space:pre; font-family: monospace\">┌→───┐\n",
       "↓ABCx│\n",
       "│DEFx│\n",
       "│GHIx│\n",
       "└────┘\n",
       "</span>"
      ]
     },
     "execution_count": 41,
     "metadata": {},
     "output_type": "execute_result"
    }
   ],
   "source": [
    "(3 3⍴⎕A),'x'"
   ]
  },
  {
   "cell_type": "code",
   "execution_count": 42,
   "id": "54a6c970",
   "metadata": {},
   "outputs": [
    {
     "data": {
      "text/html": [
       "<span style=\"white-space:pre; font-family: monospace\">┌→────┐\n",
       "│4 4 4│\n",
       "└~────┘\n",
       "</span>"
      ]
     },
     "execution_count": 42,
     "metadata": {},
     "output_type": "execute_result"
    }
   ],
   "source": [
    "'aaa' 'bbb' 'ccc' ⍳ 'aaa'"
   ]
  },
  {
   "cell_type": "code",
   "execution_count": 43,
   "id": "5b5823c7",
   "metadata": {},
   "outputs": [
    {
     "data": {
      "text/html": [
       "<span style=\"white-space:pre; font-family: monospace\"> \n",
       "1\n",
       " \n",
       "</span>"
      ]
     },
     "execution_count": 43,
     "metadata": {},
     "output_type": "execute_result"
    }
   ],
   "source": [
    "'aaa' 'bbb' 'ccc' ⍳ ⊂'aaa'"
   ]
  },
  {
   "cell_type": "code",
   "execution_count": 44,
   "id": "add2ca84",
   "metadata": {},
   "outputs": [
    {
     "data": {
      "text/html": [
       "<span style=\"white-space:pre; font-family: monospace\">┌→───────────────────────┐\n",
       "│ ┌→──┐ ┌→─┐ ┌→───┐ ┌→─┐ │\n",
       "│ │Hel│ │lo│ │ Wor│ │ld│ │\n",
       "│ └───┘ └──┘ └────┘ └──┘ │\n",
       "└∊───────────────────────┘\n",
       "</span>"
      ]
     },
     "execution_count": 44,
     "metadata": {},
     "output_type": "execute_result"
    }
   ],
   "source": [
    "1 0 0 1 0 1 0 0 0 1 0⊂'Hello World' "
   ]
  },
  {
   "cell_type": "code",
   "execution_count": 45,
   "id": "3fa46c84",
   "metadata": {},
   "outputs": [
    {
     "data": {
      "text/html": [
       "<span style=\"white-space:pre; font-family: monospace\">┌→───────────────────────────────┐\n",
       "│ ┌→─┐ ┌→──┐ ┌→─┐ ┌→───┐ ┌→┐ ┌→┐ │\n",
       "│ ↓AB│ ↓CDE│ ↓FG│ ↓HIJK│ ↓L│ ↓M│ │\n",
       "│ │NO│ │PQR│ │ST│ │UVWX│ │Y│ │Z│ │\n",
       "│ └──┘ └───┘ └──┘ └────┘ └─┘ └─┘ │\n",
       "└∊───────────────────────────────┘\n",
       "</span>"
      ]
     },
     "execution_count": 45,
     "metadata": {},
     "output_type": "execute_result"
    }
   ],
   "source": [
    "1 0 1 0 0 1 0 1 0 0 0 1 1 ⊂ 2 13⍴⎕A"
   ]
  },
  {
   "cell_type": "code",
   "execution_count": 46,
   "id": "0f9a916c",
   "metadata": {},
   "outputs": [
    {
     "data": {
      "text/html": [
       "<span style=\"white-space:pre; font-family: monospace\">┌→────────────────────────────────────────────────────┐\n",
       "│ ┌→┐ ┌→┐ ┌→┐ ┌→┐ ┌→┐ ┌→┐ ┌→┐ ┌→┐ ┌→┐ ┌→┐ ┌→┐ ┌→┐ ┌→┐ │\n",
       "│ ↓A│ ↓B│ ↓C│ ↓D│ ↓E│ ↓F│ ↓G│ ↓H│ ↓I│ ↓J│ ↓K│ ↓L│ ↓M│ │\n",
       "│ │N│ │O│ │P│ │Q│ │R│ │S│ │T│ │U│ │V│ │W│ │X│ │Y│ │Z│ │\n",
       "│ └─┘ └─┘ └─┘ └─┘ └─┘ └─┘ └─┘ └─┘ └─┘ └─┘ └─┘ └─┘ └─┘ │\n",
       "└∊────────────────────────────────────────────────────┘\n",
       "</span>"
      ]
     },
     "execution_count": 46,
     "metadata": {},
     "output_type": "execute_result"
    }
   ],
   "source": [
    "1 ⊂ 2 13⍴⎕A"
   ]
  },
  {
   "cell_type": "code",
   "execution_count": 47,
   "id": "58c31cfd",
   "metadata": {},
   "outputs": [
    {
     "data": {
      "text/html": [
       "<span style=\"white-space:pre; font-family: monospace\">┌→────────────────────────────────┐\n",
       "│ ┌→────────────┐ ┌→────────────┐ │\n",
       "│ ↓ABCDEFGHIJKLM│ ↓NOPQRSTUVWXYZ│ │\n",
       "│ └─────────────┘ └─────────────┘ │\n",
       "└∊────────────────────────────────┘\n",
       "</span>"
      ]
     },
     "execution_count": 47,
     "metadata": {},
     "output_type": "execute_result"
    },
    {
     "data": {
      "text/html": [
       "<span style=\"white-space:pre; font-family: monospace\">┌→──────────────────┐\n",
       "│ ┌→──┐ ┌→──┐ ┌→──┐ │\n",
       "│ ↓ABC│ ↓GHI│ ↓JKL│ │\n",
       "│ │DEF│ └───┘ └───┘ │\n",
       "│ └───┘             │\n",
       "└∊──────────────────┘\n",
       "</span>"
      ]
     },
     "execution_count": 47,
     "metadata": {},
     "output_type": "execute_result"
    }
   ],
   "source": [
    "1 ⊂[1] 2 13⍴⎕A\n",
    "1 0 1 1 ⊂[1] 4 3⍴⎕A "
   ]
  },
  {
   "cell_type": "code",
   "execution_count": 48,
   "id": "9feaaa71",
   "metadata": {},
   "outputs": [
    {
     "data": {
      "text/html": [
       "<span style=\"white-space:pre; font-family: monospace\">┌→──────────────────┐\n",
       "│1 0 0 0 1 0 0 0 0 1│\n",
       "└~──────────────────┘\n",
       "</span>"
      ]
     },
     "execution_count": 48,
     "metadata": {},
     "output_type": "execute_result"
    },
    {
     "data": {
      "text/html": [
       "<span style=\"white-space:pre; font-family: monospace\">┌→───────────────────────────────────┐\n",
       "│ ┌→───┐ ┌→────┐ ┌→────────────────┐ │\n",
       "│ │ABCD│ │EFGHI│ │JKLMNOPQRSTUVWXYZ│ │\n",
       "│ └────┘ └─────┘ └─────────────────┘ │\n",
       "└∊───────────────────────────────────┘\n",
       "</span>"
      ]
     },
     "execution_count": 48,
     "metadata": {},
     "output_type": "execute_result"
    }
   ],
   "source": [
    "⍸⍣¯1⊢1 5 10        \n",
    "(⍸⍣¯1⊢1 5 10)⊂⎕A ⍝ note: left arg is length 10. right arg is length 26"
   ]
  },
  {
   "cell_type": "code",
   "execution_count": 49,
   "id": "aa6c8d78",
   "metadata": {},
   "outputs": [
    {
     "data": {
      "text/html": [
       "<span style=\"white-space:pre; font-family: monospace\">┌→──────────────────┐\n",
       "│ ┌→┐ ┌→──────────┐ │\n",
       "│ │1│ │2 3 4 5 6 7│ │\n",
       "│ └~┘ └~──────────┘ │\n",
       "└∊──────────────────┘\n",
       "</span>"
      ]
     },
     "execution_count": 49,
     "metadata": {},
     "output_type": "execute_result"
    }
   ],
   "source": [
    "1 1⊂1 2 3 4 5 6 7"
   ]
  },
  {
   "cell_type": "code",
   "execution_count": 50,
   "id": "71b33e8f",
   "metadata": {},
   "outputs": [
    {
     "data": {
      "text/html": [
       "<span style=\"white-space:pre; font-family: monospace\">┌→──┐\n",
       "↓ABC│\n",
       "│DEF│\n",
       "│GHI│\n",
       "└───┘\n",
       "</span>"
      ]
     },
     "execution_count": 50,
     "metadata": {},
     "output_type": "execute_result"
    },
    {
     "data": {
      "text/html": [
       "<span style=\"white-space:pre; font-family: monospace\">┌───────┐\n",
       "│ ┌→──┐ │\n",
       "│ ↓ABC│ │\n",
       "│ │DEF│ │\n",
       "│ │GHI│ │\n",
       "│ └───┘ │\n",
       "└∊──────┘\n",
       "</span>"
      ]
     },
     "execution_count": 50,
     "metadata": {},
     "output_type": "execute_result"
    },
    {
     "data": {
      "text/html": [
       "<span style=\"white-space:pre; font-family: monospace\">┌→──┐\n",
       "↓ABC│\n",
       "│DEF│\n",
       "│GHI│\n",
       "└───┘\n",
       "</span>"
      ]
     },
     "execution_count": 50,
     "metadata": {},
     "output_type": "execute_result"
    },
    {
     "data": {
      "text/html": [
       "<span style=\"white-space:pre; font-family: monospace\"> \n",
       "A\n",
       "-\n",
       "</span>"
      ]
     },
     "execution_count": 50,
     "metadata": {},
     "output_type": "execute_result"
    }
   ],
   "source": [
    "3 3⍴⎕A      ⍝ 3x3 matrix\n",
    "⊂3 3⍴⎕A     ⍝ enclosed\n",
    "⊃⊂3 3⍴⎕A    ⍝ disclose enclosed\n",
    "⊃3 3⍴⎕A     ⍝ dislclose unenclosed gives the first element"
   ]
  },
  {
   "cell_type": "code",
   "execution_count": 51,
   "id": "73ec2525",
   "metadata": {},
   "outputs": [
    {
     "data": {
      "text/html": [
       "<span style=\"white-space:pre; font-family: monospace\"> \n",
       "C\n",
       "-\n",
       "</span>"
      ]
     },
     "execution_count": 51,
     "metadata": {},
     "output_type": "execute_result"
    },
    {
     "data": {
      "text/html": [
       "<span style=\"white-space:pre; font-family: monospace\"> \n",
       "G\n",
       "-\n",
       "</span>"
      ]
     },
     "execution_count": 51,
     "metadata": {},
     "output_type": "execute_result"
    }
   ],
   "source": [
    "⊃⌽3 3⍴⎕A ⍝ top right\n",
    "⊃⊖3 3⍴⎕A ⍝ bottom left "
   ]
  },
  {
   "cell_type": "code",
   "execution_count": 52,
   "id": "d609ab76",
   "metadata": {},
   "outputs": [
    {
     "data": {
      "text/html": [
       "<span style=\"white-space:pre; font-family: monospace\">┌→──┐\n",
       "│KEI│\n",
       "└───┘\n",
       "</span>"
      ]
     },
     "execution_count": 52,
     "metadata": {},
     "output_type": "execute_result"
    }
   ],
   "source": [
    "⊃¨'Kenneth' 'Eugene' 'Iverson'"
   ]
  },
  {
   "cell_type": "code",
   "execution_count": 53,
   "id": "3e5b7e0f",
   "metadata": {},
   "outputs": [
    {
     "data": {
      "text/html": [
       "<span style=\"white-space:pre; font-family: monospace\"> \n",
       "F\n",
       "-\n",
       "</span>"
      ]
     },
     "execution_count": 53,
     "metadata": {},
     "output_type": "execute_result"
    },
    {
     "data": {
      "text/html": [
       "<span style=\"white-space:pre; font-family: monospace\"> \n",
       "6\n",
       " \n",
       "</span>"
      ]
     },
     "execution_count": 53,
     "metadata": {},
     "output_type": "execute_result"
    }
   ],
   "source": [
    "(⊂2 3)⊃3 3⍴⎕A\n",
    "2 3 1⊃(1 2 3)(4 5 (6 7 8))"
   ]
  },
  {
   "cell_type": "code",
   "execution_count": 54,
   "id": "72b08780",
   "metadata": {},
   "outputs": [
    {
     "data": {
      "text/html": [
       "<span style=\"white-space:pre; font-family: monospace\">┌→────────────┐\n",
       "↓ ┌→──┐ ┌→──┐ │\n",
       "│ │1 2│ │3 4│ │\n",
       "│ └~──┘ └~──┘ │\n",
       "│ ┌→──┐ ┌→──┐ │\n",
       "│ │5 6│ │7 8│ │\n",
       "│ └~──┘ └~──┘ │\n",
       "└∊────────────┘\n",
       "</span>"
      ]
     },
     "execution_count": 54,
     "metadata": {},
     "output_type": "execute_result"
    },
    {
     "data": {
      "text/html": [
       "<span style=\"white-space:pre; font-family: monospace\"> \n",
       "4\n",
       " \n",
       "</span>"
      ]
     },
     "execution_count": 54,
     "metadata": {},
     "output_type": "execute_result"
    }
   ],
   "source": [
    "2 2⍴(1 2)(3 4)(5 6)(7 8)\n",
    "(1 2) 2⊃2 2⍴(1 2)(3 4)(5 6)(7 8)"
   ]
  },
  {
   "cell_type": "code",
   "execution_count": 55,
   "id": "700ffe70",
   "metadata": {},
   "outputs": [
    {
     "data": {
      "text/html": [
       "<span style=\"white-space:pre; font-family: monospace\">┌→──────────────┐\n",
       "│ ┌→──┐ ┌→────┐ │\n",
       "│ │1 2│ │3 4 5│ │\n",
       "│ └~──┘ └~────┘ │\n",
       "└∊──────────────┘\n",
       "</span>"
      ]
     },
     "execution_count": 55,
     "metadata": {},
     "output_type": "execute_result"
    },
    {
     "data": {
      "text/html": [
       "<span style=\"white-space:pre; font-family: monospace\">┌→──────────────┐\n",
       "│ ┌→──┐ ┌→────┐ │\n",
       "│ │1 2│ │3 4 5│ │\n",
       "│ └~──┘ └~────┘ │\n",
       "└∊──────────────┘\n",
       "</span>"
      ]
     },
     "execution_count": 55,
     "metadata": {},
     "output_type": "execute_result"
    }
   ],
   "source": [
    "(1 2)(3 4 5)\n",
    "⊆(1 2)(3 4 5) "
   ]
  },
  {
   "cell_type": "code",
   "execution_count": 56,
   "id": "773753a8",
   "metadata": {},
   "outputs": [
    {
     "data": {
      "text/html": [
       "<span style=\"white-space:pre; font-family: monospace\">┌→────┐\n",
       "│1 2 3│\n",
       "└~────┘\n",
       "</span>"
      ]
     },
     "execution_count": 56,
     "metadata": {},
     "output_type": "execute_result"
    },
    {
     "data": {
      "text/html": [
       "<span style=\"white-space:pre; font-family: monospace\">┌─────────┐\n",
       "│ ┌→────┐ │\n",
       "│ │1 2 3│ │\n",
       "│ └~────┘ │\n",
       "└∊────────┘\n",
       "</span>"
      ]
     },
     "execution_count": 56,
     "metadata": {},
     "output_type": "execute_result"
    }
   ],
   "source": [
    "1 2 3\n",
    "⊆1 2 3"
   ]
  },
  {
   "cell_type": "code",
   "execution_count": 57,
   "id": "025451bd",
   "metadata": {},
   "outputs": [
    {
     "data": {
      "text/html": [
       "<span style=\"white-space:pre; font-family: monospace\">┌→──────────────────┐\n",
       "↓ ┌→──┐ ┌→──┐ ┌→──┐ │\n",
       "│ │abc│ │abc│ │abc│ │\n",
       "│ └───┘ └───┘ └───┘ │\n",
       "│ ┌→──┐ ┌→──┐ ┌→──┐ │\n",
       "│ │abc│ │abc│ │abc│ │\n",
       "│ └───┘ └───┘ └───┘ │\n",
       "└∊──────────────────┘\n",
       "</span>"
      ]
     },
     "execution_count": 57,
     "metadata": {},
     "output_type": "execute_result"
    },
    {
     "data": {
      "text/html": [
       "<span style=\"white-space:pre; font-family: monospace\">┌→──────────────────┐\n",
       "↓ ┌→──┐ ┌→──┐ ┌→──┐ │\n",
       "│ │abc│ │abc│ │abc│ │\n",
       "│ └───┘ └───┘ └───┘ │\n",
       "│ ┌→──┐ ┌→──┐ ┌→──┐ │\n",
       "│ │abc│ │abc│ │abc│ │\n",
       "│ └───┘ └───┘ └───┘ │\n",
       "└∊──────────────────┘\n",
       "</span>"
      ]
     },
     "execution_count": 57,
     "metadata": {},
     "output_type": "execute_result"
    }
   ],
   "source": [
    "2 3⍴⊂'abc'\n",
    "⊆2 3⍴⊂'abc' ⍝ already nested, so no-op "
   ]
  },
  {
   "cell_type": "code",
   "execution_count": 58,
   "id": "90f36430",
   "metadata": {},
   "outputs": [
    {
     "data": {
      "text/html": [
       "<span style=\"white-space:pre; font-family: monospace\">┌→──┐\n",
       "↓abc│\n",
       "│abc│\n",
       "└───┘\n",
       "</span>"
      ]
     },
     "execution_count": 58,
     "metadata": {},
     "output_type": "execute_result"
    },
    {
     "data": {
      "text/html": [
       "<span style=\"white-space:pre; font-family: monospace\">┌───────┐\n",
       "│ ┌→──┐ │\n",
       "│ ↓abc│ │\n",
       "│ │abc│ │\n",
       "│ └───┘ │\n",
       "└∊──────┘\n",
       "</span>"
      ]
     },
     "execution_count": 58,
     "metadata": {},
     "output_type": "execute_result"
    }
   ],
   "source": [
    "2 3⍴'abc'   ⍝ not nested\n",
    "⊆2 3⍴'abc'  ⍝ nested"
   ]
  },
  {
   "cell_type": "code",
   "execution_count": 59,
   "id": "eb6834f6",
   "metadata": {},
   "outputs": [
    {
     "data": {
      "text/html": [
       "<span style=\"white-space:pre; font-family: monospace\">┌→────────────────────┐\n",
       "│ ┌→┐ ┌→─┐ ┌→──┐ ┌→─┐ │\n",
       "│ │H│ │lo│ │ Wo│ │rl│ │\n",
       "│ └─┘ └──┘ └───┘ └──┘ │\n",
       "└∊────────────────────┘\n",
       "</span>"
      ]
     },
     "execution_count": 59,
     "metadata": {},
     "output_type": "execute_result"
    }
   ],
   "source": [
    "1 0 0 1 1 3 2 2 5 5 0⊆'Hello World'"
   ]
  },
  {
   "cell_type": "code",
   "execution_count": 60,
   "id": "17a3ae6c",
   "metadata": {},
   "outputs": [],
   "source": [
    "]dinput\n",
    ":Class cl\n",
    "    :Property Default thing\n",
    "    :Access Public Shared\n",
    "        ∇ r←get\n",
    "          r←3 1 4 1 4\n",
    "        ∇\n",
    "    :EndProperty\n",
    ":EndClass"
   ]
  },
  {
   "cell_type": "code",
   "execution_count": 61,
   "id": "ea72fa7a",
   "metadata": {},
   "outputs": [
    {
     "data": {
      "text/html": [
       "<span style=\"white-space:pre; font-family: monospace\">┌→────────┐\n",
       "│3 1 4 1 4│\n",
       "└~────────┘\n",
       "</span>"
      ]
     },
     "execution_count": 61,
     "metadata": {},
     "output_type": "execute_result"
    },
    {
     "data": {
      "text/html": [
       "<span style=\"white-space:pre; font-family: monospace\">    \n",
       "#.cl\n",
       "    \n",
       "</span>"
      ]
     },
     "execution_count": 61,
     "metadata": {},
     "output_type": "execute_result"
    },
    {
     "data": {
      "text/html": [
       "<span style=\"white-space:pre; font-family: monospace\">┌→────────┐\n",
       "│3 1 4 1 4│\n",
       "└~────────┘\n",
       "</span>"
      ]
     },
     "execution_count": 61,
     "metadata": {},
     "output_type": "execute_result"
    }
   ],
   "source": [
    "cl.thing\n",
    "⊢cl\n",
    "⌷cl"
   ]
  },
  {
   "cell_type": "code",
   "execution_count": 62,
   "id": "f0182ac3",
   "metadata": {},
   "outputs": [
    {
     "data": {
      "text/html": [
       "<span style=\"white-space:pre; font-family: monospace\">┌┌→───┐\n",
       "↓↓ABCD│\n",
       "││EFGH│\n",
       "││IJKL│\n",
       "││    │\n",
       "││MNOP│\n",
       "││QRST│\n",
       "││UVWX│\n",
       "└└────┘\n",
       "</span>"
      ]
     },
     "execution_count": 62,
     "metadata": {},
     "output_type": "execute_result"
    },
    {
     "data": {
      "text/html": [
       "<span style=\"white-space:pre; font-family: monospace\">┌→───┐\n",
       "↓MNOP│\n",
       "│QRST│\n",
       "│UVWX│\n",
       "└────┘\n",
       "</span>"
      ]
     },
     "execution_count": 62,
     "metadata": {},
     "output_type": "execute_result"
    },
    {
     "data": {
      "text/html": [
       "<span style=\"white-space:pre; font-family: monospace\">┌→───┐\n",
       "│MNOP│\n",
       "└────┘\n",
       "</span>"
      ]
     },
     "execution_count": 62,
     "metadata": {},
     "output_type": "execute_result"
    },
    {
     "data": {
      "text/html": [
       "<span style=\"white-space:pre; font-family: monospace\"> \n",
       "O\n",
       "-\n",
       "</span>"
      ]
     },
     "execution_count": 62,
     "metadata": {},
     "output_type": "execute_result"
    }
   ],
   "source": [
    "2 3 4⍴⎕A\n",
    "2⌷2 3 4⍴⎕A\n",
    "2 1⌷2 3 4⍴⎕A\n",
    "2 1 3⌷2 3 4⍴⎕A"
   ]
  },
  {
   "cell_type": "code",
   "execution_count": 63,
   "id": "859be754",
   "metadata": {},
   "outputs": [
    {
     "data": {
      "text/html": [
       "<span style=\"white-space:pre; font-family: monospace\">┌┌→───┐\n",
       "↓↓ABCD│\n",
       "││EFGH│\n",
       "││IJKL│\n",
       "││    │\n",
       "││ABCD│\n",
       "││EFGH│\n",
       "││IJKL│\n",
       "└└────┘\n",
       "</span>"
      ]
     },
     "execution_count": 63,
     "metadata": {},
     "output_type": "execute_result"
    },
    {
     "data": {
      "text/html": [
       "<span style=\"white-space:pre; font-family: monospace\">┌→───┐\n",
       "↓MNOP│\n",
       "│UVWX│\n",
       "└────┘\n",
       "</span>"
      ]
     },
     "execution_count": 63,
     "metadata": {},
     "output_type": "execute_result"
    },
    {
     "data": {
      "text/html": [
       "<span style=\"white-space:pre; font-family: monospace\">┌→─┐\n",
       "│CO│\n",
       "└──┘\n",
       "</span>"
      ]
     },
     "execution_count": 63,
     "metadata": {},
     "output_type": "execute_result"
    },
    {
     "data": {
      "text/html": [
       "<span style=\"white-space:pre; font-family: monospace\">┌┌→───┐\n",
       "↓↓EFGH│\n",
       "││IJKL│\n",
       "││    │\n",
       "││QRST│\n",
       "││UVWX│\n",
       "└└────┘\n",
       "</span>"
      ]
     },
     "execution_count": 63,
     "metadata": {},
     "output_type": "execute_result"
    }
   ],
   "source": [
    "(⊂1 1)⌷2 3 4⍴⎕A\n",
    "2 (1 3)⌷2 3 4⍴⎕A ⍝ first and third row of second layer \n",
    "(1 2)1 3⌷2 3 4⍴⎕A ⍝ third char of first row of layers 1 and 2 \n",
    "(1 2)(2 3)⌷2 3 4⍴⎕A ⍝ rows 2 and 3 of each of layers 1 and 2 "
   ]
  },
  {
   "cell_type": "code",
   "execution_count": 64,
   "id": "cc294da3",
   "metadata": {},
   "outputs": [
    {
     "data": {
      "text/html": [
       "<span style=\"white-space:pre; font-family: monospace\">┌→────────┐\n",
       "│2 4 1 3 5│\n",
       "└~────────┘\n",
       "</span>"
      ]
     },
     "execution_count": 64,
     "metadata": {},
     "output_type": "execute_result"
    }
   ],
   "source": [
    "⍋3 1 4 1 5"
   ]
  },
  {
   "cell_type": "code",
   "execution_count": 65,
   "id": "82bed532",
   "metadata": {},
   "outputs": [
    {
     "data": {
      "text/html": [
       "<span style=\"white-space:pre; font-family: monospace\">┌→────────┐\n",
       "│1 1 3 4 5│\n",
       "└~────────┘\n",
       "</span>"
      ]
     },
     "execution_count": 65,
     "metadata": {},
     "output_type": "execute_result"
    }
   ],
   "source": [
    "3 1 4 1 5[⍋3 1 4 1 5]"
   ]
  },
  {
   "cell_type": "code",
   "execution_count": 66,
   "id": "17400f2e",
   "metadata": {},
   "outputs": [
    {
     "data": {
      "text/html": [
       "<span style=\"white-space:pre; font-family: monospace\">┌→──┐\n",
       "↓2 7│\n",
       "│1 8│\n",
       "│2 8│\n",
       "└~──┘\n",
       "</span>"
      ]
     },
     "execution_count": 66,
     "metadata": {},
     "output_type": "execute_result"
    },
    {
     "data": {
      "text/html": [
       "<span style=\"white-space:pre; font-family: monospace\">┌→────┐\n",
       "│2 1 3│\n",
       "└~────┘\n",
       "</span>"
      ]
     },
     "execution_count": 66,
     "metadata": {},
     "output_type": "execute_result"
    }
   ],
   "source": [
    "3 2⍴2 7 1 8 2 8\n",
    "⍋3 2⍴2 7 1 8 2 8 "
   ]
  },
  {
   "cell_type": "code",
   "execution_count": 67,
   "id": "87d5a575",
   "metadata": {},
   "outputs": [
    {
     "data": {
      "text/html": [
       "<span style=\"white-space:pre; font-family: monospace\">┌→─┐\n",
       "↓He│\n",
       "│ll│\n",
       "│oW│\n",
       "│or│\n",
       "│ld│\n",
       "└──┘\n",
       "</span>"
      ]
     },
     "execution_count": 67,
     "metadata": {},
     "output_type": "execute_result"
    },
    {
     "data": {
      "text/html": [
       "<span style=\"white-space:pre; font-family: monospace\">┌→────────┐\n",
       "│1 5 2 3 4│\n",
       "└~────────┘\n",
       "</span>"
      ]
     },
     "execution_count": 67,
     "metadata": {},
     "output_type": "execute_result"
    },
    {
     "data": {
      "text/html": [
       "<span style=\"white-space:pre; font-family: monospace\">┌→─┐\n",
       "↓He│\n",
       "│ld│\n",
       "│ll│\n",
       "│oW│\n",
       "│or│\n",
       "└──┘\n",
       "</span>"
      ]
     },
     "execution_count": 67,
     "metadata": {},
     "output_type": "execute_result"
    }
   ],
   "source": [
    "5 2⍴'HelloWorld'\n",
    "⍋5 2⍴'HelloWorld'\n",
    "(5 2⍴'HelloWorld')[⍋5 2⍴'HelloWorld';] "
   ]
  },
  {
   "cell_type": "code",
   "execution_count": 68,
   "id": "e4e31331",
   "metadata": {},
   "outputs": [
    {
     "data": {
      "text/html": [
       "<span style=\"white-space:pre; font-family: monospace\">┌┌→─┐\n",
       "↓↓He│\n",
       "││ll│\n",
       "││  │\n",
       "││o │\n",
       "││Wo│\n",
       "││  │\n",
       "││rl│\n",
       "││d │\n",
       "││  │\n",
       "││PP│\n",
       "││CG│\n",
       "└└──┘\n",
       "</span>"
      ]
     },
     "execution_count": 68,
     "metadata": {},
     "output_type": "execute_result"
    },
    {
     "data": {
      "text/html": [
       "<span style=\"white-space:pre; font-family: monospace\">┌→──────┐\n",
       "│1 4 2 3│\n",
       "└~──────┘\n",
       "</span>"
      ]
     },
     "execution_count": 68,
     "metadata": {},
     "output_type": "execute_result"
    }
   ],
   "source": [
    "4 2 2⍴'Hello World PPCG'   \n",
    "⍋4 2 2⍴'Hello World PPCG'  ⍝ layer grade up"
   ]
  },
  {
   "cell_type": "code",
   "execution_count": 69,
   "id": "3b4f15a8",
   "metadata": {},
   "outputs": [
    {
     "data": {
      "text/html": [
       "<span style=\"white-space:pre; font-family: monospace\">┌┌→─┐\n",
       "↓↓He│\n",
       "││ll│\n",
       "││  │\n",
       "││PP│\n",
       "││CG│\n",
       "││  │\n",
       "││o │\n",
       "││Wo│\n",
       "││  │\n",
       "││rl│\n",
       "││d │\n",
       "└└──┘\n",
       "</span>"
      ]
     },
     "execution_count": 69,
     "metadata": {},
     "output_type": "execute_result"
    }
   ],
   "source": [
    "{⍵[⍋⍵;;]}4 2 2⍴'Hello World PPCG'"
   ]
  },
  {
   "cell_type": "code",
   "execution_count": 70,
   "id": "2b4c736a",
   "metadata": {},
   "outputs": [
    {
     "data": {
      "text/html": [
       "<span style=\"white-space:pre; font-family: monospace\">┌→──────┐\n",
       "│3 4 1 2│\n",
       "└~──────┘\n",
       "</span>"
      ]
     },
     "execution_count": 70,
     "metadata": {},
     "output_type": "execute_result"
    },
    {
     "data": {
      "text/html": [
       "<span style=\"white-space:pre; font-family: monospace\">┌→──────┐\n",
       "│3 4 1 2│\n",
       "└~──────┘\n",
       "</span>"
      ]
     },
     "execution_count": 70,
     "metadata": {},
     "output_type": "execute_result"
    }
   ],
   "source": [
    "⍋'PPCG' \n",
    "⍋⍋'PPCG' "
   ]
  },
  {
   "cell_type": "code",
   "execution_count": 71,
   "id": "b0c911ee",
   "metadata": {},
   "outputs": [
    {
     "data": {
      "text/html": [
       "<span style=\"white-space:pre; font-family: monospace\">┌→──────────┐\n",
       "│2 4 6 3 5 1│\n",
       "└~──────────┘\n",
       "</span>"
      ]
     },
     "execution_count": 71,
     "metadata": {},
     "output_type": "execute_result"
    },
    {
     "data": {
      "text/html": [
       "<span style=\"white-space:pre; font-family: monospace\">┌→──────────┐\n",
       "│6 1 4 2 5 3│\n",
       "└~──────────┘\n",
       "</span>"
      ]
     },
     "execution_count": 71,
     "metadata": {},
     "output_type": "execute_result"
    },
    {
     "data": {
      "text/html": [
       "<span style=\"white-space:pre; font-family: monospace\">┌→──────────┐\n",
       "│2 4 6 3 5 1│\n",
       "└~──────────┘\n",
       "</span>"
      ]
     },
     "execution_count": 71,
     "metadata": {},
     "output_type": "execute_result"
    }
   ],
   "source": [
    "⍋'random'\n",
    "⍋⍋'random' \n",
    "⍋⍋⍋'random'  ⍝ grading the cardinals takes us back to grade"
   ]
  },
  {
   "cell_type": "code",
   "execution_count": 72,
   "id": "ec05d625",
   "metadata": {},
   "outputs": [
    {
     "data": {
      "text/html": [
       "<span style=\"white-space:pre; font-family: monospace\">┌→─────────┐\n",
       "│eoodhlllrw│\n",
       "└──────────┘\n",
       "</span>"
      ]
     },
     "execution_count": 72,
     "metadata": {},
     "output_type": "execute_result"
    }
   ],
   "source": [
    "{⍵['aeioubcdfghjklmnpqrstvwxyz'⍋⍵]}'helloworld'"
   ]
  },
  {
   "cell_type": "code",
   "execution_count": 73,
   "id": "dc9020bf",
   "metadata": {},
   "outputs": [
    {
     "data": {
      "text/html": [
       "<span style=\"white-space:pre; font-family: monospace\">┌→──────┐\n",
       "│2 1 3 4│\n",
       "└~──────┘\n",
       "</span>"
      ]
     },
     "execution_count": 73,
     "metadata": {},
     "output_type": "execute_result"
    }
   ],
   "source": [
    "'abcdefgh'⍋'hawl'"
   ]
  },
  {
   "cell_type": "code",
   "execution_count": 74,
   "id": "5bc33e91",
   "metadata": {},
   "outputs": [
    {
     "data": {
      "text/html": [
       "<span style=\"white-space:pre; font-family: monospace\">┌→─┐\n",
       "↓ab│\n",
       "│ec│\n",
       "│id│\n",
       "│of│\n",
       "│ug│\n",
       "│ h│\n",
       "│ j│\n",
       "│ k│\n",
       "│ l│\n",
       "│ m│\n",
       "│ n│\n",
       "│ p│\n",
       "│ q│\n",
       "│ r│\n",
       "│ s│\n",
       "│ t│\n",
       "│ v│\n",
       "│ w│\n",
       "│ x│\n",
       "│ y│\n",
       "│ z│\n",
       "└──┘\n",
       "</span>"
      ]
     },
     "execution_count": 74,
     "metadata": {},
     "output_type": "execute_result"
    }
   ],
   "source": [
    "⍉↑'aeiou' 'bcdfghjklmnpqrstvwxyz'"
   ]
  },
  {
   "cell_type": "code",
   "execution_count": 75,
   "id": "0c5a54bc",
   "metadata": {},
   "outputs": [
    {
     "data": {
      "text/html": [
       "<span style=\"white-space:pre; font-family: monospace\">┌→─────────┐\n",
       "│eoodhlllrw│\n",
       "└──────────┘\n",
       "</span>"
      ]
     },
     "execution_count": 75,
     "metadata": {},
     "output_type": "execute_result"
    }
   ],
   "source": [
    "{⍵[(⍉↑'aeiou' 'bcdfghjklmnpqrstvwxyz')⍋⍵]}'helloworld'"
   ]
  },
  {
   "cell_type": "code",
   "execution_count": 76,
   "id": "1b45d89c",
   "metadata": {},
   "outputs": [
    {
     "data": {
      "text/html": [
       "<span style=\"white-space:pre; font-family: monospace\">┌→───────────────────┐\n",
       "│1 2 3 4 5 6 7 8 9 10│\n",
       "└~───────────────────┘\n",
       "</span>"
      ]
     },
     "execution_count": 76,
     "metadata": {},
     "output_type": "execute_result"
    },
    {
     "data": {
      "text/html": [
       "<span style=\"white-space:pre; font-family: monospace\">┌→────────────────────────┐\n",
       "↓ ┌→──┐ ┌→──┐ ┌→──┐ ┌→──┐ │\n",
       "│ │1 1│ │1 2│ │1 3│ │1 4│ │\n",
       "│ └~──┘ └~──┘ └~──┘ └~──┘ │\n",
       "│ ┌→──┐ ┌→──┐ ┌→──┐ ┌→──┐ │\n",
       "│ │2 1│ │2 2│ │2 3│ │2 4│ │\n",
       "│ └~──┘ └~──┘ └~──┘ └~──┘ │\n",
       "└∊────────────────────────┘\n",
       "</span>"
      ]
     },
     "execution_count": 76,
     "metadata": {},
     "output_type": "execute_result"
    }
   ],
   "source": [
    "⍳10\n",
    "⍳2 4"
   ]
  },
  {
   "cell_type": "code",
   "execution_count": 77,
   "id": "cb1b760c",
   "metadata": {},
   "outputs": [
    {
     "data": {
      "text/html": [
       "<span style=\"white-space:pre; font-family: monospace\">┌→──┐\n",
       "↓┌⊖┐│\n",
       "││0││\n",
       "│└~┘│\n",
       "└───┘\n",
       "</span>"
      ]
     },
     "execution_count": 77,
     "metadata": {},
     "output_type": "execute_result"
    }
   ],
   "source": [
    "]display ⍳0"
   ]
  },
  {
   "cell_type": "code",
   "execution_count": 78,
   "id": "2d889d01",
   "metadata": {},
   "outputs": [
    {
     "data": {
      "text/html": [
       "<span style=\"white-space:pre; font-family: monospace\">┌→────────┐\n",
       "↓┌⊖──────┐│\n",
       "│⌽ ┌→──┐ ││\n",
       "││ │0 0│ ││\n",
       "││ └~──┘ ││\n",
       "│└∊──────┘│\n",
       "└─────────┘\n",
       "</span>"
      ]
     },
     "execution_count": 78,
     "metadata": {},
     "output_type": "execute_result"
    }
   ],
   "source": [
    "]display ⍳0 0"
   ]
  },
  {
   "cell_type": "code",
   "execution_count": 79,
   "id": "bc8d91e3",
   "metadata": {},
   "outputs": [
    {
     "data": {
      "text/html": [
       "<span style=\"white-space:pre; font-family: monospace\"> \n",
       "3\n",
       " \n",
       "</span>"
      ]
     },
     "execution_count": 79,
     "metadata": {},
     "output_type": "execute_result"
    },
    {
     "data": {
      "text/html": [
       "<span style=\"white-space:pre; font-family: monospace\">┌→──┐\n",
       "│3 5│\n",
       "└~──┘\n",
       "</span>"
      ]
     },
     "execution_count": 79,
     "metadata": {},
     "output_type": "execute_result"
    }
   ],
   "source": [
    "'hello'⍳'l'\n",
    "'hello'⍳'lo' "
   ]
  },
  {
   "cell_type": "code",
   "execution_count": 80,
   "id": "05648e4f",
   "metadata": {},
   "outputs": [
    {
     "data": {
      "text/html": [
       "<span style=\"white-space:pre; font-family: monospace\"> \n",
       "6\n",
       " \n",
       "</span>"
      ]
     },
     "execution_count": 80,
     "metadata": {},
     "output_type": "execute_result"
    }
   ],
   "source": [
    "'hello'⍳'x'"
   ]
  },
  {
   "cell_type": "code",
   "execution_count": 81,
   "id": "7060f541",
   "metadata": {},
   "outputs": [
    {
     "data": {
      "text/html": [
       "<span style=\"white-space:pre; font-family: monospace\">┌→──┐\n",
       "│2 4│\n",
       "└~──┘\n",
       "</span>"
      ]
     },
     "execution_count": 81,
     "metadata": {},
     "output_type": "execute_result"
    }
   ],
   "source": [
    "(3 2⍴'abcdef')⍳(2 2⍴'cdxy')"
   ]
  },
  {
   "cell_type": "code",
   "execution_count": 82,
   "id": "88356416",
   "metadata": {},
   "outputs": [
    {
     "data": {
      "text/html": [
       "<span style=\"white-space:pre; font-family: monospace\">┌→───────────────────────────────────┐\n",
       "│ ┌→────┐ ┌→──────┐ ┌→────┐ ┌→─────┐ │\n",
       "│ │Third│ │Missing│ │First│ │Second│ │\n",
       "│ └─────┘ └───────┘ └─────┘ └──────┘ │\n",
       "└∊───────────────────────────────────┘\n",
       "</span>"
      ]
     },
     "execution_count": 82,
     "metadata": {},
     "output_type": "execute_result"
    }
   ],
   "source": [
    "'First' 'Second' 'Third' 'Missing'['abc'⍳'cdab']"
   ]
  },
  {
   "cell_type": "code",
   "execution_count": 83,
   "id": "ecf3a5ac",
   "metadata": {},
   "outputs": [
    {
     "data": {
      "text/html": [
       "<span style=\"white-space:pre; font-family: monospace\">┌→────┐\n",
       "│2 4 5│\n",
       "└~────┘\n",
       "</span>"
      ]
     },
     "execution_count": 83,
     "metadata": {},
     "output_type": "execute_result"
    }
   ],
   "source": [
    "⍸0 1 0 1 1 "
   ]
  },
  {
   "cell_type": "code",
   "execution_count": 84,
   "id": "2d8687f3",
   "metadata": {},
   "outputs": [
    {
     "data": {
      "text/html": [
       "<span style=\"white-space:pre; font-family: monospace\">┌→────┐\n",
       "↓0 1 0│\n",
       "│1 1 0│\n",
       "└~────┘\n",
       "</span>"
      ]
     },
     "execution_count": 84,
     "metadata": {},
     "output_type": "execute_result"
    },
    {
     "data": {
      "text/html": [
       "<span style=\"white-space:pre; font-family: monospace\">┌→──────────────────┐\n",
       "│ ┌→──┐ ┌→──┐ ┌→──┐ │\n",
       "│ │1 2│ │2 1│ │2 2│ │\n",
       "│ └~──┘ └~──┘ └~──┘ │\n",
       "└∊──────────────────┘\n",
       "</span>"
      ]
     },
     "execution_count": 84,
     "metadata": {},
     "output_type": "execute_result"
    }
   ],
   "source": [
    "⊢m←2 3⍴0 1 0 1 1 0\n",
    "⍸m"
   ]
  },
  {
   "cell_type": "code",
   "execution_count": 85,
   "id": "6091974f",
   "metadata": {},
   "outputs": [
    {
     "data": {
      "text/html": [
       "<span style=\"white-space:pre; font-family: monospace\">┌→────────────────────────────────────┐\n",
       "│ ┌→──┐ ┌→──┐ ┌→──┐ ┌→──┐ ┌→──┐ ┌→──┐ │\n",
       "│ │1 2│ │1 2│ │2 1│ │2 1│ │2 2│ │2 2│ │\n",
       "│ └~──┘ └~──┘ └~──┘ └~──┘ └~──┘ └~──┘ │\n",
       "└∊────────────────────────────────────┘\n",
       "</span>"
      ]
     },
     "execution_count": 85,
     "metadata": {},
     "output_type": "execute_result"
    }
   ],
   "source": [
    "⍸2 3⍴0 2 0 2 2 0              "
   ]
  },
  {
   "cell_type": "code",
   "execution_count": 86,
   "id": "a22b524e",
   "metadata": {},
   "outputs": [
    {
     "data": {
      "text/html": [
       "<span style=\"white-space:pre; font-family: monospace\"> \n",
       "3\n",
       " \n",
       "</span>"
      ]
     },
     "execution_count": 86,
     "metadata": {},
     "output_type": "execute_result"
    }
   ],
   "source": [
    "≢⍸2 3⍴0 1 0 1 1 0"
   ]
  },
  {
   "cell_type": "code",
   "execution_count": 87,
   "id": "fae4896f",
   "metadata": {},
   "outputs": [
    {
     "data": {
      "text/html": [
       "<span style=\"white-space:pre; font-family: monospace\">┌→────────┐\n",
       "│0 3 4 1 2│\n",
       "└~────────┘\n",
       "</span>"
      ]
     },
     "execution_count": 87,
     "metadata": {},
     "output_type": "execute_result"
    }
   ],
   "source": [
    "1 10 100 1000⍸0 500 2000 3 10"
   ]
  },
  {
   "cell_type": "code",
   "execution_count": 88,
   "id": "4efc6c05",
   "metadata": {},
   "outputs": [
    {
     "data": {
      "text/html": [
       "<span style=\"white-space:pre; font-family: monospace\">┌→────────┐\n",
       "│0 1 0 1 0│\n",
       "└~────────┘\n",
       "</span>"
      ]
     },
     "execution_count": 88,
     "metadata": {},
     "output_type": "execute_result"
    }
   ],
   "source": [
    "'aeiou'∊'Hello World'"
   ]
  },
  {
   "cell_type": "code",
   "execution_count": 89,
   "id": "c33a07f0",
   "metadata": {},
   "outputs": [
    {
     "data": {
      "text/html": [
       "<span style=\"white-space:pre; font-family: monospace\">┌→────────┐\n",
       "│1 2 3 4 5│\n",
       "└~────────┘\n",
       "</span>"
      ]
     },
     "execution_count": 89,
     "metadata": {},
     "output_type": "execute_result"
    }
   ],
   "source": [
    "∊(⊂,∘3)@2⊢1 2 4 5"
   ]
  },
  {
   "cell_type": "code",
   "execution_count": 90,
   "id": "90c30558",
   "metadata": {},
   "outputs": [
    {
     "data": {
      "text/html": [
       "<span style=\"white-space:pre; font-family: monospace\">┌→────────┐\n",
       "│1 2 3 4 5│\n",
       "└~────────┘\n",
       "</span>"
      ]
     },
     "execution_count": 90,
     "metadata": {},
     "output_type": "execute_result"
    }
   ],
   "source": [
    "{3@(1+2)⊢⍵\\⍨1+2=⍳≢⍵}1 2 4 5"
   ]
  },
  {
   "cell_type": "code",
   "execution_count": 91,
   "id": "04ecf541",
   "metadata": {},
   "outputs": [
    {
     "data": {
      "text/html": [
       "<span style=\"white-space:pre; font-family: monospace\">┌→──────────────┐\n",
       "│ ┌→────┐ ┌→──┐ │\n",
       "│ │1 2 3│ ↓1 2│ │\n",
       "│ └~────┘ │3 4│ │\n",
       "│         └~──┘ │\n",
       "└∊──────────────┘\n",
       "</span>"
      ]
     },
     "execution_count": 91,
     "metadata": {},
     "output_type": "execute_result"
    },
    {
     "data": {
      "text/html": [
       "<span style=\"white-space:pre; font-family: monospace\">┌→────────────┐\n",
       "│1 2 3 1 2 3 4│\n",
       "└~────────────┘\n",
       "</span>"
      ]
     },
     "execution_count": 91,
     "metadata": {},
     "output_type": "execute_result"
    }
   ],
   "source": [
    "⊢m←(⍳3)(2 2⍴⍳4)\n",
    "∊m"
   ]
  },
  {
   "cell_type": "code",
   "execution_count": 92,
   "id": "427afd2c",
   "metadata": {},
   "outputs": [
    {
     "data": {
      "text/html": [
       "<span style=\"white-space:pre; font-family: monospace\">┌→────────────────────┐\n",
       "│0 0 1 0 0 1 0 0 0 0 0│\n",
       "└~────────────────────┘\n",
       "</span>"
      ]
     },
     "execution_count": 92,
     "metadata": {},
     "output_type": "execute_result"
    }
   ],
   "source": [
    "'ss'⍷'Mississippi'"
   ]
  },
  {
   "cell_type": "code",
   "execution_count": 93,
   "id": "de9ad197",
   "metadata": {},
   "outputs": [
    {
     "data": {
      "text/html": [
       "<span style=\"white-space:pre; font-family: monospace\">┌→────────────┐\n",
       "│0 0 1 0 1 0 0│\n",
       "└~────────────┘\n",
       "</span>"
      ]
     },
     "execution_count": 93,
     "metadata": {},
     "output_type": "execute_result"
    }
   ],
   "source": [
    "'aba'⍷'alababa'"
   ]
  },
  {
   "cell_type": "code",
   "execution_count": 94,
   "id": "658115d2",
   "metadata": {},
   "outputs": [
    {
     "data": {
      "text/html": [
       "<span style=\"white-space:pre; font-family: monospace\">┌→──┐\n",
       "↓0 1│\n",
       "│0 0│\n",
       "└~──┘\n",
       "</span>"
      ]
     },
     "execution_count": 94,
     "metadata": {},
     "output_type": "execute_result"
    },
    {
     "data": {
      "text/html": [
       "<span style=\"white-space:pre; font-family: monospace\">┌→────┐\n",
       "↓0 1 1│\n",
       "│0 0 1│\n",
       "│1 0 0│\n",
       "└~────┘\n",
       "</span>"
      ]
     },
     "execution_count": 94,
     "metadata": {},
     "output_type": "execute_result"
    },
    {
     "data": {
      "text/html": [
       "<span style=\"white-space:pre; font-family: monospace\">┌→────┐\n",
       "↓1 0 0│\n",
       "│0 1 0│\n",
       "│0 0 0│\n",
       "└~────┘\n",
       "</span>"
      ]
     },
     "execution_count": 94,
     "metadata": {},
     "output_type": "execute_result"
    }
   ],
   "source": [
    "2 2⍴0 1 0\n",
    "3 3⍴0 1 1 0\n",
    "(2 2⍴0 1 0)⍷(3 3⍴0 1 1 0)"
   ]
  },
  {
   "cell_type": "code",
   "execution_count": 95,
   "id": "209e84e2",
   "metadata": {},
   "outputs": [
    {
     "data": {
      "text/html": [
       "<span style=\"white-space:pre; font-family: monospace\">┌→────────────┐\n",
       "│0 1 0 0 0 1 0│\n",
       "└~────────────┘\n",
       "</span>"
      ]
     },
     "execution_count": 95,
     "metadata": {},
     "output_type": "execute_result"
    }
   ],
   "source": [
    "'aa' 'bbb'⍷'c' 'aa' 'bbb' 'dddd' 'aa' 'aa' 'bbb'"
   ]
  },
  {
   "cell_type": "code",
   "execution_count": 96,
   "id": "f2da74b8",
   "metadata": {},
   "outputs": [
    {
     "data": {
      "text/html": [
       "<span style=\"white-space:pre; font-family: monospace\">┌→────┐\n",
       "│abccd│\n",
       "└─────┘\n",
       "</span>"
      ]
     },
     "execution_count": 96,
     "metadata": {},
     "output_type": "execute_result"
    },
    {
     "data": {
      "text/html": [
       "<span style=\"white-space:pre; font-family: monospace\">┌→───┐\n",
       "│cdab│\n",
       "└────┘\n",
       "</span>"
      ]
     },
     "execution_count": 96,
     "metadata": {},
     "output_type": "execute_result"
    }
   ],
   "source": [
    "'abcc'∪'cda'\n",
    "'cda'∪'abcc'"
   ]
  },
  {
   "cell_type": "code",
   "execution_count": 97,
   "id": "2c18c6b8",
   "metadata": {},
   "outputs": [
    {
     "data": {
      "text/html": [
       "<span style=\"white-space:pre; font-family: monospace\">┌→─────┐\n",
       "│abccdd│\n",
       "└──────┘\n",
       "</span>"
      ]
     },
     "execution_count": 97,
     "metadata": {},
     "output_type": "execute_result"
    }
   ],
   "source": [
    "'abcc'∪'cdda'"
   ]
  },
  {
   "cell_type": "code",
   "execution_count": 98,
   "id": "83b78339",
   "metadata": {},
   "outputs": [
    {
     "data": {
      "text/html": [
       "<span style=\"white-space:pre; font-family: monospace\">┌→───┐\n",
       "│Misp│\n",
       "└────┘\n",
       "</span>"
      ]
     },
     "execution_count": 98,
     "metadata": {},
     "output_type": "execute_result"
    }
   ],
   "source": [
    "∪'Mississippi'"
   ]
  },
  {
   "cell_type": "code",
   "execution_count": 99,
   "id": "226e3f16",
   "metadata": {},
   "outputs": [
    {
     "data": {
      "text/html": [
       "<span style=\"white-space:pre; font-family: monospace\">┌→──┐\n",
       "│acc│\n",
       "└───┘\n",
       "</span>"
      ]
     },
     "execution_count": 99,
     "metadata": {},
     "output_type": "execute_result"
    },
    {
     "data": {
      "text/html": [
       "<span style=\"white-space:pre; font-family: monospace\">┌→─┐\n",
       "│ca│\n",
       "└──┘\n",
       "</span>"
      ]
     },
     "execution_count": 99,
     "metadata": {},
     "output_type": "execute_result"
    }
   ],
   "source": [
    "'abcc'∩'cda'\n",
    "'cda'∩'abcc'"
   ]
  },
  {
   "cell_type": "code",
   "execution_count": 100,
   "id": "ae867dd5",
   "metadata": {},
   "outputs": [
    {
     "data": {
      "text/html": [
       "<span style=\"white-space:pre; font-family: monospace\">┌→────┐\n",
       "│Miiii│\n",
       "└─────┘\n",
       "</span>"
      ]
     },
     "execution_count": 100,
     "metadata": {},
     "output_type": "execute_result"
    }
   ],
   "source": [
    "'Mississippi'~'pss'"
   ]
  },
  {
   "cell_type": "code",
   "execution_count": 101,
   "id": "56512008",
   "metadata": {},
   "outputs": [
    {
     "data": {
      "text/html": [
       "<span style=\"white-space:pre; font-family: monospace\">┌→────────────────┐\n",
       "│ ┌→────┐ ┌→────┐ │\n",
       "│ ↓0 1 1│ ↓1 0 0│ │\n",
       "│ │0 0 1│ │1 1 0│ │\n",
       "│ │1 0 0│ │0 1 1│ │\n",
       "│ └~────┘ └~────┘ │\n",
       "└∊────────────────┘\n",
       "</span>"
      ]
     },
     "execution_count": 101,
     "metadata": {},
     "output_type": "execute_result"
    }
   ],
   "source": [
    "(3 3⍴0 1 1 0) (~3 3⍴0 1 1 0)"
   ]
  },
  {
   "cell_type": "code",
   "execution_count": 102,
   "id": "9293e799",
   "metadata": {},
   "outputs": [
    {
     "data": {
      "text/html": [
       "<span style=\"white-space:pre; font-family: monospace\">┌→──────────┐\n",
       "│Mississippi│\n",
       "└───────────┘\n",
       "</span>"
      ]
     },
     "execution_count": 102,
     "metadata": {},
     "output_type": "execute_result"
    }
   ],
   "source": [
    "1 1 2 1 2 1 2 1/'Misisipi'"
   ]
  },
  {
   "cell_type": "code",
   "execution_count": 103,
   "id": "c44ecd51",
   "metadata": {},
   "outputs": [
    {
     "data": {
      "text/html": [
       "<span style=\"white-space:pre; font-family: monospace\">┌→──────┐\n",
       "│HllWrld│\n",
       "└───────┘\n",
       "</span>"
      ]
     },
     "execution_count": 103,
     "metadata": {},
     "output_type": "execute_result"
    }
   ],
   "source": [
    "1 0 1 1 0 0 1 0 1 1 1/'Hello World'"
   ]
  },
  {
   "cell_type": "code",
   "execution_count": 104,
   "id": "72264591",
   "metadata": {},
   "outputs": [
    {
     "data": {
      "text/html": [
       "<span style=\"white-space:pre; font-family: monospace\">┌→────┐\n",
       "│He lo│\n",
       "└─────┘\n",
       "</span>"
      ]
     },
     "execution_count": 104,
     "metadata": {},
     "output_type": "execute_result"
    }
   ],
   "source": [
    "1 1 ¯1 1 1/'Hello'"
   ]
  },
  {
   "cell_type": "code",
   "execution_count": 105,
   "id": "fcce3e43",
   "metadata": {},
   "outputs": [
    {
     "data": {
      "text/html": [
       "<span style=\"white-space:pre; font-family: monospace\">┌⊖┐\n",
       "│ │\n",
       "└─┘\n",
       "</span>"
      ]
     },
     "execution_count": 105,
     "metadata": {},
     "output_type": "execute_result"
    },
    {
     "data": {
      "text/html": [
       "<span style=\"white-space:pre; font-family: monospace\">┌→──┐\n",
       "│abc│\n",
       "└───┘\n",
       "</span>"
      ]
     },
     "execution_count": 105,
     "metadata": {},
     "output_type": "execute_result"
    }
   ],
   "source": [
    "0/'abc'\n",
    "1/'abc' "
   ]
  },
  {
   "cell_type": "code",
   "execution_count": 106,
   "id": "3a16ac72",
   "metadata": {},
   "outputs": [
    {
     "data": {
      "text/html": [
       "<span style=\"white-space:pre; font-family: monospace\">┌→┐\n",
       "│1│\n",
       "└~┘\n",
       "</span>"
      ]
     },
     "execution_count": 106,
     "metadata": {},
     "output_type": "execute_result"
    },
    {
     "data": {
      "text/html": [
       "<span style=\"white-space:pre; font-family: monospace\">┌→┐\n",
       "│2│\n",
       "└~┘\n",
       "</span>"
      ]
     },
     "execution_count": 106,
     "metadata": {},
     "output_type": "execute_result"
    }
   ],
   "source": [
    "⍴1/8   ⍝ Scalar becomes vector, rank 1\n",
    "⍴1/8 8 ⍝ Higher ranks remain untouched"
   ]
  },
  {
   "cell_type": "code",
   "execution_count": 107,
   "id": "f1c66d23",
   "metadata": {},
   "outputs": [
    {
     "data": {
      "text/html": [
       "<span style=\"white-space:pre; font-family: monospace\">┌→──────────┐\n",
       "│1 2 0 3 4 5│\n",
       "└~──────────┘\n",
       "</span>"
      ]
     },
     "execution_count": 107,
     "metadata": {},
     "output_type": "execute_result"
    }
   ],
   "source": [
    "1 1 ¯1 1 1 1\\1 2 3 4 5"
   ]
  },
  {
   "cell_type": "code",
   "execution_count": 108,
   "id": "38051e00",
   "metadata": {},
   "outputs": [
    {
     "data": {
      "text/html": [
       "<span style=\"white-space:pre; font-family: monospace\">┌→──────┐\n",
       "│1 2 3 4│\n",
       "└~──────┘\n",
       "</span>"
      ]
     },
     "execution_count": 108,
     "metadata": {},
     "output_type": "execute_result"
    }
   ],
   "source": [
    "⍳≢1 2 4 5"
   ]
  },
  {
   "cell_type": "code",
   "execution_count": 109,
   "id": "d85c481a",
   "metadata": {},
   "outputs": [
    {
     "data": {
      "text/html": [
       "<span style=\"white-space:pre; font-family: monospace\">┌→──────┐\n",
       "│0 1 0 0│\n",
       "└~──────┘\n",
       "</span>"
      ]
     },
     "execution_count": 109,
     "metadata": {},
     "output_type": "execute_result"
    }
   ],
   "source": [
    "2=⍳≢1 2 4 5"
   ]
  },
  {
   "cell_type": "code",
   "execution_count": 110,
   "id": "b3c01b84",
   "metadata": {},
   "outputs": [
    {
     "data": {
      "text/html": [
       "<span style=\"white-space:pre; font-family: monospace\">┌→──────┐\n",
       "│1 2 1 1│\n",
       "└~──────┘\n",
       "</span>"
      ]
     },
     "execution_count": 110,
     "metadata": {},
     "output_type": "execute_result"
    }
   ],
   "source": [
    "1+2=⍳≢1 2 4 5"
   ]
  },
  {
   "cell_type": "code",
   "execution_count": 111,
   "id": "4d26200b",
   "metadata": {},
   "outputs": [
    {
     "data": {
      "text/html": [
       "<span style=\"white-space:pre; font-family: monospace\">┌→────────┐\n",
       "│1 2 2 4 5│\n",
       "└~────────┘\n",
       "</span>"
      ]
     },
     "execution_count": 111,
     "metadata": {},
     "output_type": "execute_result"
    }
   ],
   "source": [
    "(1+2=⍳≢1 2 4 5)\\1 2 4 5 "
   ]
  },
  {
   "cell_type": "code",
   "execution_count": 112,
   "id": "81d681a7",
   "metadata": {},
   "outputs": [
    {
     "data": {
      "text/html": [
       "<span style=\"white-space:pre; font-family: monospace\">┌→────────┐\n",
       "│1 2 3 4 5│\n",
       "└~────────┘\n",
       "</span>"
      ]
     },
     "execution_count": 112,
     "metadata": {},
     "output_type": "execute_result"
    }
   ],
   "source": [
    "3@(1+2)⊢(1+2=⍳≢1 2 4 5)\\1 2 4 5"
   ]
  },
  {
   "cell_type": "code",
   "execution_count": 113,
   "id": "e5479526",
   "metadata": {},
   "outputs": [
    {
     "data": {
      "text/html": [
       "<span style=\"white-space:pre; font-family: monospace\">┌→───────────┐\n",
       "│ ┌→─┐ ┌→──┐ │\n",
       "│ ↓AC│ ↓ABC│ │\n",
       "│ │DF│ │GHI│ │\n",
       "│ │GI│ └───┘ │\n",
       "│ └──┘       │\n",
       "└∊───────────┘\n",
       "</span>"
      ]
     },
     "execution_count": 113,
     "metadata": {},
     "output_type": "execute_result"
    }
   ],
   "source": [
    "(1 0 1/3 3⍴⎕A) (1 0 1⌿3 3⍴⎕A)"
   ]
  },
  {
   "cell_type": "code",
   "execution_count": 114,
   "id": "f271b03c",
   "metadata": {},
   "outputs": [
    {
     "data": {
      "text/html": [
       "<span style=\"white-space:pre; font-family: monospace\">┌→──────────────┐\n",
       "│ ┌→────┐ ┌→──┐ │\n",
       "│ ↓A  BC│ ↓ABC│ │\n",
       "│ │D  EF│ │   │ │\n",
       "│ │G  HI│ │   │ │\n",
       "│ └─────┘ │DEF│ │\n",
       "│         │GHI│ │\n",
       "│         └───┘ │\n",
       "└∊──────────────┘\n",
       "</span>"
      ]
     },
     "execution_count": 114,
     "metadata": {},
     "output_type": "execute_result"
    }
   ],
   "source": [
    "(1 ¯2 1 1\\3 3⍴⎕A) (1 ¯2 1 1⍀3 3⍴⎕A)"
   ]
  },
  {
   "cell_type": "code",
   "execution_count": 115,
   "id": "4f7c35ca",
   "metadata": {},
   "outputs": [
    {
     "data": {
      "text/html": [
       "<span style=\"white-space:pre; font-family: monospace\">┌→──┐\n",
       "↓ABC│\n",
       "│DEF│\n",
       "│GHI│\n",
       "└───┘\n",
       "</span>"
      ]
     },
     "execution_count": 115,
     "metadata": {},
     "output_type": "execute_result"
    },
    {
     "data": {
      "text/html": [
       "<span style=\"white-space:pre; font-family: monospace\">┌→────────┐\n",
       "│ABCDEFGHI│\n",
       "└─────────┘\n",
       "</span>"
      ]
     },
     "execution_count": 115,
     "metadata": {},
     "output_type": "execute_result"
    }
   ],
   "source": [
    "3 3⍴⎕A\n",
    ",3 3⍴⎕A"
   ]
  },
  {
   "cell_type": "code",
   "execution_count": 116,
   "id": "8a3550a0",
   "metadata": {},
   "outputs": [
    {
     "data": {
      "text/html": [
       "<span style=\"white-space:pre; font-family: monospace\">┌→────────┐\n",
       "│ABCDEFGHI│\n",
       "└─────────┘\n",
       "</span>"
      ]
     },
     "execution_count": 116,
     "metadata": {},
     "output_type": "execute_result"
    },
    {
     "data": {
      "text/html": [
       "<span style=\"white-space:pre; font-family: monospace\">┌→──────────────────────────────────────────────────────────────────────┐\n",
       "│1 2 3 4 5 6 7 8 9 10 11 12 13 14 15 16 17 18 19 20 21 22 23 24 25 26 27│\n",
       "└~──────────────────────────────────────────────────────────────────────┘\n",
       "</span>"
      ]
     },
     "execution_count": 116,
     "metadata": {},
     "output_type": "execute_result"
    }
   ],
   "source": [
    "∊3 3⍴⎕A\n",
    "∊3 3 3⍴⍳27"
   ]
  },
  {
   "cell_type": "code",
   "execution_count": 117,
   "id": "0388574d",
   "metadata": {},
   "outputs": [
    {
     "data": {
      "text/html": [
       "<span style=\"white-space:pre; font-family: monospace\">┌→───────────┐\n",
       "│abcdefghijkl│\n",
       "└────────────┘\n",
       "</span>"
      ]
     },
     "execution_count": 117,
     "metadata": {},
     "output_type": "execute_result"
    },
    {
     "data": {
      "text/html": [
       "<span style=\"white-space:pre; font-family: monospace\">┌→────────────────────────┐\n",
       "│ ┌→──┐ ┌→──┐ ┌→──┐ ┌→──┐ │\n",
       "│ │abc│ │def│ │ghi│ │jkl│ │\n",
       "│ └───┘ └───┘ └───┘ └───┘ │\n",
       "└∊────────────────────────┘\n",
       "</span>"
      ]
     },
     "execution_count": 117,
     "metadata": {},
     "output_type": "execute_result"
    }
   ],
   "source": [
    "∊2 2⍴'abc' 'def' 'ghi' 'jkl'\n",
    ",2 2⍴'abc' 'def' 'ghi' 'jkl' "
   ]
  },
  {
   "cell_type": "code",
   "execution_count": 118,
   "id": "b0e83e0c",
   "metadata": {},
   "outputs": [
    {
     "data": {
      "text/html": [
       "<span style=\"white-space:pre; font-family: monospace\">┌→──────────┐\n",
       "│1 2 3 4 5 6│\n",
       "└~──────────┘\n",
       "</span>"
      ]
     },
     "execution_count": 118,
     "metadata": {},
     "output_type": "execute_result"
    }
   ],
   "source": [
    "1 2 3,4 5 6"
   ]
  },
  {
   "cell_type": "code",
   "execution_count": 119,
   "id": "1a5cad26",
   "metadata": {},
   "outputs": [
    {
     "data": {
      "text/html": [
       "<span style=\"white-space:pre; font-family: monospace\">┌→────┐\n",
       "↓A B C│\n",
       "│D E F│\n",
       "│1 2 3│\n",
       "│4 5 6│\n",
       "└+────┘\n",
       "</span>"
      ]
     },
     "execution_count": 119,
     "metadata": {},
     "output_type": "execute_result"
    },
    {
     "data": {
      "text/html": [
       "<span style=\"white-space:pre; font-family: monospace\">┌→────────┐\n",
       "↓ABC 1 2 3│\n",
       "│DEF 4 5 6│\n",
       "└+────────┘\n",
       "</span>"
      ]
     },
     "execution_count": 119,
     "metadata": {},
     "output_type": "execute_result"
    }
   ],
   "source": [
    "(2 3⍴⎕A),[1](2 3⍴⍳6)\n",
    "(2 3⍴⎕A),[2](2 3⍴⍳6) "
   ]
  },
  {
   "cell_type": "code",
   "execution_count": 120,
   "id": "089cab20",
   "metadata": {},
   "outputs": [
    {
     "data": {
      "text/html": [
       "<span style=\"white-space:pre; font-family: monospace\">┌┌→────┐\n",
       "↓↓A B C│\n",
       "││D E F│\n",
       "││     │\n",
       "││1 2 3│\n",
       "││4 5 6│\n",
       "└└+────┘\n",
       "</span>"
      ]
     },
     "execution_count": 120,
     "metadata": {},
     "output_type": "execute_result"
    },
    {
     "data": {
      "text/html": [
       "<span style=\"white-space:pre; font-family: monospace\">┌┌→────┐\n",
       "↓↓A B C│\n",
       "││1 2 3│\n",
       "││     │\n",
       "││D E F│\n",
       "││4 5 6│\n",
       "└└+────┘\n",
       "</span>"
      ]
     },
     "execution_count": 120,
     "metadata": {},
     "output_type": "execute_result"
    }
   ],
   "source": [
    "(2 3⍴⎕A),[0.5](2 3⍴⍳6) ⍝ 3D array\n",
    "(2 3⍴⎕A),[1.5](2 3⍴⍳6) ⍝ 3D array "
   ]
  },
  {
   "cell_type": "code",
   "execution_count": 121,
   "id": "0b42ce59",
   "metadata": {},
   "outputs": [
    {
     "data": {
      "text/html": [
       "<span style=\"white-space:pre; font-family: monospace\">┌┌→──┐\n",
       "↓↓ABC│\n",
       "││DEF│\n",
       "└└───┘\n",
       "</span>"
      ]
     },
     "execution_count": 121,
     "metadata": {},
     "output_type": "execute_result"
    },
    {
     "data": {
      "text/html": [
       "<span style=\"white-space:pre; font-family: monospace\">┌→────┐\n",
       "│1 2 3│\n",
       "└~────┘\n",
       "</span>"
      ]
     },
     "execution_count": 121,
     "metadata": {},
     "output_type": "execute_result"
    },
    {
     "data": {
      "text/html": [
       "<span style=\"white-space:pre; font-family: monospace\">┌┌→──┐\n",
       "↓↓ABC│\n",
       "││   │\n",
       "││DEF│\n",
       "└└───┘\n",
       "</span>"
      ]
     },
     "execution_count": 121,
     "metadata": {},
     "output_type": "execute_result"
    },
    {
     "data": {
      "text/html": [
       "<span style=\"white-space:pre; font-family: monospace\">┌→────┐\n",
       "│2 1 3│\n",
       "└~────┘\n",
       "</span>"
      ]
     },
     "execution_count": 121,
     "metadata": {},
     "output_type": "execute_result"
    }
   ],
   "source": [
    ",[0.5]2 3⍴⎕A\n",
    "⍴,[0.5]2 3⍴⎕A\n",
    ",[1.5]2 3⍴⎕A\n",
    "⍴,[1.5]2 3⍴⎕A"
   ]
  },
  {
   "cell_type": "code",
   "execution_count": 122,
   "id": "fbb4818a",
   "metadata": {},
   "outputs": [
    {
     "data": {
      "text/html": [
       "<span style=\"white-space:pre; font-family: monospace\">┌→────┐\n",
       "↓A B C│\n",
       "│D E F│\n",
       "│1 2 3│\n",
       "│4 5 6│\n",
       "└+────┘\n",
       "</span>"
      ]
     },
     "execution_count": 122,
     "metadata": {},
     "output_type": "execute_result"
    },
    {
     "data": {
      "text/html": [
       "<span style=\"white-space:pre; font-family: monospace\">┌→────┐\n",
       "↓A B C│\n",
       "│D E F│\n",
       "│1 2 3│\n",
       "│4 5 6│\n",
       "└+────┘\n",
       "</span>"
      ]
     },
     "execution_count": 122,
     "metadata": {},
     "output_type": "execute_result"
    }
   ],
   "source": [
    "(2 3⍴⎕A),[1](2 3⍴⍳6)\n",
    "(2 3⍴⎕A)⍪(2 3⍴⍳6)"
   ]
  },
  {
   "cell_type": "code",
   "execution_count": 123,
   "id": "c80c0f30",
   "metadata": {},
   "outputs": [
    {
     "data": {
      "text/html": [
       "<span style=\"white-space:pre; font-family: monospace\">┌┌→───┐\n",
       "↓↓ABCD│\n",
       "││EFGH│\n",
       "││IJKL│\n",
       "││    │\n",
       "││MNOP│\n",
       "││QRST│\n",
       "││UVWX│\n",
       "└└────┘\n",
       "</span>"
      ]
     },
     "execution_count": 123,
     "metadata": {},
     "output_type": "execute_result"
    },
    {
     "data": {
      "text/html": [
       "<span style=\"white-space:pre; font-family: monospace\">┌→───────────┐\n",
       "↓ABCDEFGHIJKL│\n",
       "│MNOPQRSTUVWX│\n",
       "└────────────┘\n",
       "</span>"
      ]
     },
     "execution_count": 123,
     "metadata": {},
     "output_type": "execute_result"
    }
   ],
   "source": [
    "2 3 4⍴⎕A\n",
    "⍪2 3 4⍴⎕A"
   ]
  }
 ],
 "metadata": {
  "kernelspec": {
   "display_name": "Dyalog APL",
   "language": "apl",
   "name": "dyalog-kernel"
  },
  "language_info": {
   "file_extension": ".apl",
   "mimetype": "text/apl",
   "name": "APL"
  }
 },
 "nbformat": 4,
 "nbformat_minor": 5
}
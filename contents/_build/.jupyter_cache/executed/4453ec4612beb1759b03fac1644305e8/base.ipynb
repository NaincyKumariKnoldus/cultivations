{
 "cells": [
  {
   "cell_type": "code",
   "execution_count": 1,
   "id": "f724a96f",
   "metadata": {},
   "outputs": [
    {
     "data": {
      "text/html": [
       "<span style=\"white-space:pre; font-family: monospace\">5.25\n",
       "</span>"
      ]
     },
     "execution_count": 1,
     "metadata": {},
     "output_type": "execute_result"
    }
   ],
   "source": [
    "avg←+⌿÷1⌈≢           ⍝ a tacit function\n",
    "avg 7 6 2 9 6 3 4 5"
   ]
  },
  {
   "cell_type": "code",
   "execution_count": 2,
   "id": "4d20f9a2",
   "metadata": {},
   "outputs": [
    {
     "data": {
      "text/html": [
       "<span style=\"white-space:pre; font-family: monospace\">5.25\n",
       "</span>"
      ]
     },
     "execution_count": 2,
     "metadata": {},
     "output_type": "execute_result"
    }
   ],
   "source": [
    "avg←{(+⌿⍵)÷1⌈≢⍵}     ⍝ a dfn version of the same function\n",
    "avg 7 6 2 9 6 3 4 5"
   ]
  },
  {
   "cell_type": "code",
   "execution_count": 3,
   "id": "9270124e",
   "metadata": {},
   "outputs": [],
   "source": [
    "]dinput\n",
    "r←foo nums\n",
    "r←'Here are your numbers: ',⍕nums"
   ]
  },
  {
   "cell_type": "code",
   "execution_count": 4,
   "id": "db6a604d",
   "metadata": {},
   "outputs": [],
   "source": [
    "]dinput\n",
    "foo←{\n",
    "    'Here are your numbers: ',⍕⍵\n",
    "}"
   ]
  },
  {
   "cell_type": "code",
   "execution_count": 5,
   "id": "5be4b1bd",
   "metadata": {},
   "outputs": [],
   "source": [
    "]dinput\n",
    "{r}←foo nums\n",
    "r←'Here are your numbers: ',⍕nums"
   ]
  },
  {
   "cell_type": "code",
   "execution_count": 6,
   "id": "810f66e3",
   "metadata": {},
   "outputs": [
    {
     "data": {
      "text/html": [
       "<span style=\"white-space:pre; font-family: monospace\">Here are your numbers: 1 2 3 4\n",
       "</span>"
      ]
     },
     "execution_count": 6,
     "metadata": {},
     "output_type": "execute_result"
    }
   ],
   "source": [
    "foo 1 2 3 4        ⍝ No output\n",
    "vals←foo 1 2 3 4   ⍝ Capture return\n",
    "vals"
   ]
  },
  {
   "cell_type": "code",
   "execution_count": 7,
   "id": "75f279fb",
   "metadata": {},
   "outputs": [],
   "source": [
    "]dinput\n",
    "foo←{\n",
    "    1:a←'Here are your numbers: ',⍕⍵\n",
    "}"
   ]
  },
  {
   "cell_type": "code",
   "execution_count": 8,
   "id": "8c4369ab",
   "metadata": {},
   "outputs": [
    {
     "data": {
      "text/html": [
       "<span style=\"white-space:pre; font-family: monospace\">Here are your numbers: 4 5 6 7\n",
       "</span>"
      ]
     },
     "execution_count": 8,
     "metadata": {},
     "output_type": "execute_result"
    }
   ],
   "source": [
    "foo 4 5 6 7        ⍝ No output\n",
    "vals←foo 4 5 6 7   ⍝ Capture return\n",
    "vals"
   ]
  },
  {
   "cell_type": "code",
   "execution_count": 9,
   "id": "c21d54e9",
   "metadata": {},
   "outputs": [
    {
     "data": {
      "text/html": [
       "<span style=\"white-space:pre; font-family: monospace\">true\n",
       "</span>"
      ]
     },
     "execution_count": 9,
     "metadata": {},
     "output_type": "execute_result"
    },
    {
     "data": {
      "text/html": [
       "<span style=\"white-space:pre; font-family: monospace\">false\n",
       "</span>"
      ]
     },
     "execution_count": 9,
     "metadata": {},
     "output_type": "execute_result"
    }
   ],
   "source": [
    "istrue←{⍵:'true' ⋄ 'false'}  ⍝ a guard statement\n",
    "\n",
    "istrue 1\n",
    "istrue 0"
   ]
  },
  {
   "cell_type": "code",
   "execution_count": 10,
   "id": "3b711de5",
   "metadata": {},
   "outputs": [],
   "source": [
    "]dinput\n",
    "{r}←foo nums                       ⍝ example tradfn\n",
    "r←'Here are your numbers: ',⍕nums"
   ]
  },
  {
   "cell_type": "code",
   "execution_count": 11,
   "id": "0345ac5f",
   "metadata": {},
   "outputs": [],
   "source": [
    "avg←+⌿÷1⌈≢                         ⍝ example tacit\n",
    "istrue←{⍵:'true' ⋄ 'false'}        ⍝ example dfn"
   ]
  },
  {
   "cell_type": "code",
   "execution_count": 12,
   "id": "03e53759",
   "metadata": {},
   "outputs": [
    {
     "data": {
      "text/html": [
       "<span style=\"white-space:pre; font-family: monospace\">3.1 3.3 3.2\n",
       "</span>"
      ]
     },
     "execution_count": 12,
     "metadata": {},
     "output_type": "execute_result"
    }
   ],
   "source": [
    "⎕NC 'foo' 'avg' 'istrue' "
   ]
  },
  {
   "cell_type": "code",
   "execution_count": 13,
   "id": "bc92803d",
   "metadata": {},
   "outputs": [
    {
     "data": {
      "text/html": [
       "<span style=\"white-space:pre; font-family: monospace\">11 22 33\n",
       "</span>"
      ]
     },
     "execution_count": 13,
     "metadata": {},
     "output_type": "execute_result"
    },
    {
     "data": {
      "text/html": [
       "<span style=\"white-space:pre; font-family: monospace\">11 21 31\n",
       "</span>"
      ]
     },
     "execution_count": 13,
     "metadata": {},
     "output_type": "execute_result"
    }
   ],
   "source": [
    "1 2 3+10 20 30 \n",
    "1+10 20 30       "
   ]
  },
  {
   "cell_type": "code",
   "execution_count": 14,
   "id": "623969d3",
   "metadata": {},
   "outputs": [
    {
     "data": {
      "text/html": [
       "<span style=\"white-space:pre; font-family: monospace\">0 1 1 1 1\n",
       "</span>"
      ]
     },
     "execution_count": 14,
     "metadata": {},
     "output_type": "execute_result"
    },
    {
     "data": {
      "text/html": [
       "<span style=\"white-space:pre; font-family: monospace\">0 0 0 0 0\n",
       "</span>"
      ]
     },
     "execution_count": 14,
     "metadata": {},
     "output_type": "execute_result"
    },
    {
     "data": {
      "text/html": [
       "<span style=\"white-space:pre; font-family: monospace\">0\n",
       "</span>"
      ]
     },
     "execution_count": 14,
     "metadata": {},
     "output_type": "execute_result"
    }
   ],
   "source": [
    "'hello'∊'CodeGolf'\n",
    "'hello'∊'Code' 'Golf'\n",
    "(⊂'hello')∊'Code' 'Golf' "
   ]
  },
  {
   "cell_type": "code",
   "execution_count": 15,
   "id": "3fc1818a",
   "metadata": {},
   "outputs": [
    {
     "data": {
      "text/html": [
       "<span style=\"white-space:pre; font-family: monospace\">2\n",
       "</span>"
      ]
     },
     "execution_count": 15,
     "metadata": {},
     "output_type": "execute_result"
    },
    {
     "data": {
      "text/html": [
       "<span style=\"white-space:pre; font-family: monospace\">4 4\n",
       "</span>"
      ]
     },
     "execution_count": 15,
     "metadata": {},
     "output_type": "execute_result"
    }
   ],
   "source": [
    "≢'Code' 'Golf'\n",
    "≢¨'Code' 'Golf' "
   ]
  },
  {
   "cell_type": "code",
   "execution_count": 16,
   "id": "cf948805",
   "metadata": {},
   "outputs": [
    {
     "data": {
      "text/html": [
       "<span style=\"white-space:pre; font-family: monospace\">Code\n",
       "Golf\n",
       "</span>"
      ]
     },
     "execution_count": 16,
     "metadata": {},
     "output_type": "execute_result"
    },
    {
     "data": {
      "text/html": [
       "<span style=\"white-space:pre; font-family: monospace\">4 4\n",
       "</span>"
      ]
     },
     "execution_count": 16,
     "metadata": {},
     "output_type": "execute_result"
    }
   ],
   "source": [
    "⊢A←2 4⍴'CodeGolf'\n",
    "(≢⍤1) A"
   ]
  },
  {
   "cell_type": "code",
   "execution_count": 17,
   "id": "7d7a3534",
   "metadata": {},
   "outputs": [
    {
     "data": {
      "text/html": [
       "<span style=\"white-space:pre; font-family: monospace\">9\n",
       "</span>"
      ]
     },
     "execution_count": 17,
     "metadata": {},
     "output_type": "execute_result"
    }
   ],
   "source": [
    "twice←{⍺ ⍺⍺ ⍺ ⍺⍺ ⍵}\n",
    "2+twice 5"
   ]
  },
  {
   "cell_type": "code",
   "execution_count": 18,
   "id": "78aee09e",
   "metadata": {},
   "outputs": [],
   "source": [
    "under←{(⍵⍵⍣¯1) (⍵⍵ ⍺) ⍺⍺ (⍵⍵ ⍵)}"
   ]
  },
  {
   "cell_type": "code",
   "execution_count": null,
   "id": "11c7841b",
   "metadata": {},
   "outputs": [],
   "source": []
  }
 ],
 "metadata": {
  "kernelspec": {
   "display_name": "Dyalog APL",
   "language": "apl",
   "name": "dyalog-kernel"
  },
  "language_info": {
   "file_extension": ".apl",
   "mimetype": "text/apl",
   "name": "APL"
  }
 },
 "nbformat": 4,
 "nbformat_minor": 5
}
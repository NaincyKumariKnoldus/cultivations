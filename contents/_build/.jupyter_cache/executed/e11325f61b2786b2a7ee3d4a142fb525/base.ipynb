{
 "cells": [
  {
   "cell_type": "code",
   "execution_count": 1,
   "id": "7a937866",
   "metadata": {},
   "outputs": [
    {
     "name": "stderr",
     "output_type": "stream",
     "text": [
      "Dyalog APL not connected"
     ]
    }
   ],
   "source": [
    "4 6⍴⎕A ⍝ our argument\n",
    "({⊂⍵}⌺3 3) 4 6⍴⎕A "
   ]
  },
  {
   "cell_type": "code",
   "execution_count": 2,
   "id": "7e6f698f",
   "metadata": {},
   "outputs": [
    {
     "name": "stderr",
     "output_type": "stream",
     "text": [
      "Dyalog APL not connected"
     ]
    }
   ],
   "source": [
    "({⊂⍺}⌺3 3) 4 6⍴⎕A "
   ]
  },
  {
   "cell_type": "code",
   "execution_count": 3,
   "id": "34c17350",
   "metadata": {},
   "outputs": [
    {
     "name": "stderr",
     "output_type": "stream",
     "text": [
      "Dyalog APL not connected"
     ]
    }
   ],
   "source": [
    "({⊂⍺↓⍵}⌺3 3) 4 6⍴⎕A"
   ]
  },
  {
   "cell_type": "code",
   "execution_count": 4,
   "id": "cc922290",
   "metadata": {},
   "outputs": [
    {
     "name": "stderr",
     "output_type": "stream",
     "text": [
      "Dyalog APL not connected"
     ]
    }
   ],
   "source": [
    "({⊂⍺}⌺3 5) 4 6⍴⎕A "
   ]
  },
  {
   "cell_type": "code",
   "execution_count": 5,
   "id": "af345a5f",
   "metadata": {},
   "outputs": [
    {
     "name": "stderr",
     "output_type": "stream",
     "text": [
      "Dyalog APL not connected"
     ]
    }
   ],
   "source": [
    "4 5⍴0 0 1 0 0 1 0"
   ]
  },
  {
   "cell_type": "code",
   "execution_count": 6,
   "id": "5c328d58",
   "metadata": {},
   "outputs": [
    {
     "name": "stderr",
     "output_type": "stream",
     "text": [
      "Dyalog APL not connected"
     ]
    }
   ],
   "source": [
    "({⊂⍵}⌺3 3) 4 5⍴0 0 1 0 0 1 0 "
   ]
  },
  {
   "cell_type": "code",
   "execution_count": 7,
   "id": "4449d83f",
   "metadata": {},
   "outputs": [
    {
     "name": "stderr",
     "output_type": "stream",
     "text": [
      "Dyalog APL not connected"
     ]
    }
   ],
   "source": [
    "({+/,⍵}⌺3 3) 4 5⍴0 0 1 0 0 1 0"
   ]
  },
  {
   "cell_type": "code",
   "execution_count": 8,
   "id": "197856ed",
   "metadata": {},
   "outputs": [
    {
     "name": "stderr",
     "output_type": "stream",
     "text": [
      "Dyalog APL not connected"
     ]
    }
   ],
   "source": [
    "({5⌷,⍵}⌺3 3) 4 5⍴0 0 1 0 0 1 0"
   ]
  },
  {
   "cell_type": "code",
   "execution_count": 9,
   "id": "ff9365e6",
   "metadata": {},
   "outputs": [
    {
     "name": "stderr",
     "output_type": "stream",
     "text": [
      "Dyalog APL not connected"
     ]
    }
   ],
   "source": [
    "({self←5⌷,⍵ ⋄ total←+/,⍵ ⋄ ⊂self total}⌺3 3) 4 5⍴0 0 1 0 0 1 0"
   ]
  },
  {
   "cell_type": "code",
   "execution_count": 10,
   "id": "fa16652b",
   "metadata": {},
   "outputs": [
    {
     "name": "stderr",
     "output_type": "stream",
     "text": [
      "Dyalog APL not connected"
     ]
    }
   ],
   "source": [
    "({self←5⌷,⍵ ⋄ total←+/,⍵ ⋄ (self ∧ (total∊3 4)) ∨ ((~self) ∧ (total=3))}⌺3 3) 4 5⍴0 0 1 0 0 1 0"
   ]
  },
  {
   "cell_type": "code",
   "execution_count": 11,
   "id": "6c452c60",
   "metadata": {},
   "outputs": [
    {
     "name": "stderr",
     "output_type": "stream",
     "text": [
      "Dyalog APL not connected"
     ]
    }
   ],
   "source": [
    "({⊂⍵}⌺(2 2⍴3))7 7⍴⎕A"
   ]
  },
  {
   "cell_type": "code",
   "execution_count": 12,
   "id": "69761de8",
   "metadata": {},
   "outputs": [
    {
     "name": "stderr",
     "output_type": "stream",
     "text": [
      "Dyalog APL not connected"
     ]
    }
   ],
   "source": [
    "({⊂⍵}⌺(2 2⍴2))6 6⍴⎕A\n",
    "({⊂⍵}⌺(2 4))4 6⍴⎕A "
   ]
  },
  {
   "cell_type": "code",
   "execution_count": 13,
   "id": "d04adb12",
   "metadata": {},
   "outputs": [
    {
     "name": "stderr",
     "output_type": "stream",
     "text": [
      "Dyalog APL not connected"
     ]
    }
   ],
   "source": [
    "{⊂⍺⍵}⌸'Mississippi'"
   ]
  },
  {
   "cell_type": "code",
   "execution_count": 14,
   "id": "badd7ac1",
   "metadata": {},
   "outputs": [
    {
     "name": "stderr",
     "output_type": "stream",
     "text": [
      "Dyalog APL not connected"
     ]
    }
   ],
   "source": [
    "{⍺,≢⍵}⌸'Mississippi'"
   ]
  },
  {
   "cell_type": "code",
   "execution_count": 15,
   "id": "8c902a86",
   "metadata": {},
   "outputs": [
    {
     "name": "stderr",
     "output_type": "stream",
     "text": [
      "Dyalog APL not connected"
     ]
    }
   ],
   "source": [
    "{1≠≢⍵}⌸'Mississippi'"
   ]
  },
  {
   "cell_type": "code",
   "execution_count": 16,
   "id": "13daf2a6",
   "metadata": {},
   "outputs": [
    {
     "name": "stderr",
     "output_type": "stream",
     "text": [
      "Dyalog APL not connected"
     ]
    }
   ],
   "source": [
    "∪'Mississippi'"
   ]
  },
  {
   "cell_type": "code",
   "execution_count": 17,
   "id": "c47d27bb",
   "metadata": {},
   "outputs": [
    {
     "name": "stderr",
     "output_type": "stream",
     "text": [
      "Dyalog APL not connected"
     ]
    }
   ],
   "source": [
    "0 1 1 1/'Misp'"
   ]
  },
  {
   "cell_type": "code",
   "execution_count": 18,
   "id": "629a2094",
   "metadata": {},
   "outputs": [
    {
     "name": "stderr",
     "output_type": "stream",
     "text": [
      "Dyalog APL not connected"
     ]
    }
   ],
   "source": [
    "{({1≠≢⍵}⌸⍵)/∪⍵}'Mississippi' ⍝ Unique elements occurring more than once"
   ]
  },
  {
   "cell_type": "code",
   "execution_count": 19,
   "id": "7bc74a68",
   "metadata": {},
   "outputs": [
    {
     "name": "stderr",
     "output_type": "stream",
     "text": [
      "Dyalog APL not connected"
     ]
    }
   ],
   "source": [
    "5 3⍴'AAAABCAAAABBAAA' \n",
    "{⍺⍵}⌸ 5 3⍴'AAAABCAAAABBAAA' "
   ]
  },
  {
   "cell_type": "code",
   "execution_count": 20,
   "id": "855911f2",
   "metadata": {},
   "outputs": [
    {
     "name": "stderr",
     "output_type": "stream",
     "text": [
      "Dyalog APL not connected"
     ]
    }
   ],
   "source": [
    "'Mississippi' {⊂⍺⍵}⌸ ⍳11\n",
    "'Mississippi' {⊂⍺⍵}⌸ 'ABCDEFGHIJK'"
   ]
  },
  {
   "cell_type": "code",
   "execution_count": null,
   "id": "bdd6af27",
   "metadata": {},
   "outputs": [],
   "source": []
  }
 ],
 "metadata": {
  "kernelspec": {
   "display_name": "Dyalog APL",
   "language": "apl",
   "name": "dyalog-kernel"
  },
  "language_info": {
   "file_extension": ".apl",
   "mimetype": "text/apl",
   "name": "APL"
  }
 },
 "nbformat": 4,
 "nbformat_minor": 5
}
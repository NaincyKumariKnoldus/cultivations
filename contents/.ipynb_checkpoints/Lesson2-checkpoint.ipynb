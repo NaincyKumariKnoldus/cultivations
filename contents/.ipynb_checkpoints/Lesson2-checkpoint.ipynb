{
 "cells": [
  {
   "cell_type": "markdown",
   "id": "a554bd71",
   "metadata": {},
   "source": [
    "# User-defined functions"
   ]
  },
  {
   "cell_type": "markdown",
   "id": "8ac4bd8a",
   "metadata": {},
   "source": [
    "In APL, a function can be applied to data, that is, arrays. Note that \"arrays\" include scalars: a scalar is an array of rank 0. \n",
    "\n",
    "There are three distinct types of functions, and several ways to create them. The types of functions are _tacit_, _dfns_, and _tradfns_.\n",
    "\n",
    "Tacit and one-liner dfns can easiest be created by using simple assignment, like we do with arrays:"
   ]
  },
  {
   "cell_type": "code",
   "execution_count": 1,
   "id": "405815b2",
   "metadata": {},
   "outputs": [
    {
     "data": {
      "text/html": [
       "<span style=\"white-space:pre; font-family: monospace\">5.25\n",
       "</span>"
      ]
     },
     "execution_count": 1,
     "metadata": {},
     "output_type": "execute_result"
    }
   ],
   "source": [
    "avg←+⌿÷1⌈≢           ⍝ a tacit function\n",
    "avg 7 6 2 9 6 3 4 5"
   ]
  },
  {
   "cell_type": "code",
   "execution_count": 2,
   "id": "31efae09",
   "metadata": {},
   "outputs": [
    {
     "data": {
      "text/html": [
       "<span style=\"white-space:pre; font-family: monospace\">5.25\n",
       "</span>"
      ]
     },
     "execution_count": 2,
     "metadata": {},
     "output_type": "execute_result"
    }
   ],
   "source": [
    "avg←{(+⌿⍵)÷1⌈≢⍵}     ⍝ a dfn version of the same function\n",
    "avg 7 6 2 9 6 3 4 5"
   ]
  },
  {
   "cell_type": "markdown",
   "id": "b853ca85",
   "metadata": {},
   "source": [
    "You can't have multi-line tacit functions, although tacit functions may consist of other multi-line non-tacit functions.\n",
    "\n",
    "To create a multi-line dfn or tradfn called `foo`, the easiest way is to type `)ed foo` in the session (the REPL).\n",
    "The editor will open with the first line pre-populated with the name `foo`. You can then start extending the function, e.g. to say (the `]dinput` thing is only required in a Jupyter notebook cell when entering multi-line functions, not in the session):"
   ]
  },
  {
   "cell_type": "code",
   "execution_count": 3,
   "id": "b35c43f3",
   "metadata": {},
   "outputs": [],
   "source": [
    "]dinput\n",
    "r←foo nums\n",
    "r←'Here are your numbers: ',⍕nums"
   ]
  },
  {
   "cell_type": "markdown",
   "id": "2eaab682",
   "metadata": {},
   "source": [
    "Then press Esc to close and save your function in the workspace (the working container – you still need to save your workspace to disk later). The above is a tradfn. A tradfn is good for doing many things, one after another, things that may not necessarily be directly connected. The first line is a header line. It tells APL what the syntax is for that function. In our case, it says that `foo` has a result which will be referenced in the code as `r`, and it takes a single argument (which must be on the right) called `nums`. You can find the full model syntax for the header line [here](https://help.dyalog.com/latest/#Language/Defined%20Functions%20and%20Operators/TradFns/Model%20Syntax.htm).\n",
    "\n",
    "Multi-line dfns look like this:"
   ]
  },
  {
   "cell_type": "code",
   "execution_count": 5,
   "id": "433f1fd2",
   "metadata": {},
   "outputs": [],
   "source": [
    "]dinput\n",
    "foo←{\n",
    "    'Here are your numbers: ',⍕⍵\n",
    "}"
   ]
  },
  {
   "cell_type": "markdown",
   "id": "bd330e26",
   "metadata": {},
   "source": [
    "In a dfn, the right argument is always called `⍵` and the result is not named, rather, the first statement which is not an assignment (or after a true guard – we can come back to that) is the result.\n",
    "\n",
    "If a dfn needs a left argument (all dyadic APL functions are infix) it can be referenced with `⍺`. \n",
    "\n",
    "Both tradfns and dfns can be made _shy_. It means that the function by default does not cause implicit display of its result, but the result can still be captured by any code on its left.\n",
    "\n",
    "A tradfn can be made shy by enclosing its result name in curly braces:"
   ]
  },
  {
   "cell_type": "code",
   "execution_count": 12,
   "id": "6055d3c4",
   "metadata": {},
   "outputs": [],
   "source": [
    "]dinput\n",
    "{r}←foo nums\n",
    "r←'Here are your numbers: ',⍕nums"
   ]
  },
  {
   "cell_type": "code",
   "execution_count": 14,
   "id": "5131e4a5",
   "metadata": {},
   "outputs": [
    {
     "data": {
      "text/html": [
       "<span style=\"white-space:pre; font-family: monospace\">Here are your numbers: 1 2 3 4\n",
       "</span>"
      ]
     },
     "execution_count": 14,
     "metadata": {},
     "output_type": "execute_result"
    }
   ],
   "source": [
    "foo 1 2 3 4        ⍝ No output\n",
    "vals←foo 1 2 3 4   ⍝ Capture return\n",
    "vals"
   ]
  },
  {
   "cell_type": "markdown",
   "id": "2c46f733",
   "metadata": {},
   "source": [
    "A dfn can be made shy by letting the last statement be after a _guard_, and have an assignment:"
   ]
  },
  {
   "cell_type": "code",
   "execution_count": 19,
   "id": "cbae9c26",
   "metadata": {},
   "outputs": [],
   "source": [
    "]dinput\n",
    "foo←{\n",
    "    1:a←'Here are your numbers: ',⍕⍵\n",
    "}"
   ]
  },
  {
   "cell_type": "code",
   "execution_count": 20,
   "id": "39f3cbf5",
   "metadata": {},
   "outputs": [
    {
     "data": {
      "text/html": [
       "<span style=\"white-space:pre; font-family: monospace\">Here are your numbers: 4 5 6 7\n",
       "</span>"
      ]
     },
     "execution_count": 20,
     "metadata": {},
     "output_type": "execute_result"
    }
   ],
   "source": [
    "foo 4 5 6 7        ⍝ No output\n",
    "vals←foo 4 5 6 7   ⍝ Capture return\n",
    "vals"
   ]
  },
  {
   "cell_type": "markdown",
   "id": "3c750bbc",
   "metadata": {},
   "source": [
    "In most circumstances, you should avoid using shyness, though. It can be confusing. \n",
    "\n",
    "A _guard_ is a dfn-specific feature. It consists of a statement (a condition) which must evaluate to a Boolean (i.e. 0 or 1), followed by a colon (:) followed by the result of the function if the condition is true. "
   ]
  },
  {
   "cell_type": "code",
   "execution_count": 25,
   "id": "91f6ad9b",
   "metadata": {},
   "outputs": [
    {
     "data": {
      "text/html": [
       "<span style=\"white-space:pre; font-family: monospace\">true\n",
       "</span>"
      ]
     },
     "execution_count": 25,
     "metadata": {},
     "output_type": "execute_result"
    },
    {
     "data": {
      "text/html": [
       "<span style=\"white-space:pre; font-family: monospace\">false\n",
       "</span>"
      ]
     },
     "execution_count": 25,
     "metadata": {},
     "output_type": "execute_result"
    }
   ],
   "source": [
    "istrue←{⍵:'true' ⋄ 'false'}  ⍝ a guard statement\n",
    "\n",
    "istrue 1\n",
    "istrue 0"
   ]
  },
  {
   "cell_type": "markdown",
   "id": "76d5b653",
   "metadata": {},
   "source": [
    "`⋄` and line breaks are equivalent in almost all cases. One difference is that when you trace through a function, you can only execute one line at a time, even if it has multiple statements separated by `⋄`.  Also, one-liner dfns, even if they have `⋄`s, cannot be suspended or traced into – they will always execute completely and quit. If an error happens, the stack is cut back to their caller. This is actually useful, to prevent your program from stopping in a bad state. \n",
    "\n",
    "Tacit, tradfns and dfns end up being different, even though their outwards behaviour may be identical. They have different detailed _name classification_. `⎕NC` ([Name Classification](https://help.dyalog.com/latest/#Language/System%20Functions/nc.htm)) is a system function which takes one or more names and tells you something about them:"
   ]
  },
  {
   "cell_type": "code",
   "execution_count": 29,
   "id": "2f0bd31f",
   "metadata": {},
   "outputs": [],
   "source": [
    "]dinput\n",
    "{r}←foo nums                       ⍝ example tradfn\n",
    "r←'Here are your numbers: ',⍕nums"
   ]
  },
  {
   "cell_type": "code",
   "execution_count": 30,
   "id": "2a0ed183",
   "metadata": {},
   "outputs": [],
   "source": [
    "avg←+⌿÷1⌈≢                         ⍝ example tacit\n",
    "istrue←{⍵:'true' ⋄ 'false'}        ⍝ example dfn"
   ]
  },
  {
   "cell_type": "code",
   "execution_count": 31,
   "id": "35b2aa74",
   "metadata": {},
   "outputs": [
    {
     "data": {
      "text/html": [
       "<span style=\"white-space:pre; font-family: monospace\">3.1 3.3 3.2\n",
       "</span>"
      ]
     },
     "execution_count": 31,
     "metadata": {},
     "output_type": "execute_result"
    }
   ],
   "source": [
    "⎕NC 'foo' 'avg' 'istrue' "
   ]
  },
  {
   "cell_type": "markdown",
   "id": "f553644d",
   "metadata": {},
   "source": [
    "APL distinguishes between two types of functions when it comes to applying to data: _scalar functions_ and _mixed functions_.\n",
    "\n",
    "Scalar functions penetrate the entire structure of the given arrays, all the way until the simple scalars; hence the name. Mixed functions apply to some larger structures, sometimes only regarding one argument, while the other is treated as scalars.\n",
    "\n",
    "Examples of scalar functions are the arithmetic functions; `+ - × ÷ ⌈ ⌊` etc. Scalar functions also have something called scalar extension: not only do the functions \"pair up\" the data, like how `1 2 3+10 20 30` gives `11 22 33`, but they also distribute scalars to all the elements of the other argument, e.g. how `1+10 20 30` gives `11 21 31`. "
   ]
  },
  {
   "cell_type": "code",
   "execution_count": 33,
   "id": "429880a2",
   "metadata": {},
   "outputs": [
    {
     "data": {
      "text/html": [
       "<span style=\"white-space:pre; font-family: monospace\">11 22 33\n",
       "</span>"
      ]
     },
     "execution_count": 33,
     "metadata": {},
     "output_type": "execute_result"
    },
    {
     "data": {
      "text/html": [
       "<span style=\"white-space:pre; font-family: monospace\">11 21 31\n",
       "</span>"
      ]
     },
     "execution_count": 33,
     "metadata": {},
     "output_type": "execute_result"
    }
   ],
   "source": [
    "1 2 3+10 20 30 \n",
    "1+10 20 30       "
   ]
  },
  {
   "cell_type": "markdown",
   "id": "0e85c8e9",
   "metadata": {},
   "source": [
    "This is useful, because it means you can enclose pieces of your data to tell APL that something should be distributed. This also lets us see the benefit of having both rank and depth.\n",
    "\n",
    "E.g. `⍺∊⍵` looks if each element of `⍺` is a member of `⍵`."
   ]
  },
  {
   "cell_type": "code",
   "execution_count": 36,
   "id": "793ff643",
   "metadata": {},
   "outputs": [
    {
     "data": {
      "text/html": [
       "<span style=\"white-space:pre; font-family: monospace\">0 1 1 1 1\n",
       "</span>"
      ]
     },
     "execution_count": 36,
     "metadata": {},
     "output_type": "execute_result"
    },
    {
     "data": {
      "text/html": [
       "<span style=\"white-space:pre; font-family: monospace\">0 0 0 0 0\n",
       "</span>"
      ]
     },
     "execution_count": 36,
     "metadata": {},
     "output_type": "execute_result"
    },
    {
     "data": {
      "text/html": [
       "<span style=\"white-space:pre; font-family: monospace\">0\n",
       "</span>"
      ]
     },
     "execution_count": 36,
     "metadata": {},
     "output_type": "execute_result"
    }
   ],
   "source": [
    "'hello'∊'CodeGolf'\n",
    "'hello'∊'Code' 'Golf'\n",
    "(⊂'hello')∊'Code' 'Golf' "
   ]
  },
  {
   "cell_type": "markdown",
   "id": "c19dc087",
   "metadata": {},
   "source": [
    "The first example looks whether each element of `'hello'` is a member of `'CodeGolf'`. The second looks whether each element of `'hello'` is a member of the list of words. Of course, there are no single letters in the list of words. The last example looks whether the word `'hello'` is in the list on the right. \n",
    "\n",
    "Sometimes, this isn't enough, though. Sometimes you want to apply your function is a non-standard way. This is where operators come in. APL operators (higher-order functions) take one or two functions as operands and apply them in a specific way. \n",
    "\n",
    "For example, `¨` (called [each](https://help.dyalog.com/latest/#Language/Primitive%20Operators/Each%20with%20Monadic%20Operand.htm)) is a monadic operator which applies its operand function to each element of the argument(s). Take, for example, the monadic function `≢` which tallies the length of its argument: "
   ]
  },
  {
   "cell_type": "code",
   "execution_count": 42,
   "id": "6ea491a7",
   "metadata": {},
   "outputs": [
    {
     "data": {
      "text/html": [
       "<span style=\"white-space:pre; font-family: monospace\">2\n",
       "</span>"
      ]
     },
     "execution_count": 42,
     "metadata": {},
     "output_type": "execute_result"
    },
    {
     "data": {
      "text/html": [
       "<span style=\"white-space:pre; font-family: monospace\">4 4\n",
       "</span>"
      ]
     },
     "execution_count": 42,
     "metadata": {},
     "output_type": "execute_result"
    }
   ],
   "source": [
    "≢'Code' 'Golf'\n",
    "≢¨'Code' 'Golf' "
   ]
  },
  {
   "cell_type": "markdown",
   "id": "2f522e3b",
   "metadata": {},
   "source": [
    "So while `¨` digs into an array, [rank](https://help.dyalog.com/latest/#Language/Primitive%20Operators/Rank.htm), `⍤`, applies the function to sub-arrays of a specific rank. For example, `≢⍤1` applies _Tally_ to rank 1; that is vectors, thus finding the length of each row (they are of course the same, as all rows in a matrix must be equal length, but you get the idea):"
   ]
  },
  {
   "cell_type": "code",
   "execution_count": 38,
   "id": "993d92a0",
   "metadata": {},
   "outputs": [
    {
     "data": {
      "text/html": [
       "<span style=\"white-space:pre; font-family: monospace\">Code\n",
       "Golf\n",
       "</span>"
      ]
     },
     "execution_count": 38,
     "metadata": {},
     "output_type": "execute_result"
    },
    {
     "data": {
      "text/html": [
       "<span style=\"white-space:pre; font-family: monospace\">4 4\n",
       "</span>"
      ]
     },
     "execution_count": 38,
     "metadata": {},
     "output_type": "execute_result"
    }
   ],
   "source": [
    "⊢A←2 4⍴'CodeGolf'\n",
    "(≢⍤1) A"
   ]
  },
  {
   "cell_type": "markdown",
   "id": "6017d821",
   "metadata": {},
   "source": [
    "You can also define your own operators. There are only two types; _dops_ and _tradops_. There are no tacit operators in APL. Tradops are much like tradfns. The only real difference is the header line. So while a tradfn header can look like `result←function arg`, a tradop header can look like `result←(fn operator)arg`. This tells APL that operator takes a single function `fn` as operand, and the resulting combined function is monadic (takes just the right-argument `arg`.\n",
    "\n",
    "In a dop, much like a dfn, the arguments and operands have fixed names, and the result is the first non-assignment.\n",
    "The dops' name of its left (or only) operand is `⍺⍺` and the right operand is `⍵⍵`. The arguments are `⍺` and `⍵` just like in a dfn. \n",
    "\n",
    "For example, we can create a dop `twice` which applies the left argument with the operand two times:"
   ]
  },
  {
   "cell_type": "code",
   "execution_count": 39,
   "id": "02e009cc",
   "metadata": {},
   "outputs": [
    {
     "data": {
      "text/html": [
       "<span style=\"white-space:pre; font-family: monospace\">9\n",
       "</span>"
      ]
     },
     "execution_count": 39,
     "metadata": {},
     "output_type": "execute_result"
    }
   ],
   "source": [
    "twice←{⍺ ⍺⍺ ⍺ ⍺⍺ ⍵}\n",
    "2+twice 5"
   ]
  },
  {
   "cell_type": "markdown",
   "id": "a340f112",
   "metadata": {},
   "source": [
    "Note that this is different than defining `plustwice←{⍺+⍺+⍵}`, because the operator can be applied to many different functions, in fact _all_ (dyadic, in our case) functions.\n",
    "\n",
    "My favourite defined operator is `under`:"
   ]
  },
  {
   "cell_type": "code",
   "execution_count": 41,
   "id": "03da84a7",
   "metadata": {},
   "outputs": [],
   "source": [
    "under←{(⍵⍵⍣¯1) (⍵⍵ ⍺) ⍺⍺ (⍵⍵ ⍵)}"
   ]
  },
  {
   "cell_type": "markdown",
   "id": "4eb5978a",
   "metadata": {},
   "source": [
    "Any guesses as to what it does?"
   ]
  },
  {
   "cell_type": "markdown",
   "id": "ceac85ae",
   "metadata": {},
   "source": [
    "`⍣` is another operator, which applies the function on its left as many times as indicated by its right operand.\n",
    "This also shows that operands may be both functions and arrays, the syntax is the same. `⍺⍺` and `⍵⍵` may each be a function or an array. `f⍣¯1` means apply `f` negative one time, i.e. apply the _inverse_ of `f`. The inverse of `⍟` (log) is `*` (power).\n",
    "\n",
    "Power is to multiplication what multiplication is to addition, so `×under⍟` is power. `*under⍟` is [tetration](https://en.wikipedia.org/wiki/Tetration)."
   ]
  },
  {
   "cell_type": "code",
   "execution_count": null,
   "id": "4404f968",
   "metadata": {},
   "outputs": [],
   "source": []
  }
 ],
 "metadata": {
  "kernelspec": {
   "display_name": "Dyalog APL",
   "language": "apl",
   "name": "dyalog-kernel"
  },
  "language_info": {
   "file_extension": ".apl",
   "mimetype": "text/apl",
   "name": "APL"
  }
 },
 "nbformat": 4,
 "nbformat_minor": 5
}

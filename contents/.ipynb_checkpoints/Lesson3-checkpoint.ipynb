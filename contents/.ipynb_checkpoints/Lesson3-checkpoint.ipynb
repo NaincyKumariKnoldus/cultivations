{
 "cells": [
  {
   "cell_type": "markdown",
   "id": "40425a08",
   "metadata": {},
   "source": [
    "# Operators, part 1\n",
    "\n",
    "The first operator is `/`, called [reduce](https://help.dyalog.com/latest/#Language/Primitive%20Operators/Reduce.htm). It is a monadic operator which derives an ambivalent function. An ambivalent function is one which can be called either monadically or dyadically. For example, `-` is ambivalent. Monadically, it is negate; dyadically, it is subtraction.\n",
    "\n",
    "`+/` is a derived ambivalent function. The monadic function is plus-reduction (i.e. sum) and the dyadic function is windowed sum, as in sliding windows of size `⍺` (shorthand for \"left argument\")."
   ]
  },
  {
   "cell_type": "code",
   "execution_count": 1,
   "id": "cd22b3c2",
   "metadata": {},
   "outputs": [
    {
     "data": {
      "text/html": [
       "<span style=\"white-space:pre; font-family: monospace\">14\n",
       "</span>"
      ]
     },
     "execution_count": 1,
     "metadata": {},
     "output_type": "execute_result"
    },
    {
     "data": {
      "text/html": [
       "<span style=\"white-space:pre; font-family: monospace\">4 5 5 6\n",
       "</span>"
      ]
     },
     "execution_count": 1,
     "metadata": {},
     "output_type": "execute_result"
    },
    {
     "data": {
      "text/html": [
       "<span style=\"white-space:pre; font-family: monospace\">8 6 10\n",
       "</span>"
      ]
     },
     "execution_count": 1,
     "metadata": {},
     "output_type": "execute_result"
    }
   ],
   "source": [
    "+/3 1 4 1 5\n",
    "2 +/ 3 1 4 1 5\n",
    "3 +/ 3 1 4 1 5 "
   ]
  },
  {
   "cell_type": "markdown",
   "id": "91e02227",
   "metadata": {},
   "source": [
    "Question:\n",
    "> What does `3-/` do? Subtraction isn't associative. "
   ]
  },
  {
   "cell_type": "code",
   "execution_count": 2,
   "id": "87dbf88d",
   "metadata": {},
   "outputs": [
    {
     "data": {
      "text/html": [
       "<span style=\"white-space:pre; font-family: monospace\">2 3 4\n",
       "</span>"
      ]
     },
     "execution_count": 2,
     "metadata": {},
     "output_type": "execute_result"
    }
   ],
   "source": [
    "3-/ 1 2 3 4 5"
   ]
  },
  {
   "cell_type": "markdown",
   "id": "07627b28",
   "metadata": {},
   "source": [
    "As functions in APL are right-associative, `-/⍵` (this is a shorthand which means the monadic form of `-/`) is alternating sum. "
   ]
  },
  {
   "cell_type": "code",
   "execution_count": 3,
   "id": "1fb8917d",
   "metadata": {},
   "outputs": [
    {
     "data": {
      "text/html": [
       "<span style=\"white-space:pre; font-family: monospace\">2\n",
       "</span>"
      ]
     },
     "execution_count": 3,
     "metadata": {},
     "output_type": "execute_result"
    }
   ],
   "source": [
    "1 - (2 - 3)"
   ]
  },
  {
   "cell_type": "markdown",
   "id": "1e9ddc73",
   "metadata": {},
   "source": [
    "`f/⍵` is called _reduce_ because it reduces the rank of its argument by 1. For example, if we apply it to a matrix, we'll get back a vector, even if the function we provide does not \"combine\" its arguments. "
   ]
  },
  {
   "cell_type": "code",
   "execution_count": 4,
   "id": "7c2428af",
   "metadata": {},
   "outputs": [
    {
     "data": {
      "text/html": [
       "<span style=\"white-space:pre; font-family: monospace\">┌─────────────┐\n",
       "│(H(e(l(lo))))│\n",
       "└─────────────┘\n",
       "</span>"
      ]
     },
     "execution_count": 4,
     "metadata": {},
     "output_type": "execute_result"
    }
   ],
   "source": [
    "{'(',⍺,⍵,')'}/'Hello'"
   ]
  },
  {
   "cell_type": "markdown",
   "id": "d768b442",
   "metadata": {},
   "source": [
    "Here, the function we gave concatenates its arguments and parentheses. With output boxing turned on, it is clear to see that there is a space in front of the leftmost `(`. Without output boxing, that space is still there, but you may have to look a bit more carefully in order to notice it. This is APLs way to indicate that the array (a character vector) is enclosed. In other words, it returned `⊂'(H(e(l(lo))))'`."
   ]
  },
  {
   "cell_type": "code",
   "execution_count": 5,
   "id": "383eea14",
   "metadata": {},
   "outputs": [
    {
     "data": {
      "text/html": [
       "<span style=\"white-space:pre; font-family: monospace\">1\n",
       "</span>"
      ]
     },
     "execution_count": 5,
     "metadata": {},
     "output_type": "execute_result"
    }
   ],
   "source": [
    "(⊂'(H(e(l(lo))))') ≡ {'(',⍺,⍵,')'}/'Hello'"
   ]
  },
  {
   "cell_type": "markdown",
   "id": "10937f9e",
   "metadata": {},
   "source": [
    "We can also apply reductions to higher-rank arrays:"
   ]
  },
  {
   "cell_type": "code",
   "execution_count": 6,
   "id": "712e8f58",
   "metadata": {},
   "outputs": [
    {
     "data": {
      "text/html": [
       "<span style=\"white-space:pre; font-family: monospace\">1  2  3  4\n",
       "5  6  7  8\n",
       "9 10 11 12\n",
       "</span>"
      ]
     },
     "execution_count": 6,
     "metadata": {},
     "output_type": "execute_result"
    },
    {
     "data": {
      "text/html": [
       "<span style=\"white-space:pre; font-family: monospace\">10 26 42\n",
       "</span>"
      ]
     },
     "execution_count": 6,
     "metadata": {},
     "output_type": "execute_result"
    }
   ],
   "source": [
    "3 4⍴⍳12\n",
    "+/3 4⍴⍳12"
   ]
  },
  {
   "cell_type": "markdown",
   "id": "4b5d7dc1",
   "metadata": {},
   "source": [
    "Notice how the rank went down from 2 to 1 (i.e. matrix to vector). Reductions lower the rank. `N f/` is called N-wise reduce, and does not lower the rank. Notice that `/` goes along the trailing axis, i.e. the it reduced the rows of the matrix. It has a twin, `⌿`, which goes along the first axis, i.e. the columns of a matrix. "
   ]
  },
  {
   "cell_type": "code",
   "execution_count": 7,
   "id": "5df92b48",
   "metadata": {},
   "outputs": [
    {
     "data": {
      "text/html": [
       "<span style=\"white-space:pre; font-family: monospace\">15 18 21 24\n",
       "</span>"
      ]
     },
     "execution_count": 7,
     "metadata": {},
     "output_type": "execute_result"
    }
   ],
   "source": [
    "+⌿3 4⍴⍳12 "
   ]
  },
  {
   "cell_type": "markdown",
   "id": "da53c72c",
   "metadata": {},
   "source": [
    "If you have higher-rank arrays, you can reduce along any axis with a bracket axis specification:"
   ]
  },
  {
   "cell_type": "code",
   "execution_count": 8,
   "id": "f8f24188",
   "metadata": {},
   "outputs": [
    {
     "data": {
      "text/html": [
       "<span style=\"white-space:pre; font-family: monospace\"> 1  2  3  4\n",
       " 5  6  7  8\n",
       " 9 10 11 12\n",
       "\n",
       "13 14 15 16\n",
       "17 18 19 20\n",
       "21 22 23 24\n",
       "</span>"
      ]
     },
     "execution_count": 8,
     "metadata": {},
     "output_type": "execute_result"
    },
    {
     "data": {
      "text/html": [
       "<span style=\"white-space:pre; font-family: monospace\">┌───────────┬───────────┬────────┐\n",
       "│14 16 18 20│15 18 21 24│10 26 42│\n",
       "│22 24 26 28│51 54 57 60│58 74 90│\n",
       "│30 32 34 36│           │        │\n",
       "└───────────┴───────────┴────────┘\n",
       "</span>"
      ]
     },
     "execution_count": 8,
     "metadata": {},
     "output_type": "execute_result"
    }
   ],
   "source": [
    "2 3 4⍴⍳24\n",
    "(+⌿2 3 4⍴⍳24)(+/[2]2 3 4⍴⍳24)(+/2 3 4⍴⍳24)"
   ]
  },
  {
   "cell_type": "markdown",
   "id": "7c2094e5",
   "metadata": {},
   "source": [
    "Note that `f/[1]` is the same thing as `f⌿`.\n",
    "\n",
    "While `/` is reduction, `\\` is cumulative reduction, known as [scan](http://help.dyalog.com/latest/index.htm#Language/Primitive%20Operators/Scan.htm):"
   ]
  },
  {
   "cell_type": "code",
   "execution_count": 9,
   "id": "b6b97f96",
   "metadata": {},
   "outputs": [
    {
     "data": {
      "text/html": [
       "<span style=\"white-space:pre; font-family: monospace\">3 4 8 9 14\n",
       "</span>"
      ]
     },
     "execution_count": 9,
     "metadata": {},
     "output_type": "execute_result"
    }
   ],
   "source": [
    "+\\3 1 4 1 5"
   ]
  },
  {
   "cell_type": "markdown",
   "id": "787db865",
   "metadata": {},
   "source": [
    "`/`'s cousin `\\` of course has a twin, too; `⍀`, behaving analogously.\n",
    "\n",
    "The next operator is `¨` which is called [each](http://help.dyalog.com/latest/index.htm#Language/Primitive%20Operators/Each%20with%20Monadic%20Operand.htm) for a good reason. `f¨⍵` applies the function `f` monadically to each element of `⍵`. `⍺ f¨ ⍵` applies `f` between the paired-up elements of `⍺` and `⍵`. "
   ]
  },
  {
   "cell_type": "code",
   "execution_count": 10,
   "id": "91037bdc",
   "metadata": {},
   "outputs": [
    {
     "data": {
      "text/html": [
       "<span style=\"white-space:pre; font-family: monospace\">1 2 3 4 5 6\n",
       "</span>"
      ]
     },
     "execution_count": 10,
     "metadata": {},
     "output_type": "execute_result"
    },
    {
     "data": {
      "text/html": [
       "<span style=\"white-space:pre; font-family: monospace\">┌───┬───┬───┐\n",
       "│1 4│2 5│3 6│\n",
       "└───┴───┴───┘\n",
       "</span>"
      ]
     },
     "execution_count": 10,
     "metadata": {},
     "output_type": "execute_result"
    },
    {
     "data": {
      "text/html": [
       "<span style=\"white-space:pre; font-family: monospace\">┌───────┬───────┬─────┐\n",
       "│1 10 20│2 30 40│3 5 6│\n",
       "└───────┴───────┴─────┘\n",
       "</span>"
      ]
     },
     "execution_count": 10,
     "metadata": {},
     "output_type": "execute_result"
    }
   ],
   "source": [
    "1 2 3 , 4 5 6 \n",
    "1 2 3 ,¨ 4 5 6\n",
    "1 2 3 ,¨ (10 20)(30 40)(5 6) "
   ]
  },
  {
   "cell_type": "markdown",
   "id": "83c29f79",
   "metadata": {},
   "source": [
    "Most arithmetic functions are \"scalar\" meaning they penetrate to the very leaves of the arrays. `¨` is meaningless for scalar functions. "
   ]
  },
  {
   "cell_type": "code",
   "execution_count": 11,
   "id": "4a0c0943",
   "metadata": {},
   "outputs": [
    {
     "data": {
      "text/html": [
       "<span style=\"white-space:pre; font-family: monospace\">6 4 7 4 8 12 5 9 8\n",
       "</span>"
      ]
     },
     "execution_count": 11,
     "metadata": {},
     "output_type": "execute_result"
    },
    {
     "data": {
      "text/html": [
       "<span style=\"white-space:pre; font-family: monospace\">6 4 7 4 8 12 5 9 8\n",
       "</span>"
      ]
     },
     "execution_count": 11,
     "metadata": {},
     "output_type": "execute_result"
    }
   ],
   "source": [
    "3+¨3 1 4 1 5 9 2 6 5  ⍝ works; but pointless\n",
    "3+3 1 4 1 5 9 2 6 5   ⍝ scalar function + is pervasive"
   ]
  },
  {
   "cell_type": "markdown",
   "id": "e8920574",
   "metadata": {},
   "source": [
    "`⍣` is the [power](http://help.dyalog.com/latest/index.htm#Language/Primitive%20Operators/Power%20Operator.htm) operator. `f⍣n` applies the function `f` n times. "
   ]
  },
  {
   "cell_type": "code",
   "execution_count": 12,
   "id": "57e14a81",
   "metadata": {},
   "outputs": [
    {
     "data": {
      "text/html": [
       "<span style=\"white-space:pre; font-family: monospace\">6\n",
       "</span>"
      ]
     },
     "execution_count": 12,
     "metadata": {},
     "output_type": "execute_result"
    },
    {
     "data": {
      "text/html": [
       "<span style=\"white-space:pre; font-family: monospace\">12\n",
       "</span>"
      ]
     },
     "execution_count": 12,
     "metadata": {},
     "output_type": "execute_result"
    },
    {
     "data": {
      "text/html": [
       "<span style=\"white-space:pre; font-family: monospace\">24\n",
       "</span>"
      ]
     },
     "execution_count": 12,
     "metadata": {},
     "output_type": "execute_result"
    },
    {
     "data": {
      "text/html": [
       "<span style=\"white-space:pre; font-family: monospace\">24\n",
       "</span>"
      ]
     },
     "execution_count": 12,
     "metadata": {},
     "output_type": "execute_result"
    }
   ],
   "source": [
    "2×3\n",
    "2×2×3\n",
    "2×2×2×3\n",
    "2(×⍣3)3"
   ]
  },
  {
   "cell_type": "markdown",
   "id": "a7be6c63",
   "metadata": {},
   "source": [
    "It did the multiplication 3 times. We need parentheses here to separate the two 3s to make sure the two 3s don't strand into a single array. Note that `⍺ (f⍣n) ⍵` is defined as `(⍺∘f⍣n) ⍵`. In the case above, `⍺ (×⍣3) ⍵` therefore is `⍺ × ⍺ × ⍺ × ⍵`. Operators are never ambivalent. Their derived functions can be, but they are either monadic or dyadic. `⍣` is dyadic. `/` and `¨` are monadic. The result of `×⍣3` is a new function which takes arrays as arguments.\n",
    "\n",
    "`f⍣≡` is the fixpoint of `f`. "
   ]
  },
  {
   "cell_type": "code",
   "execution_count": 1,
   "id": "fc2f7239",
   "metadata": {},
   "outputs": [
    {
     "data": {
      "text/html": [
       "<span style=\"white-space:pre; font-family: monospace\">\n",
       "Rebuilding user command cache... \n",
       "done\n",
       "\n",
       "Rebuilding user command cache... \n",
       "done\n",
       "</span>"
      ]
     },
     "execution_count": 1,
     "metadata": {},
     "output_type": "execute_result"
    },
    {
     "data": {
      "text/html": [
       "<span style=\"white-space:pre; font-family: monospace\">0\n",
       "</span>"
      ]
     },
     "execution_count": 1,
     "metadata": {},
     "output_type": "execute_result"
    }
   ],
   "source": [
    "0.5×⍣≡1"
   ]
  },
  {
   "cell_type": "markdown",
   "id": "b8bd048e",
   "metadata": {},
   "source": [
    "If you keep halving 1 you end up with 0. `0.5×⍣≡` means keep multiplying 0.5 with the argument until it stops changing. The power operator can take a custom right function operator, too. See the [documentation](http://help.dyalog.com/latest/index.htm#Language/Primitive%20Operators/Power%20Operator.htm).\n",
    "\n",
    "[Commute](http://help.dyalog.com/latest/index.htm#Language/Primitive%20Operators/Commute.htm), `⍨`, is a monadic operator taking a dyadic function and deriving an ambivalent function. `⍺ f⍨ ⍵` is `⍵ f ⍺`. `f⍨ ⍵` is `⍵ f ⍵`. We sometimes informally refer to `⍨` as \"selfie\" when the derived function is used monadically, because that's what it does, and it looks like a selfie (photo) too. `⍨` seems very simple, but it has some neat applications. Monadic `+⍨` is double. Monadic `×⍨` is square. \n",
    "\n",
    "With an array operator, `⍨` is [constant](https://help.dyalog.com/latest/#Language/Primitive%20Operators/Constant.htm). It always returns the operator array. It might not be immediately obvious when this is useful. Consider the following examples:"
   ]
  },
  {
   "cell_type": "code",
   "execution_count": 3,
   "id": "2242347d",
   "metadata": {},
   "outputs": [
    {
     "data": {
      "text/html": [
       "<span style=\"white-space:pre; font-family: monospace\">¯1 2 ¯3\n",
       "</span>"
      ]
     },
     "execution_count": 3,
     "metadata": {},
     "output_type": "execute_result"
    }
   ],
   "source": [
    "neg←{-@(⍺⍨)⍵}\n",
    "1 0 1 neg ⍳3"
   ]
  },
  {
   "cell_type": "markdown",
   "id": "506c99e3",
   "metadata": {},
   "source": [
    "Here we have a function that uses a Boolean left argument to indicate where to apply negation in the right argument. Whilst it's certainly possible to achieve this without _constant_, it'd be a bit more cumbersome, for example:"
   ]
  },
  {
   "cell_type": "code",
   "execution_count": 6,
   "id": "6d908046",
   "metadata": {},
   "outputs": [
    {
     "data": {
      "text/html": [
       "<span style=\"white-space:pre; font-family: monospace\">¯1 2 ¯3\n",
       "</span>"
      ]
     },
     "execution_count": 6,
     "metadata": {},
     "output_type": "execute_result"
    }
   ],
   "source": [
    "1 0 1 {a←⍺⋄-@{a}⍵} ⍳3"
   ]
  },
  {
   "cell_type": "markdown",
   "id": "77d956e0",
   "metadata": {},
   "source": [
    "We could use `⍸` to expand the left argument into indices, but that introduces an unnecessary inefficiency we avoid when using _constant_:"
   ]
  },
  {
   "cell_type": "code",
   "execution_count": 15,
   "id": "e56ba093",
   "metadata": {},
   "outputs": [
    {
     "data": {
      "text/html": [
       "<span style=\"white-space:pre; font-family: monospace\">¯1 2 ¯3\n",
       "</span>"
      ]
     },
     "execution_count": 15,
     "metadata": {},
     "output_type": "execute_result"
    }
   ],
   "source": [
    "1 0 1 {-@(⍸⍺)⊢⍵} ⍳3"
   ]
  },
  {
   "cell_type": "markdown",
   "id": "eb8d9f90",
   "metadata": {},
   "source": [
    "Another usecase is when you want to use one array's structure as a model, but use a particular element instead:"
   ]
  },
  {
   "cell_type": "code",
   "execution_count": 7,
   "id": "84b52395",
   "metadata": {},
   "outputs": [
    {
     "data": {
      "text/html": [
       "<span style=\"white-space:pre; font-family: monospace\">85 85 85 85 85 85 85 85 85 85 85 85 85 85 85 85\n",
       "</span>"
      ]
     },
     "execution_count": 7,
     "metadata": {},
     "output_type": "execute_result"
    }
   ],
   "source": [
    "85⍨¨'this is a string'"
   ]
  },
  {
   "cell_type": "markdown",
   "id": "55a18d48",
   "metadata": {},
   "source": [
    "The alternatives, again, tend to be more cumbersome,"
   ]
  },
  {
   "cell_type": "code",
   "execution_count": 17,
   "id": "3917328f",
   "metadata": {},
   "outputs": [
    {
     "data": {
      "text/html": [
       "<span style=\"white-space:pre; font-family: monospace\">85 85 85 85 85 85 85 85 85 85 85 85 85 85 85 85\n",
       "</span>"
      ]
     },
     "execution_count": 17,
     "metadata": {},
     "output_type": "execute_result"
    },
    {
     "data": {
      "text/html": [
       "<span style=\"white-space:pre; font-family: monospace\">85 85 85 85 85 85 85 85 85 85 85 85 85 85 85 85\n",
       "</span>"
      ]
     },
     "execution_count": 17,
     "metadata": {},
     "output_type": "execute_result"
    }
   ],
   "source": [
    "(⍴'this is a string')⍴85\n",
    "(⍴'this is a string')/85"
   ]
  },
  {
   "cell_type": "code",
   "execution_count": null,
   "id": "b6e6d80d",
   "metadata": {},
   "outputs": [],
   "source": []
  }
 ],
 "metadata": {
  "kernelspec": {
   "display_name": "Dyalog APL",
   "language": "apl",
   "name": "dyalog-kernel"
  },
  "language_info": {
   "file_extension": ".apl",
   "mimetype": "text/apl",
   "name": "APL"
  }
 },
 "nbformat": 4,
 "nbformat_minor": 5
}

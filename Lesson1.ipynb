{
 "cells": [
  {
   "cell_type": "markdown",
   "id": "f2fb6e2a",
   "metadata": {},
   "source": [
    "# Lesson 1 - Introduction to Arrays in APL"
   ]
  },
  {
   "cell_type": "markdown",
   "id": "f795919f",
   "metadata": {},
   "source": [
    "The array is APL's fundamental data type. Arrays are collections of scalars (atomic data units). There are a few types of scalars: numbers, characters, and references (refs). References are to such things as namespaces (≈JSON objects), GUI objects (WinForms), HTML Renderers, classes, instances, etc. Let's not worry about all those now.\n",
    "\n",
    "Characters are denoted by single quotes. `'a'` is a scalar letter `a`. APL doesn't really have strings, just lists (vectors in APL lingo) of characters. In order to write a literal vector (=list) you just write the items next to each other. `'H' 'e' 'y'` will render as `Hey`:"
   ]
  },
  {
   "cell_type": "code",
   "execution_count": 1,
   "id": "b1b58145",
   "metadata": {},
   "outputs": [
    {
     "data": {
      "text/html": [
       "<span style=\"white-space:pre; font-family: monospace\">Hey\n",
       "</span>"
      ]
     },
     "execution_count": 1,
     "metadata": {},
     "output_type": "execute_result"
    }
   ],
   "source": [
    "'H' 'e' 'y'"
   ]
  },
  {
   "cell_type": "markdown",
   "id": "904a04ab",
   "metadata": {},
   "source": [
    "Fortunately, there is a shortcut. APL allows you to write `'Hey'` and it means the same as `'H' 'e' 'y'`:"
   ]
  },
  {
   "cell_type": "code",
   "execution_count": 2,
   "id": "2f5c56f3",
   "metadata": {},
   "outputs": [
    {
     "data": {
      "text/html": [
       "<span style=\"white-space:pre; font-family: monospace\">Hey\n",
       "</span>"
      ]
     },
     "execution_count": 2,
     "metadata": {},
     "output_type": "execute_result"
    }
   ],
   "source": [
    "'Hey'"
   ]
  },
  {
   "cell_type": "markdown",
   "id": "f26bb39a",
   "metadata": {},
   "source": [
    "So a list of numbers need no decorators whatsoever: `1 2 3`"
   ]
  },
  {
   "cell_type": "code",
   "execution_count": 3,
   "id": "31881806",
   "metadata": {},
   "outputs": [
    {
     "data": {
      "text/html": [
       "<span style=\"white-space:pre; font-family: monospace\">1 2 3\n",
       "</span>"
      ]
     },
     "execution_count": 3,
     "metadata": {},
     "output_type": "execute_result"
    }
   ],
   "source": [
    "1 2 3"
   ]
  },
  {
   "cell_type": "markdown",
   "id": "d06358d7",
   "metadata": {},
   "source": [
    "You can also nest items. `'Hey' 'you!'` is a vector of two elements. Each element is itself a vector. "
   ]
  },
  {
   "cell_type": "code",
   "execution_count": 4,
   "id": "4ebdb8ee",
   "metadata": {},
   "outputs": [
    {
     "data": {
      "text/html": [
       "<span style=\"white-space:pre; font-family: monospace\">┌───┬────┐\n",
       "│Hey│you!│\n",
       "└───┴────┘\n",
       "</span>"
      ]
     },
     "execution_count": 4,
     "metadata": {},
     "output_type": "execute_result"
    }
   ],
   "source": [
    "'Hey' 'you!'"
   ]
  },
  {
   "cell_type": "markdown",
   "id": "98138cdb",
   "metadata": {},
   "source": [
    "You can also mix data types: `'APL'360` is a two-element vector. The first element is a three-element vector of chars, the second is a scalar number. "
   ]
  },
  {
   "cell_type": "code",
   "execution_count": 5,
   "id": "249aa67d",
   "metadata": {},
   "outputs": [
    {
     "data": {
      "text/html": [
       "<span style=\"white-space:pre; font-family: monospace\">┌───┬───┐\n",
       "│APL│360│\n",
       "└───┴───┘\n",
       "</span>"
      ]
     },
     "execution_count": 5,
     "metadata": {},
     "output_type": "execute_result"
    }
   ],
   "source": [
    "'APL'360 ⍝ Note: no space required"
   ]
  },
  {
   "cell_type": "markdown",
   "id": "a0d1c1b1",
   "metadata": {},
   "source": [
    "By the way, in APL, a number is a number. APL converts between internal representations on the fly, so you never have to worry about such conversions. It even takes care of floating point imprecision for you!\n",
    "\n",
    "`'a'3` is a two element vector. No space needed here, either."
   ]
  },
  {
   "cell_type": "code",
   "execution_count": 6,
   "id": "e1d43b58",
   "metadata": {},
   "outputs": [
    {
     "data": {
      "text/html": [
       "<span style=\"white-space:pre; font-family: monospace\">a 3\n",
       "</span>"
      ]
     },
     "execution_count": 6,
     "metadata": {},
     "output_type": "execute_result"
    }
   ],
   "source": [
    "'a'3"
   ]
  },
  {
   "cell_type": "markdown",
   "id": "ed5ed34d",
   "metadata": {},
   "source": [
    "You can also use parentheses to delimit vectors:"
   ]
  },
  {
   "cell_type": "code",
   "execution_count": 7,
   "id": "ed252a30",
   "metadata": {},
   "outputs": [
    {
     "data": {
      "text/html": [
       "<span style=\"white-space:pre; font-family: monospace\">┌─────┬───┐\n",
       "│1 2 3│4 5│\n",
       "└─────┴───┘\n",
       "</span>"
      ]
     },
     "execution_count": 7,
     "metadata": {},
     "output_type": "execute_result"
    }
   ],
   "source": [
    "(1 2 3)(4 5)"
   ]
  },
  {
   "cell_type": "markdown",
   "id": "4bbc23a8",
   "metadata": {},
   "source": [
    "Question:\n",
    "> Is there any concept of a \"mutable array\" in APL? \n",
    "\n",
    "Nope. You always (appear to) create a new array when modifying an array. However, internally, APL keeps a ref-count and points multiple names to the same memory location if possible. However, all the \"reference\" types are mutable. \n",
    "\n",
    "The levels of nesting in APL lingo are called depth. A simple scalar has depth 0. A vector has depth 1. A vector of vectors has depth 2, etc. If the depth is uneven, then we report it as negative. Note that negative numbers in APL are denoted by a high minus (like TI calculators). \n",
    "\n",
    "\n",
    "You can have 1-element vectors, but you have to \"create\" them rather than write them. The prefix function `,` (comma) takes an array and makes it into a list. So `,6` is a one-element list. "
   ]
  },
  {
   "cell_type": "code",
   "execution_count": 12,
   "id": "20107268",
   "metadata": {},
   "outputs": [
    {
     "data": {
      "text/html": [
       "<span style=\"white-space:pre; font-family: monospace\">┌→┐\n",
       "│6│\n",
       "└~┘\n",
       "</span>"
      ]
     },
     "execution_count": 12,
     "metadata": {},
     "output_type": "execute_result"
    },
    {
     "data": {
      "text/html": [
       "<span style=\"white-space:pre; font-family: monospace\">┌→────────┐\n",
       "│ ┌→┐     │\n",
       "│ │6│ 1 2 │\n",
       "│ └~┘     │\n",
       "└∊────────┘\n",
       "</span>"
      ]
     },
     "execution_count": 12,
     "metadata": {},
     "output_type": "execute_result"
    },
    {
     "data": {
      "text/html": [
       "<span style=\"white-space:pre; font-family: monospace\">┌→──────────┐\n",
       "│ ┌→┐ ┌→──┐ │\n",
       "│ │6│ │1 2│ │\n",
       "│ └~┘ └~──┘ │\n",
       "└∊──────────┘\n",
       "</span>"
      ]
     },
     "execution_count": 12,
     "metadata": {},
     "output_type": "execute_result"
    }
   ],
   "source": [
    "]display ,6       ⍝ Verbose display to demonstrate that ,6 is indeed a vector\n",
    "]display (,6)1 2\n",
    "]display (,6)(1 2)"
   ]
  },
  {
   "cell_type": "markdown",
   "id": "c1aa0f6c",
   "metadata": {},
   "source": [
    "APL also has a concept of rank. The rank of an array is the number of dimensions in that array. A scalar has rank 0, a vector has rank 1.\n",
    "\n",
    "However, we can also have a rank 2 array; a matrix, or table. Note that rank ≠ depth. So I can have a matrix where every element is a \"string\" (i.e. a vector). I can also have a vector of vectors of \"strings\".\n",
    "\n",
    "Rank is always flush. Every row in a matrix must have the same number of columns. Every layer in a 3D block of data must have the same number of rows and columns. \n",
    "\n",
    "Each APL implementation has a different max number of dimensions. Dyalog allows 15D arrays. If that isn't enough for you, you may be doing something not quite right.  J, which is a dialect of APL (and the mother of Jelly) allows for an unlimited (except by memory) number of dimensions. \n",
    "\n",
    "Imagine a piece of paper with a grid of letters. So we have rows and columns. Each paper is a page in a book.\n",
    "Each book is numbered on its shelf. The shelves are numbered. There are multiple bookcases next to each other. And there are several such corridors. In rooms next to each other. Each floor has multiple numbered corridors, etc.\n",
    "\n",
    "The infix function [Reshape](https://help.dyalog.com/latest/#Language/Primitive%20Functions/Reshape.htm), `⍴` (Greek letter \"rho\" for reshape), takes a list of dimension lengths as left argument and any data as right argument. It returns a new array with the specified dimensions, filled with the data. If there is too much data, the tail just doesn't get used. If there is too little, it gets recycled from the beginning.\n",
    "\n",
    "We can create a 3-row, 4-column table with  "
   ]
  },
  {
   "cell_type": "code",
   "execution_count": 13,
   "id": "86601b76",
   "metadata": {},
   "outputs": [
    {
     "data": {
      "text/html": [
       "<span style=\"white-space:pre; font-family: monospace\">abcd\n",
       "efgh\n",
       "ijkl\n",
       "</span>"
      ]
     },
     "execution_count": 13,
     "metadata": {},
     "output_type": "execute_result"
    }
   ],
   "source": [
    "3 4⍴'abcdefghijkl'"
   ]
  },
  {
   "cell_type": "code",
   "execution_count": 14,
   "id": "a0f3ff2a",
   "metadata": {},
   "outputs": [
    {
     "data": {
      "text/html": [
       "<span style=\"white-space:pre; font-family: monospace\">abca\n",
       "bcab\n",
       "cabc\n",
       "</span>"
      ]
     },
     "execution_count": 14,
     "metadata": {},
     "output_type": "execute_result"
    }
   ],
   "source": [
    " 3 4⍴'abc'     ⍝ insufficient data; keep recycling"
   ]
  },
  {
   "cell_type": "markdown",
   "id": "e994534a",
   "metadata": {},
   "source": [
    "Most primitive APL functions have both a monadic (one argument) and a dyadic (two arguments) form. It is always clear from context which one is being applied, as all monadic functions are prefix, and all dyadic ones are infix.\n",
    "We already addressed the dyadic `⍴` which was _Reshape_. The monadic `⍴` is [Shape](https://help.dyalog.com/latest/#Language/Primitive%20Functions/Shape.htm). It reports back what the shape is. "
   ]
  },
  {
   "cell_type": "code",
   "execution_count": 17,
   "id": "c6e52559",
   "metadata": {},
   "outputs": [
    {
     "data": {
      "text/html": [
       "<span style=\"white-space:pre; font-family: monospace\">ABC\n",
       "DEF\n",
       "GHI\n",
       "</span>"
      ]
     },
     "execution_count": 17,
     "metadata": {},
     "output_type": "execute_result"
    },
    {
     "data": {
      "text/html": [
       "<span style=\"white-space:pre; font-family: monospace\">3 3\n",
       "</span>"
      ]
     },
     "execution_count": 17,
     "metadata": {},
     "output_type": "execute_result"
    },
    {
     "data": {
      "text/html": [
       "<span style=\"white-space:pre; font-family: monospace\">┌→┐\n",
       "│4│\n",
       "└~┘\n",
       "</span>"
      ]
     },
     "execution_count": 17,
     "metadata": {},
     "output_type": "execute_result"
    },
    {
     "data": {
      "text/html": [
       "<span style=\"white-space:pre; font-family: monospace\">┌⊖┐\n",
       "│0│\n",
       "└~┘\n",
       "</span>"
      ]
     },
     "execution_count": 17,
     "metadata": {},
     "output_type": "execute_result"
    }
   ],
   "source": [
    "3 3⍴⎕A    \n",
    "⍴3 3⍴⎕A   ⍝ What is the shape of a 3x3 matrix?\n",
    "]display ⍴1 2 3 4  ⍝ What is the shape of a vector?\n",
    "]display ⍴6  ⍝ What is the shape of a scalar?"
   ]
  },
  {
   "cell_type": "markdown",
   "id": "8da5c31e",
   "metadata": {},
   "source": [
    "Note that the shape is always a vector. The shape of a scalar is the empty numeric vector, denoted `⍬`.\n",
    "\n",
    "Monadic `↑` is [Mix](https://help.dyalog.com/latest/#Language/Primitive%20Functions/Mix.htm), which ups the rank (at the cost of one level of depth). We can also lower the rank with [Split](https://help.dyalog.com/latest/#Language/Primitive%20Functions/Split.htm), `↓`, and thereby gain a level of depth. "
   ]
  },
  {
   "cell_type": "code",
   "execution_count": 22,
   "id": "e0450884",
   "metadata": {},
   "outputs": [
    {
     "data": {
      "text/html": [
       "<span style=\"white-space:pre; font-family: monospace\">┌─────┬─────┬─────┐\n",
       "│1 2 3│4 5 6│7 8 9│\n",
       "└─────┴─────┴─────┘\n",
       "</span>"
      ]
     },
     "execution_count": 22,
     "metadata": {},
     "output_type": "execute_result"
    },
    {
     "data": {
      "text/html": [
       "<span style=\"white-space:pre; font-family: monospace\">1 2 3\n",
       "4 5 6\n",
       "7 8 9\n",
       "</span>"
      ]
     },
     "execution_count": 22,
     "metadata": {},
     "output_type": "execute_result"
    },
    {
     "data": {
      "text/html": [
       "<span style=\"white-space:pre; font-family: monospace\">1  2  3  4\n",
       "5  6  7  8\n",
       "9 10 11 12\n",
       "</span>"
      ]
     },
     "execution_count": 22,
     "metadata": {},
     "output_type": "execute_result"
    },
    {
     "data": {
      "text/html": [
       "<span style=\"white-space:pre; font-family: monospace\">┌───────┬───────┬──────────┐\n",
       "│1 2 3 4│5 6 7 8│9 10 11 12│\n",
       "└───────┴───────┴──────────┘\n",
       "</span>"
      ]
     },
     "execution_count": 22,
     "metadata": {},
     "output_type": "execute_result"
    }
   ],
   "source": [
    "(1 2 3)(4 5 6)(7 8 9)  ⍝ vector\n",
    "↑(1 2 3)(4 5 6)(7 8 9) ⍝ mix vector to a matrix\n",
    "3 4⍴⍳12                ⍝ matrix\n",
    "↓3 4⍴⍳12               ⍝ split matrix to a vector"
   ]
  },
  {
   "cell_type": "markdown",
   "id": "a83357ba",
   "metadata": {},
   "source": [
    "There is no primitive for rank, because if you think about it, the rank is the shape (actually, the tally) of the shape. There is, however, a primitive for [Depth](https://help.dyalog.com/latest/#Language/Primitive%20Functions/Depth.htm): `≡`"
   ]
  },
  {
   "cell_type": "code",
   "execution_count": 24,
   "id": "290cd110",
   "metadata": {},
   "outputs": [
    {
     "data": {
      "text/html": [
       "<span style=\"white-space:pre; font-family: monospace\">2\n",
       "</span>"
      ]
     },
     "execution_count": 24,
     "metadata": {},
     "output_type": "execute_result"
    }
   ],
   "source": [
    "≡(1 2 3)(4 5 6)(7 8 9) ⍝ vector of vectors"
   ]
  },
  {
   "cell_type": "markdown",
   "id": "c85ff8fb",
   "metadata": {},
   "source": [
    "There is a different primitive for count (called [Tally](https://help.dyalog.com/latest/#Language/Primitive%20Functions/Tally.htm)): `≢` -- it looks like a tallying mark. "
   ]
  },
  {
   "cell_type": "code",
   "execution_count": 25,
   "id": "cfdd00b1",
   "metadata": {},
   "outputs": [
    {
     "data": {
      "text/html": [
       "<span style=\"white-space:pre; font-family: monospace\">5\n",
       "</span>"
      ]
     },
     "execution_count": 25,
     "metadata": {},
     "output_type": "execute_result"
    }
   ],
   "source": [
    "≢7 5 6 3 2"
   ]
  },
  {
   "cell_type": "markdown",
   "id": "18f6cc3a",
   "metadata": {},
   "source": [
    "Question:\n",
    "> so...what _is_ the difference between rank and depth? \n",
    "\n",
    "This is important to understand. Depth is the level of nesting. Rank is the number of dimensions. \n",
    "\n",
    "\n",
    "So now we have discovered monadic `↑`, `↓`, `≡`, `≢`, `⍴` and dyadic `⍴`. Monadic `⍴` always returns a vector. Monadic `≢` always returns a scalar. `≢` on a matrix returns the number of rows. `≢` on a 3D block returns the number of layers, etc. We prefer to call it the tally of \"major cells\". The concept of major cells is important when it comes to manipulating and comparing arrays.\n",
    "\n",
    "We already saw how dyadic `⍴` can reshape things. Dyadic `↑` is [Take](https://help.dyalog.com/latest/#Language/Primitive%20Functions/Take.htm). In order to speak about its two arguments easier, we will give them names. The left argument we will call `⍺` as in the leftmost letter of the Greek alphabet, and the right argument we will call `⍵` as in the rightmost letter. In other words, `↑⍵` is monadic `↑` and `⍺↑⍵` is dyadic `↑`.\n",
    "\n",
    "`⍺↑⍵` takes the `⍺` first major cells from `⍵`:"
   ]
  },
  {
   "cell_type": "code",
   "execution_count": 26,
   "id": "3713c792",
   "metadata": {},
   "outputs": [
    {
     "data": {
      "text/html": [
       "<span style=\"white-space:pre; font-family: monospace\">3 1 4\n",
       "</span>"
      ]
     },
     "execution_count": 26,
     "metadata": {},
     "output_type": "execute_result"
    }
   ],
   "source": [
    "3↑3 1 4 1 5"
   ]
  },
  {
   "cell_type": "markdown",
   "id": "a14b0b4b",
   "metadata": {},
   "source": [
    "We can take major cells from the _end_ of `⍵` by using a negative `⍺`:"
   ]
  },
  {
   "cell_type": "code",
   "execution_count": 27,
   "id": "d8cea172",
   "metadata": {},
   "outputs": [
    {
     "data": {
      "text/html": [
       "<span style=\"white-space:pre; font-family: monospace\">4 1 5\n",
       "</span>"
      ]
     },
     "execution_count": 27,
     "metadata": {},
     "output_type": "execute_result"
    }
   ],
   "source": [
    "¯3↑3 1 4 1 5"
   ]
  },
  {
   "cell_type": "markdown",
   "id": "04954462",
   "metadata": {},
   "source": [
    "APL arrays have something called prototype. The prototype for numbers is 0 and the prototype for chars is a space. The prototype for a mixed-type array is the first element's prototype. More generally, for an array of arrays, the prototype is the first element, but with all numbers made 0 and all chars made spaces. If you take more than there is, APL will pad with this prototype element:"
   ]
  },
  {
   "cell_type": "code",
   "execution_count": 32,
   "id": "dbd69451",
   "metadata": {},
   "outputs": [
    {
     "data": {
      "text/html": [
       "<span style=\"white-space:pre; font-family: monospace\">1 2 3 0 0 0 0 0 0 0\n",
       "</span>"
      ]
     },
     "execution_count": 32,
     "metadata": {},
     "output_type": "execute_result"
    },
    {
     "data": {
      "text/html": [
       "<span style=\"white-space:pre; font-family: monospace\">0 0 0 0 0 0 0 1 2 3\n",
       "</span>"
      ]
     },
     "execution_count": 32,
     "metadata": {},
     "output_type": "execute_result"
    },
    {
     "data": {
      "text/html": [
       "<span style=\"white-space:pre; font-family: monospace\">┌→─────────┐\n",
       "│Hello     │\n",
       "└──────────┘\n",
       "</span>"
      ]
     },
     "execution_count": 32,
     "metadata": {},
     "output_type": "execute_result"
    }
   ],
   "source": [
    "10↑1 2 3\n",
    "¯10↑1 2 3\n",
    "]display 10↑'Hello'"
   ]
  },
  {
   "cell_type": "code",
   "execution_count": null,
   "id": "399b3a7c",
   "metadata": {},
   "outputs": [],
   "source": []
  }
 ],
 "metadata": {
  "kernelspec": {
   "display_name": "Dyalog APL",
   "language": "apl",
   "name": "dyalog-kernel"
  },
  "language_info": {
   "file_extension": ".apl",
   "mimetype": "text/apl",
   "name": "APL"
  }
 },
 "nbformat": 4,
 "nbformat_minor": 5
}
